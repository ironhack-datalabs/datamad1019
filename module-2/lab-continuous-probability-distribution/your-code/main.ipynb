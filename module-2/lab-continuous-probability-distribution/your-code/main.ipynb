{
 "cells": [
  {
   "cell_type": "markdown",
   "metadata": {},
   "source": [
    "# Before your start:\n",
    "\n",
    "    Read the README.md file\n",
    "    Comment as much as you can and use the resources (README.md file)\n",
    "    Happy learning!"
   ]
  },
  {
   "cell_type": "markdown",
   "metadata": {},
   "source": [
    "In this exercise, we  will generate random numbers from the continuous disributions we learned in the lesson. There are two ways to generate random numbers:\n",
    "\n",
    "1. Using the numpy library \n",
    "1. using the Scipy library \n",
    "\n",
    "Use either or both of the lbraries in this exercise."
   ]
  },
  {
   "cell_type": "markdown",
   "metadata": {},
   "source": [
    "## Uniform Distribution\n",
    "\n",
    "To generate uniform random numbers between any two given values using scipy, we can either use the following code or the code that we have\n",
    "discussed in class:"
   ]
  },
  {
   "cell_type": "code",
   "execution_count": 1,
   "metadata": {},
   "outputs": [
    {
     "name": "stdout",
     "output_type": "stream",
     "text": [
      "[2.88452738 2.45935323 2.04017363 2.01440105 2.22023115 2.29872017\n",
      " 2.34281616 2.83596274 2.69715682 2.95301847]\n"
     ]
    }
   ],
   "source": [
    "from scipy.stats import uniform\n",
    "x = uniform.rvs(size=10)\n",
    "a = 2\n",
    "b = 3\n",
    "randoms  = a + (b-a)*x\n",
    "print(randoms)"
   ]
  },
  {
   "cell_type": "markdown",
   "metadata": {},
   "source": [
    "**Your task:**\n",
    "\n",
    "1. Based on the code above, write a function that generates uniformly distributed random numbers. There are several requirements for your function:\n",
    "    * It should accept 3 parameters: \n",
    "        * `bottom` - the lower boundary of the generated numbers\n",
    "        * `ceiling` - the upper boundary of the generated numbers\n",
    "        * `count` - how many numbers to generate\n",
    "    * It should return an array of uniformly distributed random numbers\n",
    "\n",
    "1. Call your function with 2 sets of params below:\n",
    "    * bottom=10, ceiling=15, count=100\n",
    "    * bottom=10, ceiling=60, count=1,000\n",
    "\n",
    "1. Plot the uniform distributions generated above using histograms, where x axis is the value and y axis is the count. Let the histogram's number of bins be 10.\n",
    "\n",
    "Your output should look like below:\n",
    "\n",
    "![uniform distribution](ud.png)"
   ]
  },
  {
   "cell_type": "code",
   "execution_count": 39,
   "metadata": {},
   "outputs": [
    {
     "data": {
      "text/plain": [
       "(array([113., 100.,  83., 109., 104.,  93.,  95., 103., 112.,  88.]),\n",
       " array([10.03159169, 15.01923661, 20.00688152, 24.99452643, 29.98217134,\n",
       "        34.96981625, 39.95746117, 44.94510608, 49.93275099, 54.9203959 ,\n",
       "        59.90804081]),\n",
       " <a list of 10 Patch objects>)"
      ]
     },
     "execution_count": 39,
     "metadata": {},
     "output_type": "execute_result"
    },
    {
     "data": {
      "image/png": "[encoded data removed]",
      "text/plain": [
       "<Figure size 432x288 with 2 Axes>"
      ]
     },
     "metadata": {
      "needs_background": "light"
     },
     "output_type": "display_data"
    }
   ],
   "source": [
    "# your code here\n",
    "import numpy as np \n",
    "import matplotlib.pyplot as plt\n",
    "\n",
    "def randomUniformDistribution(bottom,ceiling,count):\n",
    "    return  np.random.uniform(bottom,ceiling,count)\n",
    "\n",
    "f, ax = plt.subplots(1, 2, sharey=True)\n",
    "ax[0].set_ylim([0,100])\n",
    "x = randomUniformDistribution(10,15,100)\n",
    "ax[0].hist(x,bins=10)\n",
    "x = randomUniformDistribution(10,60,1000)\n",
    "ax[1].hist(x,bins=10)\n",
    "\n",
    "\n"
   ]
  },
  {
   "cell_type": "markdown",
   "metadata": {},
   "source": [
    "How are the two distributions different?"
   ]
  },
  {
   "cell_type": "markdown",
   "metadata": {},
   "source": [
    "# your answer below\n",
    "#The higher the number of random values, the flatter the histogram will be "
   ]
  },
  {
   "cell_type": "markdown",
   "metadata": {},
   "source": [
    "## Normal Distribution\n",
    "\n",
    "1. In the same way in the Uniform Distribution challenge, write a function that generates normally distributed random numbers.\n",
    "1. Generate 1,000 normally distributed numbers with the average of 10 and standard deviation of 1\n",
    "1. Generate 1,000 normally distributed numbers with the average of 10 and standard deviation of 50\n",
    "2. Plot the distributions of the data generated.\n",
    "\n",
    "Expected output:\n",
    "\n",
    "![normal distribution](nd.png)"
   ]
  },
  {
   "cell_type": "code",
   "execution_count": 43,
   "metadata": {},
   "outputs": [
    {
     "data": {
      "text/plain": [
       "(array([ 1.,  0.,  1.,  0.,  1.,  2.,  0.,  2.,  9., 12.,  7.,  8., 21.,\n",
       "        17., 26., 20., 27., 41., 39., 47., 39., 53., 49., 48., 39., 62.,\n",
       "        54., 55., 47., 40., 34., 30., 44., 27., 27., 19., 13.,  4.,  7.,\n",
       "        14.,  2.,  6.,  0.,  1.,  3.,  0.,  1.,  0.,  0.,  1.]),\n",
       " array([-153.48037018, -146.75660119, -140.03283221, -133.30906322,\n",
       "        -126.58529423, -119.86152525, -113.13775626, -106.41398727,\n",
       "         -99.69021829,  -92.9664493 ,  -86.24268031,  -79.51891133,\n",
       "         -72.79514234,  -66.07137336,  -59.34760437,  -52.62383538,\n",
       "         -45.9000664 ,  -39.17629741,  -32.45252842,  -25.72875944,\n",
       "         -19.00499045,  -12.28122146,   -5.55745248,    1.16631651,\n",
       "           7.89008549,   14.61385448,   21.33762347,   28.06139245,\n",
       "          34.78516144,   41.50893043,   48.23269941,   54.9564684 ,\n",
       "          61.68023739,   68.40400637,   75.12777536,   81.85154434,\n",
       "          88.57531333,   95.29908232,  102.0228513 ,  108.74662029,\n",
       "         115.47038928,  122.19415826,  128.91792725,  135.64169624,\n",
       "         142.36546522,  149.08923421,  155.81300319,  162.53677218,\n",
       "         169.26054117,  175.98431015,  182.70807914]),\n",
       " <a list of 50 Patch objects>)"
      ]
     },
     "execution_count": 43,
     "metadata": {},
     "output_type": "execute_result"
    },
    {
     "data": {
      "image/png": "[encoded data removed]",
      "text/plain": [
       "<Figure size 432x288 with 2 Axes>"
      ]
     },
     "metadata": {
      "needs_background": "light"
     },
     "output_type": "display_data"
    }
   ],
   "source": [
    "# your code here\n",
    "# your code here\n",
    "import numpy as np \n",
    "import matplotlib.pyplot as plt\n",
    "\n",
    "def randomNormalDistribution(average,stdev,size):\n",
    "    return  np.random.normal(average,stdev,size)\n",
    "\n",
    "f, ax = plt.subplots(1, 2, sharey=True)\n",
    "x = randomNormalDistribution(10,1,1000)\n",
    "ax[0].hist(x,bins=50)\n",
    "x = randomNormalDistribution(10,50,1000)\n",
    "ax[1].hist(x,bins=50)"
   ]
  },
  {
   "cell_type": "markdown",
   "metadata": {},
   "source": [
    "How are the two distributions different?"
   ]
  },
  {
   "cell_type": "markdown",
   "metadata": {},
   "source": [
    "# your answer below\n",
    "The x-axis is broader in the second one because the data standard deviation is much greater, values oscillate between -100 and 100, while in the other one, most of the data is arranged between 8 and 12 "
   ]
  },
  {
   "cell_type": "markdown",
   "metadata": {},
   "source": [
    "## Normal Distribution of Real Data\n",
    "\n",
    "In this challenge we are going to take a look the real data. We will use vehicles.csv file for this exercise"
   ]
  },
  {
   "cell_type": "markdown",
   "metadata": {},
   "source": [
    "First import vehicles.csv.\n",
    "Then plot the histograms for the following variables:\n",
    "\n",
    "1. Fuel Barrels/Year"
   ]
  },
  {
   "cell_type": "code",
   "execution_count": 51,
   "metadata": {},
   "outputs": [
    {
     "data": {
      "text/plain": [
       "(array([6.300e+01, 5.000e+00, 1.300e+01, 1.800e+01, 1.000e+02, 2.560e+02,\n",
       "        1.060e+03, 1.833e+03, 3.872e+03, 7.168e+03, 3.111e+03, 6.760e+03,\n",
       "        2.387e+03, 4.501e+03, 2.078e+03, 8.600e+01, 1.275e+03, 7.350e+02,\n",
       "        0.000e+00, 4.390e+02, 1.300e+02, 0.000e+00, 0.000e+00, 3.600e+01,\n",
       "        0.000e+00, 0.000e+00, 2.100e+01, 0.000e+00, 0.000e+00, 5.000e+00]),\n",
       " array([ 0.06      ,  1.62757143,  3.19514286,  4.76271429,  6.33028571,\n",
       "         7.89785714,  9.46542857, 11.033     , 12.60057143, 14.16814286,\n",
       "        15.73571429, 17.30328571, 18.87085714, 20.43842857, 22.006     ,\n",
       "        23.57357143, 25.14114286, 26.70871429, 28.27628571, 29.84385714,\n",
       "        31.41142857, 32.979     , 34.54657143, 36.11414286, 37.68171429,\n",
       "        39.24928571, 40.81685714, 42.38442857, 43.952     , 45.51957143,\n",
       "        47.08714286]),\n",
       " <a list of 30 Patch objects>)"
      ]
     },
     "execution_count": 51,
     "metadata": {},
     "output_type": "execute_result"
    },
    {
     "data": {
      "image/png": "[encoded data removed]",
      "text/plain": [
       "<Figure size 432x288 with 1 Axes>"
      ]
     },
     "metadata": {
      "needs_background": "light"
     },
     "output_type": "display_data"
    }
   ],
   "source": [
    "# your code here\n",
    "import pandas as pd\n",
    "df = pd.read_csv('vehicles.csv')\n",
    "plt.hist(df['Fuel Barrels/Year'], bins=30)"
   ]
  },
  {
   "cell_type": "markdown",
   "metadata": {},
   "source": [
    "2. CO2 Emission Grams/Mile "
   ]
  },
  {
   "cell_type": "code",
   "execution_count": 54,
   "metadata": {},
   "outputs": [
    {
     "data": {
      "text/plain": [
       "(array([5.000e+00, 1.200e+01, 1.700e+01, 6.200e+01, 2.120e+02, 5.580e+02,\n",
       "        1.835e+03, 2.971e+03, 5.399e+03, 6.280e+03, 3.538e+03, 5.593e+03,\n",
       "        2.424e+03, 2.368e+03, 2.033e+03, 1.250e+03, 5.000e+01, 7.100e+02,\n",
       "        4.430e+02, 3.000e+00, 1.270e+02, 0.000e+00, 0.000e+00, 3.600e+01,\n",
       "        0.000e+00, 0.000e+00, 2.100e+01, 0.000e+00, 0.000e+00, 5.000e+00]),\n",
       " array([  37.        ,   78.08571429,  119.17142857,  160.25714286,\n",
       "         201.34285714,  242.42857143,  283.51428571,  324.6       ,\n",
       "         365.68571429,  406.77142857,  447.85714286,  488.94285714,\n",
       "         530.02857143,  571.11428571,  612.2       ,  653.28571429,\n",
       "         694.37142857,  735.45714286,  776.54285714,  817.62857143,\n",
       "         858.71428571,  899.8       ,  940.88571429,  981.97142857,\n",
       "        1023.05714286, 1064.14285714, 1105.22857143, 1146.31428571,\n",
       "        1187.4       , 1228.48571429, 1269.57142857]),\n",
       " <a list of 30 Patch objects>)"
      ]
     },
     "execution_count": 54,
     "metadata": {},
     "output_type": "execute_result"
    },
    {
     "data": {
      "image/png": "[encoded data removed]",
      "text/plain": [
       "<Figure size 432x288 with 1 Axes>"
      ]
     },
     "metadata": {
      "needs_background": "light"
     },
     "output_type": "display_data"
    }
   ],
   "source": [
    "# your code here\n",
    "plt.hist(df['CO2 Emission Grams/Mile'], bins=30)"
   ]
  },
  {
   "cell_type": "markdown",
   "metadata": {},
   "source": [
    "3. Combined MPG"
   ]
  },
  {
   "cell_type": "code",
   "execution_count": 56,
   "metadata": {},
   "outputs": [
    {
     "data": {
      "text/plain": [
       "(array([2.600e+01, 1.710e+02, 4.410e+02, 1.996e+03, 4.188e+03, 2.315e+03,\n",
       "        5.979e+03, 6.375e+03, 3.158e+03, 4.041e+03, 1.546e+03, 2.345e+03,\n",
       "        1.331e+03, 4.530e+02, 6.320e+02, 3.450e+02, 1.620e+02, 1.290e+02,\n",
       "        8.400e+01, 2.300e+01, 1.030e+02, 3.700e+01, 1.200e+01, 1.600e+01,\n",
       "        1.600e+01, 2.000e+00, 1.500e+01, 5.000e+00, 4.000e+00, 2.000e+00]),\n",
       " array([ 7.        ,  8.63333333, 10.26666667, 11.9       , 13.53333333,\n",
       "        15.16666667, 16.8       , 18.43333333, 20.06666667, 21.7       ,\n",
       "        23.33333333, 24.96666667, 26.6       , 28.23333333, 29.86666667,\n",
       "        31.5       , 33.13333333, 34.76666667, 36.4       , 38.03333333,\n",
       "        39.66666667, 41.3       , 42.93333333, 44.56666667, 46.2       ,\n",
       "        47.83333333, 49.46666667, 51.1       , 52.73333333, 54.36666667,\n",
       "        56.        ]),\n",
       " <a list of 30 Patch objects>)"
      ]
     },
     "execution_count": 56,
     "metadata": {},
     "output_type": "execute_result"
    },
    {
     "data": {
      "image/png": "[encoded data removed]",
      "text/plain": [
       "<Figure size 432x288 with 1 Axes>"
      ]
     },
     "metadata": {
      "needs_background": "light"
     },
     "output_type": "display_data"
    }
   ],
   "source": [
    "# your code here\n",
    "plt.hist(df['Combined MPG'], bins=30)"
   ]
  },
  {
   "cell_type": "markdown",
   "metadata": {},
   "source": [
    "Which one(s) of the variables are nearly normally distributed? How do you know?"
   ]
  },
  {
   "cell_type": "code",
   "execution_count": 66,
   "metadata": {
    "scrolled": false
   },
   "outputs": [
    {
     "name": "stdout",
     "output_type": "stream",
     "text": [
      "19.92932242990654 5.112408944666046\n"
     ]
    },
    {
     "data": {
      "text/plain": [
       "(array([  1.,   0.,   0.,   6.,   4.,   6.,  15.,  33.,  36.,  41.,  46.,\n",
       "         77.,  79.,  83., 108., 109.,  97.,  73.,  65.,  44.,  31.,  23.,\n",
       "          9.,   5.,   4.,   2.,   2.,   0.,   0.,   1.]),\n",
       " array([ 1.86930406,  3.12662393,  4.38394381,  5.64126368,  6.89858356,\n",
       "         8.15590343,  9.41322331, 10.67054318, 11.92786305, 13.18518293,\n",
       "        14.4425028 , 15.69982268, 16.95714255, 18.21446242, 19.4717823 ,\n",
       "        20.72910217, 21.98642205, 23.24374192, 24.50106179, 25.75838167,\n",
       "        27.01570154, 28.27302142, 29.53034129, 30.78766116, 32.04498104,\n",
       "        33.30230091, 34.55962079, 35.81694066, 37.07426054, 38.33158041,\n",
       "        39.58890028]),\n",
       " <a list of 30 Patch objects>)"
      ]
     },
     "execution_count": 66,
     "metadata": {},
     "output_type": "execute_result"
    },
    {
     "data": {
      "image/png": "[encoded data removed]",
      "text/plain": [
       "<Figure size 432x288 with 1 Axes>"
      ]
     },
     "metadata": {
      "needs_background": "light"
     },
     "output_type": "display_data"
    }
   ],
   "source": [
    "# your answer here\n",
    "import statistics \n",
    "m = statistics.mean(df['Combined MPG'])\n",
    "stdev = statistics.stdev(df['Combined MPG'])\n",
    "print(m,stdev)\n",
    "plt.hist(randomNormalDistribution(m,stdev,1000),bins=30)"
   ]
  },
  {
   "cell_type": "markdown",
   "metadata": {},
   "source": [
    "The last one is the closest one to a normal distribution although all of them present a similar distribution"
   ]
  },
  {
   "cell_type": "markdown",
   "metadata": {},
   "source": [
    "## Exponential Distribution"
   ]
  },
  {
   "cell_type": "markdown",
   "metadata": {},
   "source": [
    "1. Using `numpy.random.exponential`, create a function that returns a list of numbers exponentially distributed with the mean of 10. \n",
    "\n",
    "1. Use the function to generate two number sequences with the size of 10 and 100.\n",
    "\n",
    "1. Plot the distributions as histograms with the nubmer of bins as 100.\n",
    "\n",
    "Your output should look like below:\n",
    "\n",
    "![exponential distribution](ed.png)"
   ]
  },
  {
   "cell_type": "code",
   "execution_count": 86,
   "metadata": {},
   "outputs": [
    {
     "data": {
      "text/plain": [
       "(array([72., 62., 46., 54., 52., 43., 48., 49., 48., 39., 39., 31., 29.,\n",
       "        26., 20., 15., 16., 21., 22., 18., 15., 20., 10., 17., 16., 11.,\n",
       "         9.,  6., 14.,  6.,  6.,  8.,  6., 11.,  8.,  4.,  4.,  4.,  1.,\n",
       "         3.,  8.,  4.,  2.,  3.,  2.,  3.,  1.,  2.,  3.,  5.,  1.,  4.,\n",
       "         4.,  2.,  0.,  0.,  3.,  2.,  4.,  2.,  0.,  0.,  1.,  1.,  1.,\n",
       "         1.,  1.,  1.,  0.,  0.,  2.,  0.,  1.,  0.,  1.,  0.,  0.,  0.,\n",
       "         0.,  0.,  0.,  0.,  1.,  0.,  0.,  0.,  0.,  1.,  1.,  0.,  0.,\n",
       "         1.,  0.,  0.,  0.,  0.,  1.,  0.,  0.,  1.]),\n",
       " array([9.37526948e-05, 7.21503126e-03, 1.43363098e-02, 2.14575884e-02,\n",
       "        2.85788670e-02, 3.57001455e-02, 4.28214241e-02, 4.99427027e-02,\n",
       "        5.70639813e-02, 6.41852598e-02, 7.13065384e-02, 7.84278170e-02,\n",
       "        8.55490955e-02, 9.26703741e-02, 9.97916527e-02, 1.06912931e-01,\n",
       "        1.14034210e-01, 1.21155488e-01, 1.28276767e-01, 1.35398046e-01,\n",
       "        1.42519324e-01, 1.49640603e-01, 1.56761881e-01, 1.63883160e-01,\n",
       "        1.71004438e-01, 1.78125717e-01, 1.85246996e-01, 1.92368274e-01,\n",
       "        1.99489553e-01, 2.06610831e-01, 2.13732110e-01, 2.20853388e-01,\n",
       "        2.27974667e-01, 2.35095945e-01, 2.42217224e-01, 2.49338503e-01,\n",
       "        2.56459781e-01, 2.63581060e-01, 2.70702338e-01, 2.77823617e-01,\n",
       "        2.84944895e-01, 2.92066174e-01, 2.99187453e-01, 3.06308731e-01,\n",
       "        3.13430010e-01, 3.20551288e-01, 3.27672567e-01, 3.34793845e-01,\n",
       "        3.41915124e-01, 3.49036403e-01, 3.56157681e-01, 3.63278960e-01,\n",
       "        3.70400238e-01, 3.77521517e-01, 3.84642795e-01, 3.91764074e-01,\n",
       "        3.98885353e-01, 4.06006631e-01, 4.13127910e-01, 4.20249188e-01,\n",
       "        4.27370467e-01, 4.34491745e-01, 4.41613024e-01, 4.48734303e-01,\n",
       "        4.55855581e-01, 4.62976860e-01, 4.70098138e-01, 4.77219417e-01,\n",
       "        4.84340695e-01, 4.91461974e-01, 4.98583253e-01, 5.05704531e-01,\n",
       "        5.12825810e-01, 5.19947088e-01, 5.27068367e-01, 5.34189645e-01,\n",
       "        5.41310924e-01, 5.48432203e-01, 5.55553481e-01, 5.62674760e-01,\n",
       "        5.69796038e-01, 5.76917317e-01, 5.84038595e-01, 5.91159874e-01,\n",
       "        5.98281153e-01, 6.05402431e-01, 6.12523710e-01, 6.19644988e-01,\n",
       "        6.26766267e-01, 6.33887545e-01, 6.41008824e-01, 6.48130103e-01,\n",
       "        6.55251381e-01, 6.62372660e-01, 6.69493938e-01, 6.76615217e-01,\n",
       "        6.83736495e-01, 6.90857774e-01, 6.97979053e-01, 7.05100331e-01,\n",
       "        7.12221610e-01]),\n",
       " <a list of 100 Patch objects>)"
      ]
     },
     "execution_count": 86,
     "metadata": {},
     "output_type": "execute_result"
    },
    {
     "data": {
      "image/png": "[encoded data removed]",
      "text/plain": [
       "<Figure size 432x288 with 2 Axes>"
      ]
     },
     "metadata": {
      "needs_background": "light"
     },
     "output_type": "display_data"
    }
   ],
   "source": [
    "# your code here\n",
    "def randomExponentialDistribution(size,scale = 1/10):\n",
    "    return  np.random.exponential(scale,size)\n",
    "\n",
    "f, ax = plt.subplots(1, 2, sharey=True)\n",
    "x = randomExponentialDistribution(100)\n",
    "ax[0].hist(x,bins=100)\n",
    "x = randomExponentialDistribution(1000)\n",
    "ax[1].hist(x,bins=100)"
   ]
  },
  {
   "cell_type": "markdown",
   "metadata": {},
   "source": [
    "How are the two distributions different?"
   ]
  },
  {
   "cell_type": "code",
   "execution_count": null,
   "metadata": {},
   "outputs": [],
   "source": [
    "# your answer here\n"
   ]
  },
  {
   "cell_type": "markdown",
   "metadata": {},
   "source": [
    "## Exponential Distribution of Real Data\n",
    "\n",
    "Suppose that the amount of time one spends in a bank is exponentially distributed with mean as 10 minutes (i.e. λ = 1/10). What is the probability that a customer will spend less than fifteen minutes in the bank? \n",
    "\n",
    "Write a code in python to solve this problem"
   ]
  },
  {
   "cell_type": "code",
   "execution_count": 103,
   "metadata": {},
   "outputs": [
    {
     "name": "stdout",
     "output_type": "stream",
     "text": [
      "Probability is  99.33\n"
     ]
    }
   ],
   "source": [
    "# your answer here\n",
    "# Hint: This is same as saying P(x<15)\n",
    "from scipy.stats import expon\n",
    "print('Probability is ', round(expon.cdf(15, 10)* 100,2), '%')"
   ]
  },
  {
   "cell_type": "markdown",
   "metadata": {},
   "source": [
    "What is the probability that the customer will spend more than 15 minutes"
   ]
  },
  {
   "cell_type": "code",
   "execution_count": 107,
   "metadata": {},
   "outputs": [
    {
     "name": "stdout",
     "output_type": "stream",
     "text": [
      "Probability is  0.67\n"
     ]
    }
   ],
   "source": [
    "# your answer here\n",
    "# Hint: This is same as saying P(x<15)\n",
    "from scipy.stats import expon\n",
    "print('Probability is ', round(100 - expon.cdf(15, 10)* 100,2))"
   ]
  },
  {
   "cell_type": "code",
   "execution_count": null,
   "metadata": {},
   "outputs": [],
   "source": []
  }
 ],
 "metadata": {
  "kernelspec": {
   "display_name": "Python 3",
   "language": "python",
   "name": "python3"
  },
  "language_info": {
   "codemirror_mode": {
    "name": "ipython",
    "version": 3
   },
   "file_extension": ".py",
   "mimetype": "text/x-python",
   "name": "python",
   "nbconvert_exporter": "python",
   "pygments_lexer": "ipython3",
   "version": "3.7.5rc1"
  }
 },
 "nbformat": 4,
 "nbformat_minor": 2
}
