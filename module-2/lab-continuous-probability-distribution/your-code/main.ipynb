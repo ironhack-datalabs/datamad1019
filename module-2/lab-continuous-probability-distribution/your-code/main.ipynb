{
 "cells": [
  {
   "cell_type": "markdown",
   "metadata": {},
   "source": [
    "# Before your start:\n",
    "\n",
    "    Read the README.md file\n",
    "    Comment as much as you can and use the resources (README.md file)\n",
    "    Happy learning!"
   ]
  },
  {
   "cell_type": "markdown",
   "metadata": {},
   "source": [
    "In this exercise, we  will generate random numbers from the continuous disributions we learned in the lesson. There are two ways to generate random numbers:\n",
    "\n",
    "1. Using the numpy library \n",
    "1. using the Scipy library \n",
    "\n",
    "Use either or both of the lbraries in this exercise."
   ]
  },
  {
   "cell_type": "markdown",
   "metadata": {},
   "source": [
    "## Uniform Distribution\n",
    "\n",
    "To generate uniform random numbers between any two given values using scipy, we can either use the following code or the code that we have\n",
    "discussed in class:"
   ]
  },
  {
   "cell_type": "code",
   "execution_count": 41,
   "metadata": {},
   "outputs": [
    {
     "name": "stdout",
     "output_type": "stream",
     "text": [
      "[2.97672369 2.90756759 2.11139796 2.42110902 2.92702702 2.48229943\n",
      " 2.28755608 2.03628159 2.34768322 2.21001229]\n"
     ]
    }
   ],
   "source": [
    "from scipy.stats import uniform\n",
    "x = uniform.rvs(size=10)\n",
    "a = 2\n",
    "b = 3\n",
    "randoms  = a + (b-a)*x\n",
    "print(randoms)"
   ]
  },
  {
   "cell_type": "markdown",
   "metadata": {},
   "source": [
    "**Your task:**\n",
    "\n",
    "1. Based on the code above, write a function that generates uniformly distributed random numbers. There are several requirements for your function:\n",
    "    * It should accept 3 parameters: \n",
    "        * `bottom` - the lower boundary of the generated numbers\n",
    "        * `ceiling` - the upper boundary of the generated numbers\n",
    "        * `count` - how many numbers to generate\n",
    "    * It should return an array of uniformly distributed random numbers\n",
    "\n",
    "1. Call your function with 2 sets of params below:\n",
    "    * bottom=10, ceiling=15, count=100\n",
    "    * bottom=10, ceiling=60, count=1,000\n",
    "\n",
    "1. Plot the uniform distributions generated above using histograms, where x axis is the value and y axis is the count. Let the histogram's number of bins be 10.\n",
    "\n",
    "Your output should look like below:\n",
    "\n",
    "![uniform distribution](ud.png)"
   ]
  },
  {
   "cell_type": "code",
   "execution_count": 52,
   "metadata": {
    "scrolled": true
   },
   "outputs": [
    {
     "data": {
      "text/plain": [
       "(array([109., 116., 104., 103., 104.,  93.,  99.,  84.,  93.,  95.]),\n",
       " array([10.0987024 , 15.08236953, 20.06603666, 25.04970379, 30.03337092,\n",
       "        35.01703805, 40.00070518, 44.98437231, 49.96803944, 54.95170657,\n",
       "        59.9353737 ]),\n",
       " <a list of 10 Patch objects>)"
      ]
     },
     "execution_count": 52,
     "metadata": {},
     "output_type": "execute_result"
    },
    {
     "data": {
      "image/png": "[encoded data removed]",
      "text/plain": [
       "<Figure size 432x288 with 2 Axes>"
      ]
     },
     "metadata": {
      "needs_background": "light"
     },
     "output_type": "display_data"
    }
   ],
   "source": [
    "# your code here\n",
    "import matplotlib.pyplot as plt\n",
    "def randomNum(bottom, ceiling, count):\n",
    "    x = uniform.rvs(loc= bottom, scale= (ceiling-bottom), size=count)\n",
    "    return x\n",
    "\n",
    "x_0 = randomNum(10,15,100)\n",
    "\n",
    "x_1 = randomNum(10,60,1000)\n",
    "\n",
    "fig, ax = plt.subplots(1,2, sharey=True, tight_layout=True)\n",
    "\n",
    "ax[0].hist(x_0, bins=10)\n",
    "ax[1].hist(x_1, bins=10)\n"
   ]
  },
  {
   "cell_type": "code",
   "execution_count": null,
   "metadata": {},
   "outputs": [],
   "source": []
  },
  {
   "cell_type": "markdown",
   "metadata": {},
   "source": [
    "How are the two distributions different?"
   ]
  },
  {
   "cell_type": "code",
   "execution_count": 53,
   "metadata": {},
   "outputs": [],
   "source": [
    "# your answer below\n",
    "# They only differ in the x and y range, but the distribution seems to be the same"
   ]
  },
  {
   "cell_type": "markdown",
   "metadata": {},
   "source": [
    "## Normal Distribution\n",
    "\n",
    "1. In the same way in the Uniform Distribution challenge, write a function that generates normally distributed random numbers.\n",
    "1. Generate 1,000 normally distributed numbers with the average of 10 and standard deviation of 1\n",
    "1. Generate 1,000 normally distributed numbers with the average of 10 and standard deviation of 50\n",
    "2. Plot the distributions of the data generated.\n",
    "\n",
    "Expected output:\n",
    "\n",
    "![normal distribution](nd.png)"
   ]
  },
  {
   "cell_type": "code",
   "execution_count": 66,
   "metadata": {},
   "outputs": [
    {
     "data": {
      "text/plain": [
       "(array([ 1.,  0.,  1.,  2.,  0.,  0.,  1.,  1.,  1.,  3.,  2.,  2.,  3.,\n",
       "         1.,  1.,  5.,  3.,  5.,  6.,  9., 10.,  6.,  8., 13., 17.,  8.,\n",
       "        10., 14., 14., 14., 16., 17., 24., 17., 22., 21., 17., 38., 20.,\n",
       "        24., 25., 22., 32., 34., 37., 31., 24., 32., 29., 28., 30., 26.,\n",
       "        27., 11., 13., 10., 19., 11., 18., 15., 16., 16., 13., 15.,  8.,\n",
       "         9.,  6.,  7.,  9.,  4.,  8.,  9.,  2.,  3.,  2.,  2.,  4.,  4.,\n",
       "         2.,  2.,  1.,  1.,  1.,  1.,  0.,  0.,  0.,  0.,  1.,  0.,  0.,\n",
       "         0.,  0.,  1.,  0.,  1.,  0.,  0.,  0.,  1.]),\n",
       " array([-1.44585085e+02, -1.41138385e+02, -1.37691685e+02, -1.34244985e+02,\n",
       "        -1.30798285e+02, -1.27351584e+02, -1.23904884e+02, -1.20458184e+02,\n",
       "        -1.17011484e+02, -1.13564784e+02, -1.10118084e+02, -1.06671384e+02,\n",
       "        -1.03224683e+02, -9.97779834e+01, -9.63312832e+01, -9.28845831e+01,\n",
       "        -8.94378830e+01, -8.59911828e+01, -8.25444827e+01, -7.90977826e+01,\n",
       "        -7.56510824e+01, -7.22043823e+01, -6.87576822e+01, -6.53109821e+01,\n",
       "        -6.18642819e+01, -5.84175818e+01, -5.49708817e+01, -5.15241815e+01,\n",
       "        -4.80774814e+01, -4.46307813e+01, -4.11840812e+01, -3.77373810e+01,\n",
       "        -3.42906809e+01, -3.08439808e+01, -2.73972806e+01, -2.39505805e+01,\n",
       "        -2.05038804e+01, -1.70571803e+01, -1.36104801e+01, -1.01637800e+01,\n",
       "        -6.71707987e+00, -3.27037974e+00,  1.76320389e-01,  3.62302052e+00,\n",
       "         7.06972065e+00,  1.05164208e+01,  1.39631209e+01,  1.74098210e+01,\n",
       "         2.08565212e+01,  2.43032213e+01,  2.77499214e+01,  3.11966216e+01,\n",
       "         3.46433217e+01,  3.80900218e+01,  4.15367219e+01,  4.49834221e+01,\n",
       "         4.84301222e+01,  5.18768223e+01,  5.53235225e+01,  5.87702226e+01,\n",
       "         6.22169227e+01,  6.56636228e+01,  6.91103230e+01,  7.25570231e+01,\n",
       "         7.60037232e+01,  7.94504234e+01,  8.28971235e+01,  8.63438236e+01,\n",
       "         8.97905237e+01,  9.32372239e+01,  9.66839240e+01,  1.00130624e+02,\n",
       "         1.03577324e+02,  1.07024024e+02,  1.10470725e+02,  1.13917425e+02,\n",
       "         1.17364125e+02,  1.20810825e+02,  1.24257525e+02,  1.27704225e+02,\n",
       "         1.31150925e+02,  1.34597625e+02,  1.38044326e+02,  1.41491026e+02,\n",
       "         1.44937726e+02,  1.48384426e+02,  1.51831126e+02,  1.55277826e+02,\n",
       "         1.58724526e+02,  1.62171226e+02,  1.65617927e+02,  1.69064627e+02,\n",
       "         1.72511327e+02,  1.75958027e+02,  1.79404727e+02,  1.82851427e+02,\n",
       "         1.86298127e+02,  1.89744827e+02,  1.93191528e+02,  1.96638228e+02,\n",
       "         2.00084928e+02]),\n",
       " <a list of 100 Patch objects>)"
      ]
     },
     "execution_count": 66,
     "metadata": {},
     "output_type": "execute_result"
    },
    {
     "data": {
      "image/png": "[encoded data removed]",
      "text/plain": [
       "<Figure size 432x288 with 2 Axes>"
      ]
     },
     "metadata": {
      "needs_background": "light"
     },
     "output_type": "display_data"
    }
   ],
   "source": [
    "# your code here\n",
    "from scipy.stats import norm\n",
    "import numpy as np\n",
    "\n",
    "\n",
    "fig, ax = plt.subplots(1,2, sharey=True, tight_layout=True)\n",
    "\n",
    "a = np.random.normal(loc=10, scale=1, size=1000)\n",
    "b = np.random.normal(loc=10, scale=50, size=1000)\n",
    "\n",
    "ax[0].hist(a, bins=100)\n",
    "ax[1].hist(b, bins=100)"
   ]
  },
  {
   "cell_type": "markdown",
   "metadata": {},
   "source": [
    "How are the two distributions different?"
   ]
  },
  {
   "cell_type": "code",
   "execution_count": null,
   "metadata": {},
   "outputs": [],
   "source": [
    "# your answer below\n",
    "# The main difference is standard deviation, therefore values are more concentrated around the mean in the first one."
   ]
  },
  {
   "cell_type": "markdown",
   "metadata": {},
   "source": [
    "## Normal Distribution of Real Data\n",
    "\n",
    "In this challenge we are going to take a look the real data. We will use vehicles.csv file for this exercise"
   ]
  },
  {
   "cell_type": "markdown",
   "metadata": {},
   "source": [
    "First import vehicles.csv.\n",
    "Then plot the histograms for the following variables:\n",
    "\n",
    "1. Fuel Barrels/Year"
   ]
  },
  {
   "cell_type": "code",
   "execution_count": 69,
   "metadata": {},
   "outputs": [],
   "source": [
    "# your code here\n",
    "import pandas as pd\n",
    "df = pd.read_csv(\"vehicles.csv\")"
   ]
  },
  {
   "cell_type": "markdown",
   "metadata": {},
   "source": [
    "2. CO2 Emission Grams/Mile "
   ]
  },
  {
   "cell_type": "code",
   "execution_count": 76,
   "metadata": {},
   "outputs": [
    {
     "data": {
      "text/plain": [
       "(array([3.000e+00, 2.000e+00, 0.000e+00, 4.000e+00, 4.000e+00, 3.000e+00,\n",
       "        1.000e+00, 1.300e+01, 1.000e+00, 3.000e+00, 1.000e+01, 1.400e+01,\n",
       "        3.000e+01, 2.400e+01, 7.100e+01, 8.800e+01, 4.500e+01, 1.030e+02,\n",
       "        2.490e+02, 1.980e+02, 3.320e+02, 7.290e+02, 6.700e+02, 6.790e+02,\n",
       "        1.012e+03, 1.207e+03, 2.500e+02, 1.547e+03, 1.684e+03, 2.095e+03,\n",
       "        3.310e+02, 2.933e+03, 2.300e+02, 2.915e+03, 3.012e+03, 2.200e+02,\n",
       "        2.330e+02, 3.266e+03, 1.140e+02, 2.157e+03, 1.560e+02, 8.900e+01,\n",
       "        2.157e+03, 5.700e+01, 7.100e+01, 2.205e+03, 7.700e+01, 6.900e+01,\n",
       "        1.925e+03, 1.900e+01, 6.000e+00, 3.000e+01, 1.210e+03, 1.500e+01,\n",
       "        1.500e+01, 2.200e+01, 2.000e+00, 7.070e+02, 3.000e+00, 0.000e+00,\n",
       "        4.000e+00, 2.000e+00, 4.370e+02, 0.000e+00, 0.000e+00, 3.000e+00,\n",
       "        0.000e+00, 0.000e+00, 0.000e+00, 1.270e+02, 0.000e+00, 0.000e+00,\n",
       "        0.000e+00, 0.000e+00, 0.000e+00, 0.000e+00, 0.000e+00, 3.600e+01,\n",
       "        0.000e+00, 0.000e+00, 0.000e+00, 0.000e+00, 0.000e+00, 0.000e+00,\n",
       "        0.000e+00, 0.000e+00, 0.000e+00, 2.100e+01, 0.000e+00, 0.000e+00,\n",
       "        0.000e+00, 0.000e+00, 0.000e+00, 0.000e+00, 0.000e+00, 0.000e+00,\n",
       "        0.000e+00, 0.000e+00, 0.000e+00, 5.000e+00]),\n",
       " array([  37.        ,   49.32571429,   61.65142857,   73.97714286,\n",
       "          86.30285714,   98.62857143,  110.95428571,  123.28      ,\n",
       "         135.60571429,  147.93142857,  160.25714286,  172.58285714,\n",
       "         184.90857143,  197.23428571,  209.56      ,  221.88571429,\n",
       "         234.21142857,  246.53714286,  258.86285714,  271.18857143,\n",
       "         283.51428571,  295.84      ,  308.16571429,  320.49142857,\n",
       "         332.81714286,  345.14285714,  357.46857143,  369.79428571,\n",
       "         382.12      ,  394.44571429,  406.77142857,  419.09714286,\n",
       "         431.42285714,  443.74857143,  456.07428571,  468.4       ,\n",
       "         480.72571429,  493.05142857,  505.37714286,  517.70285714,\n",
       "         530.02857143,  542.35428571,  554.68      ,  567.00571429,\n",
       "         579.33142857,  591.65714286,  603.98285714,  616.30857143,\n",
       "         628.63428571,  640.96      ,  653.28571429,  665.61142857,\n",
       "         677.93714286,  690.26285714,  702.58857143,  714.91428571,\n",
       "         727.24      ,  739.56571429,  751.89142857,  764.21714286,\n",
       "         776.54285714,  788.86857143,  801.19428571,  813.52      ,\n",
       "         825.84571429,  838.17142857,  850.49714286,  862.82285714,\n",
       "         875.14857143,  887.47428571,  899.8       ,  912.12571429,\n",
       "         924.45142857,  936.77714286,  949.10285714,  961.42857143,\n",
       "         973.75428571,  986.08      ,  998.40571429, 1010.73142857,\n",
       "        1023.05714286, 1035.38285714, 1047.70857143, 1060.03428571,\n",
       "        1072.36      , 1084.68571429, 1097.01142857, 1109.33714286,\n",
       "        1121.66285714, 1133.98857143, 1146.31428571, 1158.64      ,\n",
       "        1170.96571429, 1183.29142857, 1195.61714286, 1207.94285714,\n",
       "        1220.26857143, 1232.59428571, 1244.92      , 1257.24571429,\n",
       "        1269.57142857]),\n",
       " <a list of 100 Patch objects>)"
      ]
     },
     "execution_count": 76,
     "metadata": {},
     "output_type": "execute_result"
    },
    {
     "data": {
      "image/png": "[encoded data removed]",
      "text/plain": [
       "<Figure size 432x288 with 1 Axes>"
      ]
     },
     "metadata": {
      "needs_background": "light"
     },
     "output_type": "display_data"
    }
   ],
   "source": [
    "# your code here\n",
    "plt.hist(df[\"CO2 Emission Grams/Mile\"], bins=100)"
   ]
  },
  {
   "cell_type": "markdown",
   "metadata": {},
   "source": [
    "3. Combined MPG"
   ]
  },
  {
   "cell_type": "code",
   "execution_count": 75,
   "metadata": {},
   "outputs": [
    {
     "data": {
      "text/plain": [
       "(array([5.000e+00, 2.000e+01, 0.000e+00, 8.400e+01, 0.000e+00, 1.940e+02,\n",
       "        0.000e+00, 5.160e+02, 0.000e+00, 1.422e+03, 0.000e+00, 1.512e+03,\n",
       "        0.000e+00, 1.959e+03, 0.000e+00, 2.760e+03, 0.000e+00, 4.158e+03,\n",
       "        0.000e+00, 3.577e+03, 0.000e+00, 3.690e+03, 0.000e+00, 3.547e+03,\n",
       "        0.000e+00, 2.629e+03, 1.905e+03, 0.000e+00, 1.993e+03, 0.000e+00,\n",
       "        1.400e+03, 0.000e+00, 1.174e+03, 0.000e+00, 7.020e+02, 0.000e+00,\n",
       "        6.030e+02, 0.000e+00, 4.850e+02, 0.000e+00, 3.960e+02, 0.000e+00,\n",
       "        2.980e+02, 0.000e+00, 1.570e+02, 0.000e+00, 1.510e+02, 0.000e+00,\n",
       "        1.510e+02, 0.000e+00, 5.800e+01, 5.300e+01, 0.000e+00, 4.400e+01,\n",
       "        0.000e+00, 4.400e+01, 0.000e+00, 3.100e+01, 0.000e+00, 3.000e+01,\n",
       "        0.000e+00, 3.100e+01, 0.000e+00, 1.700e+01, 0.000e+00, 3.800e+01,\n",
       "        0.000e+00, 2.100e+01, 0.000e+00, 1.400e+01, 0.000e+00, 2.300e+01,\n",
       "        0.000e+00, 1.600e+01, 0.000e+00, 6.000e+00, 0.000e+00, 0.000e+00,\n",
       "        2.000e+00, 0.000e+00, 1.200e+01, 0.000e+00, 3.000e+00, 0.000e+00,\n",
       "        2.000e+00, 0.000e+00, 1.000e+01, 0.000e+00, 0.000e+00, 0.000e+00,\n",
       "        5.000e+00, 0.000e+00, 2.000e+00, 0.000e+00, 0.000e+00, 0.000e+00,\n",
       "        0.000e+00, 0.000e+00, 0.000e+00, 2.000e+00]),\n",
       " array([ 6.  ,  6.52,  7.04,  7.56,  8.08,  8.6 ,  9.12,  9.64, 10.16,\n",
       "        10.68, 11.2 , 11.72, 12.24, 12.76, 13.28, 13.8 , 14.32, 14.84,\n",
       "        15.36, 15.88, 16.4 , 16.92, 17.44, 17.96, 18.48, 19.  , 19.52,\n",
       "        20.04, 20.56, 21.08, 21.6 , 22.12, 22.64, 23.16, 23.68, 24.2 ,\n",
       "        24.72, 25.24, 25.76, 26.28, 26.8 , 27.32, 27.84, 28.36, 28.88,\n",
       "        29.4 , 29.92, 30.44, 30.96, 31.48, 32.  , 32.52, 33.04, 33.56,\n",
       "        34.08, 34.6 , 35.12, 35.64, 36.16, 36.68, 37.2 , 37.72, 38.24,\n",
       "        38.76, 39.28, 39.8 , 40.32, 40.84, 41.36, 41.88, 42.4 , 42.92,\n",
       "        43.44, 43.96, 44.48, 45.  , 45.52, 46.04, 46.56, 47.08, 47.6 ,\n",
       "        48.12, 48.64, 49.16, 49.68, 50.2 , 50.72, 51.24, 51.76, 52.28,\n",
       "        52.8 , 53.32, 53.84, 54.36, 54.88, 55.4 , 55.92, 56.44, 56.96,\n",
       "        57.48, 58.  ]),\n",
       " <a list of 100 Patch objects>)"
      ]
     },
     "execution_count": 75,
     "metadata": {},
     "output_type": "execute_result"
    },
    {
     "data": {
      "image/png": "[encoded data removed]",
      "text/plain": [
       "<Figure size 432x288 with 1 Axes>"
      ]
     },
     "metadata": {
      "needs_background": "light"
     },
     "output_type": "display_data"
    }
   ],
   "source": [
    "# your code here\n",
    "plt.hist(df[\"City MPG\"], bins=100)"
   ]
  },
  {
   "cell_type": "markdown",
   "metadata": {},
   "source": [
    "Which one(s) of the variables are nearly normally distributed? How do you know?"
   ]
  },
  {
   "cell_type": "code",
   "execution_count": null,
   "metadata": {},
   "outputs": [],
   "source": [
    "# your answer here\n",
    "# It seems the second one is similar to normal distribution, as more values concentrate around the mean, in the first one, it seems many values are concentrated to the left."
   ]
  },
  {
   "cell_type": "markdown",
   "metadata": {},
   "source": [
    "## Exponential Distribution"
   ]
  },
  {
   "cell_type": "markdown",
   "metadata": {},
   "source": [
    "1. Using `numpy.random.exponential`, create a function that returns a list of numbers exponentially distributed with the mean of 10. \n",
    "\n",
    "1. Use the function to generate two number sequences with the size of 10 and 100.\n",
    "\n",
    "1. Plot the distributions as histograms with the nubmer of bins as 100.\n",
    "\n",
    "Your output should look like below:\n",
    "\n",
    "![exponential distribution](ed.png)"
   ]
  },
  {
   "cell_type": "code",
   "execution_count": 94,
   "metadata": {},
   "outputs": [
    {
     "data": {
      "text/plain": [
       "(array([73., 66., 55., 44., 44., 48., 50., 48., 49., 37., 26., 29., 29.,\n",
       "        25., 25., 22., 23., 26., 18., 16., 14., 11., 15.,  9., 11., 13.,\n",
       "        18., 11., 14.,  8., 11., 12.,  4.,  2.,  2.,  3.,  8.,  6.,  4.,\n",
       "         7.,  3.,  5.,  5.,  6.,  3.,  3.,  3.,  1.,  2.,  1.,  0.,  2.,\n",
       "         2.,  1.,  1.,  2.,  1.,  2.,  2.,  1.,  1.,  2.,  2.,  1.,  0.,\n",
       "         0.,  1.,  1.,  2.,  1.,  1.,  0.,  1.,  1.,  0.,  0.,  0.,  0.,\n",
       "         0.,  1.,  0.,  0.,  0.,  1.,  1.,  0.,  0.,  0.,  0.,  0.,  0.,\n",
       "         0.,  0.,  0.,  0.,  0.,  0.,  0.,  0.,  1.]),\n",
       " array([4.97682954e-02, 7.28333242e+00, 1.45168965e+01, 2.17504607e+01,\n",
       "        2.89840248e+01, 3.62175889e+01, 4.34511530e+01, 5.06847172e+01,\n",
       "        5.79182813e+01, 6.51518454e+01, 7.23854095e+01, 7.96189737e+01,\n",
       "        8.68525378e+01, 9.40861019e+01, 1.01319666e+02, 1.08553230e+02,\n",
       "        1.15786794e+02, 1.23020358e+02, 1.30253923e+02, 1.37487487e+02,\n",
       "        1.44721051e+02, 1.51954615e+02, 1.59188179e+02, 1.66421743e+02,\n",
       "        1.73655307e+02, 1.80888871e+02, 1.88122436e+02, 1.95356000e+02,\n",
       "        2.02589564e+02, 2.09823128e+02, 2.17056692e+02, 2.24290256e+02,\n",
       "        2.31523820e+02, 2.38757384e+02, 2.45990949e+02, 2.53224513e+02,\n",
       "        2.60458077e+02, 2.67691641e+02, 2.74925205e+02, 2.82158769e+02,\n",
       "        2.89392333e+02, 2.96625897e+02, 3.03859462e+02, 3.11093026e+02,\n",
       "        3.18326590e+02, 3.25560154e+02, 3.32793718e+02, 3.40027282e+02,\n",
       "        3.47260846e+02, 3.54494410e+02, 3.61727975e+02, 3.68961539e+02,\n",
       "        3.76195103e+02, 3.83428667e+02, 3.90662231e+02, 3.97895795e+02,\n",
       "        4.05129359e+02, 4.12362923e+02, 4.19596488e+02, 4.26830052e+02,\n",
       "        4.34063616e+02, 4.41297180e+02, 4.48530744e+02, 4.55764308e+02,\n",
       "        4.62997872e+02, 4.70231436e+02, 4.77465001e+02, 4.84698565e+02,\n",
       "        4.91932129e+02, 4.99165693e+02, 5.06399257e+02, 5.13632821e+02,\n",
       "        5.20866385e+02, 5.28099949e+02, 5.35333514e+02, 5.42567078e+02,\n",
       "        5.49800642e+02, 5.57034206e+02, 5.64267770e+02, 5.71501334e+02,\n",
       "        5.78734898e+02, 5.85968462e+02, 5.93202027e+02, 6.00435591e+02,\n",
       "        6.07669155e+02, 6.14902719e+02, 6.22136283e+02, 6.29369847e+02,\n",
       "        6.36603411e+02, 6.43836975e+02, 6.51070540e+02, 6.58304104e+02,\n",
       "        6.65537668e+02, 6.72771232e+02, 6.80004796e+02, 6.87238360e+02,\n",
       "        6.94471924e+02, 7.01705488e+02, 7.08939053e+02, 7.16172617e+02,\n",
       "        7.23406181e+02]),\n",
       " <a list of 100 Patch objects>)"
      ]
     },
     "execution_count": 94,
     "metadata": {},
     "output_type": "execute_result"
    },
    {
     "data": {
      "image/png": "[encoded data removed]",
      "text/plain": [
       "<Figure size 432x288 with 2 Axes>"
      ]
     },
     "metadata": {
      "needs_background": "light"
     },
     "output_type": "display_data"
    }
   ],
   "source": [
    "# your code here\n",
    "a = np.random.exponential(scale= 10, size=1000)\n",
    "b = np.random.exponential(scale= 100, size=1000)\n",
    "\n",
    "fig, ax = plt.subplots(1,2, sharey=True, tight_layout=True)\n",
    "\n",
    "ax[0].hist(a, bins=100)\n",
    "ax[1].hist(b, bins=100)"
   ]
  },
  {
   "cell_type": "markdown",
   "metadata": {},
   "source": [
    "How are the two distributions different?"
   ]
  },
  {
   "cell_type": "code",
   "execution_count": null,
   "metadata": {},
   "outputs": [],
   "source": [
    "# your answer here\n",
    "#The average in the first one is closer to 0, therefore could be that the first one refers to something happenning more oftenly (e.g. calls in a call center)"
   ]
  },
  {
   "cell_type": "markdown",
   "metadata": {},
   "source": [
    "## Exponential Distribution of Real Data\n",
    "\n",
    "Suppose that the amount of time one spends in a bank is exponentially distributed with mean as 10 minutes (i.e. λ = 1/10). What is the probability that a customer will spend less than fifteen minutes in the bank? \n",
    "\n",
    "Write a code in python to solve this problem"
   ]
  },
  {
   "cell_type": "code",
   "execution_count": 99,
   "metadata": {},
   "outputs": [
    {
     "data": {
      "text/plain": [
       "0.7768698398515702"
      ]
     },
     "execution_count": 99,
     "metadata": {},
     "output_type": "execute_result"
    }
   ],
   "source": [
    "# your answer here\n",
    "# Hint: This is same as saying P(x<15)\n",
    "from scipy.stats import expon\n",
    "\n",
    "expon.cdf(15, loc=0, scale=10)"
   ]
  },
  {
   "cell_type": "markdown",
   "metadata": {},
   "source": [
    "What is the probability that the customer will spend more than 15 minutes"
   ]
  },
  {
   "cell_type": "code",
   "execution_count": null,
   "metadata": {},
   "outputs": [],
   "source": [
    "# your answer here"
   ]
  },
  {
   "cell_type": "code",
   "execution_count": 100,
   "metadata": {},
   "outputs": [
    {
     "data": {
      "text/plain": [
       "0.2231301601484298"
      ]
     },
     "execution_count": 100,
     "metadata": {},
     "output_type": "execute_result"
    }
   ],
   "source": [
    "1-expon.cdf(15, loc=0, scale=10)"
   ]
  },
  {
   "cell_type": "code",
   "execution_count": null,
   "metadata": {},
   "outputs": [],
   "source": []
  }
 ],
 "metadata": {
  "kernelspec": {
   "display_name": "Python 3",
   "language": "python",
   "name": "python3"
  },
  "language_info": {
   "codemirror_mode": {
    "name": "ipython",
    "version": 3
   },
   "file_extension": ".py",
   "mimetype": "text/x-python",
   "name": "python",
   "nbconvert_exporter": "python",
   "pygments_lexer": "ipython3",
   "version": "3.6.8"
  }
 },
 "nbformat": 4,
 "nbformat_minor": 2
}
