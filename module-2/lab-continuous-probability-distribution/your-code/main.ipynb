{
 "cells": [
  {
   "cell_type": "markdown",
   "metadata": {},
   "source": [
    "# Before your start:\n",
    "\n",
    "    Read the README.md file\n",
    "    Comment as much as you can and use the resources (README.md file)\n",
    "    Happy learning!"
   ]
  },
  {
   "cell_type": "markdown",
   "metadata": {},
   "source": [
    "In this exercise, we  will generate random numbers from the continuous disributions we learned in the lesson. There are two ways to generate random numbers:\n",
    "\n",
    "1. Using the numpy library \n",
    "1. using the Scipy library \n",
    "\n",
    "Use either or both of the lbraries in this exercise."
   ]
  },
  {
   "cell_type": "markdown",
   "metadata": {},
   "source": [
    "## Uniform Distribution\n",
    "\n",
    "To generate uniform random numbers between any two given values using scipy, we can either use the following code or the code that we have\n",
    "discussed in class:"
   ]
  },
  {
   "cell_type": "code",
   "execution_count": 9,
   "metadata": {},
   "outputs": [
    {
     "name": "stdout",
     "output_type": "stream",
     "text": [
      "[2.89188244 2.13967028 2.25071555 2.38767344 2.54781349 2.67934308\n",
      " 2.99326813 2.8692451  2.47680982 2.6506145 ]\n"
     ]
    }
   ],
   "source": [
    "import numpy as np\n",
    "\n",
    "from scipy.stats import uniform\n",
    "x = uniform.rvs(size=10)\n",
    "a = 2\n",
    "b = 3\n",
    "randoms  = a + (b-a)*x\n",
    "print(randoms)"
   ]
  },
  {
   "cell_type": "markdown",
   "metadata": {},
   "source": [
    "**Your task:**\n",
    "\n",
    "1. Based on the code above, write a function that generates uniformly distributed random numbers. There are several requirements for your function:\n",
    "    * It should accept 3 parameters: \n",
    "        * `bottom` - the lower boundary of the generated numbers\n",
    "        * `ceiling` - the upper boundary of the generated numbers\n",
    "        * `count` - how many numbers to generate\n",
    "    * It should return an array of uniformly distributed random numbers\n",
    "\n",
    "1. Call your function with 2 sets of params below:\n",
    "    * bottom=10, ceiling=15, count=100\n",
    "    * bottom=10, ceiling=60, count=1,000\n",
    "\n",
    "1. Plot the uniform distributions generated above using histograms, where x axis is the value and y axis is the count. Let the histogram's number of bins be 10.\n",
    "\n",
    "Your output should look like below:\n",
    "\n",
    "![uniform distribution](ud.png)"
   ]
  },
  {
   "cell_type": "code",
   "execution_count": 12,
   "metadata": {},
   "outputs": [],
   "source": [
    "# your code here\n",
    "\n",
    "import matplotlib as plt\n",
    "\n",
    "def Uniform(low,high,count):\n",
    "    x = uniform.rvs(size=count)\n",
    "    aleatorio = low+ (high-low)*x  \n",
    "     \n",
    "    return aleatorio\n",
    "\n"
   ]
  },
  {
   "cell_type": "markdown",
   "metadata": {},
   "source": [
    "How are the two distributions different?"
   ]
  },
  {
   "cell_type": "code",
   "execution_count": 22,
   "metadata": {},
   "outputs": [
    {
     "data": {
      "text/plain": [
       "(array([ 93., 103., 107.,  90., 104.,  93.,  87., 109.,  95., 119.]),\n",
       " array([10.12180558, 14.10125059, 18.0806956 , 22.06014062, 26.03958563,\n",
       "        30.01903064, 33.99847566, 37.97792067, 41.95736568, 45.9368107 ,\n",
       "        49.91625571]),\n",
       " <a list of 10 Patch objects>)"
      ]
     },
     "execution_count": 22,
     "metadata": {},
     "output_type": "execute_result"
    },
    {
     "data": {
      "image/png": "[encoded data removed]",
      "text/plain": [
       "<Figure size 432x288 with 2 Axes>"
      ]
     },
     "metadata": {
      "needs_background": "light"
     },
     "output_type": "display_data"
    }
   ],
   "source": [
    "# your answer below\n",
    "Uniform(10,15,100)\n",
    "Uniform(10,60,1000)\n",
    "\n",
    "\n",
    "fig,ax=plt.subplots(1,2)\n",
    "ax[0].hist(Uniform(10,1,1000))\n",
    "ax[1].hist(Uniform(10,50,1000))\n",
    "\n",
    "\n"
   ]
  },
  {
   "cell_type": "markdown",
   "metadata": {},
   "source": [
    "## Normal Distribution\n",
    "\n",
    "1. In the same way in the Uniform Distribution challenge, write a function that generates normally distributed random numbers.\n",
    "1. Generate 1,000 normally distributed numbers with the average of 10 and standard deviation of 1\n",
    "1. Generate 1,000 normally distributed numbers with the average of 10 and standard deviation of 50\n",
    "2. Plot the distributions of the data generated.\n",
    "\n",
    "Expected output:\n",
    "\n",
    "![normal distribution](nd.png)"
   ]
  },
  {
   "cell_type": "code",
   "execution_count": 23,
   "metadata": {},
   "outputs": [
    {
     "data": {
      "text/plain": [
       "(array([  7.,  22.,  83., 165., 251., 239., 144.,  67.,  18.,   4.]),\n",
       " array([-148.23069862, -116.29720758,  -84.36371654,  -52.43022551,\n",
       "         -20.49673447,   11.43675657,   43.3702476 ,   75.30373864,\n",
       "         107.23722968,  139.17072071,  171.10421175]),\n",
       " <a list of 10 Patch objects>)"
      ]
     },
     "execution_count": 23,
     "metadata": {},
     "output_type": "execute_result"
    },
    {
     "data": {
      "image/png": "[encoded data removed]",
      "text/plain": [
       "<Figure size 432x288 with 2 Axes>"
      ]
     },
     "metadata": {
      "needs_background": "light"
     },
     "output_type": "display_data"
    }
   ],
   "source": [
    "# your code here\n",
    "from scipy.stats import norm\n",
    "import matplotlib.pyplot as plt\n",
    "\n",
    "def normalDistribution(mean,std, x):\n",
    "    \n",
    "    return norm.rvs(mean, std, x)\n",
    "    \n",
    "fig,ax=plt.subplots(1,2)\n",
    "ax[0].hist(normalDistribution(10,1,1000))\n",
    "ax[1].hist(normalDistribution(10,50,1000))"
   ]
  },
  {
   "cell_type": "markdown",
   "metadata": {},
   "source": [
    "How are the two distributions different?"
   ]
  },
  {
   "cell_type": "code",
   "execution_count": null,
   "metadata": {},
   "outputs": [],
   "source": [
    "# your answer below"
   ]
  },
  {
   "cell_type": "markdown",
   "metadata": {},
   "source": [
    "## Normal Distribution of Real Data\n",
    "\n",
    "In this challenge we are going to take a look the real data. We will use vehicles.csv file for this exercise"
   ]
  },
  {
   "cell_type": "markdown",
   "metadata": {},
   "source": [
    "First import vehicles.csv.\n",
    "Then plot the histograms for the following variables:\n",
    "\n",
    "1. Fuel Barrels/Year"
   ]
  },
  {
   "cell_type": "code",
   "execution_count": 29,
   "metadata": {},
   "outputs": [
    {
     "data": {
      "text/plain": [
       "(array([8.1000e+01, 3.7400e+02, 6.7650e+03, 1.7039e+04, 8.9660e+03,\n",
       "        2.0960e+03, 5.6900e+02, 3.6000e+01, 2.1000e+01, 5.0000e+00]),\n",
       " array([ 0.06      ,  4.76271429,  9.46542857, 14.16814286, 18.87085714,\n",
       "        23.57357143, 28.27628571, 32.979     , 37.68171429, 42.38442857,\n",
       "        47.08714286]),\n",
       " <a list of 10 Patch objects>)"
      ]
     },
     "execution_count": 29,
     "metadata": {},
     "output_type": "execute_result"
    },
    {
     "data": {
      "image/png": "[encoded data removed]",
      "text/plain": [
       "<Figure size 432x288 with 1 Axes>"
      ]
     },
     "metadata": {
      "needs_background": "light"
     },
     "output_type": "display_data"
    }
   ],
   "source": [
    "# your code here\n",
    "import pandas as pd\n",
    "df =pd.read_csv(\"vehicles.csv\")\n",
    "plt.hist(df[\"Fuel Barrels/Year\"])"
   ]
  },
  {
   "cell_type": "markdown",
   "metadata": {},
   "source": [
    "2. CO2 Emission Grams/Mile "
   ]
  },
  {
   "cell_type": "code",
   "execution_count": 30,
   "metadata": {},
   "outputs": [
    {
     "data": {
      "text/plain": [
       "(array([3.4000e+01, 8.3200e+02, 1.0205e+04, 1.5411e+04, 6.8250e+03,\n",
       "        2.0100e+03, 5.7300e+02, 3.6000e+01, 2.1000e+01, 5.0000e+00]),\n",
       " array([  37.        ,  160.25714286,  283.51428571,  406.77142857,\n",
       "         530.02857143,  653.28571429,  776.54285714,  899.8       ,\n",
       "        1023.05714286, 1146.31428571, 1269.57142857]),\n",
       " <a list of 10 Patch objects>)"
      ]
     },
     "execution_count": 30,
     "metadata": {},
     "output_type": "execute_result"
    },
    {
     "data": {
      "image/png": "[encoded data removed]",
      "text/plain": [
       "<Figure size 432x288 with 1 Axes>"
      ]
     },
     "metadata": {
      "needs_background": "light"
     },
     "output_type": "display_data"
    }
   ],
   "source": [
    "# your code here\n",
    "plt.hist(df[\"CO2 Emission Grams/Mile\"])"
   ]
  },
  {
   "cell_type": "markdown",
   "metadata": {},
   "source": [
    "3. Combined MPG"
   ]
  },
  {
   "cell_type": "code",
   "execution_count": 31,
   "metadata": {},
   "outputs": [
    {
     "data": {
      "text/plain": [
       "(array([6.3800e+02, 8.4990e+03, 1.5512e+04, 7.9320e+03, 2.4160e+03,\n",
       "        6.3600e+02, 2.1000e+02, 6.5000e+01, 3.3000e+01, 1.1000e+01]),\n",
       " array([ 7. , 11.9, 16.8, 21.7, 26.6, 31.5, 36.4, 41.3, 46.2, 51.1, 56. ]),\n",
       " <a list of 10 Patch objects>)"
      ]
     },
     "execution_count": 31,
     "metadata": {},
     "output_type": "execute_result"
    },
    {
     "data": {
      "image/png": "[encoded data removed]",
      "text/plain": [
       "<Figure size 432x288 with 1 Axes>"
      ]
     },
     "metadata": {
      "needs_background": "light"
     },
     "output_type": "display_data"
    }
   ],
   "source": [
    "# your code here\n",
    "plt.hist(df[\"Combined MPG\"])"
   ]
  },
  {
   "cell_type": "markdown",
   "metadata": {},
   "source": [
    "Which one(s) of the variables are nearly normally distributed? How do you know?"
   ]
  },
  {
   "cell_type": "code",
   "execution_count": null,
   "metadata": {},
   "outputs": [],
   "source": [
    "# your answer here\n"
   ]
  },
  {
   "cell_type": "markdown",
   "metadata": {},
   "source": [
    "## Exponential Distribution"
   ]
  },
  {
   "cell_type": "markdown",
   "metadata": {},
   "source": [
    "1. Using `numpy.random.exponential`, create a function that returns a list of numbers exponentially distributed with the mean of 10. \n",
    "\n",
    "1. Use the function to generate two number sequences with the size of 10 and 100.\n",
    "\n",
    "1. Plot the distributions as histograms with the nubmer of bins as 100.\n",
    "\n",
    "Your output should look like below:\n",
    "\n",
    "![exponential distribution](ed.png)"
   ]
  },
  {
   "cell_type": "code",
   "execution_count": 33,
   "metadata": {},
   "outputs": [
    {
     "data": {
      "text/plain": [
       "(array([1.0255e+04, 9.1180e+03, 8.2910e+03, 7.4370e+03, 6.5260e+03,\n",
       "        6.0070e+03, 5.4230e+03, 4.8650e+03, 4.2940e+03, 3.9410e+03,\n",
       "        3.5850e+03, 3.0990e+03, 2.8330e+03, 2.4140e+03, 2.3040e+03,\n",
       "        2.0040e+03, 1.8200e+03, 1.6090e+03, 1.4590e+03, 1.3270e+03,\n",
       "        1.1540e+03, 1.0690e+03, 9.1500e+02, 8.1400e+02, 7.4700e+02,\n",
       "        7.2600e+02, 6.1600e+02, 5.4800e+02, 4.6900e+02, 4.2900e+02,\n",
       "        4.0800e+02, 3.3900e+02, 3.5400e+02, 3.2400e+02, 2.6400e+02,\n",
       "        2.2700e+02, 2.1600e+02, 1.8600e+02, 1.6900e+02, 1.5100e+02,\n",
       "        1.3600e+02, 1.0000e+02, 1.0000e+02, 9.7000e+01, 8.3000e+01,\n",
       "        8.3000e+01, 7.5000e+01, 5.2000e+01, 5.3000e+01, 5.3000e+01,\n",
       "        5.3000e+01, 2.8000e+01, 1.9000e+01, 3.8000e+01, 2.7000e+01,\n",
       "        2.3000e+01, 2.5000e+01, 1.7000e+01, 2.1000e+01, 2.3000e+01,\n",
       "        2.0000e+01, 1.2000e+01, 1.3000e+01, 1.1000e+01, 1.2000e+01,\n",
       "        1.1000e+01, 4.0000e+00, 8.0000e+00, 5.0000e+00, 7.0000e+00,\n",
       "        8.0000e+00, 3.0000e+00, 4.0000e+00, 5.0000e+00, 1.0000e+00,\n",
       "        4.0000e+00, 5.0000e+00, 5.0000e+00, 1.0000e+00, 3.0000e+00,\n",
       "        0.0000e+00, 1.0000e+00, 3.0000e+00, 1.0000e+00, 0.0000e+00,\n",
       "        1.0000e+00, 2.0000e+00, 0.0000e+00, 1.0000e+00, 1.0000e+00,\n",
       "        0.0000e+00, 1.0000e+00, 0.0000e+00, 1.0000e+00, 2.0000e+00,\n",
       "        1.0000e+00, 0.0000e+00, 0.0000e+00, 0.0000e+00, 1.0000e+00]),\n",
       " array([1.33158412e-04, 1.08366520e+00, 2.16719725e+00, 3.25072929e+00,\n",
       "        4.33426134e+00, 5.41779338e+00, 6.50132543e+00, 7.58485747e+00,\n",
       "        8.66838952e+00, 9.75192156e+00, 1.08354536e+01, 1.19189857e+01,\n",
       "        1.30025177e+01, 1.40860497e+01, 1.51695818e+01, 1.62531138e+01,\n",
       "        1.73366459e+01, 1.84201779e+01, 1.95037100e+01, 2.05872420e+01,\n",
       "        2.16707741e+01, 2.27543061e+01, 2.38378382e+01, 2.49213702e+01,\n",
       "        2.60049022e+01, 2.70884343e+01, 2.81719663e+01, 2.92554984e+01,\n",
       "        3.03390304e+01, 3.14225625e+01, 3.25060945e+01, 3.35896266e+01,\n",
       "        3.46731586e+01, 3.57566906e+01, 3.68402227e+01, 3.79237547e+01,\n",
       "        3.90072868e+01, 4.00908188e+01, 4.11743509e+01, 4.22578829e+01,\n",
       "        4.33414150e+01, 4.44249470e+01, 4.55084791e+01, 4.65920111e+01,\n",
       "        4.76755431e+01, 4.87590752e+01, 4.98426072e+01, 5.09261393e+01,\n",
       "        5.20096713e+01, 5.30932034e+01, 5.41767354e+01, 5.52602675e+01,\n",
       "        5.63437995e+01, 5.74273316e+01, 5.85108636e+01, 5.95943956e+01,\n",
       "        6.06779277e+01, 6.17614597e+01, 6.28449918e+01, 6.39285238e+01,\n",
       "        6.50120559e+01, 6.60955879e+01, 6.71791200e+01, 6.82626520e+01,\n",
       "        6.93461840e+01, 7.04297161e+01, 7.15132481e+01, 7.25967802e+01,\n",
       "        7.36803122e+01, 7.47638443e+01, 7.58473763e+01, 7.69309084e+01,\n",
       "        7.80144404e+01, 7.90979725e+01, 8.01815045e+01, 8.12650365e+01,\n",
       "        8.23485686e+01, 8.34321006e+01, 8.45156327e+01, 8.55991647e+01,\n",
       "        8.66826968e+01, 8.77662288e+01, 8.88497609e+01, 8.99332929e+01,\n",
       "        9.10168250e+01, 9.21003570e+01, 9.31838890e+01, 9.42674211e+01,\n",
       "        9.53509531e+01, 9.64344852e+01, 9.75180172e+01, 9.86015493e+01,\n",
       "        9.96850813e+01, 1.00768613e+02, 1.01852145e+02, 1.02935677e+02,\n",
       "        1.04019209e+02, 1.05102742e+02, 1.06186274e+02, 1.07269806e+02,\n",
       "        1.08353338e+02]),\n",
       " <a list of 100 Patch objects>)"
      ]
     },
     "execution_count": 33,
     "metadata": {},
     "output_type": "execute_result"
    },
    {
     "data": {
      "image/png": "[encoded data removed]",
      "text/plain": [
       "<Figure size 432x288 with 2 Axes>"
      ]
     },
     "metadata": {
      "needs_background": "light"
     },
     "output_type": "display_data"
    }
   ],
   "source": [
    "# your code here\n",
    "import numpy as np\n",
    "\n",
    "def exponential(mean, count):\n",
    "    return np.random.exponential(mean,count)\n",
    "\n",
    "exp1=exponential(10,1000)\n",
    "exp2=exponential(10,100000)\n",
    "\n",
    "\n",
    "plt.subplot(1,2,1)\n",
    "plt.hist(exp1,bins=100)\n",
    "\n",
    "plt.subplot(1,2,2)\n",
    "plt.hist(exp2,bins=100)"
   ]
  },
  {
   "cell_type": "markdown",
   "metadata": {},
   "source": [
    "How are the two distributions different?"
   ]
  },
  {
   "cell_type": "code",
   "execution_count": null,
   "metadata": {},
   "outputs": [],
   "source": [
    "# your answer here"
   ]
  },
  {
   "cell_type": "markdown",
   "metadata": {},
   "source": [
    "## Exponential Distribution of Real Data\n",
    "\n",
    "Suppose that the amount of time one spends in a bank is exponentially distributed with mean as 10 minutes (i.e. λ = 1/10). What is the probability that a customer will spend less than fifteen minutes in the bank? \n",
    "\n",
    "Write a code in python to solve this problem"
   ]
  },
  {
   "cell_type": "code",
   "execution_count": 35,
   "metadata": {},
   "outputs": [
    {
     "data": {
      "text/plain": [
       "0.7768698398515702"
      ]
     },
     "execution_count": 35,
     "metadata": {},
     "output_type": "execute_result"
    }
   ],
   "source": [
    "# your answer here\n",
    "# Hint: This is same as saying P(x<15)\n",
    "from scipy.stats import expon\n",
    "z =expon.cdf(15, scale=10)"
   ]
  },
  {
   "cell_type": "markdown",
   "metadata": {},
   "source": [
    "What is the probability that the customer will spend more than 15 minutes"
   ]
  },
  {
   "cell_type": "code",
   "execution_count": null,
   "metadata": {},
   "outputs": [],
   "source": [
    "# your answer here"
   ]
  },
  {
   "cell_type": "code",
   "execution_count": 38,
   "metadata": {},
   "outputs": [
    {
     "name": "stdout",
     "output_type": "stream",
     "text": [
      "0.2231301601484298\n"
     ]
    }
   ],
   "source": [
    "c = 1-(expon.cdf(15, scale=10))\n",
    "print(c)"
   ]
  },
  {
   "cell_type": "code",
   "execution_count": null,
   "metadata": {},
   "outputs": [],
   "source": []
  }
 ],
 "metadata": {
  "kernelspec": {
   "display_name": "Python 3",
   "language": "python",
   "name": "python3"
  },
  "language_info": {
   "codemirror_mode": {
    "name": "ipython",
    "version": 3
   },
   "file_extension": ".py",
   "mimetype": "text/x-python",
   "name": "python",
   "nbconvert_exporter": "python",
   "pygments_lexer": "ipython3",
   "version": "3.7.5rc1"
  }
 },
 "nbformat": 4,
 "nbformat_minor": 2
}
