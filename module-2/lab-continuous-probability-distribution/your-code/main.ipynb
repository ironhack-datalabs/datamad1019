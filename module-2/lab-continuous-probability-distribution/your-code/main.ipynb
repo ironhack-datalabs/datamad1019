{
 "cells": [
  {
   "cell_type": "markdown",
   "metadata": {},
   "source": [
    "# Before your start:\n",
    "\n",
    "    Read the README.md file\n",
    "    Comment as much as you can and use the resources (README.md file)\n",
    "    Happy learning!"
   ]
  },
  {
   "cell_type": "markdown",
   "metadata": {},
   "source": [
    "In this exercise, we  will generate random numbers from the continuous disributions we learned in the lesson. There are two ways to generate random numbers:\n",
    "\n",
    "1. Using the numpy library \n",
    "1. using the Scipy library \n",
    "\n",
    "Use either or both of the lbraries in this exercise."
   ]
  },
  {
   "cell_type": "markdown",
   "metadata": {},
   "source": [
    "## Uniform Distribution\n",
    "\n",
    "To generate uniform random numbers between any two given values using scipy, we can either use the following code or the code that we have\n",
    "discussed in class:"
   ]
  },
  {
   "cell_type": "code",
   "execution_count": 2,
   "metadata": {},
   "outputs": [
    {
     "name": "stdout",
     "output_type": "stream",
     "text": [
      "[2.45699236 2.95484647 2.85672189 2.61331599 2.0868622  2.36957998\n",
      " 2.17180322 2.3569739  2.55993782 2.29945923]\n"
     ]
    }
   ],
   "source": [
    "import numpy as np\n",
    "from scipy.stats import uniform\n",
    "x = uniform.rvs(size=10)\n",
    "a = 2\n",
    "b = 3\n",
    "randoms  = a + (b-a)*x\n",
    "print(randoms)"
   ]
  },
  {
   "cell_type": "markdown",
   "metadata": {},
   "source": [
    "**Your task:**\n",
    "\n",
    "1. Based on the code above, write a function that generates uniformly distributed random numbers. There are several requirements for your function:\n",
    "    * It should accept 3 parameters: \n",
    "        * `bottom` - the lower boundary of the generated numbers\n",
    "        * `ceiling` - the upper boundary of the generated numbers\n",
    "        * `count` - how many numbers to generate\n",
    "    * It should return an array of uniformly distributed random numbers\n",
    "\n",
    "1. Call your function with 2 sets of params below:\n",
    "    * bottom=10, ceiling=15, count=100\n",
    "    * bottom=10, ceiling=60, count=1,000\n",
    "\n",
    "1. Plot the uniform distributions generated above using histograms, where x axis is the value and y axis is the count. Let the histogram's number of bins be 10.\n",
    "\n",
    "Your output should look like below:\n",
    "\n",
    "![uniform distribution](ud.png)"
   ]
  },
  {
   "cell_type": "code",
   "execution_count": 9,
   "metadata": {},
   "outputs": [],
   "source": [
    "%matplotlib inline\n",
    "import matplotlib.pyplot as plt"
   ]
  },
  {
   "cell_type": "code",
   "execution_count": 23,
   "metadata": {},
   "outputs": [
    {
     "data": {
      "text/plain": [
       "([<matplotlib.axis.YTick at 0x118a55f50>,\n",
       "  <matplotlib.axis.YTick at 0x118a43050>,\n",
       "  <matplotlib.axis.YTick at 0x118a4e450>,\n",
       "  <matplotlib.axis.YTick at 0x118aa4490>,\n",
       "  <matplotlib.axis.YTick at 0x118aa4b50>,\n",
       "  <matplotlib.axis.YTick at 0x118aaa250>],\n",
       " <a list of 6 Text yticklabel objects>)"
      ]
     },
     "execution_count": 23,
     "metadata": {},
     "output_type": "execute_result"
    },
    {
     "data": {
      "image/png": "[encoded data removed]",
      "text/plain": [
       "<Figure size 432x288 with 2 Axes>"
      ]
     },
     "metadata": {
      "needs_background": "light"
     },
     "output_type": "display_data"
    }
   ],
   "source": [
    "# your code here\n",
    "\n",
    "def generates(bottom, ceiling, count):\n",
    "    return np.random.uniform(bottom, ceiling, count)\n",
    "\n",
    "call1 = generates(10, 15, 100)\n",
    "call2 = generates(10, 60, 1000)\n",
    "#print(call1, call2)\n",
    "plt.subplot(1,2,1)\n",
    "plt.hist(call1)\n",
    "plt.xticks(list(range(10,16,1)))\n",
    "plt.yticks(list(range(0,120,20)))\n",
    "plt.subplot(1,2,2)\n",
    "plt.hist(call2)\n",
    "plt.xticks(list(range(10,61,10)))\n",
    "plt.yticks(list(range(0,120,20)))"
   ]
  },
  {
   "cell_type": "markdown",
   "metadata": {},
   "source": [
    "How are the two distributions different?"
   ]
  },
  {
   "cell_type": "code",
   "execution_count": null,
   "metadata": {},
   "outputs": [],
   "source": [
    "# your answer below\n",
    "# Las barras dependen del ceiling que le introduces y de cuantos números generas."
   ]
  },
  {
   "cell_type": "markdown",
   "metadata": {},
   "source": [
    "## Normal Distribution\n",
    "\n",
    "1. In the same way in the Uniform Distribution challenge, write a function that generates normally distributed random numbers.\n",
    "1. Generate 1,000 normally distributed numbers with the average of 10 and standard deviation of 1\n",
    "1. Generate 1,000 normally distributed numbers with the average of 10 and standard deviation of 50\n",
    "2. Plot the distributions of the data generated.\n",
    "\n",
    "Expected output:\n",
    "\n",
    "![normal distribution](nd.png)"
   ]
  },
  {
   "cell_type": "code",
   "execution_count": 54,
   "metadata": {},
   "outputs": [
    {
     "data": {
      "text/plain": [
       "([<matplotlib.axis.YTick at 0x11b2edb50>,\n",
       "  <matplotlib.axis.YTick at 0x11b2ed210>,\n",
       "  <matplotlib.axis.YTick at 0x11b2ded10>,\n",
       "  <matplotlib.axis.YTick at 0x11b337d10>,\n",
       "  <matplotlib.axis.YTick at 0x11b33d390>,\n",
       "  <matplotlib.axis.YTick at 0x11b337350>,\n",
       "  <matplotlib.axis.YTick at 0x11b33d8d0>,\n",
       "  <matplotlib.axis.YTick at 0x11b33df10>,\n",
       "  <matplotlib.axis.YTick at 0x11b344590>,\n",
       "  <matplotlib.axis.YTick at 0x11b344bd0>,\n",
       "  <matplotlib.axis.YTick at 0x11b34b290>,\n",
       "  <matplotlib.axis.YTick at 0x11b34b850>,\n",
       "  <matplotlib.axis.YTick at 0x11b34be90>],\n",
       " <a list of 13 Text yticklabel objects>)"
      ]
     },
     "execution_count": 54,
     "metadata": {},
     "output_type": "execute_result"
    },
    {
     "data": {
      "image/png": "[encoded data removed]",
      "text/plain": [
       "<Figure size 432x288 with 2 Axes>"
      ]
     },
     "metadata": {
      "needs_background": "light"
     },
     "output_type": "display_data"
    }
   ],
   "source": [
    "# your code here\n",
    "def generatenorm(average, stddev, numbers):\n",
    "    return np.random.normal(average, stddev, numbers)\n",
    "\n",
    "norm1 = generatenorm(10,1,1000)\n",
    "norm2 = generatenorm(10,10,1000)\n",
    "plt.subplot(1,2,1)\n",
    "plt.hist(norm1)\n",
    "plt.xticks(list(range(0,20,3)))\n",
    "plt.yticks(list(range(0,260,20)))\n",
    "plt.subplot(1,2,2)\n",
    "plt.hist(norm2)\n",
    "plt.xticks(list(range(0,50,10)))\n",
    "plt.yticks(list(range(0,260,20)))"
   ]
  },
  {
   "cell_type": "markdown",
   "metadata": {},
   "source": [
    "##### How are the two distributions different?"
   ]
  },
  {
   "cell_type": "code",
   "execution_count": 53,
   "metadata": {},
   "outputs": [],
   "source": [
    "# your answer below"
   ]
  },
  {
   "cell_type": "markdown",
   "metadata": {},
   "source": [
    "## Normal Distribution of Real Data\n",
    "\n",
    "In this challenge we are going to take a look the real data. We will use vehicles.csv file for this exercise"
   ]
  },
  {
   "cell_type": "markdown",
   "metadata": {},
   "source": [
    "First import vehicles.csv.\n",
    "Then plot the histograms for the following variables:\n",
    "\n",
    "1. Fuel Barrels/Year"
   ]
  },
  {
   "cell_type": "code",
   "execution_count": 61,
   "metadata": {},
   "outputs": [],
   "source": [
    "import pandas as pd\n",
    "df1 = pd.read_csv(\"./vehicles.csv\")"
   ]
  },
  {
   "cell_type": "code",
   "execution_count": 62,
   "metadata": {},
   "outputs": [
    {
     "data": {
      "text/plain": [
       "(array([8.1000e+01, 3.7400e+02, 6.7650e+03, 1.7039e+04, 8.9660e+03,\n",
       "        2.0960e+03, 5.6900e+02, 3.6000e+01, 2.1000e+01, 5.0000e+00]),\n",
       " array([ 0.06      ,  4.76271429,  9.46542857, 14.16814286, 18.87085714,\n",
       "        23.57357143, 28.27628571, 32.979     , 37.68171429, 42.38442857,\n",
       "        47.08714286]),\n",
       " <a list of 10 Patch objects>)"
      ]
     },
     "execution_count": 62,
     "metadata": {},
     "output_type": "execute_result"
    },
    {
     "data": {
      "image/png": "[encoded data removed]",
      "text/plain": [
       "<Figure size 432x288 with 1 Axes>"
      ]
     },
     "metadata": {
      "needs_background": "light"
     },
     "output_type": "display_data"
    }
   ],
   "source": [
    "# your code here\n",
    "fuel = df1['Fuel Barrels/Year']\n",
    "plt.hist(fuel)"
   ]
  },
  {
   "cell_type": "markdown",
   "metadata": {},
   "source": [
    "2. CO2 Emission Grams/Mile "
   ]
  },
  {
   "cell_type": "code",
   "execution_count": 63,
   "metadata": {},
   "outputs": [
    {
     "data": {
      "text/plain": [
       "(array([3.4000e+01, 8.3200e+02, 1.0205e+04, 1.5411e+04, 6.8250e+03,\n",
       "        2.0100e+03, 5.7300e+02, 3.6000e+01, 2.1000e+01, 5.0000e+00]),\n",
       " array([  37.        ,  160.25714286,  283.51428571,  406.77142857,\n",
       "         530.02857143,  653.28571429,  776.54285714,  899.8       ,\n",
       "        1023.05714286, 1146.31428571, 1269.57142857]),\n",
       " <a list of 10 Patch objects>)"
      ]
     },
     "execution_count": 63,
     "metadata": {},
     "output_type": "execute_result"
    },
    {
     "data": {
      "image/png": "[encoded data removed]",
      "text/plain": [
       "<Figure size 432x288 with 1 Axes>"
      ]
     },
     "metadata": {
      "needs_background": "light"
     },
     "output_type": "display_data"
    }
   ],
   "source": [
    "# your code here\n",
    "emission = df1['CO2 Emission Grams/Mile']\n",
    "plt.hist(emission)"
   ]
  },
  {
   "cell_type": "markdown",
   "metadata": {},
   "source": [
    "3. Combined MPG"
   ]
  },
  {
   "cell_type": "code",
   "execution_count": 64,
   "metadata": {},
   "outputs": [
    {
     "data": {
      "text/plain": [
       "(array([6.3800e+02, 8.4990e+03, 1.5512e+04, 7.9320e+03, 2.4160e+03,\n",
       "        6.3600e+02, 2.1000e+02, 6.5000e+01, 3.3000e+01, 1.1000e+01]),\n",
       " array([ 7. , 11.9, 16.8, 21.7, 26.6, 31.5, 36.4, 41.3, 46.2, 51.1, 56. ]),\n",
       " <a list of 10 Patch objects>)"
      ]
     },
     "execution_count": 64,
     "metadata": {},
     "output_type": "execute_result"
    },
    {
     "data": {
      "image/png": "[encoded data removed]",
      "text/plain": [
       "<Figure size 432x288 with 1 Axes>"
      ]
     },
     "metadata": {
      "needs_background": "light"
     },
     "output_type": "display_data"
    }
   ],
   "source": [
    "# your code here\n",
    "comb = df1['Combined MPG']\n",
    "plt.hist(comb)"
   ]
  },
  {
   "cell_type": "markdown",
   "metadata": {},
   "source": [
    "Which one(s) of the variables are nearly normally distributed? How do you know?"
   ]
  },
  {
   "cell_type": "code",
   "execution_count": 65,
   "metadata": {},
   "outputs": [],
   "source": [
    "# your answer here\n",
    "# la primera porque es más o menos simétrica y sus valores extremos son menores."
   ]
  },
  {
   "cell_type": "markdown",
   "metadata": {},
   "source": [
    "## Exponential Distribution"
   ]
  },
  {
   "cell_type": "markdown",
   "metadata": {},
   "source": [
    "1. Using `numpy.random.exponential`, create a function that returns a list of numbers exponentially distributed with the mean of 10. \n",
    "\n",
    "1. Use the function to generate two number sequences with the size of 10 and 100.\n",
    "\n",
    "1. Plot the distributions as histograms with the nubmer of bins as 100.\n",
    "\n",
    "Your output should look like below:\n",
    "\n",
    "![exponential distribution](ed.png)"
   ]
  },
  {
   "cell_type": "code",
   "execution_count": 78,
   "metadata": {},
   "outputs": [
    {
     "data": {
      "text/plain": [
       "(array([5., 4., 1., 7., 7., 3., 5., 4., 6., 3., 3., 4., 1., 1., 1., 2., 0.,\n",
       "        1., 5., 2., 3., 1., 3., 0., 0., 1., 2., 0., 0., 0., 1., 3., 0., 1.,\n",
       "        1., 0., 0., 0., 1., 0., 0., 0., 0., 3., 1., 1., 0., 0., 0., 0., 0.,\n",
       "        1., 1., 3., 0., 0., 0., 0., 0., 2., 0., 0., 0., 0., 0., 1., 0., 0.,\n",
       "        0., 0., 0., 0., 0., 1., 0., 0., 1., 0., 1., 0., 0., 0., 0., 1., 0.,\n",
       "        0., 0., 0., 0., 0., 0., 0., 0., 0., 0., 0., 0., 0., 0., 1.]),\n",
       " array([ 0.18245391,  0.6855189 ,  1.18858389,  1.69164888,  2.19471387,\n",
       "         2.69777886,  3.20084384,  3.70390883,  4.20697382,  4.71003881,\n",
       "         5.2131038 ,  5.71616879,  6.21923378,  6.72229877,  7.22536376,\n",
       "         7.72842875,  8.23149374,  8.73455873,  9.23762372,  9.74068871,\n",
       "        10.24375369, 10.74681868, 11.24988367, 11.75294866, 12.25601365,\n",
       "        12.75907864, 13.26214363, 13.76520862, 14.26827361, 14.7713386 ,\n",
       "        15.27440359, 15.77746858, 16.28053357, 16.78359856, 17.28666354,\n",
       "        17.78972853, 18.29279352, 18.79585851, 19.2989235 , 19.80198849,\n",
       "        20.30505348, 20.80811847, 21.31118346, 21.81424845, 22.31731344,\n",
       "        22.82037843, 23.32344342, 23.82650841, 24.3295734 , 24.83263838,\n",
       "        25.33570337, 25.83876836, 26.34183335, 26.84489834, 27.34796333,\n",
       "        27.85102832, 28.35409331, 28.8571583 , 29.36022329, 29.86328828,\n",
       "        30.36635327, 30.86941826, 31.37248325, 31.87554823, 32.37861322,\n",
       "        32.88167821, 33.3847432 , 33.88780819, 34.39087318, 34.89393817,\n",
       "        35.39700316, 35.90006815, 36.40313314, 36.90619813, 37.40926312,\n",
       "        37.91232811, 38.4153931 , 38.91845808, 39.42152307, 39.92458806,\n",
       "        40.42765305, 40.93071804, 41.43378303, 41.93684802, 42.43991301,\n",
       "        42.942978  , 43.44604299, 43.94910798, 44.45217297, 44.95523796,\n",
       "        45.45830295, 45.96136793, 46.46443292, 46.96749791, 47.4705629 ,\n",
       "        47.97362789, 48.47669288, 48.97975787, 49.48282286, 49.98588785,\n",
       "        50.48895284]),\n",
       " <a list of 100 Patch objects>)"
      ]
     },
     "execution_count": 78,
     "metadata": {},
     "output_type": "execute_result"
    },
    {
     "data": {
      "image/png": "[encoded data removed]",
      "text/plain": [
       "<Figure size 432x288 with 2 Axes>"
      ]
     },
     "metadata": {
      "needs_background": "light"
     },
     "output_type": "display_data"
    }
   ],
   "source": [
    "# your code here\n",
    "def exponent(size1):\n",
    "    return np.random.exponential(10, size=size1)\n",
    "exp1=exponent(10)\n",
    "exp2=exponent(100)\n",
    "\n",
    "fig, axs = plt.subplots(1,2)\n",
    "axs[0].hist(exp1, bins=100)\n",
    "axs[1].hist(exp2, bins=100)\n"
   ]
  },
  {
   "cell_type": "markdown",
   "metadata": {},
   "source": [
    "How are the two distributions different?"
   ]
  },
  {
   "cell_type": "code",
   "execution_count": 74,
   "metadata": {},
   "outputs": [],
   "source": [
    "# your answer here\n",
    "#se ve que se van juntando cuantas más hay"
   ]
  },
  {
   "cell_type": "markdown",
   "metadata": {},
   "source": [
    "## Exponential Distribution of Real Data\n",
    "\n",
    "Suppose that the amount of time one spends in a bank is exponentially distributed with mean as 10 minutes (i.e. λ = 1/10). What is the probability that a customer will spend less than fifteen minutes in the bank? \n",
    "\n",
    "Write a code in python to solve this problem"
   ]
  },
  {
   "cell_type": "code",
   "execution_count": 85,
   "metadata": {},
   "outputs": [
    {
     "data": {
      "text/plain": [
       "0.7768698398515702"
      ]
     },
     "execution_count": 85,
     "metadata": {},
     "output_type": "execute_result"
    }
   ],
   "source": [
    "# your answer here\n",
    "# Hint: This is same as saying P(x<15)\n",
    "from scipy.stats import expon\n",
    "exponen = expon.cdf(15, scale=10)\n",
    "exponen"
   ]
  },
  {
   "cell_type": "markdown",
   "metadata": {},
   "source": [
    "What is the probability that the customer will spend more than 15 minutes"
   ]
  },
  {
   "cell_type": "code",
   "execution_count": 86,
   "metadata": {},
   "outputs": [],
   "source": [
    "# your answer here"
   ]
  },
  {
   "cell_type": "code",
   "execution_count": 87,
   "metadata": {},
   "outputs": [
    {
     "data": {
      "text/plain": [
       "0.2231301601484298"
      ]
     },
     "execution_count": 87,
     "metadata": {},
     "output_type": "execute_result"
    }
   ],
   "source": [
    "exponen1 = 1 - exponen\n",
    "exponen1"
   ]
  },
  {
   "cell_type": "code",
   "execution_count": null,
   "metadata": {},
   "outputs": [],
   "source": []
  }
 ],
 "metadata": {
  "kernelspec": {
   "display_name": "Python 3",
   "language": "python",
   "name": "python3"
  },
  "language_info": {
   "codemirror_mode": {
    "name": "ipython",
    "version": 3
   },
   "file_extension": ".py",
   "mimetype": "text/x-python",
   "name": "python",
   "nbconvert_exporter": "python",
   "pygments_lexer": "ipython3",
   "version": "3.7.4"
  }
 },
 "nbformat": 4,
 "nbformat_minor": 2
}
