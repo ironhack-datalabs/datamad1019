{
 "cells": [
  {
   "cell_type": "markdown",
   "metadata": {},
   "source": [
    "# Before your start:\n",
    "- Read the README.md file\n",
    "- Comment as much as you can and use the resources (README.md file)\n",
    "- Happy learning!"
   ]
  },
  {
   "cell_type": "code",
   "execution_count": 1,
   "metadata": {},
   "outputs": [],
   "source": [
    "# Run this code:\n",
    "\n",
    "%matplotlib inline\n",
    "\n",
    "import matplotlib.pyplot as plt"
   ]
  },
  {
   "cell_type": "code",
   "execution_count": 2,
   "metadata": {},
   "outputs": [],
   "source": [
    "# Import numpy and pandas:\n",
    "import numpy as np\n",
    "import pandas as pd\n"
   ]
  },
  {
   "cell_type": "markdown",
   "metadata": {},
   "source": [
    "# Challenge 1 - Reading and Standardizing the Data\n",
    "\n",
    "In this challenge we will work with image data and reduce the dimensions of the data to create a 2 dimensional plot. While we have not worked much with image data before, it can be represented as a numpy array where each pixel is assigned a numeric value. In this lesson, we will look at a dataset of cats and a dataset of dogs and see whether reducing them to two dimensions allows us to see if the data is separable. We will start by loading and processing the data. Run the cell below to load the two csv files and convert them into numpy arrays."
   ]
  },
  {
   "cell_type": "code",
   "execution_count": 3,
   "metadata": {},
   "outputs": [],
   "source": [
    "# Run this code\n",
    "\n",
    "cats = np.array(pd.read_csv(\"https://raw.githubusercontent.com/bioramble/pca/master/cat.csv\", header=None))\n",
    "dogs = np.array(pd.read_csv(\"https://raw.githubusercontent.com/bioramble/pca/master/dog.csv\", header=None))"
   ]
  },
  {
   "cell_type": "markdown",
   "metadata": {},
   "source": [
    "Next, we'll examine the shape of both the cats and the dogs arrays. Print out both shapes below."
   ]
  },
  {
   "cell_type": "code",
   "execution_count": 4,
   "metadata": {},
   "outputs": [
    {
     "name": "stdout",
     "output_type": "stream",
     "text": [
      "(4096, 80)\n",
      "(4096, 80)\n"
     ]
    }
   ],
   "source": [
    "# Your code here:\n",
    "print(cats.shape)\n",
    "print(dogs.shape)"
   ]
  },
  {
   "cell_type": "markdown",
   "metadata": {},
   "source": [
    "What this means is that both arrays contain 80 images each (the number of columns). Each image is comprised of 64x64 pixels (so a total of 4096 pixels per image). The images have been flattened such that all 4096 are in a single row.\n",
    "\n",
    "Print out column 0 of the cats array to see what the pixels values look like."
   ]
  },
  {
   "cell_type": "code",
   "execution_count": 5,
   "metadata": {},
   "outputs": [
    {
     "data": {
      "text/plain": [
       "array([64, 64, 64, ..., 64, 64, 61])"
      ]
     },
     "execution_count": 5,
     "metadata": {},
     "output_type": "execute_result"
    }
   ],
   "source": [
    "# Your code here:\n",
    "\n",
    "cats[:,0]"
   ]
  },
  {
   "cell_type": "markdown",
   "metadata": {},
   "source": [
    "Using `matplotlib` we can plot a single cat or a single dog. We do this by reshaping the vector back to a 64x64 image and then using the `imshow` function.\n",
    "\n",
    "Run the code below to look at the first dog and the first cat."
   ]
  },
  {
   "cell_type": "code",
   "execution_count": 6,
   "metadata": {},
   "outputs": [
    {
     "data": {
      "text/plain": [
       "<matplotlib.image.AxesImage at 0x7f1f211f6d90>"
      ]
     },
     "execution_count": 6,
     "metadata": {},
     "output_type": "execute_result"
    },
    {
     "data": {
      "image/png": "[encoded data removed]",
      "text/plain": [
       "<Figure size 432x288 with 1 Axes>"
      ]
     },
     "metadata": {
      "needs_background": "light"
     },
     "output_type": "display_data"
    }
   ],
   "source": [
    "# Run this code:\n",
    "\n",
    "fig, ax = plt.subplots()\n",
    "ax.imshow(cats[:,0].reshape(64, 64).T, cmap=plt.cm.bone, interpolation='nearest') "
   ]
  },
  {
   "cell_type": "code",
   "execution_count": 7,
   "metadata": {},
   "outputs": [
    {
     "data": {
      "text/plain": [
       "<matplotlib.image.AxesImage at 0x7f1f21127290>"
      ]
     },
     "execution_count": 7,
     "metadata": {},
     "output_type": "execute_result"
    },
    {
     "data": {
      "image/png": "[encoded data removed]",
      "text/plain": [
       "<Figure size 432x288 with 1 Axes>"
      ]
     },
     "metadata": {
      "needs_background": "light"
     },
     "output_type": "display_data"
    }
   ],
   "source": [
    "# Run this code:\n",
    "\n",
    "fig, ax = plt.subplots()\n",
    "ax.imshow(dogs[:,0].reshape(64, 64).T, cmap=plt.cm.bone, interpolation='nearest') "
   ]
  },
  {
   "cell_type": "markdown",
   "metadata": {},
   "source": [
    "Next, we would like to create a standardization function. This function will find the mean and standard deviation of each image. We subtract the mean from each pixel and divide each pixel by the standard deviation. Write the function below.\n",
    "\n",
    "Hint: To find the mean and standard deviation of each image, use `numpy`'s version of mean and stadnard deviation and use `axis=0`."
   ]
  },
  {
   "cell_type": "code",
   "execution_count": 8,
   "metadata": {},
   "outputs": [],
   "source": [
    "def standardize(x):\n",
    "    #This function takes as input a numpy array and returns a stadardized numpy array of the same dimensions.\n",
    "    #Sample input: np.array([[1,2,3],[4,5,6]])\n",
    "    #Sample output: np.array([[-1,-1,-1],[1,1,1]])\n",
    "    \n",
    "    # Your code here:\n",
    "    standard = []\n",
    "    mean = np.mean(x, axis=0)\n",
    "    std = np.std(x, axis=0)\n",
    "    element = (x - mean) / std\n",
    "        \n",
    "    return element\n",
    "\n"
   ]
  },
  {
   "cell_type": "markdown",
   "metadata": {},
   "source": [
    "Now, use the `np.concatenate` function to combine the cats and dogs arrays. Use `axis=1` to combine the two correctly. Make sure to put dogs first."
   ]
  },
  {
   "cell_type": "code",
   "execution_count": 9,
   "metadata": {},
   "outputs": [
    {
     "data": {
      "text/plain": [
       "array([[224, 131, 127, ...,  60, 223, 101],\n",
       "       [224, 124, 136, ...,  50, 224, 107],\n",
       "       [224, 104, 127, ...,  63, 225, 106],\n",
       "       ...,\n",
       "       [100, 104, 115, ..., 105, 180, 114],\n",
       "       [100, 124, 104, ..., 118, 182,  91],\n",
       "       [100, 124, 104, ..., 104, 177, 113]])"
      ]
     },
     "execution_count": 9,
     "metadata": {},
     "output_type": "execute_result"
    }
   ],
   "source": [
    "# Your code here:\n",
    "\n",
    "dogs_cats = np.concatenate((dogs,cats), axis=1)\n",
    "dogs_cats"
   ]
  },
  {
   "cell_type": "markdown",
   "metadata": {},
   "source": [
    "Standardize the concatenated array below."
   ]
  },
  {
   "cell_type": "code",
   "execution_count": 10,
   "metadata": {},
   "outputs": [],
   "source": [
    "# Your code here:    \n",
    "standard= standardize(dogs_cats)"
   ]
  },
  {
   "cell_type": "markdown",
   "metadata": {},
   "source": [
    "# Challenge 2 - Using PCA\n",
    "\n",
    "Now that we have created a standardized matrix of cats and dogs, we'll find the two most important components in the data.\n",
    "\n",
    "Load the `PCA` function from `statsmodels` (read about this function [here](https://www.statsmodels.org/dev/generated/statsmodels.multivariate.pca.PCA.html)) and apply the function to our standarized data. Create a PCA model with two components."
   ]
  },
  {
   "cell_type": "code",
   "execution_count": 11,
   "metadata": {},
   "outputs": [
    {
     "data": {
      "text/plain": [
       "Principal Component Analysis(nobs: 4096, nvar: 160, transformation: Standardize (Correlation), normalization: True, number of components: 2, SVD, id: 0x7f1f2113de50)"
      ]
     },
     "execution_count": 11,
     "metadata": {},
     "output_type": "execute_result"
    }
   ],
   "source": [
    "# Your code here:\n",
    "from statsmodels.multivariate.pca import PCA\n",
    "pc = PCA(standard,ncomp=2, method='nipals')\n",
    "pc"
   ]
  },
  {
   "cell_type": "markdown",
   "metadata": {},
   "source": [
    "Use `numpy` to find to transpose the standardized pet array. This will help us compute the projection."
   ]
  },
  {
   "cell_type": "code",
   "execution_count": 12,
   "metadata": {},
   "outputs": [],
   "source": [
    "# Your code here:\n",
    "\n",
    "transpose = np.transpose(standard)"
   ]
  },
  {
   "cell_type": "markdown",
   "metadata": {},
   "source": [
    "Find the dot product of the transposed standardized pet matrix and the `factors` of the `PCA` model found above. This will be the projection onto 2 dimensions. This means that each cat and dog image will now only have two columns instead of 4096."
   ]
  },
  {
   "cell_type": "code",
   "execution_count": 13,
   "metadata": {},
   "outputs": [
    {
     "data": {
      "text/plain": [
       "array([[ 42.47761687,  14.71821863],\n",
       "       [ 32.18870804, -19.26629258],\n",
       "       [-12.96322509, -18.02197708],\n",
       "       [  5.08306478, -32.95557024],\n",
       "       [ 32.86623155,   4.11969263],\n",
       "       [ -8.78856934, -45.18911668],\n",
       "       [ 22.15300172, -13.23328147],\n",
       "       [ 14.3095954 , -39.06160711],\n",
       "       [ 12.40852367, -38.71300815],\n",
       "       [ 39.47642393,   2.20719507],\n",
       "       [  0.35046948, -35.54740512],\n",
       "       [ 21.77650206, -17.65748396],\n",
       "       [  8.50969343, -16.7309039 ],\n",
       "       [ -3.0595461 , -17.98269295],\n",
       "       [ 19.18305364, -31.80632491],\n",
       "       [ 17.58126152, -33.59729618],\n",
       "       [ 16.02471958,  -8.31219475],\n",
       "       [ 39.03886794, -21.24294687],\n",
       "       [ 18.40609477, -28.73758943],\n",
       "       [ 15.56992366, -44.77293451],\n",
       "       [ -3.6251989 , -35.80142725],\n",
       "       [  1.61533459, -38.34791099],\n",
       "       [  9.82059228, -15.26814801],\n",
       "       [ 11.86784489, -40.88817904],\n",
       "       [ 27.13786583, -30.69674944],\n",
       "       [  0.22735799, -43.29906417],\n",
       "       [ -3.71048214, -28.80945025],\n",
       "       [  0.89249989, -22.90354143],\n",
       "       [ 13.60772005, -47.36630837],\n",
       "       [  9.70729013, -24.72057209],\n",
       "       [  4.79093054, -30.65608132],\n",
       "       [  7.39104432, -27.00402058],\n",
       "       [ 30.12429818, -29.25403653],\n",
       "       [ 13.20287123, -35.49208824],\n",
       "       [ -7.26398778, -38.20544238],\n",
       "       [ 15.86070407, -14.86048145],\n",
       "       [-14.20329684, -37.91625779],\n",
       "       [  1.40728502, -31.60202045],\n",
       "       [ -6.57711892, -43.05144326],\n",
       "       [ 28.66199631, -19.04026288],\n",
       "       [ 17.05064767, -40.12970148],\n",
       "       [ 11.4772488 ,  16.68520561],\n",
       "       [-10.07337984, -32.85932381],\n",
       "       [ 15.18663603, -27.12325203],\n",
       "       [ -8.06078209, -16.13288116],\n",
       "       [ 20.23250283,  22.41075903],\n",
       "       [ 26.57190634,   8.39747337],\n",
       "       [  6.95850824,  -8.00496606],\n",
       "       [ 15.25017532,  11.79988895],\n",
       "       [-16.51519532, -34.45325723],\n",
       "       [ 29.47850482,  11.07708161],\n",
       "       [ 36.6624056 ,  26.75661516],\n",
       "       [  6.1159076 ,  15.14224155],\n",
       "       [-21.80416961, -40.233796  ],\n",
       "       [-21.58426134,  -4.97128819],\n",
       "       [-14.00421652,  -3.74912518],\n",
       "       [ 29.15009825,   6.22864706],\n",
       "       [ 14.84114704,  12.18741198],\n",
       "       [-16.64984904, -26.88390781],\n",
       "       [ -2.07148845, -30.33384067],\n",
       "       [  7.74222053, -39.11739019],\n",
       "       [ 31.01784703,  21.47527407],\n",
       "       [ 31.00859587,   5.51332284],\n",
       "       [-22.94265593,   2.94354031],\n",
       "       [-10.69270961,  -8.9173876 ],\n",
       "       [ 27.32238789,  -0.11638976],\n",
       "       [  5.07479783,  21.9711155 ],\n",
       "       [-32.22521776, -11.42313826],\n",
       "       [ -2.30123923,  -3.26423627],\n",
       "       [ 22.66197615, -28.9428812 ],\n",
       "       [-10.60817428, -11.76083427],\n",
       "       [ -1.0074564 , -31.92658121],\n",
       "       [ 26.41891333, -25.32152496],\n",
       "       [-21.07571582, -24.10696345],\n",
       "       [ 10.27198842,  25.03303087],\n",
       "       [ 39.86955865,   5.87498118],\n",
       "       [ 33.23089263,  -8.66938432],\n",
       "       [ -8.28175656, -34.63064817],\n",
       "       [ -3.35185274, -33.18823651],\n",
       "       [ 39.01239935,   2.67781989],\n",
       "       [-15.655355  ,  14.21896721],\n",
       "       [-49.69180926,   1.02036709],\n",
       "       [ 48.16605161,   3.7528694 ],\n",
       "       [ 41.00710489,  -1.33592709],\n",
       "       [-30.17992804,  17.50527477],\n",
       "       [-20.86863865,  32.92672991],\n",
       "       [-41.40505324,  -2.96678751],\n",
       "       [ -5.21364967,  16.98705887],\n",
       "       [-42.36328232,   7.61914485],\n",
       "       [-21.04212797,  17.22317631],\n",
       "       [  0.06504696,   4.6542243 ],\n",
       "       [  5.76076289,   4.41333344],\n",
       "       [-51.79926823,   9.90288451],\n",
       "       [-30.32243753,  11.90543313],\n",
       "       [ 28.89795649,  13.75861954],\n",
       "       [-39.16125511,  16.44552525],\n",
       "       [ 28.95400694,  10.90627952],\n",
       "       [-33.24422064,  10.47682594],\n",
       "       [ 42.83268867,  -0.79074233],\n",
       "       [-50.59949403,   4.9394306 ],\n",
       "       [ 10.98031221,  12.22131559],\n",
       "       [-35.53242379,  -1.866199  ],\n",
       "       [-35.51807203, -13.04056966],\n",
       "       [-34.03177181, -32.11340067],\n",
       "       [ 51.60182899,   5.87831011],\n",
       "       [ -7.03812948, -21.65566654],\n",
       "       [-34.95042671,  18.00924506],\n",
       "       [-31.57987356, -18.19118832],\n",
       "       [ 21.3963601 ,   2.50187206],\n",
       "       [-20.89018152,  10.41386628],\n",
       "       [ -2.45031698,  16.67033446],\n",
       "       [ 12.37522619,  15.44005543],\n",
       "       [-18.45372457,  29.59434356],\n",
       "       [ 52.93563163,  11.18386805],\n",
       "       [-51.11217692,  -2.09036356],\n",
       "       [ -7.59579465, -11.95934085],\n",
       "       [ 50.48353381,  -1.91897282],\n",
       "       [-42.99247878,   7.89966737],\n",
       "       [-20.95311024, -20.34638929],\n",
       "       [-15.53886231,  14.33033614],\n",
       "       [ -7.32305828,  19.47135585],\n",
       "       [-27.14081273,  18.14727962],\n",
       "       [-54.45923823, -14.50937365],\n",
       "       [-32.01231846, -20.60283333],\n",
       "       [-51.8362492 , -18.81617706],\n",
       "       [ 33.45974378,  14.89453577],\n",
       "       [ 34.0746513 ,  -4.51066035],\n",
       "       [ 28.69953689,   9.90746621],\n",
       "       [-50.72387228,  -4.89769755],\n",
       "       [  1.19880259,   8.45762934],\n",
       "       [-24.96539846,  15.11449307],\n",
       "       [-15.91631039, -11.81331115],\n",
       "       [-46.15268114,  15.58837334],\n",
       "       [-36.02326743,  13.22930031],\n",
       "       [ 18.57496589,  20.479919  ],\n",
       "       [-38.89770862,  17.92760229],\n",
       "       [-36.33162323,  22.06666195],\n",
       "       [-19.51124442,  -9.24727492],\n",
       "       [ 32.96577135,  27.70327999],\n",
       "       [-21.72990583, -34.16990657],\n",
       "       [ -1.73705222,  -1.20377373],\n",
       "       [-21.38639374,  14.19442267],\n",
       "       [-39.50116906,  10.4672036 ],\n",
       "       [-42.06328669, -10.96523741],\n",
       "       [ 25.09819736,   2.38538228],\n",
       "       [ -7.03603996,  18.47048072],\n",
       "       [ 51.02431855,   7.68603146],\n",
       "       [ -3.59105197,  -0.40724101],\n",
       "       [ 22.24744861,   6.5463863 ],\n",
       "       [ 32.66740444,  -4.59164031],\n",
       "       [ 15.71567104,   3.60468826],\n",
       "       [-35.02622009, -11.99571828],\n",
       "       [-10.98906143,  14.44502324],\n",
       "       [  2.00560493,  -3.83356159],\n",
       "       [ 11.0883633 ,  -0.66005498],\n",
       "       [-26.88997348, -19.08646841],\n",
       "       [-32.94241322, -23.68807138],\n",
       "       [-45.69201194, -12.84692227],\n",
       "       [ 17.07389385,  -3.83187123],\n",
       "       [ -8.07906687,  12.94274649]])"
      ]
     },
     "execution_count": 13,
     "metadata": {},
     "output_type": "execute_result"
    }
   ],
   "source": [
    "# Your code here:\n",
    "\n",
    "reduced = np.dot(transpose,pc.factors)\n",
    "reduced"
   ]
  },
  {
   "cell_type": "markdown",
   "metadata": {},
   "source": [
    "# Challenge 3 - Plotting the Data\n",
    "\n",
    "Now that we have reduced our cats and dogs arrays, we can easily plot the data in a way that the human eye can understand. We can look at this plot to see whether there are differences between the cat and dog images. \n",
    "\n",
    "In the cell below, turn the two dimensional projection into a pandas dataframe and name the columns `pc1`, and `pc2` respectively."
   ]
  },
  {
   "cell_type": "code",
   "execution_count": 14,
   "metadata": {},
   "outputs": [
    {
     "data": {
      "text/html": [
       "<div>\n",
       "<style scoped>\n",
       "    .dataframe tbody tr th:only-of-type {\n",
       "        vertical-align: middle;\n",
       "    }\n",
       "\n",
       "    .dataframe tbody tr th {\n",
       "        vertical-align: top;\n",
       "    }\n",
       "\n",
       "    .dataframe thead th {\n",
       "        text-align: right;\n",
       "    }\n",
       "</style>\n",
       "<table border=\"1\" class=\"dataframe\">\n",
       "  <thead>\n",
       "    <tr style=\"text-align: right;\">\n",
       "      <th></th>\n",
       "      <th>pc1</th>\n",
       "      <th>pc2</th>\n",
       "    </tr>\n",
       "  </thead>\n",
       "  <tbody>\n",
       "    <tr>\n",
       "      <th>0</th>\n",
       "      <td>42.477617</td>\n",
       "      <td>14.718219</td>\n",
       "    </tr>\n",
       "    <tr>\n",
       "      <th>1</th>\n",
       "      <td>32.188708</td>\n",
       "      <td>-19.266293</td>\n",
       "    </tr>\n",
       "    <tr>\n",
       "      <th>2</th>\n",
       "      <td>-12.963225</td>\n",
       "      <td>-18.021977</td>\n",
       "    </tr>\n",
       "    <tr>\n",
       "      <th>3</th>\n",
       "      <td>5.083065</td>\n",
       "      <td>-32.955570</td>\n",
       "    </tr>\n",
       "    <tr>\n",
       "      <th>4</th>\n",
       "      <td>32.866232</td>\n",
       "      <td>4.119693</td>\n",
       "    </tr>\n",
       "    <tr>\n",
       "      <th>...</th>\n",
       "      <td>...</td>\n",
       "      <td>...</td>\n",
       "    </tr>\n",
       "    <tr>\n",
       "      <th>155</th>\n",
       "      <td>-26.889973</td>\n",
       "      <td>-19.086468</td>\n",
       "    </tr>\n",
       "    <tr>\n",
       "      <th>156</th>\n",
       "      <td>-32.942413</td>\n",
       "      <td>-23.688071</td>\n",
       "    </tr>\n",
       "    <tr>\n",
       "      <th>157</th>\n",
       "      <td>-45.692012</td>\n",
       "      <td>-12.846922</td>\n",
       "    </tr>\n",
       "    <tr>\n",
       "      <th>158</th>\n",
       "      <td>17.073894</td>\n",
       "      <td>-3.831871</td>\n",
       "    </tr>\n",
       "    <tr>\n",
       "      <th>159</th>\n",
       "      <td>-8.079067</td>\n",
       "      <td>12.942746</td>\n",
       "    </tr>\n",
       "  </tbody>\n",
       "</table>\n",
       "<p>160 rows × 2 columns</p>\n",
       "</div>"
      ],
      "text/plain": [
       "           pc1        pc2\n",
       "0    42.477617  14.718219\n",
       "1    32.188708 -19.266293\n",
       "2   -12.963225 -18.021977\n",
       "3     5.083065 -32.955570\n",
       "4    32.866232   4.119693\n",
       "..         ...        ...\n",
       "155 -26.889973 -19.086468\n",
       "156 -32.942413 -23.688071\n",
       "157 -45.692012 -12.846922\n",
       "158  17.073894  -3.831871\n",
       "159  -8.079067  12.942746\n",
       "\n",
       "[160 rows x 2 columns]"
      ]
     },
     "execution_count": 14,
     "metadata": {},
     "output_type": "execute_result"
    }
   ],
   "source": [
    "# Your code here:\n",
    "\n",
    "df = pd.DataFrame(reduced,columns=['pc1','pc2'])\n",
    "df"
   ]
  },
  {
   "cell_type": "markdown",
   "metadata": {},
   "source": [
    "Create a labels list. This list will be of size 160. The first 80 elements in the list will be the word `blue`, and the last 80 elements will be `red`. This will ensure that all dog observations will be colored in blue and all cats will be colored in red. Name this list `colors`."
   ]
  },
  {
   "cell_type": "code",
   "execution_count": 22,
   "metadata": {},
   "outputs": [
    {
     "data": {
      "text/html": [
       "<div>\n",
       "<style scoped>\n",
       "    .dataframe tbody tr th:only-of-type {\n",
       "        vertical-align: middle;\n",
       "    }\n",
       "\n",
       "    .dataframe tbody tr th {\n",
       "        vertical-align: top;\n",
       "    }\n",
       "\n",
       "    .dataframe thead th {\n",
       "        text-align: right;\n",
       "    }\n",
       "</style>\n",
       "<table border=\"1\" class=\"dataframe\">\n",
       "  <thead>\n",
       "    <tr style=\"text-align: right;\">\n",
       "      <th></th>\n",
       "      <th>pc1</th>\n",
       "      <th>pc2</th>\n",
       "      <th>color</th>\n",
       "    </tr>\n",
       "  </thead>\n",
       "  <tbody>\n",
       "    <tr>\n",
       "      <th>0</th>\n",
       "      <td>42.477617</td>\n",
       "      <td>14.718219</td>\n",
       "      <td>blue</td>\n",
       "    </tr>\n",
       "    <tr>\n",
       "      <th>1</th>\n",
       "      <td>32.188708</td>\n",
       "      <td>-19.266293</td>\n",
       "      <td>blue</td>\n",
       "    </tr>\n",
       "    <tr>\n",
       "      <th>2</th>\n",
       "      <td>-12.963225</td>\n",
       "      <td>-18.021977</td>\n",
       "      <td>blue</td>\n",
       "    </tr>\n",
       "    <tr>\n",
       "      <th>3</th>\n",
       "      <td>5.083065</td>\n",
       "      <td>-32.955570</td>\n",
       "      <td>blue</td>\n",
       "    </tr>\n",
       "    <tr>\n",
       "      <th>4</th>\n",
       "      <td>32.866232</td>\n",
       "      <td>4.119693</td>\n",
       "      <td>blue</td>\n",
       "    </tr>\n",
       "    <tr>\n",
       "      <th>...</th>\n",
       "      <td>...</td>\n",
       "      <td>...</td>\n",
       "      <td>...</td>\n",
       "    </tr>\n",
       "    <tr>\n",
       "      <th>155</th>\n",
       "      <td>-26.889973</td>\n",
       "      <td>-19.086468</td>\n",
       "      <td>red</td>\n",
       "    </tr>\n",
       "    <tr>\n",
       "      <th>156</th>\n",
       "      <td>-32.942413</td>\n",
       "      <td>-23.688071</td>\n",
       "      <td>red</td>\n",
       "    </tr>\n",
       "    <tr>\n",
       "      <th>157</th>\n",
       "      <td>-45.692012</td>\n",
       "      <td>-12.846922</td>\n",
       "      <td>red</td>\n",
       "    </tr>\n",
       "    <tr>\n",
       "      <th>158</th>\n",
       "      <td>17.073894</td>\n",
       "      <td>-3.831871</td>\n",
       "      <td>red</td>\n",
       "    </tr>\n",
       "    <tr>\n",
       "      <th>159</th>\n",
       "      <td>-8.079067</td>\n",
       "      <td>12.942746</td>\n",
       "      <td>red</td>\n",
       "    </tr>\n",
       "  </tbody>\n",
       "</table>\n",
       "<p>160 rows × 3 columns</p>\n",
       "</div>"
      ],
      "text/plain": [
       "           pc1        pc2 color\n",
       "0    42.477617  14.718219  blue\n",
       "1    32.188708 -19.266293  blue\n",
       "2   -12.963225 -18.021977  blue\n",
       "3     5.083065 -32.955570  blue\n",
       "4    32.866232   4.119693  blue\n",
       "..         ...        ...   ...\n",
       "155 -26.889973 -19.086468   red\n",
       "156 -32.942413 -23.688071   red\n",
       "157 -45.692012 -12.846922   red\n",
       "158  17.073894  -3.831871   red\n",
       "159  -8.079067  12.942746   red\n",
       "\n",
       "[160 rows x 3 columns]"
      ]
     },
     "execution_count": 22,
     "metadata": {},
     "output_type": "execute_result"
    }
   ],
   "source": [
    "# Your code here:\n",
    "\n",
    "df['color'] = 'blue'\n",
    "df.loc[80:160,'color']='red'\n",
    "df\n"
   ]
  },
  {
   "cell_type": "markdown",
   "metadata": {},
   "source": [
    "Create a scatter plot of `pc1` and `pc2` below. Use the `colors` list above to color the observations by setting `c=colors`."
   ]
  },
  {
   "cell_type": "code",
   "execution_count": 23,
   "metadata": {},
   "outputs": [
    {
     "data": {
      "text/plain": [
       "<matplotlib.collections.PathCollection at 0x7f1f1e743c90>"
      ]
     },
     "execution_count": 23,
     "metadata": {},
     "output_type": "execute_result"
    },
    {
     "data": {
      "image/png": "[encoded data removed]",
      "text/plain": [
       "<Figure size 432x288 with 1 Axes>"
      ]
     },
     "metadata": {
      "needs_background": "light"
     },
     "output_type": "display_data"
    }
   ],
   "source": [
    "# Your code here:\n",
    "plt.scatter(df['pc1'], df['pc2'], c=df[\"color\"], alpha=0.8, edgecolors='none')"
   ]
  },
  {
   "cell_type": "markdown",
   "metadata": {},
   "source": [
    "Do you see a clear separation between cats and dogs? Write your answer below."
   ]
  },
  {
   "cell_type": "code",
   "execution_count": 24,
   "metadata": {},
   "outputs": [],
   "source": [
    "# Your conclusions here:\n",
    "#No, el modelo no es elo suficientemente selectivo. Muchos puntos están mezclados\n"
   ]
  },
  {
   "cell_type": "code",
   "execution_count": null,
   "metadata": {},
   "outputs": [],
   "source": []
  }
 ],
 "metadata": {
  "kernelspec": {
   "display_name": "Python 3",
   "language": "python",
   "name": "python3"
  },
  "language_info": {
   "codemirror_mode": {
    "name": "ipython",
    "version": 3
   },
   "file_extension": ".py",
   "mimetype": "text/x-python",
   "name": "python",
   "nbconvert_exporter": "python",
   "pygments_lexer": "ipython3",
   "version": "3.7.5rc1"
  }
 },
 "nbformat": 4,
 "nbformat_minor": 2
}
