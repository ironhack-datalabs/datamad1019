{
 "cells": [
  {
   "cell_type": "markdown",
   "metadata": {},
   "source": [
    "# Before your start:\n",
    "- Read the README.md file\n",
    "- Comment as much as you can and use the resources (README.md file)\n",
    "- Happy learning!"
   ]
  },
  {
   "cell_type": "code",
   "execution_count": 1,
   "metadata": {},
   "outputs": [],
   "source": [
    "#import numpy and pandas\n",
    "import numpy as np\n",
    "import pandas as pd\n"
   ]
  },
  {
   "cell_type": "markdown",
   "metadata": {},
   "source": [
    "# Challenge 1 - The `stats` Submodule\n",
    "\n",
    "This submodule contains statistical functions for conducting hypothesis tests, producing various distributions and other useful tools. Let's examine this submodule using the KickStarter dataset. We will load the dataset below."
   ]
  },
  {
   "cell_type": "code",
   "execution_count": 2,
   "metadata": {},
   "outputs": [],
   "source": [
    "# Run this code:\n",
    "\n",
    "kickstarter = pd.read_csv('../ks-projects-201801.csv')"
   ]
  },
  {
   "cell_type": "markdown",
   "metadata": {},
   "source": [
    "Now print the `head` function to examine the dataset."
   ]
  },
  {
   "cell_type": "code",
   "execution_count": 3,
   "metadata": {},
   "outputs": [
    {
     "data": {
      "text/html": [
       "<div>\n",
       "<style scoped>\n",
       "    .dataframe tbody tr th:only-of-type {\n",
       "        vertical-align: middle;\n",
       "    }\n",
       "\n",
       "    .dataframe tbody tr th {\n",
       "        vertical-align: top;\n",
       "    }\n",
       "\n",
       "    .dataframe thead th {\n",
       "        text-align: right;\n",
       "    }\n",
       "</style>\n",
       "<table border=\"1\" class=\"dataframe\">\n",
       "  <thead>\n",
       "    <tr style=\"text-align: right;\">\n",
       "      <th></th>\n",
       "      <th>ID</th>\n",
       "      <th>name</th>\n",
       "      <th>category</th>\n",
       "      <th>main_category</th>\n",
       "      <th>currency</th>\n",
       "      <th>deadline</th>\n",
       "      <th>goal</th>\n",
       "      <th>launched</th>\n",
       "      <th>pledged</th>\n",
       "      <th>state</th>\n",
       "      <th>backers</th>\n",
       "      <th>country</th>\n",
       "      <th>usd pledged</th>\n",
       "      <th>usd_pledged_real</th>\n",
       "      <th>usd_goal_real</th>\n",
       "    </tr>\n",
       "  </thead>\n",
       "  <tbody>\n",
       "    <tr>\n",
       "      <th>0</th>\n",
       "      <td>1000002330</td>\n",
       "      <td>The Songs of Adelaide &amp; Abullah</td>\n",
       "      <td>Poetry</td>\n",
       "      <td>Publishing</td>\n",
       "      <td>GBP</td>\n",
       "      <td>2015-10-09</td>\n",
       "      <td>1000.0</td>\n",
       "      <td>2015-08-11 12:12:28</td>\n",
       "      <td>0.0</td>\n",
       "      <td>failed</td>\n",
       "      <td>0</td>\n",
       "      <td>GB</td>\n",
       "      <td>0.0</td>\n",
       "      <td>0.0</td>\n",
       "      <td>1533.95</td>\n",
       "    </tr>\n",
       "    <tr>\n",
       "      <th>1</th>\n",
       "      <td>1000003930</td>\n",
       "      <td>Greeting From Earth: ZGAC Arts Capsule For ET</td>\n",
       "      <td>Narrative Film</td>\n",
       "      <td>Film &amp; Video</td>\n",
       "      <td>USD</td>\n",
       "      <td>2017-11-01</td>\n",
       "      <td>30000.0</td>\n",
       "      <td>2017-09-02 04:43:57</td>\n",
       "      <td>2421.0</td>\n",
       "      <td>failed</td>\n",
       "      <td>15</td>\n",
       "      <td>US</td>\n",
       "      <td>100.0</td>\n",
       "      <td>2421.0</td>\n",
       "      <td>30000.00</td>\n",
       "    </tr>\n",
       "    <tr>\n",
       "      <th>2</th>\n",
       "      <td>1000004038</td>\n",
       "      <td>Where is Hank?</td>\n",
       "      <td>Narrative Film</td>\n",
       "      <td>Film &amp; Video</td>\n",
       "      <td>USD</td>\n",
       "      <td>2013-02-26</td>\n",
       "      <td>45000.0</td>\n",
       "      <td>2013-01-12 00:20:50</td>\n",
       "      <td>220.0</td>\n",
       "      <td>failed</td>\n",
       "      <td>3</td>\n",
       "      <td>US</td>\n",
       "      <td>220.0</td>\n",
       "      <td>220.0</td>\n",
       "      <td>45000.00</td>\n",
       "    </tr>\n",
       "    <tr>\n",
       "      <th>3</th>\n",
       "      <td>1000007540</td>\n",
       "      <td>ToshiCapital Rekordz Needs Help to Complete Album</td>\n",
       "      <td>Music</td>\n",
       "      <td>Music</td>\n",
       "      <td>USD</td>\n",
       "      <td>2012-04-16</td>\n",
       "      <td>5000.0</td>\n",
       "      <td>2012-03-17 03:24:11</td>\n",
       "      <td>1.0</td>\n",
       "      <td>failed</td>\n",
       "      <td>1</td>\n",
       "      <td>US</td>\n",
       "      <td>1.0</td>\n",
       "      <td>1.0</td>\n",
       "      <td>5000.00</td>\n",
       "    </tr>\n",
       "    <tr>\n",
       "      <th>4</th>\n",
       "      <td>1000011046</td>\n",
       "      <td>Community Film Project: The Art of Neighborhoo...</td>\n",
       "      <td>Film &amp; Video</td>\n",
       "      <td>Film &amp; Video</td>\n",
       "      <td>USD</td>\n",
       "      <td>2015-08-29</td>\n",
       "      <td>19500.0</td>\n",
       "      <td>2015-07-04 08:35:03</td>\n",
       "      <td>1283.0</td>\n",
       "      <td>canceled</td>\n",
       "      <td>14</td>\n",
       "      <td>US</td>\n",
       "      <td>1283.0</td>\n",
       "      <td>1283.0</td>\n",
       "      <td>19500.00</td>\n",
       "    </tr>\n",
       "  </tbody>\n",
       "</table>\n",
       "</div>"
      ],
      "text/plain": [
       "           ID                                               name  \\\n",
       "0  1000002330                    The Songs of Adelaide & Abullah   \n",
       "1  1000003930      Greeting From Earth: ZGAC Arts Capsule For ET   \n",
       "2  1000004038                                     Where is Hank?   \n",
       "3  1000007540  ToshiCapital Rekordz Needs Help to Complete Album   \n",
       "4  1000011046  Community Film Project: The Art of Neighborhoo...   \n",
       "\n",
       "         category main_category currency    deadline     goal  \\\n",
       "0          Poetry    Publishing      GBP  2015-10-09   1000.0   \n",
       "1  Narrative Film  Film & Video      USD  2017-11-01  30000.0   \n",
       "2  Narrative Film  Film & Video      USD  2013-02-26  45000.0   \n",
       "3           Music         Music      USD  2012-04-16   5000.0   \n",
       "4    Film & Video  Film & Video      USD  2015-08-29  19500.0   \n",
       "\n",
       "              launched  pledged     state  backers country  usd pledged  \\\n",
       "0  2015-08-11 12:12:28      0.0    failed        0      GB          0.0   \n",
       "1  2017-09-02 04:43:57   2421.0    failed       15      US        100.0   \n",
       "2  2013-01-12 00:20:50    220.0    failed        3      US        220.0   \n",
       "3  2012-03-17 03:24:11      1.0    failed        1      US          1.0   \n",
       "4  2015-07-04 08:35:03   1283.0  canceled       14      US       1283.0   \n",
       "\n",
       "   usd_pledged_real  usd_goal_real  \n",
       "0               0.0        1533.95  \n",
       "1            2421.0       30000.00  \n",
       "2             220.0       45000.00  \n",
       "3               1.0        5000.00  \n",
       "4            1283.0       19500.00  "
      ]
     },
     "execution_count": 3,
     "metadata": {},
     "output_type": "execute_result"
    }
   ],
   "source": [
    "# Your code here:\n",
    "\n",
    "kickstarter.head()"
   ]
  },
  {
   "cell_type": "markdown",
   "metadata": {},
   "source": [
    "Import the `mode` function from `scipy.stats` and find the mode of the `country` and `currency` column."
   ]
  },
  {
   "cell_type": "code",
   "execution_count": 13,
   "metadata": {},
   "outputs": [
    {
     "name": "stdout",
     "output_type": "stream",
     "text": [
      "ModeResult(mode=array(['US'], dtype=object), count=array([292627]))\n",
      "ModeResult(mode=array(['USD'], dtype=object), count=array([295365]))\n"
     ]
    }
   ],
   "source": [
    "# Your code here:\n",
    "from scipy import stats\n",
    "country_mode = stats.mode(kickstarter['country'])\n",
    "print(country_mode)\n",
    "currency_mode = stats.mode(kickstarter['currency'])\n",
    "print(currency_mode)"
   ]
  },
  {
   "cell_type": "markdown",
   "metadata": {},
   "source": [
    "The trimmed mean is a function that computes the mean of the data with observations removed. The most common way to compute a trimmed mean is by specifying a percentage and then removing elements from both ends. However, we can also specify a threshold on both ends. The goal of this function is to create a more robust method of computing the mean that is less influenced by outliers. SciPy contains a function called `tmean` for computing the trimmed mean. \n",
    "\n",
    "In the cell below, import the `tmean` function and then find the 75th percentile of the `goal` column. Compute the trimmed mean between 0 and the 75th percentile of the column. Read more about the `tmean` function [here](https://docs.scipy.org/doc/scipy/reference/generated/scipy.stats.tmean.html#scipy.stats.tmean)."
   ]
  },
  {
   "cell_type": "code",
   "execution_count": 15,
   "metadata": {},
   "outputs": [
    {
     "name": "stdout",
     "output_type": "stream",
     "text": [
      "28.02929089026915\n"
     ]
    }
   ],
   "source": [
    "# Your code here:\n",
    "\n",
    "tmean_goal = stats.tmean(kickstarter['goal'],(0,75))\n",
    "print(tmean_goal)"
   ]
  },
  {
   "cell_type": "markdown",
   "metadata": {},
   "source": [
    "#### SciPy contains various statistical tests. One of the tests is Fisher's exact test. This test is used for contingency tables. \n",
    "\n",
    "The test originates from the \"Lady Tasting Tea\" experiment. In 1935, Fisher published the results of the experiment in his book. The experiment was based on a claim by Muriel Bristol that she can taste whether tea or milk was first poured into the cup. Fisher devised this test to disprove her claim. The null hypothesis is that the treatments do not affect outcomes, while the alternative hypothesis is that the treatment does affect outcome. To read more about Fisher's exact test, click [here](https://en.wikipedia.org/wiki/Fisher%27s_exact_test).\n",
    "\n",
    "Let's perform Fisher's exact test on our KickStarter data. We intend to test the hypothesis that the choice of currency has an impact on meeting the pledge goal. We'll start by creating two derived columns in our dataframe. The first will contain 1 if the amount of money in `usd_pledged_real` is greater than the amount of money in `usd_goal_real`. We can compute this by using the `np.where` function. If the amount in one column is greater than the other, enter a value of 1, otherwise enter a value of zero. Add this column to the dataframe and name it `goal_met`."
   ]
  },
  {
   "cell_type": "code",
   "execution_count": 18,
   "metadata": {},
   "outputs": [],
   "source": [
    "# Your code here:\n",
    "\n",
    "kickstarter['goal_met'] = np.where(kickstarter['usd_pledged_real'] > kickstarter['usd_goal_real'],1,0)"
   ]
  },
  {
   "cell_type": "markdown",
   "metadata": {},
   "source": [
    "Next, create a column that checks whether the currency of the project is in US Dollars. Create a column called `usd` using the `np.where` function where if the currency is US Dollars, assign a value of 1 to the row and 0 otherwise."
   ]
  },
  {
   "cell_type": "code",
   "execution_count": 19,
   "metadata": {},
   "outputs": [],
   "source": [
    "# Your code here:\n",
    "\n",
    "kickstarter['usd'] = np.where(kickstarter['currency'] == 'USD',1,0)"
   ]
  },
  {
   "cell_type": "markdown",
   "metadata": {},
   "source": [
    "Now create a contingency table using the `pd.crosstab` function in the cell below to compare the `goal_met` and `usd` columns."
   ]
  },
  {
   "cell_type": "markdown",
   "metadata": {},
   "source": [
    "Import the `fisher_exact` function from `scipy.stats` and conduct the hypothesis test on the contingency table that you have generated above. You can read more about the `fisher_exact` function [here](https://docs.scipy.org/doc/scipy/reference/generated/scipy.stats.fisher_exact.html#scipy.stats.fisher_exact). The output of the function should be the odds ratio and the p-value. The p-value will provide you with the outcome of the test."
   ]
  },
  {
   "cell_type": "code",
   "execution_count": 23,
   "metadata": {},
   "outputs": [
    {
     "name": "stdout",
     "output_type": "stream",
     "text": [
      "(1.3791838163150314, 9.78e-321)\n"
     ]
    }
   ],
   "source": [
    "# Your code here:\n",
    "\n",
    "cross = pd.crosstab(kickstarter['goal_met'],kickstarter['usd'])\n",
    "fisher = stats.fisher_exact(cross)\n",
    "print(fisher)"
   ]
  },
  {
   "cell_type": "markdown",
   "metadata": {},
   "source": [
    "# Challenge 2 - The `linalg` submodule\n",
    "\n",
    "This submodule allows us to perform various linear algebra calculations. \n",
    "\n",
    "Using the solve function, find the solution of the equation system 5x + 2y = 3 and 3x + y = 2 in the cell below."
   ]
  },
  {
   "cell_type": "code",
   "execution_count": 6,
   "metadata": {},
   "outputs": [
    {
     "data": {
      "text/plain": [
       "array([ 1., -1.])"
      ]
     },
     "execution_count": 6,
     "metadata": {},
     "output_type": "execute_result"
    }
   ],
   "source": [
    "# Your code here:\n",
    "from scipy import linalg\n",
    "\n",
    "a = [[5,2],[3,1]]\n",
    "b = [3,2]\n",
    "\n",
    "solution = linalg.solve(a,b)\n",
    "solution"
   ]
  },
  {
   "cell_type": "markdown",
   "metadata": {},
   "source": [
    "# Challenge 3 - The `interpolate` submodule\n",
    "\n",
    "This submodule allows us to interpolate between two points and create a continuous distribution based on the observed data.\n",
    "\n",
    "In the cell below, import the `interp1d` function and first take a sample of 10 rows from `kickstarter`. "
   ]
  },
  {
   "cell_type": "code",
   "execution_count": 25,
   "metadata": {},
   "outputs": [
    {
     "data": {
      "text/html": [
       "<div>\n",
       "<style scoped>\n",
       "    .dataframe tbody tr th:only-of-type {\n",
       "        vertical-align: middle;\n",
       "    }\n",
       "\n",
       "    .dataframe tbody tr th {\n",
       "        vertical-align: top;\n",
       "    }\n",
       "\n",
       "    .dataframe thead th {\n",
       "        text-align: right;\n",
       "    }\n",
       "</style>\n",
       "<table border=\"1\" class=\"dataframe\">\n",
       "  <thead>\n",
       "    <tr style=\"text-align: right;\">\n",
       "      <th></th>\n",
       "      <th>ID</th>\n",
       "      <th>name</th>\n",
       "      <th>category</th>\n",
       "      <th>main_category</th>\n",
       "      <th>currency</th>\n",
       "      <th>deadline</th>\n",
       "      <th>goal</th>\n",
       "      <th>launched</th>\n",
       "      <th>pledged</th>\n",
       "      <th>state</th>\n",
       "      <th>backers</th>\n",
       "      <th>country</th>\n",
       "      <th>usd pledged</th>\n",
       "      <th>usd_pledged_real</th>\n",
       "      <th>usd_goal_real</th>\n",
       "      <th>goal_met</th>\n",
       "      <th>usd</th>\n",
       "    </tr>\n",
       "  </thead>\n",
       "  <tbody>\n",
       "    <tr>\n",
       "      <th>185820</th>\n",
       "      <td>1945923755</td>\n",
       "      <td>Mia Borders' new album, \"Thick Skin, Hard Head\"</td>\n",
       "      <td>Indie Rock</td>\n",
       "      <td>Music</td>\n",
       "      <td>USD</td>\n",
       "      <td>2011-04-03</td>\n",
       "      <td>8000.0</td>\n",
       "      <td>2011-02-14 19:42:05</td>\n",
       "      <td>8320.00</td>\n",
       "      <td>successful</td>\n",
       "      <td>60</td>\n",
       "      <td>US</td>\n",
       "      <td>8320.00</td>\n",
       "      <td>8320.00</td>\n",
       "      <td>8000.00</td>\n",
       "      <td>1</td>\n",
       "      <td>1</td>\n",
       "    </tr>\n",
       "    <tr>\n",
       "      <th>128760</th>\n",
       "      <td>1653767643</td>\n",
       "      <td>Hot Club of Flatbush New Recording</td>\n",
       "      <td>Music</td>\n",
       "      <td>Music</td>\n",
       "      <td>USD</td>\n",
       "      <td>2015-10-06</td>\n",
       "      <td>4000.0</td>\n",
       "      <td>2015-09-06 21:52:26</td>\n",
       "      <td>4115.00</td>\n",
       "      <td>undefined</td>\n",
       "      <td>0</td>\n",
       "      <td>N,0\"</td>\n",
       "      <td>NaN</td>\n",
       "      <td>4115.00</td>\n",
       "      <td>4000.00</td>\n",
       "      <td>1</td>\n",
       "      <td>1</td>\n",
       "    </tr>\n",
       "    <tr>\n",
       "      <th>107184</th>\n",
       "      <td>1544836768</td>\n",
       "      <td>Comic Premiere: American Knight</td>\n",
       "      <td>Comic Books</td>\n",
       "      <td>Comics</td>\n",
       "      <td>USD</td>\n",
       "      <td>2015-05-31</td>\n",
       "      <td>4000.0</td>\n",
       "      <td>2015-05-01 19:22:37</td>\n",
       "      <td>898.00</td>\n",
       "      <td>failed</td>\n",
       "      <td>26</td>\n",
       "      <td>US</td>\n",
       "      <td>898.00</td>\n",
       "      <td>898.00</td>\n",
       "      <td>4000.00</td>\n",
       "      <td>0</td>\n",
       "      <td>1</td>\n",
       "    </tr>\n",
       "    <tr>\n",
       "      <th>183520</th>\n",
       "      <td>1934302549</td>\n",
       "      <td>Jekyll and Hyde: The Music Video</td>\n",
       "      <td>Hip-Hop</td>\n",
       "      <td>Music</td>\n",
       "      <td>USD</td>\n",
       "      <td>2011-10-01</td>\n",
       "      <td>5000.0</td>\n",
       "      <td>2011-08-26 19:00:27</td>\n",
       "      <td>5535.22</td>\n",
       "      <td>successful</td>\n",
       "      <td>76</td>\n",
       "      <td>US</td>\n",
       "      <td>5535.22</td>\n",
       "      <td>5535.22</td>\n",
       "      <td>5000.00</td>\n",
       "      <td>1</td>\n",
       "      <td>1</td>\n",
       "    </tr>\n",
       "    <tr>\n",
       "      <th>130301</th>\n",
       "      <td>1661565546</td>\n",
       "      <td>iCanWalk(ICW)</td>\n",
       "      <td>Product Design</td>\n",
       "      <td>Design</td>\n",
       "      <td>USD</td>\n",
       "      <td>2015-02-04</td>\n",
       "      <td>200000.0</td>\n",
       "      <td>2015-01-02 09:44:29</td>\n",
       "      <td>12.00</td>\n",
       "      <td>failed</td>\n",
       "      <td>3</td>\n",
       "      <td>US</td>\n",
       "      <td>12.00</td>\n",
       "      <td>12.00</td>\n",
       "      <td>200000.00</td>\n",
       "      <td>0</td>\n",
       "      <td>1</td>\n",
       "    </tr>\n",
       "    <tr>\n",
       "      <th>290591</th>\n",
       "      <td>548627623</td>\n",
       "      <td>Dark Dark Sweden</td>\n",
       "      <td>Photography</td>\n",
       "      <td>Photography</td>\n",
       "      <td>USD</td>\n",
       "      <td>2012-11-17</td>\n",
       "      <td>2500.0</td>\n",
       "      <td>2012-10-18 06:46:38</td>\n",
       "      <td>882.00</td>\n",
       "      <td>failed</td>\n",
       "      <td>26</td>\n",
       "      <td>US</td>\n",
       "      <td>882.00</td>\n",
       "      <td>882.00</td>\n",
       "      <td>2500.00</td>\n",
       "      <td>0</td>\n",
       "      <td>1</td>\n",
       "    </tr>\n",
       "    <tr>\n",
       "      <th>113055</th>\n",
       "      <td>157442495</td>\n",
       "      <td>Horatio and the Fear of Dying - A Children's B...</td>\n",
       "      <td>Children's Books</td>\n",
       "      <td>Publishing</td>\n",
       "      <td>USD</td>\n",
       "      <td>2017-11-02</td>\n",
       "      <td>26000.0</td>\n",
       "      <td>2017-10-03 19:10:51</td>\n",
       "      <td>5358.00</td>\n",
       "      <td>failed</td>\n",
       "      <td>112</td>\n",
       "      <td>US</td>\n",
       "      <td>1234.00</td>\n",
       "      <td>5358.00</td>\n",
       "      <td>26000.00</td>\n",
       "      <td>0</td>\n",
       "      <td>1</td>\n",
       "    </tr>\n",
       "    <tr>\n",
       "      <th>212181</th>\n",
       "      <td>2081534875</td>\n",
       "      <td>L.A. River Brewing Company</td>\n",
       "      <td>Food</td>\n",
       "      <td>Food</td>\n",
       "      <td>USD</td>\n",
       "      <td>2013-02-03</td>\n",
       "      <td>75000.0</td>\n",
       "      <td>2012-12-05 19:05:02</td>\n",
       "      <td>37500.00</td>\n",
       "      <td>failed</td>\n",
       "      <td>358</td>\n",
       "      <td>US</td>\n",
       "      <td>37500.00</td>\n",
       "      <td>37500.00</td>\n",
       "      <td>75000.00</td>\n",
       "      <td>0</td>\n",
       "      <td>1</td>\n",
       "    </tr>\n",
       "    <tr>\n",
       "      <th>232879</th>\n",
       "      <td>253655087</td>\n",
       "      <td>Best Day Coffee - Kill the K-cup, help environ...</td>\n",
       "      <td>Drinks</td>\n",
       "      <td>Food</td>\n",
       "      <td>USD</td>\n",
       "      <td>2016-05-01</td>\n",
       "      <td>29500.0</td>\n",
       "      <td>2016-04-01 23:52:21</td>\n",
       "      <td>136.00</td>\n",
       "      <td>canceled</td>\n",
       "      <td>6</td>\n",
       "      <td>US</td>\n",
       "      <td>136.00</td>\n",
       "      <td>136.00</td>\n",
       "      <td>29500.00</td>\n",
       "      <td>0</td>\n",
       "      <td>1</td>\n",
       "    </tr>\n",
       "    <tr>\n",
       "      <th>297191</th>\n",
       "      <td>583108436</td>\n",
       "      <td>\"Shrimp\" - 1 week of only Shrimp, what will ha...</td>\n",
       "      <td>Documentary</td>\n",
       "      <td>Film &amp; Video</td>\n",
       "      <td>CAD</td>\n",
       "      <td>2017-05-24</td>\n",
       "      <td>2500.0</td>\n",
       "      <td>2017-04-24 19:02:08</td>\n",
       "      <td>10.00</td>\n",
       "      <td>failed</td>\n",
       "      <td>1</td>\n",
       "      <td>CA</td>\n",
       "      <td>0.00</td>\n",
       "      <td>7.43</td>\n",
       "      <td>1856.53</td>\n",
       "      <td>0</td>\n",
       "      <td>0</td>\n",
       "    </tr>\n",
       "  </tbody>\n",
       "</table>\n",
       "</div>"
      ],
      "text/plain": [
       "                ID                                               name  \\\n",
       "185820  1945923755    Mia Borders' new album, \"Thick Skin, Hard Head\"   \n",
       "128760  1653767643                 Hot Club of Flatbush New Recording   \n",
       "107184  1544836768                    Comic Premiere: American Knight   \n",
       "183520  1934302549                   Jekyll and Hyde: The Music Video   \n",
       "130301  1661565546                                      iCanWalk(ICW)   \n",
       "290591   548627623                                   Dark Dark Sweden   \n",
       "113055   157442495  Horatio and the Fear of Dying - A Children's B...   \n",
       "212181  2081534875                         L.A. River Brewing Company   \n",
       "232879   253655087  Best Day Coffee - Kill the K-cup, help environ...   \n",
       "297191   583108436  \"Shrimp\" - 1 week of only Shrimp, what will ha...   \n",
       "\n",
       "                category main_category currency    deadline      goal  \\\n",
       "185820        Indie Rock         Music      USD  2011-04-03    8000.0   \n",
       "128760             Music         Music      USD  2015-10-06    4000.0   \n",
       "107184       Comic Books        Comics      USD  2015-05-31    4000.0   \n",
       "183520           Hip-Hop         Music      USD  2011-10-01    5000.0   \n",
       "130301    Product Design        Design      USD  2015-02-04  200000.0   \n",
       "290591       Photography   Photography      USD  2012-11-17    2500.0   \n",
       "113055  Children's Books    Publishing      USD  2017-11-02   26000.0   \n",
       "212181              Food          Food      USD  2013-02-03   75000.0   \n",
       "232879            Drinks          Food      USD  2016-05-01   29500.0   \n",
       "297191       Documentary  Film & Video      CAD  2017-05-24    2500.0   \n",
       "\n",
       "                   launched   pledged       state  backers country  \\\n",
       "185820  2011-02-14 19:42:05   8320.00  successful       60      US   \n",
       "128760  2015-09-06 21:52:26   4115.00   undefined        0    N,0\"   \n",
       "107184  2015-05-01 19:22:37    898.00      failed       26      US   \n",
       "183520  2011-08-26 19:00:27   5535.22  successful       76      US   \n",
       "130301  2015-01-02 09:44:29     12.00      failed        3      US   \n",
       "290591  2012-10-18 06:46:38    882.00      failed       26      US   \n",
       "113055  2017-10-03 19:10:51   5358.00      failed      112      US   \n",
       "212181  2012-12-05 19:05:02  37500.00      failed      358      US   \n",
       "232879  2016-04-01 23:52:21    136.00    canceled        6      US   \n",
       "297191  2017-04-24 19:02:08     10.00      failed        1      CA   \n",
       "\n",
       "        usd pledged  usd_pledged_real  usd_goal_real  goal_met  usd  \n",
       "185820      8320.00           8320.00        8000.00         1    1  \n",
       "128760          NaN           4115.00        4000.00         1    1  \n",
       "107184       898.00            898.00        4000.00         0    1  \n",
       "183520      5535.22           5535.22        5000.00         1    1  \n",
       "130301        12.00             12.00      200000.00         0    1  \n",
       "290591       882.00            882.00        2500.00         0    1  \n",
       "113055      1234.00           5358.00       26000.00         0    1  \n",
       "212181     37500.00          37500.00       75000.00         0    1  \n",
       "232879       136.00            136.00       29500.00         0    1  \n",
       "297191         0.00              7.43        1856.53         0    0  "
      ]
     },
     "metadata": {},
     "output_type": "display_data"
    }
   ],
   "source": [
    "# Your code here:\n",
    "from scipy import interpolate\n",
    "\n",
    "sample = kickstarter.sample(10)\n",
    "display(sample)"
   ]
  },
  {
   "cell_type": "markdown",
   "metadata": {},
   "source": [
    "Next, create a linear interpolation of the backers as a function of `usd_pledged_real`. Create a function `f` that generates a linear interpolation of backers as predicted by the amount of real pledged dollars."
   ]
  },
  {
   "cell_type": "code",
   "execution_count": 29,
   "metadata": {},
   "outputs": [],
   "source": [
    "# Your code here:\n",
    "            \n",
    "f = interpolate.interp1d(sample['backers'],sample['usd_pledged_real'])"
   ]
  },
  {
   "cell_type": "markdown",
   "metadata": {},
   "source": [
    "Now create a new variable called `x_new`. This variable will contain all integers between the minimum number of backers in our sample and the maximum number of backers. The goal here is to take the dataset that contains few obeservations due to sampling and fill all observations with a value using the interpolation function. \n",
    "\n",
    "Hint: one option is the `np.arange` function."
   ]
  },
  {
   "cell_type": "code",
   "execution_count": 32,
   "metadata": {},
   "outputs": [],
   "source": [
    "# Your code here:\n",
    "minimun = sample['backers'].min()\n",
    "maximun = sample['backers'].max()\n",
    "\n",
    "x_new = np.arange(minimun,maximun,1)"
   ]
  },
  {
   "cell_type": "markdown",
   "metadata": {},
   "source": [
    "Plot function f for all values of `x_new`. Run the code below."
   ]
  },
  {
   "cell_type": "code",
   "execution_count": 33,
   "metadata": {},
   "outputs": [
    {
     "data": {
      "text/plain": [
       "[<matplotlib.lines.Line2D at 0x7fa1a4ddc210>]"
      ]
     },
     "execution_count": 33,
     "metadata": {},
     "output_type": "execute_result"
    },
    {
     "data": {
      "image/png": "[encoded data removed]",
      "text/plain": [
       "<Figure size 432x288 with 1 Axes>"
      ]
     },
     "metadata": {
      "needs_background": "light"
     },
     "output_type": "display_data"
    }
   ],
   "source": [
    "# Run this code:\n",
    "\n",
    "%matplotlib inline\n",
    "import matplotlib.pyplot as plt\n",
    "\n",
    "plt.plot(x_new, f(x_new))"
   ]
  },
  {
   "cell_type": "markdown",
   "metadata": {},
   "source": [
    "Next create a function that will generate a cubic interpolation function. Name the function `g`"
   ]
  },
  {
   "cell_type": "code",
   "execution_count": 35,
   "metadata": {},
   "outputs": [
    {
     "ename": "ValueError",
     "evalue": "`x` must be strictly increasing sequence.",
     "output_type": "error",
     "traceback": [
      "\u001b[0;31m---------------------------------------------------------------------------\u001b[0m",
      "\u001b[0;31mValueError\u001b[0m                                Traceback (most recent call last)",
      "\u001b[0;32m<ipython-input-35-f708bd1f125c>\u001b[0m in \u001b[0;36m<module>\u001b[0;34m()\u001b[0m\n\u001b[1;32m      1\u001b[0m \u001b[0;31m# Your code here:\u001b[0m\u001b[0;34m\u001b[0m\u001b[0;34m\u001b[0m\u001b[0;34m\u001b[0m\u001b[0m\n\u001b[1;32m      2\u001b[0m \u001b[0;34m\u001b[0m\u001b[0m\n\u001b[0;32m----> 3\u001b[0;31m \u001b[0mg\u001b[0m \u001b[0;34m=\u001b[0m \u001b[0minterpolate\u001b[0m\u001b[0;34m.\u001b[0m\u001b[0mCubicSpline\u001b[0m\u001b[0;34m(\u001b[0m\u001b[0msample\u001b[0m\u001b[0;34m[\u001b[0m\u001b[0;34m'backers'\u001b[0m\u001b[0;34m]\u001b[0m\u001b[0;34m,\u001b[0m\u001b[0msample\u001b[0m\u001b[0;34m[\u001b[0m\u001b[0;34m'usd_pledged_real'\u001b[0m\u001b[0;34m]\u001b[0m\u001b[0;34m)\u001b[0m\u001b[0;34m\u001b[0m\u001b[0;34m\u001b[0m\u001b[0m\n\u001b[0m",
      "\u001b[0;32m/usr/local/lib/python3.7/dist-packages/scipy/interpolate/_cubic.py\u001b[0m in \u001b[0;36m__init__\u001b[0;34m(self, x, y, axis, bc_type, extrapolate)\u001b[0m\n\u001b[1;32m    617\u001b[0m     \"\"\"\n\u001b[1;32m    618\u001b[0m     \u001b[0;32mdef\u001b[0m \u001b[0m__init__\u001b[0m\u001b[0;34m(\u001b[0m\u001b[0mself\u001b[0m\u001b[0;34m,\u001b[0m \u001b[0mx\u001b[0m\u001b[0;34m,\u001b[0m \u001b[0my\u001b[0m\u001b[0;34m,\u001b[0m \u001b[0maxis\u001b[0m\u001b[0;34m=\u001b[0m\u001b[0;36m0\u001b[0m\u001b[0;34m,\u001b[0m \u001b[0mbc_type\u001b[0m\u001b[0;34m=\u001b[0m\u001b[0;34m'not-a-knot'\u001b[0m\u001b[0;34m,\u001b[0m \u001b[0mextrapolate\u001b[0m\u001b[0;34m=\u001b[0m\u001b[0;32mNone\u001b[0m\u001b[0;34m)\u001b[0m\u001b[0;34m:\u001b[0m\u001b[0;34m\u001b[0m\u001b[0;34m\u001b[0m\u001b[0m\n\u001b[0;32m--> 619\u001b[0;31m         \u001b[0mx\u001b[0m\u001b[0;34m,\u001b[0m \u001b[0mdx\u001b[0m\u001b[0;34m,\u001b[0m \u001b[0my\u001b[0m\u001b[0;34m,\u001b[0m \u001b[0maxis\u001b[0m\u001b[0;34m,\u001b[0m \u001b[0m_\u001b[0m \u001b[0;34m=\u001b[0m \u001b[0mprepare_input\u001b[0m\u001b[0;34m(\u001b[0m\u001b[0mx\u001b[0m\u001b[0;34m,\u001b[0m \u001b[0my\u001b[0m\u001b[0;34m,\u001b[0m \u001b[0maxis\u001b[0m\u001b[0;34m)\u001b[0m\u001b[0;34m\u001b[0m\u001b[0;34m\u001b[0m\u001b[0m\n\u001b[0m\u001b[1;32m    620\u001b[0m         \u001b[0mn\u001b[0m \u001b[0;34m=\u001b[0m \u001b[0mlen\u001b[0m\u001b[0;34m(\u001b[0m\u001b[0mx\u001b[0m\u001b[0;34m)\u001b[0m\u001b[0;34m\u001b[0m\u001b[0;34m\u001b[0m\u001b[0m\n\u001b[1;32m    621\u001b[0m \u001b[0;34m\u001b[0m\u001b[0m\n",
      "\u001b[0;32m/usr/local/lib/python3.7/dist-packages/scipy/interpolate/_cubic.py\u001b[0m in \u001b[0;36mprepare_input\u001b[0;34m(x, y, axis, dydx)\u001b[0m\n\u001b[1;32m     64\u001b[0m     \u001b[0mdx\u001b[0m \u001b[0;34m=\u001b[0m \u001b[0mnp\u001b[0m\u001b[0;34m.\u001b[0m\u001b[0mdiff\u001b[0m\u001b[0;34m(\u001b[0m\u001b[0mx\u001b[0m\u001b[0;34m)\u001b[0m\u001b[0;34m\u001b[0m\u001b[0;34m\u001b[0m\u001b[0m\n\u001b[1;32m     65\u001b[0m     \u001b[0;32mif\u001b[0m \u001b[0mnp\u001b[0m\u001b[0;34m.\u001b[0m\u001b[0many\u001b[0m\u001b[0;34m(\u001b[0m\u001b[0mdx\u001b[0m \u001b[0;34m<=\u001b[0m \u001b[0;36m0\u001b[0m\u001b[0;34m)\u001b[0m\u001b[0;34m:\u001b[0m\u001b[0;34m\u001b[0m\u001b[0;34m\u001b[0m\u001b[0m\n\u001b[0;32m---> 66\u001b[0;31m         \u001b[0;32mraise\u001b[0m \u001b[0mValueError\u001b[0m\u001b[0;34m(\u001b[0m\u001b[0;34m\"`x` must be strictly increasing sequence.\"\u001b[0m\u001b[0;34m)\u001b[0m\u001b[0;34m\u001b[0m\u001b[0;34m\u001b[0m\u001b[0m\n\u001b[0m\u001b[1;32m     67\u001b[0m \u001b[0;34m\u001b[0m\u001b[0m\n\u001b[1;32m     68\u001b[0m     \u001b[0my\u001b[0m \u001b[0;34m=\u001b[0m \u001b[0mnp\u001b[0m\u001b[0;34m.\u001b[0m\u001b[0mrollaxis\u001b[0m\u001b[0;34m(\u001b[0m\u001b[0my\u001b[0m\u001b[0;34m,\u001b[0m \u001b[0maxis\u001b[0m\u001b[0;34m)\u001b[0m\u001b[0;34m\u001b[0m\u001b[0;34m\u001b[0m\u001b[0m\n",
      "\u001b[0;31mValueError\u001b[0m: `x` must be strictly increasing sequence."
     ]
    }
   ],
   "source": [
    "# Your code here:\n",
    "\n",
    "g = interpolate.CubicSpline(sample['backers'],sample['usd_pledged_real'])"
   ]
  },
  {
   "cell_type": "code",
   "execution_count": null,
   "metadata": {},
   "outputs": [],
   "source": [
    "# Run this code:\n",
    "\n",
    "plt.plot(x_new, g(x_new))"
   ]
  },
  {
   "cell_type": "markdown",
   "metadata": {},
   "source": [
    "# Bonus Challenge - The Binomial Distribution\n",
    "\n",
    "The binomial distribution allows us to calculate the probability of k successes in n trials for a random variable with two possible outcomes (which we typically label success and failure).  \n",
    "\n",
    "The probability of success is typically denoted by p and the probability of failure is denoted by 1-p.\n",
    "\n",
    "The `scipy.stats` submodule contains a `binom` function for computing the probabilites of a random variable with the binomial distribution. You may read more about the binomial distribution [here](https://en.wikipedia.org/wiki/Binomial_distribution) and about the `binom` function [here](https://docs.scipy.org/doc/scipy/reference/generated/scipy.stats.binom.html#scipy.stats.binom).\n",
    "\n",
    "In the cell below, compute the probability that a die lands on 5 exactly 3 times in 8 tries.\n",
    "\n",
    "Hint: the probability of rolling a 5 is 1/6."
   ]
  },
  {
   "cell_type": "code",
   "execution_count": 19,
   "metadata": {},
   "outputs": [],
   "source": [
    "# Your code here:\n",
    "\n"
   ]
  },
  {
   "cell_type": "code",
   "execution_count": null,
   "metadata": {},
   "outputs": [],
   "source": []
  }
 ],
 "metadata": {
  "kernelspec": {
   "display_name": "Python 3",
   "language": "python",
   "name": "python3"
  },
  "language_info": {
   "codemirror_mode": {
    "name": "ipython",
    "version": 3
   },
   "file_extension": ".py",
   "mimetype": "text/x-python",
   "name": "python",
   "nbconvert_exporter": "python",
   "pygments_lexer": "ipython3",
   "version": "3.7.5rc1"
  }
 },
 "nbformat": 4,
 "nbformat_minor": 2
}
