{
 "cells": [
  {
   "cell_type": "markdown",
   "metadata": {},
   "source": [
    "# Challenge 3"
   ]
  },
  {
   "cell_type": "code",
   "execution_count": 1,
   "metadata": {},
   "outputs": [],
   "source": [
    "# import libraries here\n",
    "import pandas as pd\n",
    "\n",
    "import numpy as np\n",
    "import matplotlib.pyplot as plt\n",
    "import seaborn as sns\n",
    "%matplotlib inline"
   ]
  },
  {
   "cell_type": "markdown",
   "metadata": {},
   "source": [
    "#### Import the titanic file. Name your dataset `titanic`."
   ]
  },
  {
   "cell_type": "code",
   "execution_count": 2,
   "metadata": {},
   "outputs": [
    {
     "data": {
      "text/html": [
       "<div>\n",
       "<style scoped>\n",
       "    .dataframe tbody tr th:only-of-type {\n",
       "        vertical-align: middle;\n",
       "    }\n",
       "\n",
       "    .dataframe tbody tr th {\n",
       "        vertical-align: top;\n",
       "    }\n",
       "\n",
       "    .dataframe thead th {\n",
       "        text-align: right;\n",
       "    }\n",
       "</style>\n",
       "<table border=\"1\" class=\"dataframe\">\n",
       "  <thead>\n",
       "    <tr style=\"text-align: right;\">\n",
       "      <th></th>\n",
       "      <th>PassengerId</th>\n",
       "      <th>Survived</th>\n",
       "      <th>Pclass</th>\n",
       "      <th>Name</th>\n",
       "      <th>Gender</th>\n",
       "      <th>Age</th>\n",
       "      <th>SibSp</th>\n",
       "      <th>Parch</th>\n",
       "      <th>Ticket</th>\n",
       "      <th>Fare</th>\n",
       "      <th>Cabin</th>\n",
       "      <th>Embarked</th>\n",
       "    </tr>\n",
       "  </thead>\n",
       "  <tbody>\n",
       "    <tr>\n",
       "      <th>0</th>\n",
       "      <td>1</td>\n",
       "      <td>0.0</td>\n",
       "      <td>3</td>\n",
       "      <td>Braund, Mr. Owen Harris</td>\n",
       "      <td>male</td>\n",
       "      <td>22.0</td>\n",
       "      <td>1</td>\n",
       "      <td>0</td>\n",
       "      <td>A/5 21171</td>\n",
       "      <td>7.2500</td>\n",
       "      <td>U0</td>\n",
       "      <td>S</td>\n",
       "    </tr>\n",
       "    <tr>\n",
       "      <th>1</th>\n",
       "      <td>2</td>\n",
       "      <td>1.0</td>\n",
       "      <td>1</td>\n",
       "      <td>Cumings, Mrs. John Bradley (Florence Briggs Th...</td>\n",
       "      <td>female</td>\n",
       "      <td>38.0</td>\n",
       "      <td>1</td>\n",
       "      <td>0</td>\n",
       "      <td>PC 17599</td>\n",
       "      <td>71.2833</td>\n",
       "      <td>C85</td>\n",
       "      <td>C</td>\n",
       "    </tr>\n",
       "    <tr>\n",
       "      <th>2</th>\n",
       "      <td>3</td>\n",
       "      <td>1.0</td>\n",
       "      <td>3</td>\n",
       "      <td>Heikkinen, Miss. Laina</td>\n",
       "      <td>female</td>\n",
       "      <td>26.0</td>\n",
       "      <td>0</td>\n",
       "      <td>0</td>\n",
       "      <td>STON/O2. 3101282</td>\n",
       "      <td>7.9250</td>\n",
       "      <td>U0</td>\n",
       "      <td>S</td>\n",
       "    </tr>\n",
       "    <tr>\n",
       "      <th>3</th>\n",
       "      <td>4</td>\n",
       "      <td>1.0</td>\n",
       "      <td>1</td>\n",
       "      <td>Futrelle, Mrs. Jacques Heath (Lily May Peel)</td>\n",
       "      <td>female</td>\n",
       "      <td>35.0</td>\n",
       "      <td>1</td>\n",
       "      <td>0</td>\n",
       "      <td>113803</td>\n",
       "      <td>53.1000</td>\n",
       "      <td>C123</td>\n",
       "      <td>S</td>\n",
       "    </tr>\n",
       "    <tr>\n",
       "      <th>4</th>\n",
       "      <td>5</td>\n",
       "      <td>0.0</td>\n",
       "      <td>3</td>\n",
       "      <td>Allen, Mr. William Henry</td>\n",
       "      <td>male</td>\n",
       "      <td>35.0</td>\n",
       "      <td>0</td>\n",
       "      <td>0</td>\n",
       "      <td>373450</td>\n",
       "      <td>8.0500</td>\n",
       "      <td>U0</td>\n",
       "      <td>S</td>\n",
       "    </tr>\n",
       "  </tbody>\n",
       "</table>\n",
       "</div>"
      ],
      "text/plain": [
       "   PassengerId  Survived  Pclass  \\\n",
       "0            1       0.0       3   \n",
       "1            2       1.0       1   \n",
       "2            3       1.0       3   \n",
       "3            4       1.0       1   \n",
       "4            5       0.0       3   \n",
       "\n",
       "                                                Name  Gender   Age  SibSp  \\\n",
       "0                            Braund, Mr. Owen Harris    male  22.0      1   \n",
       "1  Cumings, Mrs. John Bradley (Florence Briggs Th...  female  38.0      1   \n",
       "2                             Heikkinen, Miss. Laina  female  26.0      0   \n",
       "3       Futrelle, Mrs. Jacques Heath (Lily May Peel)  female  35.0      1   \n",
       "4                           Allen, Mr. William Henry    male  35.0      0   \n",
       "\n",
       "   Parch            Ticket     Fare Cabin Embarked  \n",
       "0      0         A/5 21171   7.2500    U0        S  \n",
       "1      0          PC 17599  71.2833   C85        C  \n",
       "2      0  STON/O2. 3101282   7.9250    U0        S  \n",
       "3      0            113803  53.1000  C123        S  \n",
       "4      0            373450   8.0500    U0        S  "
      ]
     },
     "execution_count": 2,
     "metadata": {},
     "output_type": "execute_result"
    }
   ],
   "source": [
    "titanic = pd.read_csv('./titanic.csv',low_memory=False)\n",
    "titanic.head()"
   ]
  },
  {
   "cell_type": "markdown",
   "metadata": {},
   "source": [
    "#### Explore the titanic dataset using Pandas dtypes"
   ]
  },
  {
   "cell_type": "code",
   "execution_count": 20,
   "metadata": {},
   "outputs": [
    {
     "data": {
      "text/plain": [
       "<bound method DataFrame.select_dtypes of       PassengerId  Survived  Pclass  \\\n",
       "0               1       0.0       3   \n",
       "1               2       1.0       1   \n",
       "2               3       1.0       3   \n",
       "3               4       1.0       1   \n",
       "4               5       0.0       3   \n",
       "5               6       0.0       3   \n",
       "6               7       0.0       1   \n",
       "7               8       0.0       3   \n",
       "8               9       1.0       3   \n",
       "9              10       1.0       2   \n",
       "10             11       1.0       3   \n",
       "11             12       1.0       1   \n",
       "12             13       0.0       3   \n",
       "13             14       0.0       3   \n",
       "14             15       0.0       3   \n",
       "15             16       1.0       2   \n",
       "16             17       0.0       3   \n",
       "17             18       1.0       2   \n",
       "18             19       0.0       3   \n",
       "19             20       1.0       3   \n",
       "20             21       0.0       2   \n",
       "21             22       1.0       2   \n",
       "22             23       1.0       3   \n",
       "23             24       1.0       1   \n",
       "24             25       0.0       3   \n",
       "25             26       1.0       3   \n",
       "26             27       0.0       3   \n",
       "27             28       0.0       1   \n",
       "28             29       1.0       3   \n",
       "29             30       0.0       3   \n",
       "...           ...       ...     ...   \n",
       "1279         1280       NaN       3   \n",
       "1280         1281       NaN       3   \n",
       "1281         1282       NaN       1   \n",
       "1282         1283       NaN       1   \n",
       "1283         1284       NaN       3   \n",
       "1284         1285       NaN       2   \n",
       "1285         1286       NaN       3   \n",
       "1286         1287       NaN       1   \n",
       "1287         1288       NaN       3   \n",
       "1288         1289       NaN       1   \n",
       "1289         1290       NaN       3   \n",
       "1290         1291       NaN       3   \n",
       "1291         1292       NaN       1   \n",
       "1292         1293       NaN       2   \n",
       "1293         1294       NaN       1   \n",
       "1294         1295       NaN       1   \n",
       "1295         1296       NaN       1   \n",
       "1296         1297       NaN       2   \n",
       "1297         1298       NaN       2   \n",
       "1298         1299       NaN       1   \n",
       "1299         1300       NaN       3   \n",
       "1300         1301       NaN       3   \n",
       "1301         1302       NaN       3   \n",
       "1302         1303       NaN       1   \n",
       "1303         1304       NaN       3   \n",
       "1304         1305       NaN       3   \n",
       "1305         1306       NaN       1   \n",
       "1306         1307       NaN       3   \n",
       "1307         1308       NaN       3   \n",
       "1308         1309       NaN       3   \n",
       "\n",
       "                                                   Name  Gender        Age  \\\n",
       "0                               Braund, Mr. Owen Harris    male  22.000000   \n",
       "1     Cumings, Mrs. John Bradley (Florence Briggs Th...  female  38.000000   \n",
       "2                                Heikkinen, Miss. Laina  female  26.000000   \n",
       "3          Futrelle, Mrs. Jacques Heath (Lily May Peel)  female  35.000000   \n",
       "4                              Allen, Mr. William Henry    male  35.000000   \n",
       "5                                      Moran, Mr. James    male  23.926502   \n",
       "6                               McCarthy, Mr. Timothy J    male  54.000000   \n",
       "7                        Palsson, Master. Gosta Leonard    male   2.000000   \n",
       "8     Johnson, Mrs. Oscar W (Elisabeth Vilhelmina Berg)  female  27.000000   \n",
       "9                   Nasser, Mrs. Nicholas (Adele Achem)  female  14.000000   \n",
       "10                      Sandstrom, Miss. Marguerite Rut  female   4.000000   \n",
       "11                             Bonnell, Miss. Elizabeth  female  58.000000   \n",
       "12                       Saundercock, Mr. William Henry    male  20.000000   \n",
       "13                          Andersson, Mr. Anders Johan    male  39.000000   \n",
       "14                 Vestrom, Miss. Hulda Amanda Adolfina  female  14.000000   \n",
       "15                     Hewlett, Mrs. (Mary D Kingcome)   female  55.000000   \n",
       "16                                 Rice, Master. Eugene    male   2.000000   \n",
       "17                         Williams, Mr. Charles Eugene    male  32.172868   \n",
       "18    Vander Planke, Mrs. Julius (Emelia Maria Vande...  female  31.000000   \n",
       "19                              Masselmani, Mrs. Fatima  female  27.749836   \n",
       "20                                 Fynney, Mr. Joseph J    male  35.000000   \n",
       "21                                Beesley, Mr. Lawrence    male  34.000000   \n",
       "22                          McGowan, Miss. Anna \"Annie\"  female  15.000000   \n",
       "23                         Sloper, Mr. William Thompson    male  28.000000   \n",
       "24                        Palsson, Miss. Torborg Danira  female   8.000000   \n",
       "25    Asplund, Mrs. Carl Oscar (Selma Augusta Emilia...  female  38.000000   \n",
       "26                              Emir, Mr. Farred Chehab    male  27.749836   \n",
       "27                       Fortune, Mr. Charles Alexander    male  19.000000   \n",
       "28                        O'Dwyer, Miss. Ellen \"Nellie\"  female  22.581283   \n",
       "29                                  Todoroff, Mr. Lalio    male  27.824180   \n",
       "...                                                 ...     ...        ...   \n",
       "1279                               Canavan, Mr. Patrick    male  21.000000   \n",
       "1280                        Palsson, Master. Paul Folke    male   6.000000   \n",
       "1281                         Payne, Mr. Vivian Ponsonby    male  23.000000   \n",
       "1282     Lines, Mrs. Ernest H (Elizabeth Lindsey James)  female  51.000000   \n",
       "1283                      Abbott, Master. Eugene Joseph    male  13.000000   \n",
       "1284                               Gilbert, Mr. William    male  47.000000   \n",
       "1285                           Kink-Heilmann, Mr. Anton    male  29.000000   \n",
       "1286     Smith, Mrs. Lucien Philip (Mary Eloise Hughes)  female  18.000000   \n",
       "1287                               Colbert, Mr. Patrick    male  24.000000   \n",
       "1288  Frolicher-Stehli, Mrs. Maxmillian (Margaretha ...  female  48.000000   \n",
       "1289                     Larsson-Rondberg, Mr. Edvard A    male  22.000000   \n",
       "1290                           Conlon, Mr. Thomas Henry    male  31.000000   \n",
       "1291                            Bonnell, Miss. Caroline  female  30.000000   \n",
       "1292                                    Gale, Mr. Harry    male  38.000000   \n",
       "1293                     Gibson, Miss. Dorothy Winifred  female  22.000000   \n",
       "1294                             Carrau, Mr. Jose Pedro    male  17.000000   \n",
       "1295                       Frauenthal, Mr. Isaac Gerald    male  43.000000   \n",
       "1296       Nourney, Mr. Alfred (Baron von Drachstedt\")\"    male  20.000000   \n",
       "1297                          Ware, Mr. William Jeffery    male  23.000000   \n",
       "1298                         Widener, Mr. George Dunton    male  50.000000   \n",
       "1299                    Riordan, Miss. Johanna Hannah\"\"  female  21.762804   \n",
       "1300                          Peacock, Miss. Treasteall  female   3.000000   \n",
       "1301                             Naughton, Miss. Hannah  female  32.693417   \n",
       "1302    Minahan, Mrs. William Edward (Lillian E Thorpe)  female  37.000000   \n",
       "1303                     Henriksson, Miss. Jenny Lovisa  female  28.000000   \n",
       "1304                                 Spector, Mr. Woolf    male  29.513190   \n",
       "1305                       Oliva y Ocana, Dona. Fermina  female  39.000000   \n",
       "1306                       Saether, Mr. Simon Sivertsen    male  38.500000   \n",
       "1307                                Ware, Mr. Frederick    male  29.513190   \n",
       "1308                           Peter, Master. Michael J    male  25.315435   \n",
       "\n",
       "      SibSp  Parch              Ticket      Fare        Cabin Embarked  \n",
       "0         1      0           A/5 21171    7.2500           U0        S  \n",
       "1         1      0            PC 17599   71.2833          C85        C  \n",
       "2         0      0    STON/O2. 3101282    7.9250           U0        S  \n",
       "3         1      0              113803   53.1000         C123        S  \n",
       "4         0      0              373450    8.0500           U0        S  \n",
       "5         0      0              330877    8.4583           U0        Q  \n",
       "6         0      0               17463   51.8625          E46        S  \n",
       "7         3      1              349909   21.0750           U0        S  \n",
       "8         0      2              347742   11.1333           U0        S  \n",
       "9         1      0              237736   30.0708           U0        C  \n",
       "10        1      1             PP 9549   16.7000           G6        S  \n",
       "11        0      0              113783   26.5500         C103        S  \n",
       "12        0      0           A/5. 2151    8.0500           U0        S  \n",
       "13        1      5              347082   31.2750           U0        S  \n",
       "14        0      0              350406    7.8542           U0        S  \n",
       "15        0      0              248706   16.0000           U0        S  \n",
       "16        4      1              382652   29.1250           U0        Q  \n",
       "17        0      0              244373   13.0000           U0        S  \n",
       "18        1      0              345763   18.0000           U0        S  \n",
       "19        0      0                2649    7.2250           U0        C  \n",
       "20        0      0              239865   26.0000           U0        S  \n",
       "21        0      0              248698   13.0000          D56        S  \n",
       "22        0      0              330923    8.0292           U0        Q  \n",
       "23        0      0              113788   35.5000           A6        S  \n",
       "24        3      1              349909   21.0750           U0        S  \n",
       "25        1      5              347077   31.3875           U0        S  \n",
       "26        0      0                2631    7.2250           U0        C  \n",
       "27        3      2               19950  263.0000  C23 C25 C27        S  \n",
       "28        0      0              330959    7.8792           U0        Q  \n",
       "29        0      0              349216    7.8958           U0        S  \n",
       "...     ...    ...                 ...       ...          ...      ...  \n",
       "1279      0      0              364858    7.7500           U0        Q  \n",
       "1280      3      1              349909   21.0750           U0        S  \n",
       "1281      0      0               12749   93.5000          B24        S  \n",
       "1282      0      1            PC 17592   39.4000          D28        S  \n",
       "1283      0      2           C.A. 2673   20.2500           U0        S  \n",
       "1284      0      0          C.A. 30769   10.5000           U0        S  \n",
       "1285      3      1              315153   22.0250           U0        S  \n",
       "1286      1      0               13695   60.0000          C31        S  \n",
       "1287      0      0              371109    7.2500           U0        Q  \n",
       "1288      1      1               13567   79.2000          B41        C  \n",
       "1289      0      0              347065    7.7750           U0        S  \n",
       "1290      0      0               21332    7.7333           U0        Q  \n",
       "1291      0      0               36928  164.8667           C7        S  \n",
       "1292      1      0               28664   21.0000           U0        S  \n",
       "1293      0      1              112378   59.4000           U0        C  \n",
       "1294      0      0              113059   47.1000           U0        S  \n",
       "1295      1      0               17765   27.7208          D40        C  \n",
       "1296      0      0       SC/PARIS 2166   13.8625          D38        C  \n",
       "1297      1      0               28666   10.5000           U0        S  \n",
       "1298      1      1              113503  211.5000          C80        C  \n",
       "1299      0      0              334915    7.7208           U0        Q  \n",
       "1300      1      1  SOTON/O.Q. 3101315   13.7750           U0        S  \n",
       "1301      0      0              365237    7.7500           U0        Q  \n",
       "1302      1      0               19928   90.0000          C78        Q  \n",
       "1303      0      0              347086    7.7750           U0        S  \n",
       "1304      0      0           A.5. 3236    8.0500           U0        S  \n",
       "1305      0      0            PC 17758  108.9000         C105        C  \n",
       "1306      0      0  SOTON/O.Q. 3101262    7.2500           U0        S  \n",
       "1307      0      0              359309    8.0500           U0        S  \n",
       "1308      1      1                2668   22.3583           U0        C  \n",
       "\n",
       "[1309 rows x 12 columns]>"
      ]
     },
     "execution_count": 20,
     "metadata": {},
     "output_type": "execute_result"
    }
   ],
   "source": [
    "#your code here\n",
    "titanic.select_dtypes"
   ]
  },
  {
   "cell_type": "markdown",
   "metadata": {},
   "source": [
    "#### What are your numerical variables? What are your categorical variables?\n",
    "\n",
    "*Hint: Use Pandas `select_dtypes`*"
   ]
  },
  {
   "cell_type": "code",
   "execution_count": 27,
   "metadata": {},
   "outputs": [
    {
     "data": {
      "text/html": [
       "<div>\n",
       "<style scoped>\n",
       "    .dataframe tbody tr th:only-of-type {\n",
       "        vertical-align: middle;\n",
       "    }\n",
       "\n",
       "    .dataframe tbody tr th {\n",
       "        vertical-align: top;\n",
       "    }\n",
       "\n",
       "    .dataframe thead th {\n",
       "        text-align: right;\n",
       "    }\n",
       "</style>\n",
       "<table border=\"1\" class=\"dataframe\">\n",
       "  <thead>\n",
       "    <tr style=\"text-align: right;\">\n",
       "      <th></th>\n",
       "      <th>PassengerId</th>\n",
       "      <th>Survived</th>\n",
       "      <th>Pclass</th>\n",
       "      <th>Age</th>\n",
       "      <th>SibSp</th>\n",
       "      <th>Parch</th>\n",
       "      <th>Fare</th>\n",
       "    </tr>\n",
       "  </thead>\n",
       "  <tbody>\n",
       "    <tr>\n",
       "      <th>0</th>\n",
       "      <td>1</td>\n",
       "      <td>0.0</td>\n",
       "      <td>3</td>\n",
       "      <td>22.0</td>\n",
       "      <td>1</td>\n",
       "      <td>0</td>\n",
       "      <td>7.2500</td>\n",
       "    </tr>\n",
       "    <tr>\n",
       "      <th>1</th>\n",
       "      <td>2</td>\n",
       "      <td>1.0</td>\n",
       "      <td>1</td>\n",
       "      <td>38.0</td>\n",
       "      <td>1</td>\n",
       "      <td>0</td>\n",
       "      <td>71.2833</td>\n",
       "    </tr>\n",
       "    <tr>\n",
       "      <th>2</th>\n",
       "      <td>3</td>\n",
       "      <td>1.0</td>\n",
       "      <td>3</td>\n",
       "      <td>26.0</td>\n",
       "      <td>0</td>\n",
       "      <td>0</td>\n",
       "      <td>7.9250</td>\n",
       "    </tr>\n",
       "    <tr>\n",
       "      <th>3</th>\n",
       "      <td>4</td>\n",
       "      <td>1.0</td>\n",
       "      <td>1</td>\n",
       "      <td>35.0</td>\n",
       "      <td>1</td>\n",
       "      <td>0</td>\n",
       "      <td>53.1000</td>\n",
       "    </tr>\n",
       "    <tr>\n",
       "      <th>4</th>\n",
       "      <td>5</td>\n",
       "      <td>0.0</td>\n",
       "      <td>3</td>\n",
       "      <td>35.0</td>\n",
       "      <td>0</td>\n",
       "      <td>0</td>\n",
       "      <td>8.0500</td>\n",
       "    </tr>\n",
       "  </tbody>\n",
       "</table>\n",
       "</div>"
      ],
      "text/plain": [
       "   PassengerId  Survived  Pclass   Age  SibSp  Parch     Fare\n",
       "0            1       0.0       3  22.0      1      0   7.2500\n",
       "1            2       1.0       1  38.0      1      0  71.2833\n",
       "2            3       1.0       3  26.0      0      0   7.9250\n",
       "3            4       1.0       1  35.0      1      0  53.1000\n",
       "4            5       0.0       3  35.0      0      0   8.0500"
      ]
     },
     "execution_count": 27,
     "metadata": {},
     "output_type": "execute_result"
    }
   ],
   "source": [
    "# your code here- numerical variable\n",
    "numerical = titanic.select_dtypes(include=['float64','int64']).head()"
   ]
  },
  {
   "cell_type": "code",
   "execution_count": 29,
   "metadata": {},
   "outputs": [],
   "source": [
    "#your code here- categorical variable\n",
    "categorical = titanic.select_dtypes(include=['bool', 'object']).head()"
   ]
  },
  {
   "cell_type": "markdown",
   "metadata": {},
   "source": [
    "#### Set the plot style to `classic` and the figure size to `(12,6)`\n",
    "\n",
    "*Hint: To set the style you can use `matplotlib.pyplot` functions or seaborn*"
   ]
  },
  {
   "cell_type": "code",
   "execution_count": 35,
   "metadata": {},
   "outputs": [],
   "source": [
    "# your code here\n",
    "import matplotlib.style\n",
    "import matplotlib as mpl\n",
    "mpl.style.use('classic')"
   ]
  },
  {
   "cell_type": "markdown",
   "metadata": {},
   "source": [
    "#### Use the appropriate visulalization to show the distribution of the column `Age`"
   ]
  },
  {
   "cell_type": "code",
   "execution_count": 39,
   "metadata": {},
   "outputs": [
    {
     "data": {
      "text/plain": [
       "<matplotlib.collections.PathCollection at 0x296e1597be0>"
      ]
     },
     "execution_count": 39,
     "metadata": {},
     "output_type": "execute_result"
    },
    {
     "data": {
      "image/png": "[encoded data removed]",
      "text/plain": [
       "<Figure size 960x480 with 1 Axes>"
      ]
     },
     "metadata": {},
     "output_type": "display_data"
    }
   ],
   "source": [
    "# your code here\n",
    "fig, ax = plt.subplots(1,1, figsize =(12,6))\n",
    "ax.scatter(titanic.index, titanic['Age'])"
   ]
  },
  {
   "cell_type": "markdown",
   "metadata": {},
   "source": [
    "#### Use subplots to plot the distribution of the `Age` variable with bins equal to `10`, `20` and `50`."
   ]
  },
  {
   "cell_type": "code",
   "execution_count": null,
   "metadata": {},
   "outputs": [],
   "source": [
    "# your code here\n"
   ]
  },
  {
   "cell_type": "markdown",
   "metadata": {},
   "source": [
    "#### Whether the bin size affects your plot? Why?"
   ]
  },
  {
   "cell_type": "code",
   "execution_count": 2,
   "metadata": {},
   "outputs": [],
   "source": [
    "#your comment here\n"
   ]
  },
  {
   "cell_type": "markdown",
   "metadata": {},
   "source": [
    "#### Use seaborn to show the distribution of the column `Age`"
   ]
  },
  {
   "cell_type": "code",
   "execution_count": null,
   "metadata": {},
   "outputs": [],
   "source": [
    "# your code here\n"
   ]
  },
  {
   "cell_type": "markdown",
   "metadata": {},
   "source": [
    "#### Use the appropriate plot to visualize the column `Gender`. There are 2 ways of doing it. Do it both ways.\n",
    "\n",
    "*Hint: Use matplotlib and seaborn*"
   ]
  },
  {
   "cell_type": "code",
   "execution_count": null,
   "metadata": {},
   "outputs": [],
   "source": [
    "# your code here- 1st way\n"
   ]
  },
  {
   "cell_type": "code",
   "execution_count": null,
   "metadata": {},
   "outputs": [],
   "source": [
    "# your code here- 2nd way\n"
   ]
  },
  {
   "cell_type": "markdown",
   "metadata": {},
   "source": [
    "#### Use the appropriate plot to visualize the column `Pclass` \n"
   ]
  },
  {
   "cell_type": "code",
   "execution_count": null,
   "metadata": {},
   "outputs": [],
   "source": [
    "# your code here\n"
   ]
  },
  {
   "cell_type": "markdown",
   "metadata": {},
   "source": [
    "#### We would like to have in one single plot the summary statistics of the feature `Age`. Choose the appropriate plot to show below."
   ]
  },
  {
   "cell_type": "code",
   "execution_count": 3,
   "metadata": {},
   "outputs": [],
   "source": [
    "# your code here\n"
   ]
  },
  {
   "cell_type": "markdown",
   "metadata": {},
   "source": [
    "#### What does the previous plot tell you about the feature `Age`? Comment."
   ]
  },
  {
   "cell_type": "code",
   "execution_count": null,
   "metadata": {},
   "outputs": [],
   "source": [
    "# your comment here\n"
   ]
  },
  {
   "cell_type": "markdown",
   "metadata": {},
   "source": [
    "#### Now in addition to the summary statistics, we also want to visualize the distribution of `Age`. Choose the appropriate plot to sow below."
   ]
  },
  {
   "cell_type": "code",
   "execution_count": null,
   "metadata": {},
   "outputs": [],
   "source": [
    "#your code here\n"
   ]
  },
  {
   "cell_type": "markdown",
   "metadata": {},
   "source": [
    "#### What additional information in the previous plot provide you about the feature `Age`? Comment."
   ]
  },
  {
   "cell_type": "code",
   "execution_count": null,
   "metadata": {},
   "outputs": [],
   "source": [
    "#your comment here\n"
   ]
  },
  {
   "cell_type": "markdown",
   "metadata": {},
   "source": [
    "#### We suspect that there is a linear relationship between `Fare` and `Age`. Use the appropriate plot to show the relationship between these 2 features. There are 2 ways, please do it both ways.\n",
    "\n",
    "*Hint: One of the ways involves using Seaborn*"
   ]
  },
  {
   "cell_type": "code",
   "execution_count": null,
   "metadata": {},
   "outputs": [],
   "source": [
    "#your code-1st way\n"
   ]
  },
  {
   "cell_type": "code",
   "execution_count": null,
   "metadata": {},
   "outputs": [],
   "source": [
    "# your code-2nd way\n"
   ]
  },
  {
   "cell_type": "markdown",
   "metadata": {},
   "source": [
    "#### Using Seaborn plot the correlation matrix of various features.\n",
    "\n",
    "*Hint: search how to use `heatmap`*"
   ]
  },
  {
   "cell_type": "code",
   "execution_count": null,
   "metadata": {},
   "outputs": [],
   "source": [
    "#your code here\n"
   ]
  },
  {
   "cell_type": "markdown",
   "metadata": {},
   "source": [
    "#### According to the previous plot, what are the most correlated feature? Comment."
   ]
  },
  {
   "cell_type": "code",
   "execution_count": null,
   "metadata": {},
   "outputs": [],
   "source": [
    "#your comment here\n"
   ]
  },
  {
   "cell_type": "markdown",
   "metadata": {},
   "source": [
    "#### Use the appropriate plot to display the summary statistics of the `Age` in function of the `Pclass`.\n",
    "\n",
    "*Hint: use boxplot to display summary statistics of `Age` in relation to each of the discrete values of `Pclass`*"
   ]
  },
  {
   "cell_type": "code",
   "execution_count": null,
   "metadata": {},
   "outputs": [],
   "source": [
    "#your code here\n"
   ]
  },
  {
   "cell_type": "markdown",
   "metadata": {},
   "source": [
    "#### Use the appropriate plot to display the distributions of  `Age` in relation to  `Gender`.\n",
    "\n",
    "*Hint: use Facetgrid to display the distribution of `Age` for each categorical value of `Gender`*"
   ]
  },
  {
   "cell_type": "code",
   "execution_count": null,
   "metadata": {},
   "outputs": [],
   "source": [
    "#your code here\n"
   ]
  }
 ],
 "metadata": {
  "kernelspec": {
   "display_name": "Python 3",
   "language": "python",
   "name": "python3"
  },
  "language_info": {
   "codemirror_mode": {
    "name": "ipython",
    "version": 3
   },
   "file_extension": ".py",
   "mimetype": "text/x-python",
   "name": "python",
   "nbconvert_exporter": "python",
   "pygments_lexer": "ipython3",
   "version": "3.7.3"
  }
 },
 "nbformat": 4,
 "nbformat_minor": 2
}
