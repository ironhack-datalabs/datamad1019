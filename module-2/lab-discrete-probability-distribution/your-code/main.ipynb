{
 "cells": [
  {
   "cell_type": "markdown",
   "metadata": {},
   "source": [
    "# Before your start:\n",
    "\n",
    "    Read the README.md file\n",
    "    Comment as much as you can and use the resources (README.md file)\n",
    "    Happy learning!\n",
    "\n",
    "*Notes:* \n",
    "\n",
    "- Solve the questions with python.\n",
    "\n",
    "- Round the final answer to three decimal places."
   ]
  },
  {
   "cell_type": "markdown",
   "metadata": {},
   "source": [
    "## Bernoulli's Distribution\n",
    "\n",
    "In a basket containing 100 fruits, there are 60 apples and 40 oranges. \n",
    "\n",
    "A fruit is picked randomly from the basket. \n",
    "\n",
    "1. **What is the probability that the fruit is apple?**\n",
    "1. **What is the probability that it is an orange?**"
   ]
  },
  {
   "cell_type": "code",
   "execution_count": 17,
   "metadata": {},
   "outputs": [
    {
     "name": "stdout",
     "output_type": "stream",
     "text": [
      "0.6 0.4\n"
     ]
    }
   ],
   "source": [
    "\"\"\"\n",
    "Calculate:\n",
    "p = probability that the fruit is an apple \n",
    "q = probability that the fruit is an orange\n",
    "\"\"\"\n",
    "\n",
    "# your code here\n",
    "total_fruits = 100\n",
    "apples = 60\n",
    "oranges = 40\n",
    "\n",
    "p = apples/total_fruits\n",
    "q = oranges/total_fruits\n",
    "\n",
    "print(p,q)\n",
    "\n",
    "# There is a 60% of probability that the fruit is an apple, and 40% of probability that the fruit is an orange."
   ]
  },
  {
   "cell_type": "markdown",
   "metadata": {},
   "source": [
    "Now we take a random sample of 20 fruits from the basket. After each fruit is taken, a new fruit of the same type is replaced in the basket. Therefore, every time we are taking 1 fruit from 100 fruits. \n",
    "\n",
    "1. **What is the probability that the first 5 fruits are all apples?**\n",
    "\n",
    "1. **What is the probability that the first 5 fruits are all apples and the next 15 fruits are all oranges?**\n",
    "\n",
    "You can include the `p` and `q` probabilities you previous calculated in your solution."
   ]
  },
  {
   "cell_type": "code",
   "execution_count": 51,
   "metadata": {},
   "outputs": [
    {
     "name": "stdout",
     "output_type": "stream",
     "text": [
      "0.078 0.0\n"
     ]
    }
   ],
   "source": [
    "# your code here\n",
    "\n",
    "from scipy.stats import binom,geom,poisson\n",
    "\n",
    "five_apples = p**5\n",
    "\n",
    "and_15_oranges = (p**5)*(q**15)\n",
    "\n",
    "print(round(five_apples,3),round(and_15_oranges,3))"
   ]
  },
  {
   "cell_type": "markdown",
   "metadata": {},
   "source": [
    "## Binomial Distribution\n",
    "\n",
    "Similar to the above problem, this time again we randomly sample 20 fruits.\n",
    "\n",
    "**What is the probability that this time the sample contains 5 apples and 15 oranges?**\n",
    "\n",
    "Please note that this time the order of the fruits being picked does not matter."
   ]
  },
  {
   "cell_type": "code",
   "execution_count": 41,
   "metadata": {},
   "outputs": [
    {
     "name": "stdout",
     "output_type": "stream",
     "text": [
      "0.0012944935222876511 0.0012944935222876511\n"
     ]
    }
   ],
   "source": [
    "# your code here\n",
    "from scipy.stats import binom\n",
    "\n",
    "apples_5 = binom.pmf(5, 20, 0.6)\n",
    "oranges_15 = binom.pmf(15, 20, 0.4)\n",
    "\n",
    "print(apples_5, oranges_15)"
   ]
  },
  {
   "cell_type": "markdown",
   "metadata": {},
   "source": [
    "In the lesson we also discussed CDF (cumulative distribution function). In the context of the above problem, **what is the probability that less than 5 fruits picked are apples?**\n",
    "\n",
    "Write the formula and calculate the probability below."
   ]
  },
  {
   "cell_type": "code",
   "execution_count": 48,
   "metadata": {},
   "outputs": [
    {
     "name": "stdout",
     "output_type": "stream",
     "text": [
      "0.0003170201260523514\n",
      "0.0003170311211686301\n"
     ]
    }
   ],
   "source": [
    "# your code here\n",
    "print(sum([ binom.pmf(n,20,0.6) for n in range(1,5)]))\n",
    "a_less_5 = binom.cdf(4, 20, 0.6)\n",
    "\n",
    "print(a_less_5)"
   ]
  },
  {
   "cell_type": "markdown",
   "metadata": {},
   "source": [
    "**Plot the PDF (probability distributiom function) for the above binomial distribution.**\n",
    "\n",
    "*Hint: The range of x in a binomial distribution is from `0` to `n`.*"
   ]
  },
  {
   "cell_type": "code",
   "execution_count": 49,
   "metadata": {},
   "outputs": [
    {
     "name": "stderr",
     "output_type": "stream",
     "text": [
      "/home/mariobru/.local/lib/python3.6/site-packages/ipykernel_launcher.py:8: UserWarning: In Matplotlib 3.3 individual lines on a stem plot will be added as a LineCollection instead of individual lines. This significantly improves the performance of a stem plot. To remove this warning and switch to the new behaviour, set the \"use_line_collection\" keyword argument to True.\n",
      "  \n"
     ]
    },
    {
     "data": {
      "text/plain": [
       "([<matplotlib.axis.XTick at 0x7f4c26513da0>,\n",
       "  <matplotlib.axis.XTick at 0x7f4c265136d8>,\n",
       "  <matplotlib.axis.XTick at 0x7f4c26513400>,\n",
       "  <matplotlib.axis.XTick at 0x7f4c264e5ef0>,\n",
       "  <matplotlib.axis.XTick at 0x7f4c264e5fd0>,\n",
       "  <matplotlib.axis.XTick at 0x7f4c264ef780>,\n",
       "  <matplotlib.axis.XTick at 0x7f4c264efc50>,\n",
       "  <matplotlib.axis.XTick at 0x7f4c264f7198>,\n",
       "  <matplotlib.axis.XTick at 0x7f4c264f7630>,\n",
       "  <matplotlib.axis.XTick at 0x7f4c264f7b00>,\n",
       "  <matplotlib.axis.XTick at 0x7f4c264f7d30>,\n",
       "  <matplotlib.axis.XTick at 0x7f4c264fc4e0>,\n",
       "  <matplotlib.axis.XTick at 0x7f4c264fc9b0>,\n",
       "  <matplotlib.axis.XTick at 0x7f4c264fce80>,\n",
       "  <matplotlib.axis.XTick at 0x7f4c264fca90>,\n",
       "  <matplotlib.axis.XTick at 0x7f4c264f7588>,\n",
       "  <matplotlib.axis.XTick at 0x7f4c264ef860>,\n",
       "  <matplotlib.axis.XTick at 0x7f4c264855c0>,\n",
       "  <matplotlib.axis.XTick at 0x7f4c26485a90>,\n",
       "  <matplotlib.axis.XTick at 0x7f4c26485f60>],\n",
       " <a list of 20 Text xticklabel objects>)"
      ]
     },
     "execution_count": 49,
     "metadata": {},
     "output_type": "execute_result"
    },
    {
     "data": {
      "image/png": "[encoded data removed]",
      "text/plain": [
       "<Figure size 432x288 with 1 Axes>"
      ]
     },
     "metadata": {
      "needs_background": "light"
     },
     "output_type": "display_data"
    }
   ],
   "source": [
    "# your code here\n",
    "# Please label the axes and give a title to the plot\n",
    "data = [ binom.pmf(n,20,0.6) for n in range(1,21)]\n",
    "\n",
    "import matplotlib.pyplot as plt\n",
    "\n",
    "x = list(range(1,21))\n",
    "plt.stem(x,data)\n",
    "plt.xticks(x)"
   ]
  },
  {
   "cell_type": "markdown",
   "metadata": {},
   "source": [
    "## Poisson Distribution\n",
    "\n",
    "In this challenge you are required to use the Math library in python to solve the problems.\n",
    "\n",
    "In the UEFA champions league tournament, the average number of goals scored in a match is 2.3. \n",
    "\n",
    "**What is the probability that the number of goals scored in a match is 5?**\n",
    "\n",
    "*Hint: Use the exp() in the math library*\n",
    "\n",
    "And to calculate the factorial, you can use the following code:\n",
    "\n",
    "```python\n",
    "import math\n",
    "math.factorial(n) # n is the number you want to find the factorial of\n",
    "```"
   ]
  },
  {
   "cell_type": "code",
   "execution_count": 53,
   "metadata": {},
   "outputs": [
    {
     "name": "stdout",
     "output_type": "stream",
     "text": [
      "0.053775025581946814\n"
     ]
    }
   ],
   "source": [
    "# your code here \n",
    "\n",
    "prob5goals = poisson.pmf(5,2.3)\n",
    "print(prob5goals)"
   ]
  },
  {
   "cell_type": "markdown",
   "metadata": {},
   "source": [
    "**Draw a poisson probability distribution plot for the number of goals to be between 0 to 10.**"
   ]
  },
  {
   "cell_type": "code",
   "execution_count": 55,
   "metadata": {},
   "outputs": [
    {
     "name": "stderr",
     "output_type": "stream",
     "text": [
      "/home/mariobru/.local/lib/python3.6/site-packages/ipykernel_launcher.py:9: UserWarning: In Matplotlib 3.3 individual lines on a stem plot will be added as a LineCollection instead of individual lines. This significantly improves the performance of a stem plot. To remove this warning and switch to the new behaviour, set the \"use_line_collection\" keyword argument to True.\n",
      "  if __name__ == '__main__':\n"
     ]
    },
    {
     "data": {
      "text/plain": [
       "([<matplotlib.axis.XTick at 0x7f4c2645c3c8>,\n",
       "  <matplotlib.axis.XTick at 0x7f4c26445128>,\n",
       "  <matplotlib.axis.XTick at 0x7f4c26445978>,\n",
       "  <matplotlib.axis.XTick at 0x7f4c2641a550>,\n",
       "  <matplotlib.axis.XTick at 0x7f4c2641aa20>,\n",
       "  <matplotlib.axis.XTick at 0x7f4c2641aef0>,\n",
       "  <matplotlib.axis.XTick at 0x7f4c26421400>,\n",
       "  <matplotlib.axis.XTick at 0x7f4c264218d0>,\n",
       "  <matplotlib.axis.XTick at 0x7f4c26421da0>,\n",
       "  <matplotlib.axis.XTick at 0x7f4c264292b0>],\n",
       " <a list of 10 Text xticklabel objects>)"
      ]
     },
     "execution_count": 55,
     "metadata": {},
     "output_type": "execute_result"
    },
    {
     "data": {
      "image/png": "[encoded data removed]",
      "text/plain": [
       "<Figure size 432x288 with 1 Axes>"
      ]
     },
     "metadata": {
      "needs_background": "light"
     },
     "output_type": "display_data"
    }
   ],
   "source": [
    "# your code here\n",
    "# Please label the axes and give a title to the plot\n",
    "\n",
    "data = [ poisson.pmf(n,2.3) for n in range(0,10)]\n",
    "\n",
    "import matplotlib.pyplot as plt\n",
    "\n",
    "x = list(range(0,10))\n",
    "plt.stem(x,data)\n",
    "plt.xticks(x)"
   ]
  },
  {
   "cell_type": "code",
   "execution_count": null,
   "metadata": {},
   "outputs": [],
   "source": []
  }
 ],
 "metadata": {
  "kernelspec": {
   "display_name": "Python 3",
   "language": "python",
   "name": "python3"
  },
  "language_info": {
   "codemirror_mode": {
    "name": "ipython",
    "version": 3
   },
   "file_extension": ".py",
   "mimetype": "text/x-python",
   "name": "python",
   "nbconvert_exporter": "python",
   "pygments_lexer": "ipython3",
   "version": "3.6.8"
  }
 },
 "nbformat": 4,
 "nbformat_minor": 2
}
