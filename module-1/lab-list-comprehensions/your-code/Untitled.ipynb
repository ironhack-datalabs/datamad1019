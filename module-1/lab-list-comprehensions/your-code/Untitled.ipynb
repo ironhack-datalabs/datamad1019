{
 "cells": [
  {
   "cell_type": "code",
   "execution_count": 4,
   "metadata": {},
   "outputs": [
    {
     "ename": "NameError",
     "evalue": "name 'np' is not defined",
     "output_type": "error",
     "traceback": [
      "\u001b[0;31m---------------------------------------------------------------------------\u001b[0m",
      "\u001b[0;31mNameError\u001b[0m                                 Traceback (most recent call last)",
      "\u001b[0;32m<ipython-input-4-49cf55557cba>\u001b[0m in \u001b[0;36m<module>\u001b[0;34m\u001b[0m\n\u001b[0;32m----> 1\u001b[0;31m a = np.array([[0.84062117, 0.48006452, 0.7876326 , 0.77109654],\n\u001b[0m\u001b[1;32m      2\u001b[0m        \u001b[0;34m[\u001b[0m\u001b[0;36m0.44409793\u001b[0m\u001b[0;34m,\u001b[0m \u001b[0;36m0.09014516\u001b[0m\u001b[0;34m,\u001b[0m \u001b[0;36m0.81835917\u001b[0m\u001b[0;34m,\u001b[0m \u001b[0;36m0.87645456\u001b[0m\u001b[0;34m]\u001b[0m\u001b[0;34m,\u001b[0m\u001b[0;34m\u001b[0m\u001b[0;34m\u001b[0m\u001b[0m\n\u001b[1;32m      3\u001b[0m        \u001b[0;34m[\u001b[0m\u001b[0;36m0.7066597\u001b[0m \u001b[0;34m,\u001b[0m \u001b[0;36m0.09610873\u001b[0m\u001b[0;34m,\u001b[0m \u001b[0;36m0.41247947\u001b[0m\u001b[0;34m,\u001b[0m \u001b[0;36m0.57433389\u001b[0m\u001b[0;34m]\u001b[0m\u001b[0;34m,\u001b[0m\u001b[0;34m\u001b[0m\u001b[0;34m\u001b[0m\u001b[0m\n\u001b[1;32m      4\u001b[0m        \u001b[0;34m[\u001b[0m\u001b[0;36m0.29960807\u001b[0m\u001b[0;34m,\u001b[0m \u001b[0;36m0.42315023\u001b[0m\u001b[0;34m,\u001b[0m \u001b[0;36m0.34452557\u001b[0m\u001b[0;34m,\u001b[0m \u001b[0;36m0.4751035\u001b[0m \u001b[0;34m]\u001b[0m\u001b[0;34m,\u001b[0m\u001b[0;34m\u001b[0m\u001b[0;34m\u001b[0m\u001b[0m\n\u001b[1;32m      5\u001b[0m        \u001b[0;34m[\u001b[0m\u001b[0;36m0.17003563\u001b[0m\u001b[0;34m,\u001b[0m \u001b[0;36m0.46843998\u001b[0m\u001b[0;34m,\u001b[0m \u001b[0;36m0.92796258\u001b[0m\u001b[0;34m,\u001b[0m \u001b[0;36m0.69814654\u001b[0m\u001b[0;34m]\u001b[0m\u001b[0;34m,\u001b[0m\u001b[0;34m\u001b[0m\u001b[0;34m\u001b[0m\u001b[0m\n",
      "\u001b[0;31mNameError\u001b[0m: name 'np' is not defined"
     ]
    }
   ],
   "source": [
    "\n"
   ]
  },
  {
   "cell_type": "code",
   "execution_count": null,
   "metadata": {},
   "outputs": [],
   "source": []
  }
 ],
 "metadata": {
  "kernelspec": {
   "display_name": "Python 3",
   "language": "python",
   "name": "python3"
  },
  "language_info": {
   "codemirror_mode": {
    "name": "ipython",
    "version": 3
   },
   "file_extension": ".py",
   "mimetype": "text/x-python",
   "name": "python",
   "nbconvert_exporter": "python",
   "pygments_lexer": "ipython3",
   "version": "3.7.5rc1"
  }
 },
 "nbformat": 4,
 "nbformat_minor": 2
}
