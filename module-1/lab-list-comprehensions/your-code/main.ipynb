{
 "cells": [
  {
   "cell_type": "markdown",
   "metadata": {},
   "source": [
    "# List Comprehensions Lab\n",
    "\n",
    "Complete the following set of exercises to solidify your knowledge of list comprehensions."
   ]
  },
  {
   "cell_type": "code",
   "execution_count": 42,
   "metadata": {},
   "outputs": [],
   "source": [
    "import os\n",
    "import numpy as np\n",
    "import pandas as pd"
   ]
  },
  {
   "cell_type": "markdown",
   "metadata": {},
   "source": [
    "### 1. Use a list comprehension to create and print a list of consecutive integers starting with 1 and ending with 50."
   ]
  },
  {
   "cell_type": "code",
   "execution_count": 43,
   "metadata": {},
   "outputs": [
    {
     "name": "stdout",
     "output_type": "stream",
     "text": [
      "[1, 2, 3, 4, 5, 6, 7, 8, 9, 10, 11, 12, 13, 14, 15, 16, 17, 18, 19, 20, 21, 22, 23, 24, 25, 26, 27, 28, 29, 30, 31, 32, 33, 34, 35, 36, 37, 38, 39, 40, 41, 42, 43, 44, 45, 46, 47, 48, 49, 50]\n"
     ]
    }
   ],
   "source": [
    "print(list(range(1,51)))"
   ]
  },
  {
   "cell_type": "markdown",
   "metadata": {},
   "source": [
    "### 2. Use a list comprehension to create and print a list of even numbers starting with 2 and ending with 200."
   ]
  },
  {
   "cell_type": "code",
   "execution_count": 44,
   "metadata": {},
   "outputs": [
    {
     "name": "stdout",
     "output_type": "stream",
     "text": [
      "[2, 4, 6, 8, 10, 12, 14, 16, 18, 20, 22, 24, 26, 28, 30, 32, 34, 36, 38, 40, 42, 44, 46, 48, 50, 52, 54, 56, 58, 60, 62, 64, 66, 68, 70, 72, 74, 76, 78, 80, 82, 84, 86, 88, 90, 92, 94, 96, 98, 100, 102, 104, 106, 108, 110, 112, 114, 116, 118, 120, 122, 124, 126, 128, 130, 132, 134, 136, 138, 140, 142, 144, 146, 148, 150, 152, 154, 156, 158, 160, 162, 164, 166, 168, 170, 172, 174, 176, 178, 180, 182, 184, 186, 188, 190, 192, 194, 196, 198, 200]\n"
     ]
    }
   ],
   "source": [
    "print([x for x in range(2,201) if x%2 == 0])\n",
    "\n"
   ]
  },
  {
   "cell_type": "markdown",
   "metadata": {},
   "source": [
    "### 3. Use a list comprehension to create and print a list containing all elements of the 10 x 4 Numpy array below."
   ]
  },
  {
   "cell_type": "code",
   "execution_count": 45,
   "metadata": {},
   "outputs": [],
   "source": [
    "a = np.array([[0.84062117, 0.48006452, 0.7876326 , 0.77109654],\n",
    "       [0.44409793, 0.09014516, 0.81835917, 0.87645456],\n",
    "       [0.7066597 , 0.09610873, 0.41247947, 0.57433389],\n",
    "       [0.29960807, 0.42315023, 0.34452557, 0.4751035 ],\n",
    "       [0.17003563, 0.46843998, 0.92796258, 0.69814654],\n",
    "       [0.41290051, 0.19561071, 0.16284783, 0.97016248],\n",
    "       [0.71725408, 0.87702738, 0.31244595, 0.76615487],\n",
    "       [0.20754036, 0.57871812, 0.07214068, 0.40356048],\n",
    "       [0.12149553, 0.53222417, 0.9976855 , 0.12536346],\n",
    "       [0.80930099, 0.50962849, 0.94555126, 0.33364763]])"
   ]
  },
  {
   "cell_type": "code",
   "execution_count": 46,
   "metadata": {},
   "outputs": [],
   "source": [
    "caja = [[1,2,3,4],[5,6,7,8],[9,10,11,12]]"
   ]
  },
  {
   "cell_type": "code",
   "execution_count": 47,
   "metadata": {},
   "outputs": [
    {
     "name": "stdout",
     "output_type": "stream",
     "text": [
      "0.84062117\n",
      "0.48006452\n",
      "0.7876326\n",
      "0.77109654\n",
      "0.44409793\n",
      "0.09014516\n",
      "0.81835917\n",
      "0.87645456\n",
      "0.7066597\n",
      "0.09610873\n",
      "0.41247947\n",
      "0.57433389\n",
      "0.29960807\n",
      "0.42315023\n",
      "0.34452557\n",
      "0.4751035\n",
      "0.17003563\n",
      "0.46843998\n",
      "0.92796258\n",
      "0.69814654\n",
      "0.41290051\n",
      "0.19561071\n",
      "0.16284783\n",
      "0.97016248\n",
      "0.71725408\n",
      "0.87702738\n",
      "0.31244595\n",
      "0.76615487\n",
      "0.20754036\n",
      "0.57871812\n",
      "0.07214068\n",
      "0.40356048\n",
      "0.12149553\n",
      "0.53222417\n",
      "0.9976855\n",
      "0.12536346\n",
      "0.80930099\n",
      "0.50962849\n",
      "0.94555126\n",
      "0.33364763\n"
     ]
    }
   ],
   "source": [
    "for x in a:\n",
    "    for y in x:\n",
    "        print(y)"
   ]
  },
  {
   "cell_type": "code",
   "execution_count": 48,
   "metadata": {},
   "outputs": [
    {
     "name": "stdout",
     "output_type": "stream",
     "text": [
      "[0.84062117, 0.48006452, 0.7876326, 0.77109654, 0.44409793, 0.09014516, 0.81835917, 0.87645456, 0.7066597, 0.09610873, 0.41247947, 0.57433389, 0.29960807, 0.42315023, 0.34452557, 0.4751035, 0.17003563, 0.46843998, 0.92796258, 0.69814654, 0.41290051, 0.19561071, 0.16284783, 0.97016248, 0.71725408, 0.87702738, 0.31244595, 0.76615487, 0.20754036, 0.57871812, 0.07214068, 0.40356048, 0.12149553, 0.53222417, 0.9976855, 0.12536346, 0.80930099, 0.50962849, 0.94555126, 0.33364763]\n"
     ]
    }
   ],
   "source": [
    "caja2= [y for x in a for y in x]\n",
    "print(caja2)"
   ]
  },
  {
   "cell_type": "markdown",
   "metadata": {},
   "source": [
    "### 4. Add a condition to the list comprehension above so that only values greater than or equal to 0.5 are printed."
   ]
  },
  {
   "cell_type": "code",
   "execution_count": 49,
   "metadata": {},
   "outputs": [
    {
     "name": "stdout",
     "output_type": "stream",
     "text": [
      "0.84062117\n",
      "0.7876326\n",
      "0.77109654\n",
      "0.81835917\n",
      "0.87645456\n",
      "0.7066597\n",
      "0.57433389\n",
      "0.92796258\n",
      "0.69814654\n",
      "0.97016248\n",
      "0.71725408\n",
      "0.87702738\n",
      "0.76615487\n",
      "0.57871812\n",
      "0.53222417\n",
      "0.9976855\n",
      "0.80930099\n",
      "0.50962849\n",
      "0.94555126\n"
     ]
    }
   ],
   "source": [
    "for x in a:\n",
    "    for y in x:\n",
    "        if y >= 0.5:\n",
    "            print(y)"
   ]
  },
  {
   "cell_type": "code",
   "execution_count": 50,
   "metadata": {},
   "outputs": [
    {
     "name": "stdout",
     "output_type": "stream",
     "text": [
      "[0.84062117, 0.7876326, 0.77109654, 0.81835917, 0.87645456, 0.7066597, 0.57433389, 0.92796258, 0.69814654, 0.97016248, 0.71725408, 0.87702738, 0.76615487, 0.57871812, 0.53222417, 0.9976855, 0.80930099, 0.50962849, 0.94555126]\n"
     ]
    }
   ],
   "source": [
    "print([y for x in a for y in x if y >= 0.5])"
   ]
  },
  {
   "cell_type": "markdown",
   "metadata": {},
   "source": [
    "### 5. Use a list comprehension to create and print a list containing all elements of the 5 x 2 x 3 Numpy array below."
   ]
  },
  {
   "cell_type": "code",
   "execution_count": 51,
   "metadata": {},
   "outputs": [],
   "source": [
    "b = np.array([[[0.55867166, 0.06210792, 0.08147297],\n",
    "        [0.82579068, 0.91512478, 0.06833034]],\n",
    "\n",
    "       [[0.05440634, 0.65857693, 0.30296619],\n",
    "        [0.06769833, 0.96031863, 0.51293743]],\n",
    "\n",
    "       [[0.09143215, 0.71893382, 0.45850679],\n",
    "        [0.58256464, 0.59005654, 0.56266457]],\n",
    "\n",
    "       [[0.71600294, 0.87392666, 0.11434044],\n",
    "        [0.8694668 , 0.65669313, 0.10708681]],\n",
    "\n",
    "       [[0.07529684, 0.46470767, 0.47984544],\n",
    "        [0.65368638, 0.14901286, 0.23760688]]])"
   ]
  },
  {
   "cell_type": "code",
   "execution_count": 52,
   "metadata": {},
   "outputs": [
    {
     "name": "stdout",
     "output_type": "stream",
     "text": [
      "[0.55867166 0.06210792 0.08147297]\n",
      "[0.82579068 0.91512478 0.06833034]\n",
      "[0.05440634 0.65857693 0.30296619]\n",
      "[0.06769833 0.96031863 0.51293743]\n",
      "[0.09143215 0.71893382 0.45850679]\n",
      "[0.58256464 0.59005654 0.56266457]\n",
      "[0.71600294 0.87392666 0.11434044]\n",
      "[0.8694668  0.65669313 0.10708681]\n",
      "[0.07529684 0.46470767 0.47984544]\n",
      "[0.65368638 0.14901286 0.23760688]\n"
     ]
    }
   ],
   "source": [
    "for x in b:\n",
    "    \n",
    "    for y in x:\n",
    "        print(y)"
   ]
  },
  {
   "cell_type": "code",
   "execution_count": 53,
   "metadata": {},
   "outputs": [
    {
     "data": {
      "text/plain": [
       "[0.55867166,\n",
       " 0.06210792,\n",
       " 0.08147297,\n",
       " 0.82579068,\n",
       " 0.91512478,\n",
       " 0.06833034,\n",
       " 0.05440634,\n",
       " 0.65857693,\n",
       " 0.30296619,\n",
       " 0.06769833,\n",
       " 0.96031863,\n",
       " 0.51293743,\n",
       " 0.09143215,\n",
       " 0.71893382,\n",
       " 0.45850679,\n",
       " 0.58256464,\n",
       " 0.59005654,\n",
       " 0.56266457,\n",
       " 0.71600294,\n",
       " 0.87392666,\n",
       " 0.11434044,\n",
       " 0.8694668,\n",
       " 0.65669313,\n",
       " 0.10708681,\n",
       " 0.07529684,\n",
       " 0.46470767,\n",
       " 0.47984544,\n",
       " 0.65368638,\n",
       " 0.14901286,\n",
       " 0.23760688]"
      ]
     },
     "execution_count": 53,
     "metadata": {},
     "output_type": "execute_result"
    }
   ],
   "source": [
    "caja3 =[c for x in b.tolist() for y in x for c in y]\n",
    "caja3"
   ]
  },
  {
   "cell_type": "markdown",
   "metadata": {},
   "source": [
    "### 5. Add a condition to the list comprehension above so that the last value in each subarray is printed, but only if it is less than or equal to 0.5."
   ]
  },
  {
   "cell_type": "code",
   "execution_count": 54,
   "metadata": {},
   "outputs": [
    {
     "name": "stdout",
     "output_type": "stream",
     "text": [
      "[0.08147297, 0.06833034, 0.30296619, 0.45850679, 0.11434044, 0.10708681, 0.47984544, 0.23760688]\n"
     ]
    }
   ],
   "source": [
    "print([y[2] for x in b for y in x if y[2] <= 0.5])"
   ]
  },
  {
   "cell_type": "markdown",
   "metadata": {},
   "source": [
    "### 6. Use a list comprehension to select and print the names of all CSV files in the */data* directory."
   ]
  },
  {
   "cell_type": "code",
   "execution_count": 55,
   "metadata": {},
   "outputs": [
    {
     "name": "stdout",
     "output_type": "stream",
     "text": [
      "sample_file_2.csv\n",
      "sample_file_5.csv\n",
      "sample_file_4.csv\n",
      "sample_file_9.csv\n",
      "sample_file_3.csv\n",
      "sample_file_8.csv\n",
      "sample_file_7.csv\n",
      "sample_file_1.csv\n",
      "sample_file_0.csv\n",
      "sample_file_6.csv\n"
     ]
    }
   ],
   "source": [
    "# .. te lleva hacia atras\n",
    "\n",
    "dir = os.listdir(\"../data\")\n",
    "\n",
    "for file in dir:\n",
    "    if file.endswith(\".csv\"):\n",
    "        print(file)"
   ]
  },
  {
   "cell_type": "code",
   "execution_count": 56,
   "metadata": {},
   "outputs": [
    {
     "name": "stdout",
     "output_type": "stream",
     "text": [
      "['sample_file_2.csv', 'sample_file_5.csv', 'sample_file_4.csv', 'sample_file_9.csv', 'sample_file_3.csv', 'sample_file_8.csv', 'sample_file_7.csv', 'sample_file_1.csv', 'sample_file_0.csv', 'sample_file_6.csv']\n"
     ]
    }
   ],
   "source": [
    "print([file for file in os.listdir(\"../data\") if file.endswith(\"csv\")])\n"
   ]
  },
  {
   "cell_type": "markdown",
   "metadata": {},
   "source": [
    "### 7. Use a list comprehension and the Pandas `read_csv` and `concat` methods to read all CSV files in the */data* directory and combine them into a single data frame. Display the top 10 rows of the resulting data frame."
   ]
  },
  {
   "cell_type": "code",
   "execution_count": 57,
   "metadata": {},
   "outputs": [
    {
     "data": {
      "text/html": [
       "<div>\n",
       "<style scoped>\n",
       "    .dataframe tbody tr th:only-of-type {\n",
       "        vertical-align: middle;\n",
       "    }\n",
       "\n",
       "    .dataframe tbody tr th {\n",
       "        vertical-align: top;\n",
       "    }\n",
       "\n",
       "    .dataframe thead th {\n",
       "        text-align: right;\n",
       "    }\n",
       "</style>\n",
       "<table border=\"1\" class=\"dataframe\">\n",
       "  <thead>\n",
       "    <tr style=\"text-align: right;\">\n",
       "      <th></th>\n",
       "      <th>0</th>\n",
       "      <th>1</th>\n",
       "      <th>2</th>\n",
       "      <th>3</th>\n",
       "      <th>4</th>\n",
       "      <th>5</th>\n",
       "      <th>6</th>\n",
       "      <th>7</th>\n",
       "      <th>8</th>\n",
       "      <th>9</th>\n",
       "      <th>10</th>\n",
       "      <th>11</th>\n",
       "      <th>12</th>\n",
       "      <th>13</th>\n",
       "      <th>14</th>\n",
       "      <th>15</th>\n",
       "      <th>16</th>\n",
       "      <th>17</th>\n",
       "      <th>18</th>\n",
       "      <th>19</th>\n",
       "    </tr>\n",
       "  </thead>\n",
       "  <tbody>\n",
       "    <tr>\n",
       "      <th>0</th>\n",
       "      <td>0.948664</td>\n",
       "      <td>0.215285</td>\n",
       "      <td>0.918270</td>\n",
       "      <td>0.599951</td>\n",
       "      <td>0.755120</td>\n",
       "      <td>0.971609</td>\n",
       "      <td>0.103190</td>\n",
       "      <td>0.194754</td>\n",
       "      <td>0.932388</td>\n",
       "      <td>0.591727</td>\n",
       "      <td>0.697517</td>\n",
       "      <td>0.607355</td>\n",
       "      <td>0.177649</td>\n",
       "      <td>0.435968</td>\n",
       "      <td>0.202404</td>\n",
       "      <td>0.979777</td>\n",
       "      <td>0.095713</td>\n",
       "      <td>0.159040</td>\n",
       "      <td>0.651457</td>\n",
       "      <td>0.803393</td>\n",
       "    </tr>\n",
       "    <tr>\n",
       "      <th>1</th>\n",
       "      <td>0.163236</td>\n",
       "      <td>0.803926</td>\n",
       "      <td>0.916655</td>\n",
       "      <td>0.775234</td>\n",
       "      <td>0.644890</td>\n",
       "      <td>0.701362</td>\n",
       "      <td>0.910208</td>\n",
       "      <td>0.871204</td>\n",
       "      <td>0.321745</td>\n",
       "      <td>0.586035</td>\n",
       "      <td>0.887054</td>\n",
       "      <td>0.240060</td>\n",
       "      <td>0.915342</td>\n",
       "      <td>0.205310</td>\n",
       "      <td>0.489504</td>\n",
       "      <td>0.848926</td>\n",
       "      <td>0.304342</td>\n",
       "      <td>0.358977</td>\n",
       "      <td>0.841539</td>\n",
       "      <td>0.964889</td>\n",
       "    </tr>\n",
       "    <tr>\n",
       "      <th>2</th>\n",
       "      <td>0.934136</td>\n",
       "      <td>0.031410</td>\n",
       "      <td>0.954057</td>\n",
       "      <td>0.853387</td>\n",
       "      <td>0.642160</td>\n",
       "      <td>0.681184</td>\n",
       "      <td>0.317198</td>\n",
       "      <td>0.875259</td>\n",
       "      <td>0.538416</td>\n",
       "      <td>0.867511</td>\n",
       "      <td>0.813309</td>\n",
       "      <td>0.215624</td>\n",
       "      <td>0.552062</td>\n",
       "      <td>0.498378</td>\n",
       "      <td>0.739656</td>\n",
       "      <td>0.307914</td>\n",
       "      <td>0.233996</td>\n",
       "      <td>0.602166</td>\n",
       "      <td>0.244210</td>\n",
       "      <td>0.313071</td>\n",
       "    </tr>\n",
       "    <tr>\n",
       "      <th>3</th>\n",
       "      <td>0.757038</td>\n",
       "      <td>0.918964</td>\n",
       "      <td>0.475459</td>\n",
       "      <td>0.837686</td>\n",
       "      <td>0.149645</td>\n",
       "      <td>0.819032</td>\n",
       "      <td>0.611996</td>\n",
       "      <td>0.644348</td>\n",
       "      <td>0.938444</td>\n",
       "      <td>0.410444</td>\n",
       "      <td>0.561513</td>\n",
       "      <td>0.499231</td>\n",
       "      <td>0.856437</td>\n",
       "      <td>0.054619</td>\n",
       "      <td>0.326310</td>\n",
       "      <td>0.461825</td>\n",
       "      <td>0.954783</td>\n",
       "      <td>0.361873</td>\n",
       "      <td>0.145952</td>\n",
       "      <td>0.873029</td>\n",
       "    </tr>\n",
       "    <tr>\n",
       "      <th>4</th>\n",
       "      <td>0.263455</td>\n",
       "      <td>0.816283</td>\n",
       "      <td>0.336707</td>\n",
       "      <td>0.587997</td>\n",
       "      <td>0.285871</td>\n",
       "      <td>0.619942</td>\n",
       "      <td>0.018027</td>\n",
       "      <td>0.548845</td>\n",
       "      <td>0.121471</td>\n",
       "      <td>0.194299</td>\n",
       "      <td>0.149844</td>\n",
       "      <td>0.848866</td>\n",
       "      <td>0.531840</td>\n",
       "      <td>0.663384</td>\n",
       "      <td>0.084884</td>\n",
       "      <td>0.120312</td>\n",
       "      <td>0.463214</td>\n",
       "      <td>0.437889</td>\n",
       "      <td>0.542376</td>\n",
       "      <td>0.668447</td>\n",
       "    </tr>\n",
       "  </tbody>\n",
       "</table>\n",
       "</div>"
      ],
      "text/plain": [
       "          0         1         2         3         4         5         6  \\\n",
       "0  0.948664  0.215285  0.918270  0.599951  0.755120  0.971609  0.103190   \n",
       "1  0.163236  0.803926  0.916655  0.775234  0.644890  0.701362  0.910208   \n",
       "2  0.934136  0.031410  0.954057  0.853387  0.642160  0.681184  0.317198   \n",
       "3  0.757038  0.918964  0.475459  0.837686  0.149645  0.819032  0.611996   \n",
       "4  0.263455  0.816283  0.336707  0.587997  0.285871  0.619942  0.018027   \n",
       "\n",
       "          7         8         9        10        11        12        13  \\\n",
       "0  0.194754  0.932388  0.591727  0.697517  0.607355  0.177649  0.435968   \n",
       "1  0.871204  0.321745  0.586035  0.887054  0.240060  0.915342  0.205310   \n",
       "2  0.875259  0.538416  0.867511  0.813309  0.215624  0.552062  0.498378   \n",
       "3  0.644348  0.938444  0.410444  0.561513  0.499231  0.856437  0.054619   \n",
       "4  0.548845  0.121471  0.194299  0.149844  0.848866  0.531840  0.663384   \n",
       "\n",
       "         14        15        16        17        18        19  \n",
       "0  0.202404  0.979777  0.095713  0.159040  0.651457  0.803393  \n",
       "1  0.489504  0.848926  0.304342  0.358977  0.841539  0.964889  \n",
       "2  0.739656  0.307914  0.233996  0.602166  0.244210  0.313071  \n",
       "3  0.326310  0.461825  0.954783  0.361873  0.145952  0.873029  \n",
       "4  0.084884  0.120312  0.463214  0.437889  0.542376  0.668447  "
      ]
     },
     "execution_count": 57,
     "metadata": {},
     "output_type": "execute_result"
    }
   ],
   "source": [
    "pd.read_csv(\"../data/sample_file_2.csv\")"
   ]
  },
  {
   "cell_type": "code",
   "execution_count": 85,
   "metadata": {},
   "outputs": [
    {
     "data": {
      "text/html": [
       "<div>\n",
       "<style scoped>\n",
       "    .dataframe tbody tr th:only-of-type {\n",
       "        vertical-align: middle;\n",
       "    }\n",
       "\n",
       "    .dataframe tbody tr th {\n",
       "        vertical-align: top;\n",
       "    }\n",
       "\n",
       "    .dataframe thead th {\n",
       "        text-align: right;\n",
       "    }\n",
       "</style>\n",
       "<table border=\"1\" class=\"dataframe\">\n",
       "  <thead>\n",
       "    <tr style=\"text-align: right;\">\n",
       "      <th></th>\n",
       "      <th>0</th>\n",
       "      <th>1</th>\n",
       "      <th>2</th>\n",
       "      <th>3</th>\n",
       "      <th>4</th>\n",
       "      <th>5</th>\n",
       "      <th>6</th>\n",
       "      <th>7</th>\n",
       "      <th>8</th>\n",
       "      <th>9</th>\n",
       "      <th>10</th>\n",
       "      <th>11</th>\n",
       "      <th>12</th>\n",
       "      <th>13</th>\n",
       "      <th>14</th>\n",
       "      <th>15</th>\n",
       "      <th>16</th>\n",
       "      <th>17</th>\n",
       "      <th>18</th>\n",
       "      <th>19</th>\n",
       "    </tr>\n",
       "  </thead>\n",
       "  <tbody>\n",
       "    <tr>\n",
       "      <th>0</th>\n",
       "      <td>0.948664</td>\n",
       "      <td>0.215285</td>\n",
       "      <td>0.918270</td>\n",
       "      <td>0.599951</td>\n",
       "      <td>0.755120</td>\n",
       "      <td>0.971609</td>\n",
       "      <td>0.103190</td>\n",
       "      <td>0.194754</td>\n",
       "      <td>0.932388</td>\n",
       "      <td>0.591727</td>\n",
       "      <td>0.697517</td>\n",
       "      <td>0.607355</td>\n",
       "      <td>0.177649</td>\n",
       "      <td>0.435968</td>\n",
       "      <td>0.202404</td>\n",
       "      <td>0.979777</td>\n",
       "      <td>0.095713</td>\n",
       "      <td>0.159040</td>\n",
       "      <td>0.651457</td>\n",
       "      <td>0.803393</td>\n",
       "    </tr>\n",
       "    <tr>\n",
       "      <th>1</th>\n",
       "      <td>0.163236</td>\n",
       "      <td>0.803926</td>\n",
       "      <td>0.916655</td>\n",
       "      <td>0.775234</td>\n",
       "      <td>0.644890</td>\n",
       "      <td>0.701362</td>\n",
       "      <td>0.910208</td>\n",
       "      <td>0.871204</td>\n",
       "      <td>0.321745</td>\n",
       "      <td>0.586035</td>\n",
       "      <td>0.887054</td>\n",
       "      <td>0.240060</td>\n",
       "      <td>0.915342</td>\n",
       "      <td>0.205310</td>\n",
       "      <td>0.489504</td>\n",
       "      <td>0.848926</td>\n",
       "      <td>0.304342</td>\n",
       "      <td>0.358977</td>\n",
       "      <td>0.841539</td>\n",
       "      <td>0.964889</td>\n",
       "    </tr>\n",
       "    <tr>\n",
       "      <th>2</th>\n",
       "      <td>0.934136</td>\n",
       "      <td>0.031410</td>\n",
       "      <td>0.954057</td>\n",
       "      <td>0.853387</td>\n",
       "      <td>0.642160</td>\n",
       "      <td>0.681184</td>\n",
       "      <td>0.317198</td>\n",
       "      <td>0.875259</td>\n",
       "      <td>0.538416</td>\n",
       "      <td>0.867511</td>\n",
       "      <td>0.813309</td>\n",
       "      <td>0.215624</td>\n",
       "      <td>0.552062</td>\n",
       "      <td>0.498378</td>\n",
       "      <td>0.739656</td>\n",
       "      <td>0.307914</td>\n",
       "      <td>0.233996</td>\n",
       "      <td>0.602166</td>\n",
       "      <td>0.244210</td>\n",
       "      <td>0.313071</td>\n",
       "    </tr>\n",
       "    <tr>\n",
       "      <th>3</th>\n",
       "      <td>0.757038</td>\n",
       "      <td>0.918964</td>\n",
       "      <td>0.475459</td>\n",
       "      <td>0.837686</td>\n",
       "      <td>0.149645</td>\n",
       "      <td>0.819032</td>\n",
       "      <td>0.611996</td>\n",
       "      <td>0.644348</td>\n",
       "      <td>0.938444</td>\n",
       "      <td>0.410444</td>\n",
       "      <td>0.561513</td>\n",
       "      <td>0.499231</td>\n",
       "      <td>0.856437</td>\n",
       "      <td>0.054619</td>\n",
       "      <td>0.326310</td>\n",
       "      <td>0.461825</td>\n",
       "      <td>0.954783</td>\n",
       "      <td>0.361873</td>\n",
       "      <td>0.145952</td>\n",
       "      <td>0.873029</td>\n",
       "    </tr>\n",
       "    <tr>\n",
       "      <th>4</th>\n",
       "      <td>0.263455</td>\n",
       "      <td>0.816283</td>\n",
       "      <td>0.336707</td>\n",
       "      <td>0.587997</td>\n",
       "      <td>0.285871</td>\n",
       "      <td>0.619942</td>\n",
       "      <td>0.018027</td>\n",
       "      <td>0.548845</td>\n",
       "      <td>0.121471</td>\n",
       "      <td>0.194299</td>\n",
       "      <td>0.149844</td>\n",
       "      <td>0.848866</td>\n",
       "      <td>0.531840</td>\n",
       "      <td>0.663384</td>\n",
       "      <td>0.084884</td>\n",
       "      <td>0.120312</td>\n",
       "      <td>0.463214</td>\n",
       "      <td>0.437889</td>\n",
       "      <td>0.542376</td>\n",
       "      <td>0.668447</td>\n",
       "    </tr>\n",
       "    <tr>\n",
       "      <th>0</th>\n",
       "      <td>0.437114</td>\n",
       "      <td>0.156941</td>\n",
       "      <td>0.183148</td>\n",
       "      <td>0.817785</td>\n",
       "      <td>0.747632</td>\n",
       "      <td>0.726855</td>\n",
       "      <td>0.944758</td>\n",
       "      <td>0.287449</td>\n",
       "      <td>0.792692</td>\n",
       "      <td>0.080025</td>\n",
       "      <td>0.079886</td>\n",
       "      <td>0.067887</td>\n",
       "      <td>0.543498</td>\n",
       "      <td>0.711158</td>\n",
       "      <td>0.960030</td>\n",
       "      <td>0.810807</td>\n",
       "      <td>0.579395</td>\n",
       "      <td>0.660811</td>\n",
       "      <td>0.520295</td>\n",
       "      <td>0.945250</td>\n",
       "    </tr>\n",
       "    <tr>\n",
       "      <th>1</th>\n",
       "      <td>0.213337</td>\n",
       "      <td>0.503490</td>\n",
       "      <td>0.802663</td>\n",
       "      <td>0.443484</td>\n",
       "      <td>0.700893</td>\n",
       "      <td>0.129329</td>\n",
       "      <td>0.007176</td>\n",
       "      <td>0.027735</td>\n",
       "      <td>0.427692</td>\n",
       "      <td>0.156926</td>\n",
       "      <td>0.486138</td>\n",
       "      <td>0.571278</td>\n",
       "      <td>0.940414</td>\n",
       "      <td>0.940730</td>\n",
       "      <td>0.933377</td>\n",
       "      <td>0.427869</td>\n",
       "      <td>0.654402</td>\n",
       "      <td>0.407580</td>\n",
       "      <td>0.122453</td>\n",
       "      <td>0.115311</td>\n",
       "    </tr>\n",
       "    <tr>\n",
       "      <th>2</th>\n",
       "      <td>0.625692</td>\n",
       "      <td>0.184609</td>\n",
       "      <td>0.120652</td>\n",
       "      <td>0.410955</td>\n",
       "      <td>0.408272</td>\n",
       "      <td>0.686792</td>\n",
       "      <td>0.480168</td>\n",
       "      <td>0.286901</td>\n",
       "      <td>0.320112</td>\n",
       "      <td>0.048815</td>\n",
       "      <td>0.768725</td>\n",
       "      <td>0.461014</td>\n",
       "      <td>0.090451</td>\n",
       "      <td>0.720938</td>\n",
       "      <td>0.192501</td>\n",
       "      <td>0.219077</td>\n",
       "      <td>0.034113</td>\n",
       "      <td>0.858956</td>\n",
       "      <td>0.816036</td>\n",
       "      <td>0.582192</td>\n",
       "    </tr>\n",
       "    <tr>\n",
       "      <th>3</th>\n",
       "      <td>0.642007</td>\n",
       "      <td>0.175592</td>\n",
       "      <td>0.476889</td>\n",
       "      <td>0.451096</td>\n",
       "      <td>0.803491</td>\n",
       "      <td>0.272613</td>\n",
       "      <td>0.576037</td>\n",
       "      <td>0.774269</td>\n",
       "      <td>0.323313</td>\n",
       "      <td>0.349850</td>\n",
       "      <td>0.413465</td>\n",
       "      <td>0.641111</td>\n",
       "      <td>0.841210</td>\n",
       "      <td>0.668661</td>\n",
       "      <td>0.101031</td>\n",
       "      <td>0.972135</td>\n",
       "      <td>0.479581</td>\n",
       "      <td>0.149982</td>\n",
       "      <td>0.035150</td>\n",
       "      <td>0.528075</td>\n",
       "    </tr>\n",
       "    <tr>\n",
       "      <th>4</th>\n",
       "      <td>0.809129</td>\n",
       "      <td>0.549374</td>\n",
       "      <td>0.055405</td>\n",
       "      <td>0.857802</td>\n",
       "      <td>0.760688</td>\n",
       "      <td>0.662257</td>\n",
       "      <td>0.453289</td>\n",
       "      <td>0.658329</td>\n",
       "      <td>0.973615</td>\n",
       "      <td>0.449771</td>\n",
       "      <td>0.615229</td>\n",
       "      <td>0.467290</td>\n",
       "      <td>0.158077</td>\n",
       "      <td>0.305716</td>\n",
       "      <td>0.730355</td>\n",
       "      <td>0.412336</td>\n",
       "      <td>0.469142</td>\n",
       "      <td>0.078734</td>\n",
       "      <td>0.448741</td>\n",
       "      <td>0.827487</td>\n",
       "    </tr>\n",
       "  </tbody>\n",
       "</table>\n",
       "</div>"
      ],
      "text/plain": [
       "          0         1         2         3         4         5         6  \\\n",
       "0  0.948664  0.215285  0.918270  0.599951  0.755120  0.971609  0.103190   \n",
       "1  0.163236  0.803926  0.916655  0.775234  0.644890  0.701362  0.910208   \n",
       "2  0.934136  0.031410  0.954057  0.853387  0.642160  0.681184  0.317198   \n",
       "3  0.757038  0.918964  0.475459  0.837686  0.149645  0.819032  0.611996   \n",
       "4  0.263455  0.816283  0.336707  0.587997  0.285871  0.619942  0.018027   \n",
       "0  0.437114  0.156941  0.183148  0.817785  0.747632  0.726855  0.944758   \n",
       "1  0.213337  0.503490  0.802663  0.443484  0.700893  0.129329  0.007176   \n",
       "2  0.625692  0.184609  0.120652  0.410955  0.408272  0.686792  0.480168   \n",
       "3  0.642007  0.175592  0.476889  0.451096  0.803491  0.272613  0.576037   \n",
       "4  0.809129  0.549374  0.055405  0.857802  0.760688  0.662257  0.453289   \n",
       "\n",
       "          7         8         9        10        11        12        13  \\\n",
       "0  0.194754  0.932388  0.591727  0.697517  0.607355  0.177649  0.435968   \n",
       "1  0.871204  0.321745  0.586035  0.887054  0.240060  0.915342  0.205310   \n",
       "2  0.875259  0.538416  0.867511  0.813309  0.215624  0.552062  0.498378   \n",
       "3  0.644348  0.938444  0.410444  0.561513  0.499231  0.856437  0.054619   \n",
       "4  0.548845  0.121471  0.194299  0.149844  0.848866  0.531840  0.663384   \n",
       "0  0.287449  0.792692  0.080025  0.079886  0.067887  0.543498  0.711158   \n",
       "1  0.027735  0.427692  0.156926  0.486138  0.571278  0.940414  0.940730   \n",
       "2  0.286901  0.320112  0.048815  0.768725  0.461014  0.090451  0.720938   \n",
       "3  0.774269  0.323313  0.349850  0.413465  0.641111  0.841210  0.668661   \n",
       "4  0.658329  0.973615  0.449771  0.615229  0.467290  0.158077  0.305716   \n",
       "\n",
       "         14        15        16        17        18        19  \n",
       "0  0.202404  0.979777  0.095713  0.159040  0.651457  0.803393  \n",
       "1  0.489504  0.848926  0.304342  0.358977  0.841539  0.964889  \n",
       "2  0.739656  0.307914  0.233996  0.602166  0.244210  0.313071  \n",
       "3  0.326310  0.461825  0.954783  0.361873  0.145952  0.873029  \n",
       "4  0.084884  0.120312  0.463214  0.437889  0.542376  0.668447  \n",
       "0  0.960030  0.810807  0.579395  0.660811  0.520295  0.945250  \n",
       "1  0.933377  0.427869  0.654402  0.407580  0.122453  0.115311  \n",
       "2  0.192501  0.219077  0.034113  0.858956  0.816036  0.582192  \n",
       "3  0.101031  0.972135  0.479581  0.149982  0.035150  0.528075  \n",
       "4  0.730355  0.412336  0.469142  0.078734  0.448741  0.827487  "
      ]
     },
     "execution_count": 85,
     "metadata": {},
     "output_type": "execute_result"
    }
   ],
   "source": [
    "csv_files = [f for f in os.listdir('../data') if f.endswith('.csv')]\n",
    "data_sets = [pd.read_csv(os.path.join('../data', f)) for f in csv_files]\n",
    "data=pd.concat(data_sets, axis=0)\n",
    "data.head(10)"
   ]
  },
  {
   "cell_type": "markdown",
   "metadata": {},
   "source": [
    "### 8. Use a list comprehension to select and print the column numbers for columns from the data set whose median is less than 0.48."
   ]
  },
  {
   "cell_type": "code",
   "execution_count": 98,
   "metadata": {},
   "outputs": [
    {
     "name": "stdout",
     "output_type": "stream",
     "text": [
      "2\n",
      "9\n",
      "12\n",
      "14\n",
      "17\n"
     ]
    }
   ],
   "source": [
    "for i in data.columns:\n",
    "    if data[i].median() < 0.48:\n",
    "        print(i)"
   ]
  },
  {
   "cell_type": "code",
   "execution_count": 100,
   "metadata": {},
   "outputs": [
    {
     "name": "stdout",
     "output_type": "stream",
     "text": [
      "['2', '9', '12', '14', '17']\n"
     ]
    }
   ],
   "source": [
    "print([i for i in data.columns if data[i].median() < 0.48])"
   ]
  },
  {
   "cell_type": "markdown",
   "metadata": {},
   "source": [
    "### 9. Use a list comprehension to add a new column (20) to the data frame whose values are the values in column 19 minus 0.1. Display the top 10 rows of the resulting data frame."
   ]
  },
  {
   "cell_type": "code",
   "execution_count": 109,
   "metadata": {},
   "outputs": [
    {
     "data": {
      "text/plain": [
       "0    0.703393\n",
       "1    0.864889\n",
       "2    0.213071\n",
       "3    0.773029\n",
       "4    0.568447\n",
       "0    0.845250\n",
       "1    0.015311\n",
       "2    0.482192\n",
       "3    0.428075\n",
       "4    0.727487\n",
       "0    0.472150\n",
       "1   -0.039694\n",
       "2   -0.051260\n",
       "3    0.460742\n",
       "4    0.077401\n",
       "0    0.249845\n",
       "1    0.416899\n",
       "2    0.097592\n",
       "3    0.348124\n",
       "4    0.488319\n",
       "0    0.113938\n",
       "1    0.210951\n",
       "2    0.296453\n",
       "3   -0.073048\n",
       "4    0.831145\n",
       "0    0.868681\n",
       "1    0.866198\n",
       "2    0.624486\n",
       "3    0.737695\n",
       "4    0.298914\n",
       "0    0.195344\n",
       "1    0.477262\n",
       "2   -0.097404\n",
       "3    0.826007\n",
       "4    0.692851\n",
       "0    0.186542\n",
       "1    0.472232\n",
       "2    0.389528\n",
       "3    0.146594\n",
       "4    0.379022\n",
       "0    0.780858\n",
       "1    0.403695\n",
       "2    0.546110\n",
       "3    0.389660\n",
       "4    0.772947\n",
       "0    0.451858\n",
       "1    0.586294\n",
       "2    0.103699\n",
       "3    0.639383\n",
       "4    0.567051\n",
       "Name: 20, dtype: float64"
      ]
     },
     "execution_count": 109,
     "metadata": {},
     "output_type": "execute_result"
    }
   ],
   "source": [
    "# copia de la 19 pero hay que restarle 0.1 de todos los valores\n",
    "#data.insert(20, data.column(19) -0.1\n",
    "data['20']= data['19']- 0.1\n",
    "data['20']\n",
    "\n"
   ]
  },
  {
   "cell_type": "markdown",
   "metadata": {},
   "source": [
    "### 10. Use a list comprehension to extract and print all values from the data set that are between 0.7 and 0.75."
   ]
  },
  {
   "cell_type": "code",
   "execution_count": null,
   "metadata": {},
   "outputs": [],
   "source": []
  }
 ],
 "metadata": {
  "kernelspec": {
   "display_name": "Python 3",
   "language": "python",
   "name": "python3"
  },
  "language_info": {
   "codemirror_mode": {
    "name": "ipython",
    "version": 3
   },
   "file_extension": ".py",
   "mimetype": "text/x-python",
   "name": "python",
   "nbconvert_exporter": "python",
   "pygments_lexer": "ipython3",
   "version": "3.7.5rc1"
  }
 },
 "nbformat": 4,
 "nbformat_minor": 2
}
