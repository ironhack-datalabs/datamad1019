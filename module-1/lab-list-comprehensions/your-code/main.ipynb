{
 "cells": [
  {
   "cell_type": "markdown",
   "metadata": {},
   "source": [
    "# List Comprehensions Lab\n",
    "\n",
    "Complete the following set of exercises to solidify your knowledge of list comprehensions."
   ]
  },
  {
   "cell_type": "code",
   "execution_count": 38,
   "metadata": {},
   "outputs": [],
   "source": [
    "import os\n",
    "import numpy as np\n",
    "import pandas as pd"
   ]
  },
  {
   "cell_type": "markdown",
   "metadata": {},
   "source": [
    "### 1. Use a list comprehension to create and print a list of consecutive integers starting with 1 and ending with 50."
   ]
  },
  {
   "cell_type": "code",
   "execution_count": 39,
   "metadata": {},
   "outputs": [
    {
     "name": "stdout",
     "output_type": "stream",
     "text": [
      "[1, 2, 3, 4, 5, 6, 7, 8, 9, 10, 11, 12, 13, 14, 15, 16, 17, 18, 19, 20, 21, 22, 23, 24, 25, 26, 27, 28, 29, 30, 31, 32, 33, 34, 35, 36, 37, 38, 39, 40, 41, 42, 43, 44, 45, 46, 47, 48, 49, 50]\n"
     ]
    }
   ],
   "source": [
    "list = [i for i in range (1,51)]\n",
    "\n",
    "print(list)\n"
   ]
  },
  {
   "cell_type": "markdown",
   "metadata": {},
   "source": [
    "### 2. Use a list comprehension to create and print a list of even numbers starting with 2 and ending with 200."
   ]
  },
  {
   "cell_type": "code",
   "execution_count": 40,
   "metadata": {},
   "outputs": [
    {
     "name": "stdout",
     "output_type": "stream",
     "text": [
      "[2, 4, 6, 8, 10, 12, 14, 16, 18, 20, 22, 24, 26, 28, 30, 32, 34, 36, 38, 40, 42, 44, 46, 48, 50, 52, 54, 56, 58, 60, 62, 64, 66, 68, 70, 72, 74, 76, 78, 80, 82, 84, 86, 88, 90, 92, 94, 96, 98, 100, 102, 104, 106, 108, 110, 112, 114, 116, 118, 120, 122, 124, 126, 128, 130, 132, 134, 136, 138, 140, 142, 144, 146, 148, 150, 152, 154, 156, 158, 160, 162, 164, 166, 168, 170, 172, 174, 176, 178, 180, 182, 184, 186, 188, 190, 192, 194, 196, 198, 200]\n"
     ]
    }
   ],
   "source": [
    "list = [i for i in range (2,201) if i%2==0]\n",
    "print(list)"
   ]
  },
  {
   "cell_type": "markdown",
   "metadata": {},
   "source": [
    "### 3. Use a list comprehension to create and print a list containing all elements of the 10 x 4 Numpy array below."
   ]
  },
  {
   "cell_type": "code",
   "execution_count": 41,
   "metadata": {},
   "outputs": [],
   "source": [
    "a = np.array([[0.84062117, 0.48006452, 0.7876326 , 0.77109654],\n",
    "       [0.44409793, 0.09014516, 0.81835917, 0.87645456],\n",
    "       [0.7066597 , 0.09610873, 0.41247947, 0.57433389],\n",
    "       [0.29960807, 0.42315023, 0.34452557, 0.4751035 ],\n",
    "       [0.17003563, 0.46843998, 0.92796258, 0.69814654],\n",
    "       [0.41290051, 0.19561071, 0.16284783, 0.97016248],\n",
    "       [0.71725408, 0.87702738, 0.31244595, 0.76615487],\n",
    "       [0.20754036, 0.57871812, 0.07214068, 0.40356048],\n",
    "       [0.12149553, 0.53222417, 0.9976855 , 0.12536346],\n",
    "       [0.80930099, 0.50962849, 0.94555126, 0.33364763]])"
   ]
  },
  {
   "cell_type": "code",
   "execution_count": 42,
   "metadata": {},
   "outputs": [
    {
     "name": "stdout",
     "output_type": "stream",
     "text": [
      "[0.84062117, 0.48006452, 0.7876326, 0.77109654, 0.44409793, 0.09014516, 0.81835917, 0.87645456, 0.7066597, 0.09610873, 0.41247947, 0.57433389, 0.29960807, 0.42315023, 0.34452557, 0.4751035, 0.17003563, 0.46843998, 0.92796258, 0.69814654, 0.41290051, 0.19561071, 0.16284783, 0.97016248, 0.71725408, 0.87702738, 0.31244595, 0.76615487, 0.20754036, 0.57871812, 0.07214068, 0.40356048, 0.12149553, 0.53222417, 0.9976855, 0.12536346, 0.80930099, 0.50962849, 0.94555126, 0.33364763]\n"
     ]
    }
   ],
   "source": [
    "list = [matriz for e in a for matriz in e]\n",
    "print(list)"
   ]
  },
  {
   "cell_type": "markdown",
   "metadata": {},
   "source": [
    "### 4. Add a condition to the list comprehension above so that only values greater than or equal to 0.5 are printed."
   ]
  },
  {
   "cell_type": "code",
   "execution_count": 43,
   "metadata": {},
   "outputs": [
    {
     "name": "stdout",
     "output_type": "stream",
     "text": [
      "[0.84062117, 0.7876326, 0.77109654, 0.81835917, 0.87645456, 0.7066597, 0.57433389, 0.92796258, 0.69814654, 0.97016248, 0.71725408, 0.87702738, 0.76615487, 0.57871812, 0.53222417, 0.9976855, 0.80930099, 0.50962849, 0.94555126]\n"
     ]
    }
   ],
   "source": [
    "list = [matriz for e in a for matriz in e if matriz >= 0.5]\n",
    "print(list)"
   ]
  },
  {
   "cell_type": "markdown",
   "metadata": {},
   "source": [
    "### 5. Use a list comprehension to create and print a list containing all elements of the 5 x 2 x 3 Numpy array below."
   ]
  },
  {
   "cell_type": "code",
   "execution_count": 44,
   "metadata": {},
   "outputs": [],
   "source": [
    "b = np.array([[[0.55867166, 0.06210792, 0.08147297],\n",
    "        [0.82579068, 0.91512478, 0.06833034]],\n",
    "\n",
    "       [[0.05440634, 0.65857693, 0.30296619],\n",
    "        [0.06769833, 0.96031863, 0.51293743]],\n",
    "\n",
    "       [[0.09143215, 0.71893382, 0.45850679],\n",
    "        [0.58256464, 0.59005654, 0.56266457]],\n",
    "\n",
    "       [[0.71600294, 0.87392666, 0.11434044],\n",
    "        [0.8694668 , 0.65669313, 0.10708681]],\n",
    "\n",
    "       [[0.07529684, 0.46470767, 0.47984544],\n",
    "        [0.65368638, 0.14901286, 0.23760688]]])"
   ]
  },
  {
   "cell_type": "code",
   "execution_count": 45,
   "metadata": {},
   "outputs": [
    {
     "name": "stdout",
     "output_type": "stream",
     "text": [
      "[0.55867166, 0.06210792, 0.08147297, 0.82579068, 0.91512478, 0.06833034, 0.05440634, 0.65857693, 0.30296619, 0.06769833, 0.96031863, 0.51293743, 0.09143215, 0.71893382, 0.45850679, 0.58256464, 0.59005654, 0.56266457, 0.71600294, 0.87392666, 0.11434044, 0.8694668, 0.65669313, 0.10708681, 0.07529684, 0.46470767, 0.47984544, 0.65368638, 0.14901286, 0.23760688]\n"
     ]
    }
   ],
   "source": [
    "list = [matriz for a in b for c in a for matriz in c]\n",
    "print(list)"
   ]
  },
  {
   "cell_type": "markdown",
   "metadata": {},
   "source": [
    "### 5. Add a condition to the list comprehension above so that the last value in each subarray is printed, but only if it is less than or equal to 0.5."
   ]
  },
  {
   "cell_type": "code",
   "execution_count": 75,
   "metadata": {},
   "outputs": [
    {
     "name": "stdout",
     "output_type": "stream",
     "text": [
      "[0.08147297, 0.06833034, 0.30296619, 0.45850679, 0.11434044, 0.10708681, 0.47984544, 0.23760688]\n",
      "0.08147297\n",
      "0.06833034\n",
      "0.30296619\n",
      "0.45850679\n",
      "0.11434044\n",
      "0.10708681\n",
      "0.47984544\n",
      "0.23760688\n"
     ]
    }
   ],
   "source": [
    "list = [j[2] for i in b for j in i if j[2] <= 0.5]\n",
    "\n",
    "print(list)\n",
    "\n",
    "for i in b:\n",
    "    for j in i:\n",
    "        if j[2] <= 0.5:\n",
    "            print(j[2])"
   ]
  },
  {
   "cell_type": "markdown",
   "metadata": {},
   "source": [
    "### 6. Use a list comprehension to select and print the names of all CSV files in the */data* directory."
   ]
  },
  {
   "cell_type": "code",
   "execution_count": 68,
   "metadata": {},
   "outputs": [
    {
     "name": "stdout",
     "output_type": "stream",
     "text": [
      "['sample_file_3.csv', 'sample_file_2.csv', 'sample_file_1.csv', 'sample_file_0.csv', 'sample_file_4.csv', 'sample_file_5.csv', 'sample_file_9.csv', 'sample_file_7.csv', 'sample_file_8.csv', 'sample_file_6.csv']\n"
     ]
    }
   ],
   "source": [
    "import os\n",
    "\n",
    "file_list = [f for f in os.listdir('../data') if f.endswith('.csv')]\n",
    "\n",
    "print(file_list)"
   ]
  },
  {
   "cell_type": "markdown",
   "metadata": {},
   "source": [
    "### 7. Use a list comprehension and the Pandas `read_csv` and `concat` methods to read all CSV files in the */data* directory and combine them into a single data frame. Display the top 10 rows of the resulting data frame."
   ]
  },
  {
   "cell_type": "code",
   "execution_count": 149,
   "metadata": {
    "scrolled": true
   },
   "outputs": [
    {
     "data": {
      "text/html": [
       "<div>\n",
       "<style scoped>\n",
       "    .dataframe tbody tr th:only-of-type {\n",
       "        vertical-align: middle;\n",
       "    }\n",
       "\n",
       "    .dataframe tbody tr th {\n",
       "        vertical-align: top;\n",
       "    }\n",
       "\n",
       "    .dataframe thead th {\n",
       "        text-align: right;\n",
       "    }\n",
       "</style>\n",
       "<table border=\"1\" class=\"dataframe\">\n",
       "  <thead>\n",
       "    <tr style=\"text-align: right;\">\n",
       "      <th></th>\n",
       "      <th>0</th>\n",
       "      <th>1</th>\n",
       "      <th>2</th>\n",
       "      <th>3</th>\n",
       "      <th>4</th>\n",
       "      <th>5</th>\n",
       "      <th>6</th>\n",
       "      <th>7</th>\n",
       "      <th>8</th>\n",
       "      <th>9</th>\n",
       "      <th>10</th>\n",
       "      <th>11</th>\n",
       "      <th>12</th>\n",
       "      <th>13</th>\n",
       "      <th>14</th>\n",
       "      <th>15</th>\n",
       "      <th>16</th>\n",
       "      <th>17</th>\n",
       "      <th>18</th>\n",
       "      <th>19</th>\n",
       "    </tr>\n",
       "  </thead>\n",
       "  <tbody>\n",
       "    <tr>\n",
       "      <td>0</td>\n",
       "      <td>0.376101</td>\n",
       "      <td>0.896590</td>\n",
       "      <td>0.500995</td>\n",
       "      <td>0.381416</td>\n",
       "      <td>0.447730</td>\n",
       "      <td>0.048472</td>\n",
       "      <td>0.094235</td>\n",
       "      <td>0.986890</td>\n",
       "      <td>0.582352</td>\n",
       "      <td>0.037230</td>\n",
       "      <td>0.130306</td>\n",
       "      <td>0.766153</td>\n",
       "      <td>0.153783</td>\n",
       "      <td>0.199140</td>\n",
       "      <td>0.330318</td>\n",
       "      <td>0.969657</td>\n",
       "      <td>0.110998</td>\n",
       "      <td>0.033474</td>\n",
       "      <td>0.117277</td>\n",
       "      <td>0.213938</td>\n",
       "    </tr>\n",
       "    <tr>\n",
       "      <td>1</td>\n",
       "      <td>0.498192</td>\n",
       "      <td>0.565500</td>\n",
       "      <td>0.152394</td>\n",
       "      <td>0.284232</td>\n",
       "      <td>0.557042</td>\n",
       "      <td>0.417095</td>\n",
       "      <td>0.663465</td>\n",
       "      <td>0.158188</td>\n",
       "      <td>0.039182</td>\n",
       "      <td>0.543442</td>\n",
       "      <td>0.521210</td>\n",
       "      <td>0.993481</td>\n",
       "      <td>0.580359</td>\n",
       "      <td>0.765757</td>\n",
       "      <td>0.931264</td>\n",
       "      <td>0.336841</td>\n",
       "      <td>0.271230</td>\n",
       "      <td>0.509798</td>\n",
       "      <td>0.877048</td>\n",
       "      <td>0.310951</td>\n",
       "    </tr>\n",
       "    <tr>\n",
       "      <td>2</td>\n",
       "      <td>0.635284</td>\n",
       "      <td>0.247512</td>\n",
       "      <td>0.179986</td>\n",
       "      <td>0.468231</td>\n",
       "      <td>0.911799</td>\n",
       "      <td>0.764209</td>\n",
       "      <td>0.941413</td>\n",
       "      <td>0.808370</td>\n",
       "      <td>0.578024</td>\n",
       "      <td>0.181267</td>\n",
       "      <td>0.064788</td>\n",
       "      <td>0.924226</td>\n",
       "      <td>0.070744</td>\n",
       "      <td>0.704575</td>\n",
       "      <td>0.948127</td>\n",
       "      <td>0.971452</td>\n",
       "      <td>0.360861</td>\n",
       "      <td>0.074394</td>\n",
       "      <td>0.386949</td>\n",
       "      <td>0.396453</td>\n",
       "    </tr>\n",
       "    <tr>\n",
       "      <td>3</td>\n",
       "      <td>0.647497</td>\n",
       "      <td>0.072412</td>\n",
       "      <td>0.681403</td>\n",
       "      <td>0.977189</td>\n",
       "      <td>0.690953</td>\n",
       "      <td>0.829347</td>\n",
       "      <td>0.236915</td>\n",
       "      <td>0.406938</td>\n",
       "      <td>0.898234</td>\n",
       "      <td>0.513575</td>\n",
       "      <td>0.532473</td>\n",
       "      <td>0.790312</td>\n",
       "      <td>0.082292</td>\n",
       "      <td>0.850821</td>\n",
       "      <td>0.088025</td>\n",
       "      <td>0.289218</td>\n",
       "      <td>0.822775</td>\n",
       "      <td>0.515933</td>\n",
       "      <td>0.962827</td>\n",
       "      <td>0.026952</td>\n",
       "    </tr>\n",
       "    <tr>\n",
       "      <td>4</td>\n",
       "      <td>0.170792</td>\n",
       "      <td>0.586900</td>\n",
       "      <td>0.029834</td>\n",
       "      <td>0.921923</td>\n",
       "      <td>0.090727</td>\n",
       "      <td>0.592746</td>\n",
       "      <td>0.972429</td>\n",
       "      <td>0.774760</td>\n",
       "      <td>0.293800</td>\n",
       "      <td>0.956949</td>\n",
       "      <td>0.811740</td>\n",
       "      <td>0.525562</td>\n",
       "      <td>0.454788</td>\n",
       "      <td>0.848812</td>\n",
       "      <td>0.095214</td>\n",
       "      <td>0.415311</td>\n",
       "      <td>0.026496</td>\n",
       "      <td>0.513342</td>\n",
       "      <td>0.830389</td>\n",
       "      <td>0.931145</td>\n",
       "    </tr>\n",
       "    <tr>\n",
       "      <td>0</td>\n",
       "      <td>0.948664</td>\n",
       "      <td>0.215285</td>\n",
       "      <td>0.918270</td>\n",
       "      <td>0.599951</td>\n",
       "      <td>0.755120</td>\n",
       "      <td>0.971609</td>\n",
       "      <td>0.103190</td>\n",
       "      <td>0.194754</td>\n",
       "      <td>0.932388</td>\n",
       "      <td>0.591727</td>\n",
       "      <td>0.697517</td>\n",
       "      <td>0.607355</td>\n",
       "      <td>0.177649</td>\n",
       "      <td>0.435968</td>\n",
       "      <td>0.202404</td>\n",
       "      <td>0.979777</td>\n",
       "      <td>0.095713</td>\n",
       "      <td>0.159040</td>\n",
       "      <td>0.651457</td>\n",
       "      <td>0.803393</td>\n",
       "    </tr>\n",
       "    <tr>\n",
       "      <td>1</td>\n",
       "      <td>0.163236</td>\n",
       "      <td>0.803926</td>\n",
       "      <td>0.916655</td>\n",
       "      <td>0.775234</td>\n",
       "      <td>0.644890</td>\n",
       "      <td>0.701362</td>\n",
       "      <td>0.910208</td>\n",
       "      <td>0.871204</td>\n",
       "      <td>0.321745</td>\n",
       "      <td>0.586035</td>\n",
       "      <td>0.887054</td>\n",
       "      <td>0.240060</td>\n",
       "      <td>0.915342</td>\n",
       "      <td>0.205310</td>\n",
       "      <td>0.489504</td>\n",
       "      <td>0.848926</td>\n",
       "      <td>0.304342</td>\n",
       "      <td>0.358977</td>\n",
       "      <td>0.841539</td>\n",
       "      <td>0.964889</td>\n",
       "    </tr>\n",
       "    <tr>\n",
       "      <td>2</td>\n",
       "      <td>0.934136</td>\n",
       "      <td>0.031410</td>\n",
       "      <td>0.954057</td>\n",
       "      <td>0.853387</td>\n",
       "      <td>0.642160</td>\n",
       "      <td>0.681184</td>\n",
       "      <td>0.317198</td>\n",
       "      <td>0.875259</td>\n",
       "      <td>0.538416</td>\n",
       "      <td>0.867511</td>\n",
       "      <td>0.813309</td>\n",
       "      <td>0.215624</td>\n",
       "      <td>0.552062</td>\n",
       "      <td>0.498378</td>\n",
       "      <td>0.739656</td>\n",
       "      <td>0.307914</td>\n",
       "      <td>0.233996</td>\n",
       "      <td>0.602166</td>\n",
       "      <td>0.244210</td>\n",
       "      <td>0.313071</td>\n",
       "    </tr>\n",
       "    <tr>\n",
       "      <td>3</td>\n",
       "      <td>0.757038</td>\n",
       "      <td>0.918964</td>\n",
       "      <td>0.475459</td>\n",
       "      <td>0.837686</td>\n",
       "      <td>0.149645</td>\n",
       "      <td>0.819032</td>\n",
       "      <td>0.611996</td>\n",
       "      <td>0.644348</td>\n",
       "      <td>0.938444</td>\n",
       "      <td>0.410444</td>\n",
       "      <td>0.561513</td>\n",
       "      <td>0.499231</td>\n",
       "      <td>0.856437</td>\n",
       "      <td>0.054619</td>\n",
       "      <td>0.326310</td>\n",
       "      <td>0.461825</td>\n",
       "      <td>0.954783</td>\n",
       "      <td>0.361873</td>\n",
       "      <td>0.145952</td>\n",
       "      <td>0.873029</td>\n",
       "    </tr>\n",
       "    <tr>\n",
       "      <td>4</td>\n",
       "      <td>0.263455</td>\n",
       "      <td>0.816283</td>\n",
       "      <td>0.336707</td>\n",
       "      <td>0.587997</td>\n",
       "      <td>0.285871</td>\n",
       "      <td>0.619942</td>\n",
       "      <td>0.018027</td>\n",
       "      <td>0.548845</td>\n",
       "      <td>0.121471</td>\n",
       "      <td>0.194299</td>\n",
       "      <td>0.149844</td>\n",
       "      <td>0.848866</td>\n",
       "      <td>0.531840</td>\n",
       "      <td>0.663384</td>\n",
       "      <td>0.084884</td>\n",
       "      <td>0.120312</td>\n",
       "      <td>0.463214</td>\n",
       "      <td>0.437889</td>\n",
       "      <td>0.542376</td>\n",
       "      <td>0.668447</td>\n",
       "    </tr>\n",
       "  </tbody>\n",
       "</table>\n",
       "</div>"
      ],
      "text/plain": [
       "          0         1         2         3         4         5         6  \\\n",
       "0  0.376101  0.896590  0.500995  0.381416  0.447730  0.048472  0.094235   \n",
       "1  0.498192  0.565500  0.152394  0.284232  0.557042  0.417095  0.663465   \n",
       "2  0.635284  0.247512  0.179986  0.468231  0.911799  0.764209  0.941413   \n",
       "3  0.647497  0.072412  0.681403  0.977189  0.690953  0.829347  0.236915   \n",
       "4  0.170792  0.586900  0.029834  0.921923  0.090727  0.592746  0.972429   \n",
       "0  0.948664  0.215285  0.918270  0.599951  0.755120  0.971609  0.103190   \n",
       "1  0.163236  0.803926  0.916655  0.775234  0.644890  0.701362  0.910208   \n",
       "2  0.934136  0.031410  0.954057  0.853387  0.642160  0.681184  0.317198   \n",
       "3  0.757038  0.918964  0.475459  0.837686  0.149645  0.819032  0.611996   \n",
       "4  0.263455  0.816283  0.336707  0.587997  0.285871  0.619942  0.018027   \n",
       "\n",
       "          7         8         9        10        11        12        13  \\\n",
       "0  0.986890  0.582352  0.037230  0.130306  0.766153  0.153783  0.199140   \n",
       "1  0.158188  0.039182  0.543442  0.521210  0.993481  0.580359  0.765757   \n",
       "2  0.808370  0.578024  0.181267  0.064788  0.924226  0.070744  0.704575   \n",
       "3  0.406938  0.898234  0.513575  0.532473  0.790312  0.082292  0.850821   \n",
       "4  0.774760  0.293800  0.956949  0.811740  0.525562  0.454788  0.848812   \n",
       "0  0.194754  0.932388  0.591727  0.697517  0.607355  0.177649  0.435968   \n",
       "1  0.871204  0.321745  0.586035  0.887054  0.240060  0.915342  0.205310   \n",
       "2  0.875259  0.538416  0.867511  0.813309  0.215624  0.552062  0.498378   \n",
       "3  0.644348  0.938444  0.410444  0.561513  0.499231  0.856437  0.054619   \n",
       "4  0.548845  0.121471  0.194299  0.149844  0.848866  0.531840  0.663384   \n",
       "\n",
       "         14        15        16        17        18        19  \n",
       "0  0.330318  0.969657  0.110998  0.033474  0.117277  0.213938  \n",
       "1  0.931264  0.336841  0.271230  0.509798  0.877048  0.310951  \n",
       "2  0.948127  0.971452  0.360861  0.074394  0.386949  0.396453  \n",
       "3  0.088025  0.289218  0.822775  0.515933  0.962827  0.026952  \n",
       "4  0.095214  0.415311  0.026496  0.513342  0.830389  0.931145  \n",
       "0  0.202404  0.979777  0.095713  0.159040  0.651457  0.803393  \n",
       "1  0.489504  0.848926  0.304342  0.358977  0.841539  0.964889  \n",
       "2  0.739656  0.307914  0.233996  0.602166  0.244210  0.313071  \n",
       "3  0.326310  0.461825  0.954783  0.361873  0.145952  0.873029  \n",
       "4  0.084884  0.120312  0.463214  0.437889  0.542376  0.668447  "
      ]
     },
     "metadata": {},
     "output_type": "display_data"
    }
   ],
   "source": [
    "import pandas as pd\n",
    "os.chdir(\"../data\")\n",
    "lista = [pd.read_csv(file) for file in file_list]\n",
    "\n",
    "tabla=pd.concat(lista) # no consigo hacerlo con una sola lista, si introduzco la funcion concat en la primera lista no me las junta.\n",
    "\n",
    "display(tabla[0:10])\n",
    "  \n",
    "    "
   ]
  },
  {
   "cell_type": "markdown",
   "metadata": {},
   "source": [
    "### 8. Use a list comprehension to select and print the column numbers for columns from the data set whose median is less than 0.48."
   ]
  },
  {
   "cell_type": "code",
   "execution_count": 157,
   "metadata": {},
   "outputs": [
    {
     "name": "stdout",
     "output_type": "stream",
     "text": [
      "['2', '9', '12', '14', '17']\n",
      "0     0.518393\n",
      "1     0.498298\n",
      "2     0.476174\n",
      "3     0.617797\n",
      "4     0.544392\n",
      "5     0.652570\n",
      "6     0.589559\n",
      "7     0.652583\n",
      "8     0.484164\n",
      "9     0.456142\n",
      "10    0.529412\n",
      "11    0.517590\n",
      "12    0.450881\n",
      "13    0.693514\n",
      "14    0.432621\n",
      "15    0.574287\n",
      "16    0.527874\n",
      "17    0.473843\n",
      "18    0.537067\n",
      "19    0.556300\n",
      "dtype: float64\n"
     ]
    }
   ],
   "source": [
    "a=[tabla.columns]\n",
    "\n",
    "mediana = tabla[tabla.columns].median()\n",
    "\n",
    "\n",
    "lista = [i for i in tabla.columns if tabla[i].median() <= 0.48]\n",
    "\n",
    "print(lista)\n",
    "print(mediana)\n"
   ]
  },
  {
   "cell_type": "markdown",
   "metadata": {},
   "source": [
    "### 9. Use a list comprehension to add a new column (20) to the data frame whose values are the values in column 19 minus 0.1. Display the top 10 rows of the resulting data frame."
   ]
  },
  {
   "cell_type": "code",
   "execution_count": 169,
   "metadata": {},
   "outputs": [
    {
     "data": {
      "text/html": [
       "<div>\n",
       "<style scoped>\n",
       "    .dataframe tbody tr th:only-of-type {\n",
       "        vertical-align: middle;\n",
       "    }\n",
       "\n",
       "    .dataframe tbody tr th {\n",
       "        vertical-align: top;\n",
       "    }\n",
       "\n",
       "    .dataframe thead th {\n",
       "        text-align: right;\n",
       "    }\n",
       "</style>\n",
       "<table border=\"1\" class=\"dataframe\">\n",
       "  <thead>\n",
       "    <tr style=\"text-align: right;\">\n",
       "      <th></th>\n",
       "      <th>0</th>\n",
       "      <th>1</th>\n",
       "      <th>2</th>\n",
       "      <th>3</th>\n",
       "      <th>4</th>\n",
       "      <th>5</th>\n",
       "      <th>6</th>\n",
       "      <th>7</th>\n",
       "      <th>8</th>\n",
       "      <th>9</th>\n",
       "      <th>...</th>\n",
       "      <th>11</th>\n",
       "      <th>12</th>\n",
       "      <th>13</th>\n",
       "      <th>14</th>\n",
       "      <th>15</th>\n",
       "      <th>16</th>\n",
       "      <th>17</th>\n",
       "      <th>18</th>\n",
       "      <th>19</th>\n",
       "      <th>20</th>\n",
       "    </tr>\n",
       "  </thead>\n",
       "  <tbody>\n",
       "    <tr>\n",
       "      <td>0</td>\n",
       "      <td>0.376101</td>\n",
       "      <td>0.896590</td>\n",
       "      <td>0.500995</td>\n",
       "      <td>0.381416</td>\n",
       "      <td>0.447730</td>\n",
       "      <td>0.048472</td>\n",
       "      <td>0.094235</td>\n",
       "      <td>0.986890</td>\n",
       "      <td>0.582352</td>\n",
       "      <td>0.037230</td>\n",
       "      <td>...</td>\n",
       "      <td>0.766153</td>\n",
       "      <td>0.153783</td>\n",
       "      <td>0.199140</td>\n",
       "      <td>0.330318</td>\n",
       "      <td>0.969657</td>\n",
       "      <td>0.110998</td>\n",
       "      <td>0.033474</td>\n",
       "      <td>0.117277</td>\n",
       "      <td>0.213938</td>\n",
       "      <td>0.448295</td>\n",
       "    </tr>\n",
       "    <tr>\n",
       "      <td>1</td>\n",
       "      <td>0.498192</td>\n",
       "      <td>0.565500</td>\n",
       "      <td>0.152394</td>\n",
       "      <td>0.284232</td>\n",
       "      <td>0.557042</td>\n",
       "      <td>0.417095</td>\n",
       "      <td>0.663465</td>\n",
       "      <td>0.158188</td>\n",
       "      <td>0.039182</td>\n",
       "      <td>0.543442</td>\n",
       "      <td>...</td>\n",
       "      <td>0.993481</td>\n",
       "      <td>0.580359</td>\n",
       "      <td>0.765757</td>\n",
       "      <td>0.931264</td>\n",
       "      <td>0.336841</td>\n",
       "      <td>0.271230</td>\n",
       "      <td>0.509798</td>\n",
       "      <td>0.877048</td>\n",
       "      <td>0.310951</td>\n",
       "      <td>0.282750</td>\n",
       "    </tr>\n",
       "    <tr>\n",
       "      <td>2</td>\n",
       "      <td>0.635284</td>\n",
       "      <td>0.247512</td>\n",
       "      <td>0.179986</td>\n",
       "      <td>0.468231</td>\n",
       "      <td>0.911799</td>\n",
       "      <td>0.764209</td>\n",
       "      <td>0.941413</td>\n",
       "      <td>0.808370</td>\n",
       "      <td>0.578024</td>\n",
       "      <td>0.181267</td>\n",
       "      <td>...</td>\n",
       "      <td>0.924226</td>\n",
       "      <td>0.070744</td>\n",
       "      <td>0.704575</td>\n",
       "      <td>0.948127</td>\n",
       "      <td>0.971452</td>\n",
       "      <td>0.360861</td>\n",
       "      <td>0.074394</td>\n",
       "      <td>0.386949</td>\n",
       "      <td>0.396453</td>\n",
       "      <td>0.123756</td>\n",
       "    </tr>\n",
       "    <tr>\n",
       "      <td>3</td>\n",
       "      <td>0.647497</td>\n",
       "      <td>0.072412</td>\n",
       "      <td>0.681403</td>\n",
       "      <td>0.977189</td>\n",
       "      <td>0.690953</td>\n",
       "      <td>0.829347</td>\n",
       "      <td>0.236915</td>\n",
       "      <td>0.406938</td>\n",
       "      <td>0.898234</td>\n",
       "      <td>0.513575</td>\n",
       "      <td>...</td>\n",
       "      <td>0.790312</td>\n",
       "      <td>0.082292</td>\n",
       "      <td>0.850821</td>\n",
       "      <td>0.088025</td>\n",
       "      <td>0.289218</td>\n",
       "      <td>0.822775</td>\n",
       "      <td>0.515933</td>\n",
       "      <td>0.962827</td>\n",
       "      <td>0.026952</td>\n",
       "      <td>0.036206</td>\n",
       "    </tr>\n",
       "    <tr>\n",
       "      <td>4</td>\n",
       "      <td>0.170792</td>\n",
       "      <td>0.586900</td>\n",
       "      <td>0.029834</td>\n",
       "      <td>0.921923</td>\n",
       "      <td>0.090727</td>\n",
       "      <td>0.592746</td>\n",
       "      <td>0.972429</td>\n",
       "      <td>0.774760</td>\n",
       "      <td>0.293800</td>\n",
       "      <td>0.956949</td>\n",
       "      <td>...</td>\n",
       "      <td>0.525562</td>\n",
       "      <td>0.454788</td>\n",
       "      <td>0.848812</td>\n",
       "      <td>0.095214</td>\n",
       "      <td>0.415311</td>\n",
       "      <td>0.026496</td>\n",
       "      <td>0.513342</td>\n",
       "      <td>0.830389</td>\n",
       "      <td>0.931145</td>\n",
       "      <td>0.293450</td>\n",
       "    </tr>\n",
       "  </tbody>\n",
       "</table>\n",
       "<p>5 rows × 21 columns</p>\n",
       "</div>"
      ],
      "text/plain": [
       "          0         1         2         3         4         5         6  \\\n",
       "0  0.376101  0.896590  0.500995  0.381416  0.447730  0.048472  0.094235   \n",
       "1  0.498192  0.565500  0.152394  0.284232  0.557042  0.417095  0.663465   \n",
       "2  0.635284  0.247512  0.179986  0.468231  0.911799  0.764209  0.941413   \n",
       "3  0.647497  0.072412  0.681403  0.977189  0.690953  0.829347  0.236915   \n",
       "4  0.170792  0.586900  0.029834  0.921923  0.090727  0.592746  0.972429   \n",
       "\n",
       "          7         8         9  ...        11        12        13        14  \\\n",
       "0  0.986890  0.582352  0.037230  ...  0.766153  0.153783  0.199140  0.330318   \n",
       "1  0.158188  0.039182  0.543442  ...  0.993481  0.580359  0.765757  0.931264   \n",
       "2  0.808370  0.578024  0.181267  ...  0.924226  0.070744  0.704575  0.948127   \n",
       "3  0.406938  0.898234  0.513575  ...  0.790312  0.082292  0.850821  0.088025   \n",
       "4  0.774760  0.293800  0.956949  ...  0.525562  0.454788  0.848812  0.095214   \n",
       "\n",
       "         15        16        17        18        19        20  \n",
       "0  0.969657  0.110998  0.033474  0.117277  0.213938  0.448295  \n",
       "1  0.336841  0.271230  0.509798  0.877048  0.310951  0.282750  \n",
       "2  0.971452  0.360861  0.074394  0.386949  0.396453  0.123756  \n",
       "3  0.289218  0.822775  0.515933  0.962827  0.026952  0.036206  \n",
       "4  0.415311  0.026496  0.513342  0.830389  0.931145  0.293450  \n",
       "\n",
       "[5 rows x 21 columns]"
      ]
     },
     "metadata": {},
     "output_type": "display_data"
    }
   ],
   "source": [
    "tabla[\"20\"] = tabla[\"1\"]*0.5\n",
    "display(tabla[0:5])\n",
    "\n",
    "#lista = [i for i in tabla.column[\"20\"]]"
   ]
  },
  {
   "cell_type": "markdown",
   "metadata": {},
   "source": [
    "### 10. Use a list comprehension to extract and print all values from the data set that are between 0.7 and 0.75."
   ]
  },
  {
   "cell_type": "code",
   "execution_count": 171,
   "metadata": {},
   "outputs": [
    {
     "name": "stdout",
     "output_type": "stream",
     "text": [
      "[0.7347510852128797, 0.7280006345208285, 0.7132714209987683, 0.7025657075988269, 0.736029494090402, 0.7472962776291713, 0.7258310816144985, 0.7343092314001137, 0.7088042362916818, 0.7358941798147411, 0.7365416322783028, 0.7329024831531535, 0.7023481768180954, 0.7133695725698419, 0.7476323136755818, 0.7008930873050235, 0.7013619954419494, 0.7357618655811269, 0.7268545088531969, 0.7150799992177622, 0.7173964318670598, 0.7032248108904495, 0.7306642125209889, 0.7383982036983279, 0.7124169515124726, 0.71223975981198, 0.7298115760258881, 0.7051334608870933, 0.7321333453970806, 0.7178166705957928, 0.7374449181749492, 0.7159290265157912, 0.7294980584878026, 0.7215147068185102, 0.7045750112959754, 0.7111584953876777, 0.7209375615129192, 0.7396561066717461, 0.7303553716733908, 0.7133690799930356, 0.7356923324968598, 0.7390312927111312, 0.7078738356977186, 0.7321533684342264, 0.7490680818183477, 0.7085098152301276, 0.7130781095091867, 0.7264121114538001, 0.7196096371031628, 0.7244863338885654, 0.7393833032570581]\n"
     ]
    }
   ],
   "source": [
    "valores_mayores =[]\n",
    "\n",
    "for columna in tabla:\n",
    "    for valor in tabla[columna]:\n",
    "        if valor >= 0.7 and valor <= 0.75:\n",
    "            valores_mayores.append(valor)\n",
    "#print(valores_mayores)\n",
    "\n",
    "lista = [valor for columna in tabla for valor in tabla[columna] if valor >= 0.7 and valor <= 0.75 ]\n",
    "print (lista)"
   ]
  },
  {
   "cell_type": "code",
   "execution_count": null,
   "metadata": {},
   "outputs": [],
   "source": []
  }
 ],
 "metadata": {
  "kernelspec": {
   "display_name": "Python 3",
   "language": "python",
   "name": "python3"
  },
  "language_info": {
   "codemirror_mode": {
    "name": "ipython",
    "version": 3
   },
   "file_extension": ".py",
   "mimetype": "text/x-python",
   "name": "python",
   "nbconvert_exporter": "python",
   "pygments_lexer": "ipython3",
   "version": "3.7.4"
  }
 },
 "nbformat": 4,
 "nbformat_minor": 2
}
