{
 "cells": [
  {
   "cell_type": "code",
   "execution_count": 36,
   "metadata": {},
   "outputs": [
    {
     "data": {
      "text/plain": [
       "True"
      ]
     },
     "execution_count": 36,
     "metadata": {},
     "output_type": "execute_result"
    }
   ],
   "source": [
    "import requests\n",
    "import os\n",
    "from dotenv import load_dotenv\n",
    "load_dotenv()\n"
   ]
  },
  {
   "cell_type": "code",
   "execution_count": 37,
   "metadata": {},
   "outputs": [],
   "source": [
    "def githubRequestAuthorized(resource):\n",
    "    authToken = os.getenv(\"GITHUB_API_TOKEN\")\n",
    "    if not authToken:\n",
    "        raise ValueError(\"NECESITAS UN TOKEN\")\n",
    "    else:\n",
    "        print(\"We have a github token: \", authToken[0:4])\n",
    "    headers = {\n",
    "        \"Authorization\": \"token {}\".format(authToken)\n",
    "    }\n",
    "    url = \"https://api.github.com{}\".format(resource)\n",
    "    print(\"Requesting authorized {}\".format(url))\n",
    "    res = requests.get(url, headers=headers)\n",
    "    return res\n"
   ]
  },
  {
   "cell_type": "code",
   "execution_count": 46,
   "metadata": {},
   "outputs": [
    {
     "name": "stdout",
     "output_type": "stream",
     "text": [
      "We have a github token:  f9f1\n",
      "Requesting authorized https://api.github.com/repos/ironhack-datalabs/datamad1019/commits?since=2019-10-01T00:00:00\n"
     ]
    }
   ],
   "source": [
    "commits = githubRequestAuthorized(\"/repos/ironhack-datalabs/datamad1019/commits?since=2019-10-01T00:00:00\").json()"
   ]
  },
  {
   "cell_type": "code",
   "execution_count": 47,
   "metadata": {},
   "outputs": [
    {
     "data": {
      "text/plain": [
       "[{'sha': '736943a50f626e98be1b6da8dcf12c36b48f1cb7',\n",
       "  'node_id': 'MDY6Q29tbWl0MjE2NTc2NDQzOjczNjk0M2E1MGY2MjZlOThiZTFiNmRhOGRjZjEyYzM2YjQ4ZjFjYjc=',\n",
       "  'commit': {'author': {'name': 'Marc Pomar',\n",
       "    'email': 'marc@faable.com',\n",
       "    'date': '2019-10-21T10:56:46Z'},\n",
       "   'committer': {'name': 'Marc Pomar',\n",
       "    'email': 'marc@faable.com',\n",
       "    'date': '2019-10-21T10:56:46Z'},\n",
       "   'message': 'listo',\n",
       "   'tree': {'sha': 'c1a56f120fe4f229cb72f20bf384ba236de594df',\n",
       "    'url': 'https://api.github.com/repos/ironhack-datalabs/datamad1019/git/trees/c1a56f120fe4f229cb72f20bf384ba236de594df'},\n",
       "   'url': 'https://api.github.com/repos/ironhack-datalabs/datamad1019/git/commits/736943a50f626e98be1b6da8dcf12c36b48f1cb7',\n",
       "   'comment_count': 0,\n",
       "   'verification': {'verified': False,\n",
       "    'reason': 'unsigned',\n",
       "    'signature': None,\n",
       "    'payload': None}},\n",
       "  'url': 'https://api.github.com/repos/ironhack-datalabs/datamad1019/commits/736943a50f626e98be1b6da8dcf12c36b48f1cb7',\n",
       "  'html_url': 'https://github.com/ironhack-datalabs/datamad1019/commit/736943a50f626e98be1b6da8dcf12c36b48f1cb7',\n",
       "  'comments_url': 'https://api.github.com/repos/ironhack-datalabs/datamad1019/commits/736943a50f626e98be1b6da8dcf12c36b48f1cb7/comments',\n",
       "  'author': {'login': 'boyander',\n",
       "   'id': 568638,\n",
       "   'node_id': 'MDQ6VXNlcjU2ODYzOA==',\n",
       "   'avatar_url': 'https://avatars1.githubusercontent.com/u/568638?v=4',\n",
       "   'gravatar_id': '',\n",
       "   'url': 'https://api.github.com/users/boyander',\n",
       "   'html_url': 'https://github.com/boyander',\n",
       "   'followers_url': 'https://api.github.com/users/boyander/followers',\n",
       "   'following_url': 'https://api.github.com/users/boyander/following{/other_user}',\n",
       "   'gists_url': 'https://api.github.com/users/boyander/gists{/gist_id}',\n",
       "   'starred_url': 'https://api.github.com/users/boyander/starred{/owner}{/repo}',\n",
       "   'subscriptions_url': 'https://api.github.com/users/boyander/subscriptions',\n",
       "   'organizations_url': 'https://api.github.com/users/boyander/orgs',\n",
       "   'repos_url': 'https://api.github.com/users/boyander/repos',\n",
       "   'events_url': 'https://api.github.com/users/boyander/events{/privacy}',\n",
       "   'received_events_url': 'https://api.github.com/users/boyander/received_events',\n",
       "   'type': 'User',\n",
       "   'site_admin': False},\n",
       "  'committer': {'login': 'boyander',\n",
       "   'id': 568638,\n",
       "   'node_id': 'MDQ6VXNlcjU2ODYzOA==',\n",
       "   'avatar_url': 'https://avatars1.githubusercontent.com/u/568638?v=4',\n",
       "   'gravatar_id': '',\n",
       "   'url': 'https://api.github.com/users/boyander',\n",
       "   'html_url': 'https://github.com/boyander',\n",
       "   'followers_url': 'https://api.github.com/users/boyander/followers',\n",
       "   'following_url': 'https://api.github.com/users/boyander/following{/other_user}',\n",
       "   'gists_url': 'https://api.github.com/users/boyander/gists{/gist_id}',\n",
       "   'starred_url': 'https://api.github.com/users/boyander/starred{/owner}{/repo}',\n",
       "   'subscriptions_url': 'https://api.github.com/users/boyander/subscriptions',\n",
       "   'organizations_url': 'https://api.github.com/users/boyander/orgs',\n",
       "   'repos_url': 'https://api.github.com/users/boyander/repos',\n",
       "   'events_url': 'https://api.github.com/users/boyander/events{/privacy}',\n",
       "   'received_events_url': 'https://api.github.com/users/boyander/received_events',\n",
       "   'type': 'User',\n",
       "   'site_admin': False},\n",
       "  'parents': [{'sha': '2b8ea3c4161e7cae55a00ec7600533d9dd2bc25e',\n",
       "    'url': 'https://api.github.com/repos/ironhack-datalabs/datamad1019/commits/2b8ea3c4161e7cae55a00ec7600533d9dd2bc25e',\n",
       "    'html_url': 'https://github.com/ironhack-datalabs/datamad1019/commit/2b8ea3c4161e7cae55a00ec7600533d9dd2bc25e'}]},\n",
       " {'sha': '2b8ea3c4161e7cae55a00ec7600533d9dd2bc25e',\n",
       "  'node_id': 'MDY6Q29tbWl0MjE2NTc2NDQzOjJiOGVhM2M0MTYxZTdjYWU1NWEwMGVjNzYwMDUzM2Q5ZGQyYmMyNWU=',\n",
       "  'commit': {'author': {'name': 'Marc Pomar',\n",
       "    'email': 'marc@faable.com',\n",
       "    'date': '2019-10-21T10:48:31Z'},\n",
       "   'committer': {'name': 'Marc Pomar',\n",
       "    'email': 'marc@faable.com',\n",
       "    'date': '2019-10-21T10:48:31Z'},\n",
       "   'message': 'cambios',\n",
       "   'tree': {'sha': 'aa80c18db95edd83607390fa292799712308767c',\n",
       "    'url': 'https://api.github.com/repos/ironhack-datalabs/datamad1019/git/trees/aa80c18db95edd83607390fa292799712308767c'},\n",
       "   'url': 'https://api.github.com/repos/ironhack-datalabs/datamad1019/git/commits/2b8ea3c4161e7cae55a00ec7600533d9dd2bc25e',\n",
       "   'comment_count': 0,\n",
       "   'verification': {'verified': False,\n",
       "    'reason': 'unsigned',\n",
       "    'signature': None,\n",
       "    'payload': None}},\n",
       "  'url': 'https://api.github.com/repos/ironhack-datalabs/datamad1019/commits/2b8ea3c4161e7cae55a00ec7600533d9dd2bc25e',\n",
       "  'html_url': 'https://github.com/ironhack-datalabs/datamad1019/commit/2b8ea3c4161e7cae55a00ec7600533d9dd2bc25e',\n",
       "  'comments_url': 'https://api.github.com/repos/ironhack-datalabs/datamad1019/commits/2b8ea3c4161e7cae55a00ec7600533d9dd2bc25e/comments',\n",
       "  'author': {'login': 'boyander',\n",
       "   'id': 568638,\n",
       "   'node_id': 'MDQ6VXNlcjU2ODYzOA==',\n",
       "   'avatar_url': 'https://avatars1.githubusercontent.com/u/568638?v=4',\n",
       "   'gravatar_id': '',\n",
       "   'url': 'https://api.github.com/users/boyander',\n",
       "   'html_url': 'https://github.com/boyander',\n",
       "   'followers_url': 'https://api.github.com/users/boyander/followers',\n",
       "   'following_url': 'https://api.github.com/users/boyander/following{/other_user}',\n",
       "   'gists_url': 'https://api.github.com/users/boyander/gists{/gist_id}',\n",
       "   'starred_url': 'https://api.github.com/users/boyander/starred{/owner}{/repo}',\n",
       "   'subscriptions_url': 'https://api.github.com/users/boyander/subscriptions',\n",
       "   'organizations_url': 'https://api.github.com/users/boyander/orgs',\n",
       "   'repos_url': 'https://api.github.com/users/boyander/repos',\n",
       "   'events_url': 'https://api.github.com/users/boyander/events{/privacy}',\n",
       "   'received_events_url': 'https://api.github.com/users/boyander/received_events',\n",
       "   'type': 'User',\n",
       "   'site_admin': False},\n",
       "  'committer': {'login': 'boyander',\n",
       "   'id': 568638,\n",
       "   'node_id': 'MDQ6VXNlcjU2ODYzOA==',\n",
       "   'avatar_url': 'https://avatars1.githubusercontent.com/u/568638?v=4',\n",
       "   'gravatar_id': '',\n",
       "   'url': 'https://api.github.com/users/boyander',\n",
       "   'html_url': 'https://github.com/boyander',\n",
       "   'followers_url': 'https://api.github.com/users/boyander/followers',\n",
       "   'following_url': 'https://api.github.com/users/boyander/following{/other_user}',\n",
       "   'gists_url': 'https://api.github.com/users/boyander/gists{/gist_id}',\n",
       "   'starred_url': 'https://api.github.com/users/boyander/starred{/owner}{/repo}',\n",
       "   'subscriptions_url': 'https://api.github.com/users/boyander/subscriptions',\n",
       "   'organizations_url': 'https://api.github.com/users/boyander/orgs',\n",
       "   'repos_url': 'https://api.github.com/users/boyander/repos',\n",
       "   'events_url': 'https://api.github.com/users/boyander/events{/privacy}',\n",
       "   'received_events_url': 'https://api.github.com/users/boyander/received_events',\n",
       "   'type': 'User',\n",
       "   'site_admin': False},\n",
       "  'parents': [{'sha': '6f25b9f13963779f131f6eb124d8ed26c774d152',\n",
       "    'url': 'https://api.github.com/repos/ironhack-datalabs/datamad1019/commits/6f25b9f13963779f131f6eb124d8ed26c774d152',\n",
       "    'html_url': 'https://github.com/ironhack-datalabs/datamad1019/commit/6f25b9f13963779f131f6eb124d8ed26c774d152'}]}]"
      ]
     },
     "execution_count": 47,
     "metadata": {},
     "output_type": "execute_result"
    }
   ],
   "source": [
    "commits"
   ]
  },
  {
   "cell_type": "code",
   "execution_count": 49,
   "metadata": {},
   "outputs": [
    {
     "name": "stdout",
     "output_type": "stream",
     "text": [
      "2\n"
     ]
    }
   ],
   "source": [
    "counter=0\n",
    "for commit in commits:\n",
    "    counter += 1\n",
    "    \n",
    "print(counter)"
   ]
  },
  {
   "cell_type": "code",
   "execution_count": null,
   "metadata": {},
   "outputs": [],
   "source": []
  }
 ],
 "metadata": {
  "kernelspec": {
   "display_name": "Python 3",
   "language": "python",
   "name": "python3"
  },
  "language_info": {
   "codemirror_mode": {
    "name": "ipython",
    "version": 3
   },
   "file_extension": ".py",
   "mimetype": "text/x-python",
   "name": "python",
   "nbconvert_exporter": "python",
   "pygments_lexer": "ipython3",
   "version": "3.7.4"
  }
 },
 "nbformat": 4,
 "nbformat_minor": 2
}
