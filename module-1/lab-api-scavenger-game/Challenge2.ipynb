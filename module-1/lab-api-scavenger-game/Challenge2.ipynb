{
 "cells": [
  {
   "cell_type": "code",
   "execution_count": 1,
   "metadata": {},
   "outputs": [
    {
     "data": {
      "text/plain": [
       "True"
      ]
     },
     "execution_count": 1,
     "metadata": {},
     "output_type": "execute_result"
    }
   ],
   "source": [
    "import os\n",
    "import re\n",
    "import requests\n",
    "from dotenv import load_dotenv\n",
    "load_dotenv()"
   ]
  },
  {
   "cell_type": "code",
   "execution_count": 3,
   "metadata": {},
   "outputs": [],
   "source": [
    "def githubRequestAuthorized(resource):\n",
    "    authToken = os.getenv(\"GITHUB_API_TOKEN\")\n",
    "    if not authToken:\n",
    "        raise ValueError(\"NECESITAS UN TOKEN\")\n",
    "    else:\n",
    "        print(\"We have a github token: \", authToken[0:4])\n",
    "    headers = {\n",
    "        \"Authorization\": \"token {}\".format(authToken)\n",
    "    }\n",
    "    url = \"https://api.github.com{}\".format(resource)\n",
    "    print(\"Requesting authorized {}\".format(url))\n",
    "    res = requests.get(url, headers=headers)\n",
    "    return res"
   ]
  },
  {
   "cell_type": "code",
   "execution_count": 9,
   "metadata": {},
   "outputs": [
    {
     "name": "stdout",
     "output_type": "stream",
     "text": [
      "We have a github token:  0f16\n",
      "Requesting authorized https://api.github.com/repos/ironhack-datalabs/datamad1019/commits?since=2019-09-06T08:00:00\n"
     ]
    }
   ],
   "source": [
    "data = githubRequestAuthorized(\"/repos/ironhack-datalabs/datamad1019/commits?since=2019-09-06T08:00:00\").json()"
   ]
  },
  {
   "cell_type": "code",
   "execution_count": 10,
   "metadata": {},
   "outputs": [
    {
     "data": {
      "text/plain": [
       "[{'sha': '736943a50f626e98be1b6da8dcf12c36b48f1cb7',\n",
       "  'node_id': 'MDY6Q29tbWl0MjE2NTc2NDQzOjczNjk0M2E1MGY2MjZlOThiZTFiNmRhOGRjZjEyYzM2YjQ4ZjFjYjc=',\n",
       "  'commit': {'author': {'name': 'Marc Pomar',\n",
       "    'email': 'marc@faable.com',\n",
       "    'date': '2019-10-21T10:56:46Z'},\n",
       "   'committer': {'name': 'Marc Pomar',\n",
       "    'email': 'marc@faable.com',\n",
       "    'date': '2019-10-21T10:56:46Z'},\n",
       "   'message': 'listo',\n",
       "   'tree': {'sha': 'c1a56f120fe4f229cb72f20bf384ba236de594df',\n",
       "    'url': 'https://api.github.com/repos/ironhack-datalabs/datamad1019/git/trees/c1a56f120fe4f229cb72f20bf384ba236de594df'},\n",
       "   'url': 'https://api.github.com/repos/ironhack-datalabs/datamad1019/git/commits/736943a50f626e98be1b6da8dcf12c36b48f1cb7',\n",
       "   'comment_count': 0,\n",
       "   'verification': {'verified': False,\n",
       "    'reason': 'unsigned',\n",
       "    'signature': None,\n",
       "    'payload': None}},\n",
       "  'url': 'https://api.github.com/repos/ironhack-datalabs/datamad1019/commits/736943a50f626e98be1b6da8dcf12c36b48f1cb7',\n",
       "  'html_url': 'https://github.com/ironhack-datalabs/datamad1019/commit/736943a50f626e98be1b6da8dcf12c36b48f1cb7',\n",
       "  'comments_url': 'https://api.github.com/repos/ironhack-datalabs/datamad1019/commits/736943a50f626e98be1b6da8dcf12c36b48f1cb7/comments',\n",
       "  'author': {'login': 'boyander',\n",
       "   'id': 568638,\n",
       "   'node_id': 'MDQ6VXNlcjU2ODYzOA==',\n",
       "   'avatar_url': 'https://avatars1.githubusercontent.com/u/568638?v=4',\n",
       "   'gravatar_id': '',\n",
       "   'url': 'https://api.github.com/users/boyander',\n",
       "   'html_url': 'https://github.com/boyander',\n",
       "   'followers_url': 'https://api.github.com/users/boyander/followers',\n",
       "   'following_url': 'https://api.github.com/users/boyander/following{/other_user}',\n",
       "   'gists_url': 'https://api.github.com/users/boyander/gists{/gist_id}',\n",
       "   'starred_url': 'https://api.github.com/users/boyander/starred{/owner}{/repo}',\n",
       "   'subscriptions_url': 'https://api.github.com/users/boyander/subscriptions',\n",
       "   'organizations_url': 'https://api.github.com/users/boyander/orgs',\n",
       "   'repos_url': 'https://api.github.com/users/boyander/repos',\n",
       "   'events_url': 'https://api.github.com/users/boyander/events{/privacy}',\n",
       "   'received_events_url': 'https://api.github.com/users/boyander/received_events',\n",
       "   'type': 'User',\n",
       "   'site_admin': False},\n",
       "  'committer': {'login': 'boyander',\n",
       "   'id': 568638,\n",
       "   'node_id': 'MDQ6VXNlcjU2ODYzOA==',\n",
       "   'avatar_url': 'https://avatars1.githubusercontent.com/u/568638?v=4',\n",
       "   'gravatar_id': '',\n",
       "   'url': 'https://api.github.com/users/boyander',\n",
       "   'html_url': 'https://github.com/boyander',\n",
       "   'followers_url': 'https://api.github.com/users/boyander/followers',\n",
       "   'following_url': 'https://api.github.com/users/boyander/following{/other_user}',\n",
       "   'gists_url': 'https://api.github.com/users/boyander/gists{/gist_id}',\n",
       "   'starred_url': 'https://api.github.com/users/boyander/starred{/owner}{/repo}',\n",
       "   'subscriptions_url': 'https://api.github.com/users/boyander/subscriptions',\n",
       "   'organizations_url': 'https://api.github.com/users/boyander/orgs',\n",
       "   'repos_url': 'https://api.github.com/users/boyander/repos',\n",
       "   'events_url': 'https://api.github.com/users/boyander/events{/privacy}',\n",
       "   'received_events_url': 'https://api.github.com/users/boyander/received_events',\n",
       "   'type': 'User',\n",
       "   'site_admin': False},\n",
       "  'parents': [{'sha': '2b8ea3c4161e7cae55a00ec7600533d9dd2bc25e',\n",
       "    'url': 'https://api.github.com/repos/ironhack-datalabs/datamad1019/commits/2b8ea3c4161e7cae55a00ec7600533d9dd2bc25e',\n",
       "    'html_url': 'https://github.com/ironhack-datalabs/datamad1019/commit/2b8ea3c4161e7cae55a00ec7600533d9dd2bc25e'}]},\n",
       " {'sha': '2b8ea3c4161e7cae55a00ec7600533d9dd2bc25e',\n",
       "  'node_id': 'MDY6Q29tbWl0MjE2NTc2NDQzOjJiOGVhM2M0MTYxZTdjYWU1NWEwMGVjNzYwMDUzM2Q5ZGQyYmMyNWU=',\n",
       "  'commit': {'author': {'name': 'Marc Pomar',\n",
       "    'email': 'marc@faable.com',\n",
       "    'date': '2019-10-21T10:48:31Z'},\n",
       "   'committer': {'name': 'Marc Pomar',\n",
       "    'email': 'marc@faable.com',\n",
       "    'date': '2019-10-21T10:48:31Z'},\n",
       "   'message': 'cambios',\n",
       "   'tree': {'sha': 'aa80c18db95edd83607390fa292799712308767c',\n",
       "    'url': 'https://api.github.com/repos/ironhack-datalabs/datamad1019/git/trees/aa80c18db95edd83607390fa292799712308767c'},\n",
       "   'url': 'https://api.github.com/repos/ironhack-datalabs/datamad1019/git/commits/2b8ea3c4161e7cae55a00ec7600533d9dd2bc25e',\n",
       "   'comment_count': 0,\n",
       "   'verification': {'verified': False,\n",
       "    'reason': 'unsigned',\n",
       "    'signature': None,\n",
       "    'payload': None}},\n",
       "  'url': 'https://api.github.com/repos/ironhack-datalabs/datamad1019/commits/2b8ea3c4161e7cae55a00ec7600533d9dd2bc25e',\n",
       "  'html_url': 'https://github.com/ironhack-datalabs/datamad1019/commit/2b8ea3c4161e7cae55a00ec7600533d9dd2bc25e',\n",
       "  'comments_url': 'https://api.github.com/repos/ironhack-datalabs/datamad1019/commits/2b8ea3c4161e7cae55a00ec7600533d9dd2bc25e/comments',\n",
       "  'author': {'login': 'boyander',\n",
       "   'id': 568638,\n",
       "   'node_id': 'MDQ6VXNlcjU2ODYzOA==',\n",
       "   'avatar_url': 'https://avatars1.githubusercontent.com/u/568638?v=4',\n",
       "   'gravatar_id': '',\n",
       "   'url': 'https://api.github.com/users/boyander',\n",
       "   'html_url': 'https://github.com/boyander',\n",
       "   'followers_url': 'https://api.github.com/users/boyander/followers',\n",
       "   'following_url': 'https://api.github.com/users/boyander/following{/other_user}',\n",
       "   'gists_url': 'https://api.github.com/users/boyander/gists{/gist_id}',\n",
       "   'starred_url': 'https://api.github.com/users/boyander/starred{/owner}{/repo}',\n",
       "   'subscriptions_url': 'https://api.github.com/users/boyander/subscriptions',\n",
       "   'organizations_url': 'https://api.github.com/users/boyander/orgs',\n",
       "   'repos_url': 'https://api.github.com/users/boyander/repos',\n",
       "   'events_url': 'https://api.github.com/users/boyander/events{/privacy}',\n",
       "   'received_events_url': 'https://api.github.com/users/boyander/received_events',\n",
       "   'type': 'User',\n",
       "   'site_admin': False},\n",
       "  'committer': {'login': 'boyander',\n",
       "   'id': 568638,\n",
       "   'node_id': 'MDQ6VXNlcjU2ODYzOA==',\n",
       "   'avatar_url': 'https://avatars1.githubusercontent.com/u/568638?v=4',\n",
       "   'gravatar_id': '',\n",
       "   'url': 'https://api.github.com/users/boyander',\n",
       "   'html_url': 'https://github.com/boyander',\n",
       "   'followers_url': 'https://api.github.com/users/boyander/followers',\n",
       "   'following_url': 'https://api.github.com/users/boyander/following{/other_user}',\n",
       "   'gists_url': 'https://api.github.com/users/boyander/gists{/gist_id}',\n",
       "   'starred_url': 'https://api.github.com/users/boyander/starred{/owner}{/repo}',\n",
       "   'subscriptions_url': 'https://api.github.com/users/boyander/subscriptions',\n",
       "   'organizations_url': 'https://api.github.com/users/boyander/orgs',\n",
       "   'repos_url': 'https://api.github.com/users/boyander/repos',\n",
       "   'events_url': 'https://api.github.com/users/boyander/events{/privacy}',\n",
       "   'received_events_url': 'https://api.github.com/users/boyander/received_events',\n",
       "   'type': 'User',\n",
       "   'site_admin': False},\n",
       "  'parents': [{'sha': '6f25b9f13963779f131f6eb124d8ed26c774d152',\n",
       "    'url': 'https://api.github.com/repos/ironhack-datalabs/datamad1019/commits/6f25b9f13963779f131f6eb124d8ed26c774d152',\n",
       "    'html_url': 'https://github.com/ironhack-datalabs/datamad1019/commit/6f25b9f13963779f131f6eb124d8ed26c774d152'}]},\n",
       " {'sha': '6f25b9f13963779f131f6eb124d8ed26c774d152',\n",
       "  'node_id': 'MDY6Q29tbWl0MjE2NTc2NDQzOjZmMjViOWYxMzk2Mzc3OWYxMzFmNmViMTI0ZDhlZDI2Yzc3NGQxNTI=',\n",
       "  'commit': {'author': {'name': 'Himanshu Aggarwal',\n",
       "    'email': 'haggarw3@asu.edu',\n",
       "    'date': '2019-09-10T15:49:07Z'},\n",
       "   'committer': {'name': 'GitHub',\n",
       "    'email': 'noreply@github.com',\n",
       "    'date': '2019-09-10T15:49:07Z'},\n",
       "   'message': 'Typo fix in lab continuous distributions',\n",
       "   'tree': {'sha': 'a26a4e9b6818112778855da3fa40df5a48ef57fe',\n",
       "    'url': 'https://api.github.com/repos/ironhack-datalabs/datamad1019/git/trees/a26a4e9b6818112778855da3fa40df5a48ef57fe'},\n",
       "   'url': 'https://api.github.com/repos/ironhack-datalabs/datamad1019/git/commits/6f25b9f13963779f131f6eb124d8ed26c774d152',\n",
       "   'comment_count': 0,\n",
       "   'verification': {'verified': True,\n",
       "    'reason': 'valid',\n",
       "    'signature': '-----BEGIN PGP SIGNATURE-----\\n\\nwsBcBAABCAAQBQJdd8XzCRBK7hj4Ov3rIwAAdHIIAI1vAZuRvQKofycHQ7ULZjuZ\\nQQ312DZIpQUA2jJInYzERQPf+DvMdpVDtYQHwfDBqaZ+W+mHxTWtkSiEnkUBzsX3\\nYnR8u7mWStg0y7QgWs4VepvKvt5xO2kuFbqwPuL/Uu1TTyd31OAq9lq2KKslzJSU\\n0qXbnMjNNt9i9sC70/G9b4kVI9jTy7y+dbpNHfkor1qTaefWBk8NR3Wtzhb5j5rW\\ntTQDsUSE769xeEIPHQfClJjzPacHAFE9dgVHdU2K7MiaO7hPkLSRnCTiHE6ukXCm\\nMtINu4CqVkVXJFjJf5l93pex3J0wmWfc95p3qRvEZdtxWMjl416XUOsvIdTVgEs=\\n=rA1Y\\n-----END PGP SIGNATURE-----\\n',\n",
       "    'payload': 'tree a26a4e9b6818112778855da3fa40df5a48ef57fe\\nparent bf7762a4cd32dd9d08bd852e0cba0f1fd45c34fa\\nauthor Himanshu Aggarwal <haggarw3@asu.edu> 1568130547 -0400\\ncommitter GitHub <noreply@github.com> 1568130547 -0400\\n\\nTypo fix in lab continuous distributions'}},\n",
       "  'url': 'https://api.github.com/repos/ironhack-datalabs/datamad1019/commits/6f25b9f13963779f131f6eb124d8ed26c774d152',\n",
       "  'html_url': 'https://github.com/ironhack-datalabs/datamad1019/commit/6f25b9f13963779f131f6eb124d8ed26c774d152',\n",
       "  'comments_url': 'https://api.github.com/repos/ironhack-datalabs/datamad1019/commits/6f25b9f13963779f131f6eb124d8ed26c774d152/comments',\n",
       "  'author': {'login': 'haggarw3',\n",
       "   'id': 22273533,\n",
       "   'node_id': 'MDQ6VXNlcjIyMjczNTMz',\n",
       "   'avatar_url': 'https://avatars0.githubusercontent.com/u/22273533?v=4',\n",
       "   'gravatar_id': '',\n",
       "   'url': 'https://api.github.com/users/haggarw3',\n",
       "   'html_url': 'https://github.com/haggarw3',\n",
       "   'followers_url': 'https://api.github.com/users/haggarw3/followers',\n",
       "   'following_url': 'https://api.github.com/users/haggarw3/following{/other_user}',\n",
       "   'gists_url': 'https://api.github.com/users/haggarw3/gists{/gist_id}',\n",
       "   'starred_url': 'https://api.github.com/users/haggarw3/starred{/owner}{/repo}',\n",
       "   'subscriptions_url': 'https://api.github.com/users/haggarw3/subscriptions',\n",
       "   'organizations_url': 'https://api.github.com/users/haggarw3/orgs',\n",
       "   'repos_url': 'https://api.github.com/users/haggarw3/repos',\n",
       "   'events_url': 'https://api.github.com/users/haggarw3/events{/privacy}',\n",
       "   'received_events_url': 'https://api.github.com/users/haggarw3/received_events',\n",
       "   'type': 'User',\n",
       "   'site_admin': False},\n",
       "  'committer': {'login': 'web-flow',\n",
       "   'id': 19864447,\n",
       "   'node_id': 'MDQ6VXNlcjE5ODY0NDQ3',\n",
       "   'avatar_url': 'https://avatars3.githubusercontent.com/u/19864447?v=4',\n",
       "   'gravatar_id': '',\n",
       "   'url': 'https://api.github.com/users/web-flow',\n",
       "   'html_url': 'https://github.com/web-flow',\n",
       "   'followers_url': 'https://api.github.com/users/web-flow/followers',\n",
       "   'following_url': 'https://api.github.com/users/web-flow/following{/other_user}',\n",
       "   'gists_url': 'https://api.github.com/users/web-flow/gists{/gist_id}',\n",
       "   'starred_url': 'https://api.github.com/users/web-flow/starred{/owner}{/repo}',\n",
       "   'subscriptions_url': 'https://api.github.com/users/web-flow/subscriptions',\n",
       "   'organizations_url': 'https://api.github.com/users/web-flow/orgs',\n",
       "   'repos_url': 'https://api.github.com/users/web-flow/repos',\n",
       "   'events_url': 'https://api.github.com/users/web-flow/events{/privacy}',\n",
       "   'received_events_url': 'https://api.github.com/users/web-flow/received_events',\n",
       "   'type': 'User',\n",
       "   'site_admin': False},\n",
       "  'parents': [{'sha': 'bf7762a4cd32dd9d08bd852e0cba0f1fd45c34fa',\n",
       "    'url': 'https://api.github.com/repos/ironhack-datalabs/datamad1019/commits/bf7762a4cd32dd9d08bd852e0cba0f1fd45c34fa',\n",
       "    'html_url': 'https://github.com/ironhack-datalabs/datamad1019/commit/bf7762a4cd32dd9d08bd852e0cba0f1fd45c34fa'}]}]"
      ]
     },
     "execution_count": 10,
     "metadata": {},
     "output_type": "execute_result"
    }
   ],
   "source": [
    "data"
   ]
  },
  {
   "cell_type": "code",
   "execution_count": 11,
   "metadata": {},
   "outputs": [
    {
     "data": {
      "text/plain": [
       "3"
      ]
     },
     "execution_count": 11,
     "metadata": {},
     "output_type": "execute_result"
    }
   ],
   "source": [
    "len(data)"
   ]
  }
 ],
 "metadata": {
  "kernelspec": {
   "display_name": "Python 3",
   "language": "python",
   "name": "python3"
  },
  "language_info": {
   "codemirror_mode": {
    "name": "ipython",
    "version": 3
   },
   "file_extension": ".py",
   "mimetype": "text/x-python",
   "name": "python",
   "nbconvert_exporter": "python",
   "pygments_lexer": "ipython3",
   "version": "3.7.3"
  }
 },
 "nbformat": 4,
 "nbformat_minor": 2
}
