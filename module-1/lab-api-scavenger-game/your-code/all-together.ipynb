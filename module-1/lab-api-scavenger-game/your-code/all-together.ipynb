{
 "cells": [
  {
   "cell_type": "code",
   "execution_count": null,
   "metadata": {},
   "outputs": [],
   "source": [
    "import os\n",
    "import requests\n",
    "from dotenv import load_dotenv\n",
    "load_dotenv()\n",
    "import json\n",
    "import base64\n",
    "import re\n",
    "\n",
    "# https://developer.github.com/v3/"
   ]
  },
  {
   "cell_type": "code",
   "execution_count": null,
   "metadata": {},
   "outputs": [],
   "source": [
    "#Functions\n",
    "\n",
    "def githubRequestAuthorized(resource):\n",
    "    authToken = os.getenv(\"LAB_API_TOKEN\")\n",
    "    if not authToken:\n",
    "        raise ValueError(\"NECESITAS UN TOKEN\")\n",
    "    else:\n",
    "        print(\"We have a github token: \", authToken[0:4])\n",
    "    headers = {\n",
    "        \"Authorization\": \"token {}\".format(authToken)\n",
    "    }\n",
    "    url = \"https://api.github.com{}\".format(resource)\n",
    "    print(\"Requesting authorized {}\".format(url))\n",
    "    res = requests.get(url, headers=headers)\n",
    "    return res\n",
    "def cutUrlDomain(url):\n",
    "    return (url.split('github.com')[1])"
   ]
  },
  {
   "cell_type": "code",
   "execution_count": null,
   "metadata": {},
   "outputs": [],
   "source": [
    "#Challenge 1\n",
    "\n",
    "data = githubRequestAuthorized(\"/repos/ironhack-datalabs/datamad1019\").json()"
   ]
  },
  {
   "cell_type": "code",
   "execution_count": null,
   "metadata": {},
   "outputs": [],
   "source": [
    "forks = githubRequestAuthorized(cutUrlDomain(data['forks_url'])).json()\n",
    "languages = []\n",
    "for f in forks:\n",
    "    language = githubRequestAuthorized(cutUrlDomain(f['languages_url'])).json()\n",
    "    languages.append(list(language.keys()))\n"
   ]
  },
  {
   "cell_type": "code",
   "execution_count": null,
   "metadata": {},
   "outputs": [],
   "source": [
    "print(*languages, sep='\\n')"
   ]
  },
  {
   "cell_type": "code",
   "execution_count": null,
   "metadata": {},
   "outputs": [],
   "source": [
    "#Challenge 2"
   ]
  },
  {
   "cell_type": "code",
   "execution_count": null,
   "metadata": {},
   "outputs": [],
   "source": [
    "url = cutUrlDomain(data['commits_url'])\n",
    "#\"/repos/ironhack-datalabs/datamad1019/commits\"\n",
    "commits = githubRequestAuthorized(url.split('{/sha}')[0]).json()"
   ]
  },
  {
   "cell_type": "code",
   "execution_count": null,
   "metadata": {},
   "outputs": [],
   "source": [
    "ccount = 0\n",
    "for c in commits:\n",
    "    date = c['commit']['committer']['date']\n",
    "    re.sub(r'[A-Z]',' ',date)\n",
    "    if int(date[:4]) >= 2019:\n",
    "        ccount += 1\n",
    "print('Number of commits in year 2019: ', ccount)  "
   ]
  },
  {
   "cell_type": "code",
   "execution_count": null,
   "metadata": {},
   "outputs": [],
   "source": [
    "#Challenge 3"
   ]
  },
  {
   "cell_type": "code",
   "execution_count": null,
   "metadata": {},
   "outputs": [],
   "source": [
    "repo = githubRequestAuthorized(\"/repos/ironhack-datalabs/scavenger/contents\").json()               "
   ]
  },
  {
   "cell_type": "code",
   "execution_count": null,
   "metadata": {},
   "outputs": [],
   "source": [
    "folders = [githubRequestAuthorized(cutUrlDomain(f['url'])).json() for f in repo]\n",
    "folders_without_gitignore = [f for f in folders[1:]]"
   ]
  },
  {
   "cell_type": "code",
   "execution_count": null,
   "metadata": {},
   "outputs": [],
   "source": [
    "files = [e for f in folders_without_gitignore for e in f if re.search('scavengerhunt',e['name'])]\n",
    "files = sorted(files,key=lambda f: f[\"name\"])\n",
    "text = ''\n",
    "for f in files:\n",
    "    word = githubRequestAuthorized(cutUrlDomain(f['url'])).json()\n",
    "    text += (base64.b64decode(word['content'])).decode('utf8')  "
   ]
  },
  {
   "cell_type": "code",
   "execution_count": null,
   "metadata": {},
   "outputs": [],
   "source": [
    "print(text)"
   ]
  },
  {
   "cell_type": "code",
   "execution_count": null,
   "metadata": {},
   "outputs": [],
   "source": [
    "from IPython.display import Image\n",
    "from IPython.core.display import HTML \n",
    "\n",
    "micdrop = 'https://i0.wp.com/images-prod.healthline.com/hlcmsresource/images/topic_centers/HEADER_12_responses_when_someone_says_they_dont_belive_in_your_illness-01.jpg?w=1155'\n",
    "display(Image(url=micdrop))"
   ]
  },
  {
   "cell_type": "code",
   "execution_count": null,
   "metadata": {},
   "outputs": [],
   "source": []
  }
 ],
 "metadata": {
  "kernelspec": {
   "display_name": "Python 3",
   "language": "python",
   "name": "python3"
  },
  "language_info": {
   "codemirror_mode": {
    "name": "ipython",
    "version": 3
   },
   "file_extension": ".py",
   "mimetype": "text/x-python",
   "name": "python",
   "nbconvert_exporter": "python",
   "pygments_lexer": "ipython3",
   "version": "3.7.5rc1"
  }
 },
 "nbformat": 4,
 "nbformat_minor": 2
}
