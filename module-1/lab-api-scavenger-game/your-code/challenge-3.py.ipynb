{
 "cells": [
  {
   "cell_type": "code",
   "execution_count": 1,
   "metadata": {},
   "outputs": [],
   "source": [
    "import requests\n",
    "import json\n",
    "\n",
    "import os\n",
    "from dotenv import load_dotenv\n",
    "load_dotenv()\n",
    "\n",
    "def githubRequestAuthorized(resource):\n",
    "    authToken = os.getenv(\"GITHUB_API_TOKEN\")\n",
    "    if not authToken:\n",
    "        raise ValueError(\"NECESITAS UN TOKEN\")\n",
    "    else:\n",
    "        print(\"We have a github token: \", authToken[0:4])\n",
    "    headers = {\n",
    "        \"Authorization\": \"token {}\".format(authToken)\n",
    "    }\n",
    "    url = \"https://api.github.com{}\".format(resource)\n",
    "    print(\"Requesting authorized {}\".format(url))\n",
    "    res = requests.get(url, headers=headers)\n",
    "    return res"
   ]
  },
  {
   "cell_type": "code",
   "execution_count": 3,
   "metadata": {},
   "outputs": [
    {
     "name": "stdout",
     "output_type": "stream",
     "text": [
      "We have a github token:  482b\n",
      "Requesting authorized https://api.github.com/repos/ironhack-datalabs/datamad1019/contents\n"
     ]
    }
   ],
   "source": [
    "data = githubRequestAuthorized(\"/repos/ironhack-datalabs/datamad1019/contents\").json()\n"
   ]
  },
  {
   "cell_type": "code",
   "execution_count": 4,
   "metadata": {},
   "outputs": [
    {
     "data": {
      "text/plain": [
       "[{'name': '.gitignore',\n",
       "  'path': '.gitignore',\n",
       "  'sha': 'b6f92d85fc0b30eb091cf506d1d8559f28f7aa01',\n",
       "  'size': 41,\n",
       "  'url': 'https://api.github.com/repos/ironhack-datalabs/datamad1019/contents/.gitignore?ref=master',\n",
       "  'html_url': 'https://github.com/ironhack-datalabs/datamad1019/blob/master/.gitignore',\n",
       "  'git_url': 'https://api.github.com/repos/ironhack-datalabs/datamad1019/git/blobs/b6f92d85fc0b30eb091cf506d1d8559f28f7aa01',\n",
       "  'download_url': 'https://raw.githubusercontent.com/ironhack-datalabs/datamad1019/master/.gitignore',\n",
       "  'type': 'file',\n",
       "  '_links': {'self': 'https://api.github.com/repos/ironhack-datalabs/datamad1019/contents/.gitignore?ref=master',\n",
       "   'git': 'https://api.github.com/repos/ironhack-datalabs/datamad1019/git/blobs/b6f92d85fc0b30eb091cf506d1d8559f28f7aa01',\n",
       "   'html': 'https://github.com/ironhack-datalabs/datamad1019/blob/master/.gitignore'}},\n",
       " {'name': 'LICENSE',\n",
       "  'path': 'LICENSE',\n",
       "  'sha': '0ad25db4bd1d86c452db3f9602ccdbe172438f52',\n",
       "  'size': 34523,\n",
       "  'url': 'https://api.github.com/repos/ironhack-datalabs/datamad1019/contents/LICENSE?ref=master',\n",
       "  'html_url': 'https://github.com/ironhack-datalabs/datamad1019/blob/master/LICENSE',\n",
       "  'git_url': 'https://api.github.com/repos/ironhack-datalabs/datamad1019/git/blobs/0ad25db4bd1d86c452db3f9602ccdbe172438f52',\n",
       "  'download_url': 'https://raw.githubusercontent.com/ironhack-datalabs/datamad1019/master/LICENSE',\n",
       "  'type': 'file',\n",
       "  '_links': {'self': 'https://api.github.com/repos/ironhack-datalabs/datamad1019/contents/LICENSE?ref=master',\n",
       "   'git': 'https://api.github.com/repos/ironhack-datalabs/datamad1019/git/blobs/0ad25db4bd1d86c452db3f9602ccdbe172438f52',\n",
       "   'html': 'https://github.com/ironhack-datalabs/datamad1019/blob/master/LICENSE'}},\n",
       " {'name': 'README.md',\n",
       "  'path': 'README.md',\n",
       "  'sha': 'b178441b0a2678d3469e18d86683612e61f846ef',\n",
       "  'size': 2095,\n",
       "  'url': 'https://api.github.com/repos/ironhack-datalabs/datamad1019/contents/README.md?ref=master',\n",
       "  'html_url': 'https://github.com/ironhack-datalabs/datamad1019/blob/master/README.md',\n",
       "  'git_url': 'https://api.github.com/repos/ironhack-datalabs/datamad1019/git/blobs/b178441b0a2678d3469e18d86683612e61f846ef',\n",
       "  'download_url': 'https://raw.githubusercontent.com/ironhack-datalabs/datamad1019/master/README.md',\n",
       "  'type': 'file',\n",
       "  '_links': {'self': 'https://api.github.com/repos/ironhack-datalabs/datamad1019/contents/README.md?ref=master',\n",
       "   'git': 'https://api.github.com/repos/ironhack-datalabs/datamad1019/git/blobs/b178441b0a2678d3469e18d86683612e61f846ef',\n",
       "   'html': 'https://github.com/ironhack-datalabs/datamad1019/blob/master/README.md'}},\n",
       " {'name': 'final-project',\n",
       "  'path': 'final-project',\n",
       "  'sha': 'adbdb2b862098b57dd30e1ba89b96e52f3016420',\n",
       "  'size': 0,\n",
       "  'url': 'https://api.github.com/repos/ironhack-datalabs/datamad1019/contents/final-project?ref=master',\n",
       "  'html_url': 'https://github.com/ironhack-datalabs/datamad1019/tree/master/final-project',\n",
       "  'git_url': 'https://api.github.com/repos/ironhack-datalabs/datamad1019/git/trees/adbdb2b862098b57dd30e1ba89b96e52f3016420',\n",
       "  'download_url': None,\n",
       "  'type': 'dir',\n",
       "  '_links': {'self': 'https://api.github.com/repos/ironhack-datalabs/datamad1019/contents/final-project?ref=master',\n",
       "   'git': 'https://api.github.com/repos/ironhack-datalabs/datamad1019/git/trees/adbdb2b862098b57dd30e1ba89b96e52f3016420',\n",
       "   'html': 'https://github.com/ironhack-datalabs/datamad1019/tree/master/final-project'}},\n",
       " {'name': 'images',\n",
       "  'path': 'images',\n",
       "  'sha': '7aadc225975208cacba61a657b50bec523085e85',\n",
       "  'size': 0,\n",
       "  'url': 'https://api.github.com/repos/ironhack-datalabs/datamad1019/contents/images?ref=master',\n",
       "  'html_url': 'https://github.com/ironhack-datalabs/datamad1019/tree/master/images',\n",
       "  'git_url': 'https://api.github.com/repos/ironhack-datalabs/datamad1019/git/trees/7aadc225975208cacba61a657b50bec523085e85',\n",
       "  'download_url': None,\n",
       "  'type': 'dir',\n",
       "  '_links': {'self': 'https://api.github.com/repos/ironhack-datalabs/datamad1019/contents/images?ref=master',\n",
       "   'git': 'https://api.github.com/repos/ironhack-datalabs/datamad1019/git/trees/7aadc225975208cacba61a657b50bec523085e85',\n",
       "   'html': 'https://github.com/ironhack-datalabs/datamad1019/tree/master/images'}},\n",
       " {'name': 'module-1',\n",
       "  'path': 'module-1',\n",
       "  'sha': 'c17bebd69b96d41d901cd0cfd1e834a0f8aadf97',\n",
       "  'size': 0,\n",
       "  'url': 'https://api.github.com/repos/ironhack-datalabs/datamad1019/contents/module-1?ref=master',\n",
       "  'html_url': 'https://github.com/ironhack-datalabs/datamad1019/tree/master/module-1',\n",
       "  'git_url': 'https://api.github.com/repos/ironhack-datalabs/datamad1019/git/trees/c17bebd69b96d41d901cd0cfd1e834a0f8aadf97',\n",
       "  'download_url': None,\n",
       "  'type': 'dir',\n",
       "  '_links': {'self': 'https://api.github.com/repos/ironhack-datalabs/datamad1019/contents/module-1?ref=master',\n",
       "   'git': 'https://api.github.com/repos/ironhack-datalabs/datamad1019/git/trees/c17bebd69b96d41d901cd0cfd1e834a0f8aadf97',\n",
       "   'html': 'https://github.com/ironhack-datalabs/datamad1019/tree/master/module-1'}},\n",
       " {'name': 'module-2',\n",
       "  'path': 'module-2',\n",
       "  'sha': 'e94426329ac2be4327617d85e1caf95c8fe3f969',\n",
       "  'size': 0,\n",
       "  'url': 'https://api.github.com/repos/ironhack-datalabs/datamad1019/contents/module-2?ref=master',\n",
       "  'html_url': 'https://github.com/ironhack-datalabs/datamad1019/tree/master/module-2',\n",
       "  'git_url': 'https://api.github.com/repos/ironhack-datalabs/datamad1019/git/trees/e94426329ac2be4327617d85e1caf95c8fe3f969',\n",
       "  'download_url': None,\n",
       "  'type': 'dir',\n",
       "  '_links': {'self': 'https://api.github.com/repos/ironhack-datalabs/datamad1019/contents/module-2?ref=master',\n",
       "   'git': 'https://api.github.com/repos/ironhack-datalabs/datamad1019/git/trees/e94426329ac2be4327617d85e1caf95c8fe3f969',\n",
       "   'html': 'https://github.com/ironhack-datalabs/datamad1019/tree/master/module-2'}},\n",
       " {'name': 'module-3',\n",
       "  'path': 'module-3',\n",
       "  'sha': '2f80d83ece94b31f2f602395227d76bc8a4fa797',\n",
       "  'size': 0,\n",
       "  'url': 'https://api.github.com/repos/ironhack-datalabs/datamad1019/contents/module-3?ref=master',\n",
       "  'html_url': 'https://github.com/ironhack-datalabs/datamad1019/tree/master/module-3',\n",
       "  'git_url': 'https://api.github.com/repos/ironhack-datalabs/datamad1019/git/trees/2f80d83ece94b31f2f602395227d76bc8a4fa797',\n",
       "  'download_url': None,\n",
       "  'type': 'dir',\n",
       "  '_links': {'self': 'https://api.github.com/repos/ironhack-datalabs/datamad1019/contents/module-3?ref=master',\n",
       "   'git': 'https://api.github.com/repos/ironhack-datalabs/datamad1019/git/trees/2f80d83ece94b31f2f602395227d76bc8a4fa797',\n",
       "   'html': 'https://github.com/ironhack-datalabs/datamad1019/tree/master/module-3'}}]"
      ]
     },
     "execution_count": 4,
     "metadata": {},
     "output_type": "execute_result"
    }
   ],
   "source": [
    "data"
   ]
  },
  {
   "cell_type": "code",
   "execution_count": null,
   "metadata": {},
   "outputs": [],
   "source": []
  }
 ],
 "metadata": {
  "kernelspec": {
   "display_name": "Python 3",
   "language": "python",
   "name": "python3"
  },
  "language_info": {
   "codemirror_mode": {
    "name": "ipython",
    "version": 3
   },
   "file_extension": ".py",
   "mimetype": "text/x-python",
   "name": "python",
   "nbconvert_exporter": "python",
   "pygments_lexer": "ipython3",
   "version": "3.6.8"
  }
 },
 "nbformat": 4,
 "nbformat_minor": 2
}
