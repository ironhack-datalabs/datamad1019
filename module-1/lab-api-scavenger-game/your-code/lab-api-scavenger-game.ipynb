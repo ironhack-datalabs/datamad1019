{
 "cells": [
  {
   "cell_type": "markdown",
   "metadata": {},
   "source": [
    "# Lab | API Scavenger Game"
   ]
  },
  {
   "cell_type": "code",
   "execution_count": 1,
   "metadata": {},
   "outputs": [],
   "source": [
    "import os\n",
    "from dotenv import load_dotenv\n",
    "import requests"
   ]
  },
  {
   "cell_type": "code",
   "execution_count": 179,
   "metadata": {},
   "outputs": [],
   "source": [
    "load_dotenv()\n",
    "\n",
    "# https://developer.github.com/v3/\n",
    "def githubRequestAuthorized(resource):\n",
    "    authToken = os.getenv(\"GITHUB_API_TOKEN\")\n",
    "    if not authToken:\n",
    "        raise ValueError(\"NECESITAS UN TOKEN\")\n",
    "#     else:\n",
    "#         print(\"We have a github token: \", authToken[0:4])\n",
    "    headers = {\n",
    "        \"Authorization\": \"token {}\".format(authToken)\n",
    "    }\n",
    "    url = \"https://api.github.com{}\".format(resource)\n",
    "#     print(\"Requesting authorized {}\".format(url))\n",
    "    res = requests.get(url, headers=headers)\n",
    "    return res\n"
   ]
  },
  {
   "cell_type": "code",
   "execution_count": 180,
   "metadata": {},
   "outputs": [],
   "source": [
    "data = githubRequestAuthorized(\"/users/ironhack-datalabs/repos?direction=ironhack-datalabs/datamad1019\").json()"
   ]
  },
  {
   "cell_type": "markdown",
   "metadata": {},
   "source": [
    "### Challenge 1: Fork Languages"
   ]
  },
  {
   "cell_type": "code",
   "execution_count": 181,
   "metadata": {},
   "outputs": [],
   "source": [
    "# Numero de forks\n",
    "forks = githubRequestAuthorized('/repos/ironhack-datalabs/madrid-oct-2018/forks').json()"
   ]
  },
  {
   "cell_type": "code",
   "execution_count": 155,
   "metadata": {},
   "outputs": [
    {
     "name": "stdout",
     "output_type": "stream",
     "text": [
      "{'Jupyter Notebook', 'HTML', 'Python'}\n"
     ]
    }
   ],
   "source": [
    "languages = [forks[i]['language'] for i in range(len(forks))]\n",
    "print(set(languages))"
   ]
  },
  {
   "cell_type": "markdown",
   "metadata": {},
   "source": [
    "### Challenge 2: Count Commits"
   ]
  },
  {
   "cell_type": "code",
   "execution_count": 182,
   "metadata": {},
   "outputs": [
    {
     "data": {
      "text/plain": [
       "14"
      ]
     },
     "execution_count": 182,
     "metadata": {},
     "output_type": "execute_result"
    }
   ],
   "source": [
    "# Obtain all the commits made in the past week via API, which is a JSON array that contains multiple commit objects.\n",
    "commits = githubRequestAuthorized('/repos/ironhack-datalabs/datamad1019/commits?since=2019-07-01T00:00:00Z').json()\n",
    "# Count how many commit objects are contained in the array.\n",
    "len(commits)"
   ]
  },
  {
   "cell_type": "markdown",
   "metadata": {},
   "source": [
    "### Challenge 3: Hidden Cold Joke"
   ]
  },
  {
   "cell_type": "code",
   "execution_count": 209,
   "metadata": {},
   "outputs": [],
   "source": [
    "repo = githubRequestAuthorized('/repos/ironhack-datalabs/scavenger/contents').json()"
   ]
  },
  {
   "cell_type": "code",
   "execution_count": 210,
   "metadata": {},
   "outputs": [],
   "source": [
    "import base64\n",
    "h = {}\n",
    "for i in range(1, len(files)):\n",
    "    dir_name = repo[i]['name']\n",
    "    resource ='/repos/ironhack-datalabs/scavenger/contents/{}'.format(dir_name)\n",
    "    p = githubRequestAuthorized(resource).json()\n",
    "    for j in range(len(p)):\n",
    "        file_name = p[j]['name']\n",
    "        if re.search('.scavengerhunt', file_name):\n",
    "            resource_1 = '/repos/ironhack-datalabs/scavenger/contents/{}/{}'.format(dir_name,file_name)\n",
    "            h[file_name]=base64.b64decode((githubRequestAuthorized(resource_1).json())['content'])"
   ]
  },
  {
   "cell_type": "code",
   "execution_count": 211,
   "metadata": {},
   "outputs": [
    {
     "data": {
      "text/plain": [
       "'In data science, 80 percent of time spent is preparing data, 20 percent of time is spent complaining about the need to prepare data.'"
      ]
     },
     "execution_count": 211,
     "metadata": {},
     "output_type": "execute_result"
    }
   ],
   "source": [
    "' '.join([str(h[i],'utf-8').strip('\\n') for i in sorted(h.keys())])"
   ]
  }
 ],
 "metadata": {
  "kernelspec": {
   "display_name": "Python 3",
   "language": "python",
   "name": "python3"
  },
  "language_info": {
   "codemirror_mode": {
    "name": "ipython",
    "version": 3
   },
   "file_extension": ".py",
   "mimetype": "text/x-python",
   "name": "python",
   "nbconvert_exporter": "python",
   "pygments_lexer": "ipython3",
   "version": "3.7.3"
  }
 },
 "nbformat": 4,
 "nbformat_minor": 2
}
