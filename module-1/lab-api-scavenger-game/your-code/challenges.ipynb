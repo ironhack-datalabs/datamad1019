{
 "cells": [
  {
   "cell_type": "code",
   "execution_count": 46,
   "metadata": {},
   "outputs": [
    {
     "data": {
      "text/plain": [
       "True"
      ]
     },
     "execution_count": 46,
     "metadata": {},
     "output_type": "execute_result"
    }
   ],
   "source": [
    "import json\n",
    "import requests\n",
    "from IPython.display import Image\n",
    "from IPython.core.display import HTML \n",
    "import os\n",
    "from dotenv import load_dotenv\n",
    "load_dotenv()"
   ]
  },
  {
   "cell_type": "code",
   "execution_count": 47,
   "metadata": {},
   "outputs": [],
   "source": [
    "def githubRequestAuthorized(resource):\n",
    "    authToken = os.getenv(\"GITHUB_API_TOKEN\")\n",
    "    if not authToken:\n",
    "        raise ValueError(\"NECESITAS UN TOKEN\")\n",
    "    else:\n",
    "        print(\"We have a github token: \", authToken[0:4])\n",
    "    headers = {\n",
    "        \"Authorization\": \"token {}\".format(authToken)\n",
    "    }\n",
    "    url = \"https://api.github.com{}\".format(resource)\n",
    "    print(\"Requesting authorized {}\".format(url))\n",
    "    res = requests.get(url, headers=headers)\n",
    "    return res"
   ]
  },
  {
   "cell_type": "code",
   "execution_count": 89,
   "metadata": {},
   "outputs": [
    {
     "name": "stdout",
     "output_type": "stream",
     "text": [
      "We have a github token:  5003\n",
      "Requesting authorized https://api.github.com/repos/ironhack-datalabs/datamad1019\n"
     ]
    }
   ],
   "source": [
    "#https://github.com/ironhack-datalabs/datamad1019\n",
    "data = githubRequestAuthorized(\"/repos/ironhack-datalabs/datamad1019\").json()"
   ]
  },
  {
   "cell_type": "code",
   "execution_count": 90,
   "metadata": {},
   "outputs": [
    {
     "data": {
      "text/plain": [
       "{'id': 216576443,\n",
       " 'node_id': 'MDEwOlJlcG9zaXRvcnkyMTY1NzY0NDM=',\n",
       " 'name': 'datamad1019',\n",
       " 'full_name': 'ironhack-datalabs/datamad1019',\n",
       " 'private': False,\n",
       " 'owner': {'login': 'ironhack-datalabs',\n",
       "  'id': 44225188,\n",
       "  'node_id': 'MDEyOk9yZ2FuaXphdGlvbjQ0MjI1MTg4',\n",
       "  'avatar_url': 'https://avatars2.githubusercontent.com/u/44225188?v=4',\n",
       "  'gravatar_id': '',\n",
       "  'url': 'https://api.github.com/users/ironhack-datalabs',\n",
       "  'html_url': 'https://github.com/ironhack-datalabs',\n",
       "  'followers_url': 'https://api.github.com/users/ironhack-datalabs/followers',\n",
       "  'following_url': 'https://api.github.com/users/ironhack-datalabs/following{/other_user}',\n",
       "  'gists_url': 'https://api.github.com/users/ironhack-datalabs/gists{/gist_id}',\n",
       "  'starred_url': 'https://api.github.com/users/ironhack-datalabs/starred{/owner}{/repo}',\n",
       "  'subscriptions_url': 'https://api.github.com/users/ironhack-datalabs/subscriptions',\n",
       "  'organizations_url': 'https://api.github.com/users/ironhack-datalabs/orgs',\n",
       "  'repos_url': 'https://api.github.com/users/ironhack-datalabs/repos',\n",
       "  'events_url': 'https://api.github.com/users/ironhack-datalabs/events{/privacy}',\n",
       "  'received_events_url': 'https://api.github.com/users/ironhack-datalabs/received_events',\n",
       "  'type': 'Organization',\n",
       "  'site_admin': False},\n",
       " 'html_url': 'https://github.com/ironhack-datalabs/datamad1019',\n",
       " 'description': None,\n",
       " 'fork': False,\n",
       " 'url': 'https://api.github.com/repos/ironhack-datalabs/datamad1019',\n",
       " 'forks_url': 'https://api.github.com/repos/ironhack-datalabs/datamad1019/forks',\n",
       " 'keys_url': 'https://api.github.com/repos/ironhack-datalabs/datamad1019/keys{/key_id}',\n",
       " 'collaborators_url': 'https://api.github.com/repos/ironhack-datalabs/datamad1019/collaborators{/collaborator}',\n",
       " 'teams_url': 'https://api.github.com/repos/ironhack-datalabs/datamad1019/teams',\n",
       " 'hooks_url': 'https://api.github.com/repos/ironhack-datalabs/datamad1019/hooks',\n",
       " 'issue_events_url': 'https://api.github.com/repos/ironhack-datalabs/datamad1019/issues/events{/number}',\n",
       " 'events_url': 'https://api.github.com/repos/ironhack-datalabs/datamad1019/events',\n",
       " 'assignees_url': 'https://api.github.com/repos/ironhack-datalabs/datamad1019/assignees{/user}',\n",
       " 'branches_url': 'https://api.github.com/repos/ironhack-datalabs/datamad1019/branches{/branch}',\n",
       " 'tags_url': 'https://api.github.com/repos/ironhack-datalabs/datamad1019/tags',\n",
       " 'blobs_url': 'https://api.github.com/repos/ironhack-datalabs/datamad1019/git/blobs{/sha}',\n",
       " 'git_tags_url': 'https://api.github.com/repos/ironhack-datalabs/datamad1019/git/tags{/sha}',\n",
       " 'git_refs_url': 'https://api.github.com/repos/ironhack-datalabs/datamad1019/git/refs{/sha}',\n",
       " 'trees_url': 'https://api.github.com/repos/ironhack-datalabs/datamad1019/git/trees{/sha}',\n",
       " 'statuses_url': 'https://api.github.com/repos/ironhack-datalabs/datamad1019/statuses/{sha}',\n",
       " 'languages_url': 'https://api.github.com/repos/ironhack-datalabs/datamad1019/languages',\n",
       " 'stargazers_url': 'https://api.github.com/repos/ironhack-datalabs/datamad1019/stargazers',\n",
       " 'contributors_url': 'https://api.github.com/repos/ironhack-datalabs/datamad1019/contributors',\n",
       " 'subscribers_url': 'https://api.github.com/repos/ironhack-datalabs/datamad1019/subscribers',\n",
       " 'subscription_url': 'https://api.github.com/repos/ironhack-datalabs/datamad1019/subscription',\n",
       " 'commits_url': 'https://api.github.com/repos/ironhack-datalabs/datamad1019/commits{/sha}',\n",
       " 'git_commits_url': 'https://api.github.com/repos/ironhack-datalabs/datamad1019/git/commits{/sha}',\n",
       " 'comments_url': 'https://api.github.com/repos/ironhack-datalabs/datamad1019/comments{/number}',\n",
       " 'issue_comment_url': 'https://api.github.com/repos/ironhack-datalabs/datamad1019/issues/comments{/number}',\n",
       " 'contents_url': 'https://api.github.com/repos/ironhack-datalabs/datamad1019/contents/{+path}',\n",
       " 'compare_url': 'https://api.github.com/repos/ironhack-datalabs/datamad1019/compare/{base}...{head}',\n",
       " 'merges_url': 'https://api.github.com/repos/ironhack-datalabs/datamad1019/merges',\n",
       " 'archive_url': 'https://api.github.com/repos/ironhack-datalabs/datamad1019/{archive_format}{/ref}',\n",
       " 'downloads_url': 'https://api.github.com/repos/ironhack-datalabs/datamad1019/downloads',\n",
       " 'issues_url': 'https://api.github.com/repos/ironhack-datalabs/datamad1019/issues{/number}',\n",
       " 'pulls_url': 'https://api.github.com/repos/ironhack-datalabs/datamad1019/pulls{/number}',\n",
       " 'milestones_url': 'https://api.github.com/repos/ironhack-datalabs/datamad1019/milestones{/number}',\n",
       " 'notifications_url': 'https://api.github.com/repos/ironhack-datalabs/datamad1019/notifications{?since,all,participating}',\n",
       " 'labels_url': 'https://api.github.com/repos/ironhack-datalabs/datamad1019/labels{/name}',\n",
       " 'releases_url': 'https://api.github.com/repos/ironhack-datalabs/datamad1019/releases{/id}',\n",
       " 'deployments_url': 'https://api.github.com/repos/ironhack-datalabs/datamad1019/deployments',\n",
       " 'created_at': '2019-10-21T13:34:06Z',\n",
       " 'updated_at': '2019-10-23T16:06:00Z',\n",
       " 'pushed_at': '2019-11-06T15:45:57Z',\n",
       " 'git_url': 'git://github.com/ironhack-datalabs/datamad1019.git',\n",
       " 'ssh_url': 'git@github.com:ironhack-datalabs/datamad1019.git',\n",
       " 'clone_url': 'https://github.com/ironhack-datalabs/datamad1019.git',\n",
       " 'svn_url': 'https://github.com/ironhack-datalabs/datamad1019',\n",
       " 'homepage': None,\n",
       " 'size': 164637,\n",
       " 'stargazers_count': 2,\n",
       " 'watchers_count': 2,\n",
       " 'language': 'Jupyter Notebook',\n",
       " 'has_issues': True,\n",
       " 'has_projects': True,\n",
       " 'has_downloads': True,\n",
       " 'has_wiki': True,\n",
       " 'has_pages': False,\n",
       " 'forks_count': 30,\n",
       " 'mirror_url': None,\n",
       " 'archived': False,\n",
       " 'disabled': False,\n",
       " 'open_issues_count': 65,\n",
       " 'license': {'key': 'agpl-3.0',\n",
       "  'name': 'GNU Affero General Public License v3.0',\n",
       "  'spdx_id': 'AGPL-3.0',\n",
       "  'url': 'https://api.github.com/licenses/agpl-3.0',\n",
       "  'node_id': 'MDc6TGljZW5zZTE='},\n",
       " 'forks': 30,\n",
       " 'open_issues': 65,\n",
       " 'watchers': 2,\n",
       " 'default_branch': 'master',\n",
       " 'permissions': {'admin': False, 'push': False, 'pull': True},\n",
       " 'organization': {'login': 'ironhack-datalabs',\n",
       "  'id': 44225188,\n",
       "  'node_id': 'MDEyOk9yZ2FuaXphdGlvbjQ0MjI1MTg4',\n",
       "  'avatar_url': 'https://avatars2.githubusercontent.com/u/44225188?v=4',\n",
       "  'gravatar_id': '',\n",
       "  'url': 'https://api.github.com/users/ironhack-datalabs',\n",
       "  'html_url': 'https://github.com/ironhack-datalabs',\n",
       "  'followers_url': 'https://api.github.com/users/ironhack-datalabs/followers',\n",
       "  'following_url': 'https://api.github.com/users/ironhack-datalabs/following{/other_user}',\n",
       "  'gists_url': 'https://api.github.com/users/ironhack-datalabs/gists{/gist_id}',\n",
       "  'starred_url': 'https://api.github.com/users/ironhack-datalabs/starred{/owner}{/repo}',\n",
       "  'subscriptions_url': 'https://api.github.com/users/ironhack-datalabs/subscriptions',\n",
       "  'organizations_url': 'https://api.github.com/users/ironhack-datalabs/orgs',\n",
       "  'repos_url': 'https://api.github.com/users/ironhack-datalabs/repos',\n",
       "  'events_url': 'https://api.github.com/users/ironhack-datalabs/events{/privacy}',\n",
       "  'received_events_url': 'https://api.github.com/users/ironhack-datalabs/received_events',\n",
       "  'type': 'Organization',\n",
       "  'site_admin': False},\n",
       " 'network_count': 30,\n",
       " 'subscribers_count': 1}"
      ]
     },
     "metadata": {},
     "output_type": "display_data"
    }
   ],
   "source": [
    "display(data)\n",
    "#list(map(lambda repo: repo[\"name\"], data))\n"
   ]
  },
  {
   "cell_type": "code",
   "execution_count": 91,
   "metadata": {},
   "outputs": [
    {
     "ename": "TypeError",
     "evalue": "string indices must be integers",
     "output_type": "error",
     "traceback": [
      "\u001b[0;31m---------------------------------------------------------------------------\u001b[0m",
      "\u001b[0;31mTypeError\u001b[0m                                 Traceback (most recent call last)",
      "\u001b[0;32m<ipython-input-91-094c97f9b84d>\u001b[0m in \u001b[0;36m<module>\u001b[0;34m\u001b[0m\n\u001b[0;32m----> 1\u001b[0;31m \u001b[0mlist\u001b[0m\u001b[0;34m(\u001b[0m\u001b[0mmap\u001b[0m\u001b[0;34m(\u001b[0m\u001b[0;32mlambda\u001b[0m \u001b[0mrepo\u001b[0m\u001b[0;34m:\u001b[0m \u001b[0mrepo\u001b[0m\u001b[0;34m[\u001b[0m\u001b[0;34m\"name\"\u001b[0m\u001b[0;34m]\u001b[0m\u001b[0;34m,\u001b[0m \u001b[0mdata\u001b[0m\u001b[0;34m)\u001b[0m\u001b[0;34m)\u001b[0m\u001b[0;34m\u001b[0m\u001b[0;34m\u001b[0m\u001b[0m\n\u001b[0m",
      "\u001b[0;32m<ipython-input-91-094c97f9b84d>\u001b[0m in \u001b[0;36m<lambda>\u001b[0;34m(repo)\u001b[0m\n\u001b[0;32m----> 1\u001b[0;31m \u001b[0mlist\u001b[0m\u001b[0;34m(\u001b[0m\u001b[0mmap\u001b[0m\u001b[0;34m(\u001b[0m\u001b[0;32mlambda\u001b[0m \u001b[0mrepo\u001b[0m\u001b[0;34m:\u001b[0m \u001b[0mrepo\u001b[0m\u001b[0;34m[\u001b[0m\u001b[0;34m\"name\"\u001b[0m\u001b[0;34m]\u001b[0m\u001b[0;34m,\u001b[0m \u001b[0mdata\u001b[0m\u001b[0;34m)\u001b[0m\u001b[0;34m)\u001b[0m\u001b[0;34m\u001b[0m\u001b[0;34m\u001b[0m\u001b[0m\n\u001b[0m",
      "\u001b[0;31mTypeError\u001b[0m: string indices must be integers"
     ]
    }
   ],
   "source": []
  },
  {
   "cell_type": "code",
   "execution_count": null,
   "metadata": {},
   "outputs": [],
   "source": []
  },
  {
   "cell_type": "code",
   "execution_count": null,
   "metadata": {},
   "outputs": [],
   "source": []
  },
  {
   "cell_type": "code",
   "execution_count": null,
   "metadata": {},
   "outputs": [],
   "source": []
  }
 ],
 "metadata": {
  "kernelspec": {
   "display_name": "Python 3",
   "language": "python",
   "name": "python3"
  },
  "language_info": {
   "codemirror_mode": {
    "name": "ipython",
    "version": 3
   },
   "file_extension": ".py",
   "mimetype": "text/x-python",
   "name": "python",
   "nbconvert_exporter": "python",
   "pygments_lexer": "ipython3",
   "version": "3.6.8"
  }
 },
 "nbformat": 4,
 "nbformat_minor": 2
}
