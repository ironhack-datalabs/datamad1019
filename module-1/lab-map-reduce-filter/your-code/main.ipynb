{
 "cells": [
  {
   "cell_type": "markdown",
   "metadata": {},
   "source": [
    "# Before your start:\n",
    "- Read the README.md file\n",
    "- Comment as much as you can and use the resources in the README.md file\n",
    "- Happy learning!"
   ]
  },
  {
   "cell_type": "code",
   "execution_count": 88,
   "metadata": {},
   "outputs": [],
   "source": [
    "# import reduce from functools, numpy and pandas\n",
    "from functools import reduce\n",
    "import numpy as np\n",
    "import pandas as pd\n",
    "import re"
   ]
  },
  {
   "cell_type": "markdown",
   "metadata": {},
   "source": [
    "# Challenge 1 - Mapping\n",
    "\n",
    "#### We will use the map function to clean up a words in a book.\n",
    "\n",
    "In the following cell, we will read a text file containing the book The Prophet by Khalil Gibran."
   ]
  },
  {
   "cell_type": "code",
   "execution_count": 89,
   "metadata": {},
   "outputs": [],
   "source": [
    "# Run this code:\n",
    "\n",
    "location = '../58585-0.txt'\n",
    "with open(location, 'r', encoding=\"utf8\") as f:\n",
    "    prophet = f.read().split(' ')"
   ]
  },
  {
   "cell_type": "markdown",
   "metadata": {},
   "source": [
    "#### Let's remove the first 568 words since they contain information about the book but are not part of the book itself. \n",
    "\n",
    "Do this by removing from `prophet` elements 0 through 567 of the list (you can also do this by keeping elements 568 through the last element)."
   ]
  },
  {
   "cell_type": "code",
   "execution_count": 90,
   "metadata": {},
   "outputs": [],
   "source": [
    "# Your code here:\n",
    "\n",
    "prophet = prophet[568:]"
   ]
  },
  {
   "cell_type": "code",
   "execution_count": 91,
   "metadata": {},
   "outputs": [],
   "source": [
    "#print(prophet)"
   ]
  },
  {
   "cell_type": "markdown",
   "metadata": {},
   "source": [
    "If you look through the words, you will find that many words have a reference attached to them. For example, let's look at words 1 through 10."
   ]
  },
  {
   "cell_type": "code",
   "execution_count": 92,
   "metadata": {},
   "outputs": [
    {
     "name": "stdout",
     "output_type": "stream",
     "text": [
      "['the{7}', 'chosen', 'and', 'the\\nbeloved,', 'who', 'was', 'a', 'dawn', 'unto', 'his']\n"
     ]
    }
   ],
   "source": [
    "# Your code here:\n",
    "print(prophet[1:11])"
   ]
  },
  {
   "cell_type": "markdown",
   "metadata": {},
   "source": [
    "#### The next step is to create a function that will remove references. \n",
    "\n",
    "We will do this by splitting the string on the `{` character and keeping only the part before this character. Write your function below."
   ]
  },
  {
   "cell_type": "code",
   "execution_count": 93,
   "metadata": {},
   "outputs": [],
   "source": [
    "def reference(x):\n",
    "    '''\n",
    "    Input: A string\n",
    "    Output: The string with references removed\n",
    "    \n",
    "    Example:\n",
    "    Input: 'the{7}'\n",
    "    Output: 'the'\n",
    "    '''\n",
    "    \n",
    "    # Your code here:\n",
    "    # I did it with a lambda function\n",
    "\n",
    " \n",
    "    "
   ]
  },
  {
   "cell_type": "markdown",
   "metadata": {},
   "source": [
    "Now that we have our function, use the `map()` function to apply this function to our book, The Prophet. Return the resulting list to a new list called `prophet_reference`"
   ]
  },
  {
   "cell_type": "code",
   "execution_count": 105,
   "metadata": {},
   "outputs": [],
   "source": [
    "# Your code here:\n",
    "\n",
    "prophet_reference = list(map(lambda x: re.sub(\"{.+}\", \"\", x), prophet))\n"
   ]
  },
  {
   "cell_type": "code",
   "execution_count": 107,
   "metadata": {},
   "outputs": [],
   "source": [
    "\n",
    "#print(prophet_reference)\n"
   ]
  },
  {
   "cell_type": "markdown",
   "metadata": {},
   "source": [
    "Another thing you may have noticed is that some words contain a line break. Let's write a function to split those words. Our function will return the string split on the character `\\n`. Write your function in the cell below."
   ]
  },
  {
   "cell_type": "code",
   "execution_count": 8,
   "metadata": {},
   "outputs": [],
   "source": [
    "def line_break(x):\n",
    "    '''\n",
    "    Input: A string\n",
    "    Output: A list of strings split on the line break (\\n) character\n",
    "        \n",
    "    Example:\n",
    "    Input: 'the\\nbeloved'\n",
    "    Output: ['the', 'beloved']\n",
    "    '''\n",
    "    \n",
    "    # Your code here:\n",
    "    \n",
    "    "
   ]
  },
  {
   "cell_type": "markdown",
   "metadata": {},
   "source": [
    "Apply the `line_break` function to the `prophet_reference` list. Name the new list `prophet_line`."
   ]
  },
  {
   "cell_type": "code",
   "execution_count": 111,
   "metadata": {},
   "outputs": [],
   "source": [
    "# Your code here:\n",
    "\n",
    "prophet_line = list(map(lambda x: re.split(\"\\\\n\", x), prophet_reference))"
   ]
  },
  {
   "cell_type": "code",
   "execution_count": 112,
   "metadata": {},
   "outputs": [
    {
     "name": "stdout",
     "output_type": "stream",
     "text": [
      "['the', 'chosen', 'and', 'the\\nbeloved,', 'who', 'was', 'a', 'dawn', 'unto', 'his', 'own\\nday,', 'had', 'waited', 'twelve', 'years', 'in', 'the', 'city\\nof', 'Orphalese', 'for', 'his', 'ship', 'that', 'was', 'to\\nreturn', 'and', 'bear', 'him', 'back', 'to', 'the', 'isle', 'of\\nhis', 'birth.\\n\\nAnd', 'in', 'the', 'twelfth', 'year,', 'on', 'the', 'seventh\\nday', 'of', 'Ielool,', 'the', 'month', 'of', 'reaping,', 'he\\nclimbed', 'the', 'hill', 'without', 'the', 'city', 'walls\\nand', 'looked', 'seaward;', 'and', 'he', 'beheld', 'his\\nship', 'coming', 'with', 'the', 'mist.\\n\\nThen', 'the', 'gates', 'of', 'his', 'heart', 'were', 'flung\\nopen,', 'and', 'his', 'joy', 'flew', 'far', 'over', 'the', 'sea.\\nAnd', 'he', 'closed', 'his', 'eyes', 'and', 'prayed', 'in', 'the\\nsilences', 'of', 'his', 'soul.\\n\\n*****\\n\\nBut', 'as', 'he', 'descended', 'the', 'hill,', 'a', 'sadness\\ncame', 'upon', 'him,', 'and', 'he', 'thought', 'in', 'his\\nheart:\\n\\nHow', 'shall', 'I', 'go', 'in', 'peace', 'and', 'without\\nsorrow?', 'Nay,', 'not', 'without', 'a', 'wound', 'in', 'the\\nspirit', 'shall', 'I', 'leave', 'this', 'city.', 'Long\\nwere', 'the', 'days', 'of', 'pain', 'I', 'have', 'spent\\nwithin', 'its', 'walls,', 'and', 'long', 'were', 'the\\nnights', 'of', 'aloneness;', 'and', 'who', 'can', 'depart\\nfrom', 'his', 'pain', 'and', 'his', 'aloneness', 'without\\nregret?\\n\\nToo', 'many', 'fragments', 'of', 'the', 'spirit', 'have', 'I\\nscattered', 'in', 'these', 'streets,', 'and', 'too', 'many\\nare', 'the', 'children', 'of', 'my', 'longing', 'that', 'walk\\nnaked', 'among', 'these', 'hills,', 'and', 'I', 'cannot\\nwithdraw', 'from', 'them', 'without', 'a', 'burden', 'and\\nan', 'ache.\\n\\nIt', 'is', 'not', 'a', 'garment', 'I', 'cast', 'off', 'this\\nday,', 'but', 'a', 'skin', 'that', 'I', 'tear', 'with', 'my', 'own\\nhands.\\n\\nNor', 'is', 'it', 'a', 'thought', 'I', 'leave', 'behind', 'me,\\nbut', 'a', 'heart', 'made', 'sweet', 'with', 'hunger', 'and\\nwith', 'thirst.\\n\\n*****\\n\\nYet', 'I', 'cannot', 'tarry', 'longer.\\n\\nThe', 'sea', 'that', 'calls', 'all', 'things', 'unto', 'her\\ncalls', 'me,', 'and', 'I', 'must', 'embark.\\n\\nFor', 'to', 'stay,', 'though', 'the', 'hours', 'burn', 'in\\nthe', 'night,', 'is', 'to', 'freeze', 'and', 'crystallize\\nand', 'be', 'bound', 'in', 'a', 'mould.\\n\\nFain', 'would', 'I', 'take', 'with', 'me', 'all', 'that', 'is\\nhere.', 'But', 'how', 'shall', 'I?\\n\\nA', 'voice', 'cannot', 'carry', 'the', 'tongue', 'and\\nthe', 'lips', 'that', 'gave', 'it', 'wings.', 'Alone\\nmust', 'it', 'seek', 'the', 'ether.\\n\\nAnd', 'alone', 'and', 'without', 'his', 'nest', 'shall', 'the\\neagle', 'fly', 'across', 'the', 'sun.\\n\\n*****\\n\\nNow', 'when', 'he', 'reached', 'the', 'foot', 'of', 'the\\nhill,', 'he', 'turned', 'again', 'towards']\n",
      "\n",
      "\n",
      "[['the'], ['chosen'], ['and'], ['the', 'beloved,'], ['who'], ['was'], ['a'], ['dawn'], ['unto'], ['his'], ['own', 'day,'], ['had'], ['waited'], ['twelve'], ['years'], ['in'], ['the'], ['city', 'of'], ['Orphalese'], ['for'], ['his'], ['ship'], ['that'], ['was'], ['to', 'return'], ['and'], ['bear'], ['him'], ['back'], ['to'], ['the'], ['isle'], ['of', 'his'], ['birth.', '', 'And'], ['in'], ['the'], ['twelfth'], ['year,'], ['on'], ['the'], ['seventh', 'day'], ['of'], ['Ielool,'], ['the'], ['month'], ['of'], ['reaping,'], ['he', 'climbed'], ['the'], ['hill'], ['without'], ['the'], ['city'], ['walls', 'and'], ['looked'], ['seaward;'], ['and'], ['he'], ['beheld'], ['his', 'ship'], ['coming'], ['with'], ['the'], ['mist.', '', 'Then'], ['the'], ['gates'], ['of'], ['his'], ['heart'], ['were'], ['flung', 'open,'], ['and'], ['his'], ['joy'], ['flew'], ['far'], ['over'], ['the'], ['sea.', 'And'], ['he'], ['closed'], ['his'], ['eyes'], ['and'], ['prayed'], ['in'], ['the', 'silences'], ['of'], ['his'], ['soul.', '', '*****', '', 'But'], ['as'], ['he'], ['descended'], ['the'], ['hill,'], ['a'], ['sadness', 'came'], ['upon'], ['him,'], ['and'], ['he'], ['thought'], ['in'], ['his', 'heart:', '', 'How'], ['shall'], ['I'], ['go'], ['in'], ['peace'], ['and'], ['without', 'sorrow?'], ['Nay,'], ['not'], ['without'], ['a'], ['wound'], ['in'], ['the', 'spirit'], ['shall'], ['I'], ['leave'], ['this'], ['city.'], ['Long', 'were'], ['the'], ['days'], ['of'], ['pain'], ['I'], ['have'], ['spent', 'within'], ['its'], ['walls,'], ['and'], ['long'], ['were'], ['the', 'nights'], ['of'], ['aloneness;'], ['and'], ['who'], ['can'], ['depart', 'from'], ['his'], ['pain'], ['and'], ['his'], ['aloneness'], ['without', 'regret?', '', 'Too'], ['many'], ['fragments'], ['of'], ['the'], ['spirit'], ['have'], ['I', 'scattered'], ['in'], ['these'], ['streets,'], ['and'], ['too'], ['many', 'are'], ['the'], ['children'], ['of'], ['my'], ['longing'], ['that'], ['walk', 'naked'], ['among'], ['these'], ['hills,'], ['and'], ['I'], ['cannot', 'withdraw'], ['from'], ['them'], ['without'], ['a'], ['burden'], ['and', 'an'], ['ache.', '', 'It'], ['is'], ['not'], ['a'], ['garment'], ['I'], ['cast'], ['off'], ['this', 'day,'], ['but'], ['a'], ['skin'], ['that'], ['I'], ['tear'], ['with'], ['my'], ['own', 'hands.', '', 'Nor'], ['is'], ['it'], ['a'], ['thought'], ['I'], ['leave'], ['behind'], ['me,', 'but'], ['a'], ['heart'], ['made'], ['sweet'], ['with'], ['hunger'], ['and', 'with'], ['thirst.', '', '*****', '', 'Yet'], ['I'], ['cannot'], ['tarry'], ['longer.', '', 'The'], ['sea'], ['that'], ['calls'], ['all'], ['things'], ['unto'], ['her', 'calls'], ['me,'], ['and'], ['I'], ['must'], ['embark.', '', 'For'], ['to'], ['stay,'], ['though'], ['the'], ['hours'], ['burn'], ['in', 'the'], ['night,'], ['is'], ['to'], ['freeze'], ['and'], ['crystallize', 'and'], ['be'], ['bound'], ['in'], ['a'], ['mould.', '', 'Fain'], ['would'], ['I'], ['take'], ['with'], ['me'], ['all'], ['that'], ['is', 'here.'], ['But'], ['how'], ['shall'], ['I?', '', 'A'], ['voice'], ['cannot'], ['carry'], ['the'], ['tongue'], ['and', 'the'], ['lips'], ['that'], ['gave'], ['it'], ['wings.'], ['Alone', 'must'], ['it'], ['seek'], ['the'], ['ether.', '', 'And'], ['alone'], ['and'], ['without'], ['his'], ['nest'], ['shall'], ['the', 'eagle'], ['fly'], ['across'], ['the'], ['sun.', '', '*****', '', 'Now'], ['when'], ['he'], ['reached'], ['the'], ['foot'], ['of'], ['the', 'hill,'], ['he'], ['turned'], ['again'], ['towards']]\n"
     ]
    }
   ],
   "source": [
    "print(prophet_reference[1:300])\n",
    "print(\"\\n\")\n",
    "print(prophet_line[1:300])"
   ]
  },
  {
   "cell_type": "markdown",
   "metadata": {},
   "source": [
    "If you look at the elements of `prophet_line`, you will see that the function returned lists and not strings. Our list is now a list of lists. Flatten the list using list comprehension. Assign this new list to `prophet_flat`."
   ]
  },
  {
   "cell_type": "code",
   "execution_count": 11,
   "metadata": {},
   "outputs": [],
   "source": [
    "# Your code here:\n",
    "\n"
   ]
  },
  {
   "cell_type": "markdown",
   "metadata": {},
   "source": [
    "# Challenge 2 - Filtering\n",
    "\n",
    "When printing out a few words from the book, we see that there are words that we may not want to keep if we choose to analyze the corpus of text. Below is a list of words that we would like to get rid of. Create a function that will return false if it contains a word from the list of words specified and true otherwise."
   ]
  },
  {
   "cell_type": "code",
   "execution_count": 12,
   "metadata": {},
   "outputs": [],
   "source": [
    "def word_filter(x):\n",
    "    '''\n",
    "    Input: A string\n",
    "    Output: true if the word is not in the specified list and false if the word is in the list\n",
    "        \n",
    "    Example:\n",
    "    word list = ['and', 'the']\n",
    "    Input: 'and'\n",
    "    Output: False\n",
    "    \n",
    "    Input: 'John'\n",
    "    Output: True\n",
    "    '''\n",
    "    \n",
    "    word_list = ['and', 'the', 'a', 'an']\n",
    "    \n",
    "    # Your code here:\n",
    "    \n",
    "    "
   ]
  },
  {
   "cell_type": "markdown",
   "metadata": {},
   "source": [
    "Use the `filter()` function to filter out the words speficied in the `word_filter()` function. Store the filtered list in the variable `prophet_filter`."
   ]
  },
  {
   "cell_type": "markdown",
   "metadata": {},
   "source": [
    "# Bonus Challenge - Part 1\n",
    "\n",
    "Rewrite the `word_filter` function above to not be case sensitive."
   ]
  },
  {
   "cell_type": "code",
   "execution_count": 13,
   "metadata": {},
   "outputs": [],
   "source": [
    "def word_filter_case(x):\n",
    "   \n",
    "    word_list = ['and', 'the', 'a', 'an']\n",
    "    \n",
    "    # Your code here:\n",
    "    \n",
    "    "
   ]
  },
  {
   "cell_type": "markdown",
   "metadata": {},
   "source": [
    "# Challenge 3 - Reducing\n",
    "\n",
    "#### Now that we have significantly cleaned up our text corpus, let's use the `reduce()` function to put the words back together into one long string separated by spaces. \n",
    "\n",
    "We will start by writing a function that takes two strings and concatenates them together with a space between the two strings."
   ]
  },
  {
   "cell_type": "code",
   "execution_count": 14,
   "metadata": {},
   "outputs": [],
   "source": [
    "def concat_space(a, b):\n",
    "    '''\n",
    "    Input:Two strings\n",
    "    Output: A single string separated by a space\n",
    "        \n",
    "    Example:\n",
    "    Input: 'John', 'Smith'\n",
    "    Output: 'John Smith'\n",
    "    '''\n",
    "    \n",
    "    # Your code here:\n",
    "    "
   ]
  },
  {
   "cell_type": "markdown",
   "metadata": {},
   "source": [
    "Use the function above to reduce the text corpus in the list `prophet_filter` into a single string. Assign this new string to the variable `prophet_string`."
   ]
  },
  {
   "cell_type": "code",
   "execution_count": 15,
   "metadata": {},
   "outputs": [],
   "source": [
    "# Your code here:\n",
    "\n"
   ]
  },
  {
   "cell_type": "markdown",
   "metadata": {},
   "source": [
    "# Challenge 4 - Applying Functions to DataFrames\n",
    "\n",
    "#### Our next step is to use the apply function to a dataframe and transform all cells.\n",
    "\n",
    "To do this, we will load a dataset below and then write a function that will perform the transformation."
   ]
  },
  {
   "cell_type": "code",
   "execution_count": 17,
   "metadata": {},
   "outputs": [],
   "source": [
    "# Run this code:\n",
    "\n",
    "# The dataset below contains information about pollution from PM2.5 particles in Beijing \n",
    "\n",
    "url = \"https://archive.ics.uci.edu/ml/machine-learning-databases/00381/PRSA_data_2010.1.1-2014.12.31.csv\"\n",
    "pm25 = pd.read_csv(url)"
   ]
  },
  {
   "cell_type": "markdown",
   "metadata": {},
   "source": [
    "Let's look at the data using the `head()` function."
   ]
  },
  {
   "cell_type": "code",
   "execution_count": 18,
   "metadata": {},
   "outputs": [],
   "source": [
    "# Your code here:\n",
    "\n"
   ]
  },
  {
   "cell_type": "markdown",
   "metadata": {},
   "source": [
    "The next step is to create a function that divides a cell by 24 to produce an hourly figure. Write the function below."
   ]
  },
  {
   "cell_type": "code",
   "execution_count": 19,
   "metadata": {},
   "outputs": [],
   "source": [
    "def hourly(x):\n",
    "    '''\n",
    "    Input: A numerical value\n",
    "    Output: The value divided by 24\n",
    "        \n",
    "    Example:\n",
    "    Input: 48\n",
    "    Output: 2.0\n",
    "    '''\n",
    "    \n",
    "    # Your code here:\n",
    "    "
   ]
  },
  {
   "cell_type": "markdown",
   "metadata": {},
   "source": [
    "Apply this function to the columns `Iws`, `Is`, and `Ir`. Store this new dataframe in the variable `pm25_hourly`."
   ]
  },
  {
   "cell_type": "code",
   "execution_count": 20,
   "metadata": {},
   "outputs": [],
   "source": [
    "# Your code here:\n",
    "\n"
   ]
  },
  {
   "cell_type": "markdown",
   "metadata": {},
   "source": [
    "#### Our last challenge will be to create an aggregate function and apply it to a select group of columns in our dataframe.\n",
    "\n",
    "Write a function that returns the standard deviation of a column divided by the length of a column minus 1. Since we are using pandas, do not use the `len()` function. One alternative is to use `count()`. Also, use the numpy version of standard deviation."
   ]
  },
  {
   "cell_type": "code",
   "execution_count": 21,
   "metadata": {},
   "outputs": [],
   "source": [
    "def sample_sd(x):\n",
    "    '''\n",
    "    Input: A Pandas series of values\n",
    "    Output: the standard deviation divided by the number of elements in the series\n",
    "        \n",
    "    Example:\n",
    "    Input: pd.Series([1,2,3,4])\n",
    "    Output: 0.3726779962\n",
    "    '''\n",
    "    \n",
    "    # Your code here:\n",
    "    \n",
    "    "
   ]
  },
  {
   "cell_type": "code",
   "execution_count": null,
   "metadata": {},
   "outputs": [],
   "source": []
  }
 ],
 "metadata": {
  "kernelspec": {
   "display_name": "Python 3",
   "language": "python",
   "name": "python3"
  },
  "language_info": {
   "codemirror_mode": {
    "name": "ipython",
    "version": 3
   },
   "file_extension": ".py",
   "mimetype": "text/x-python",
   "name": "python",
   "nbconvert_exporter": "python",
   "pygments_lexer": "ipython3",
   "version": "3.6.8"
  }
 },
 "nbformat": 4,
 "nbformat_minor": 2
}
