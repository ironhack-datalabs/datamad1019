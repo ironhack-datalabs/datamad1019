{
 "cells": [
  {
   "cell_type": "markdown",
   "metadata": {},
   "source": [
    "# Web Scraping Lab\n",
    "\n",
    "You will find in this notebook some scrapy exercises to practise your scraping skills.\n",
    "\n",
    "**Tips:**\n",
    "\n",
    "- Check the response status code for each request to ensure you have obtained the intended contennt.\n",
    "- Print the response text in each request to understand the kind of info you are getting and its format.\n",
    "- Check for patterns in the response text to extract the data/info requested in each question.\n",
    "- Visit each url and take a look at its source through Chrome DevTools. You'll need to identify the html tags, special class names etc. used for the html content you are expected to extract."
   ]
  },
  {
   "cell_type": "markdown",
   "metadata": {},
   "source": [
    "- [Requests library](http://docs.python-requests.org/en/master/#the-user-guide) documentation \n",
    "- [Beautiful Soup Doc](https://www.crummy.com/software/BeautifulSoup/bs4/doc/)\n",
    "- [Urllib](https://docs.python.org/3/library/urllib.html#module-urllib)\n",
    "- [re lib](https://docs.python.org/3/library/re.html)\n",
    "- [lxml lib](https://lxml.de/)\n",
    "- [Scrapy](https://scrapy.org/)\n",
    "- [List of HTTP status codes](https://en.wikipedia.org/wiki/List_of_HTTP_status_codes)\n",
    "- [HTML basics](http://www.simplehtmlguide.com/cheatsheet.php)\n",
    "- [CSS basics](https://www.cssbasics.com/#page_start)"
   ]
  },
  {
   "cell_type": "markdown",
   "metadata": {},
   "source": [
    "#### Below are the libraries and modules you may need. `requests`,  `BeautifulSoup` and `pandas` are imported for you. If you prefer to use additional libraries feel free to uncomment them."
   ]
  },
  {
   "cell_type": "code",
   "execution_count": 44,
   "metadata": {},
   "outputs": [
    {
     "name": "stdout",
     "output_type": "stream",
     "text": [
      "Requirement already satisfied: beautifulsoup4 in /usr/local/lib/python3.7/site-packages (4.8.1)\r\n",
      "Requirement already satisfied: soupsieve>=1.2 in /usr/local/lib/python3.7/site-packages (from beautifulsoup4) (1.9.5)\r\n"
     ]
    }
   ],
   "source": [
    "!pip3 install beautifulsoup4"
   ]
  },
  {
   "cell_type": "code",
   "execution_count": 45,
   "metadata": {},
   "outputs": [
    {
     "name": "stdout",
     "output_type": "stream",
     "text": [
      "Requirement already satisfied: Scrapy in /usr/local/lib/python3.7/site-packages (1.8.0)\n",
      "Requirement already satisfied: service-identity>=16.0.0 in /usr/local/lib/python3.7/site-packages (from Scrapy) (18.1.0)\n",
      "Requirement already satisfied: parsel>=1.5.0 in /usr/local/lib/python3.7/site-packages (from Scrapy) (1.5.2)\n",
      "Requirement already satisfied: queuelib>=1.4.2 in /usr/local/lib/python3.7/site-packages (from Scrapy) (1.5.0)\n",
      "Requirement already satisfied: lxml>=3.5.0 in /usr/local/lib/python3.7/site-packages (from Scrapy) (4.4.1)\n",
      "Requirement already satisfied: pyOpenSSL>=16.2.0 in /usr/local/lib/python3.7/site-packages (from Scrapy) (19.0.0)\n",
      "Requirement already satisfied: w3lib>=1.17.0 in /usr/local/lib/python3.7/site-packages (from Scrapy) (1.21.0)\n",
      "Requirement already satisfied: zope.interface>=4.1.3 in /usr/local/lib/python3.7/site-packages (from Scrapy) (4.6.0)\n",
      "Requirement already satisfied: cssselect>=0.9.1 in /usr/local/lib/python3.7/site-packages (from Scrapy) (1.1.0)\n",
      "Requirement already satisfied: PyDispatcher>=2.0.5 in /usr/local/lib/python3.7/site-packages (from Scrapy) (2.0.5)\n",
      "Requirement already satisfied: cryptography>=2.0 in /usr/local/lib/python3.7/site-packages (from Scrapy) (2.8)\n",
      "Requirement already satisfied: Twisted>=17.9.0; python_version >= \"3.5\" in /usr/local/lib/python3.7/site-packages (from Scrapy) (19.7.0)\n",
      "Requirement already satisfied: six>=1.10.0 in /usr/local/Cellar/ipython/7.8.0/libexec/vendor/lib/python3.7/site-packages (from Scrapy) (1.12.0)\n",
      "Requirement already satisfied: protego>=0.1.15 in /usr/local/lib/python3.7/site-packages (from Scrapy) (0.1.15)\n",
      "Requirement already satisfied: attrs>=16.0.0 in /usr/local/lib/python3.7/site-packages (from service-identity>=16.0.0->Scrapy) (19.3.0)\n",
      "Requirement already satisfied: pyasn1 in /usr/local/lib/python3.7/site-packages (from service-identity>=16.0.0->Scrapy) (0.4.7)\n",
      "Requirement already satisfied: pyasn1-modules in /usr/local/lib/python3.7/site-packages (from service-identity>=16.0.0->Scrapy) (0.2.7)\n",
      "Requirement already satisfied: setuptools in /usr/local/lib/python3.7/site-packages (from zope.interface>=4.1.3->Scrapy) (41.0.1)\n",
      "Requirement already satisfied: cffi!=1.11.3,>=1.8 in /usr/local/lib/python3.7/site-packages (from cryptography>=2.0->Scrapy) (1.13.2)\n",
      "Requirement already satisfied: PyHamcrest>=1.9.0 in /usr/local/lib/python3.7/site-packages (from Twisted>=17.9.0; python_version >= \"3.5\"->Scrapy) (1.9.0)\n",
      "Requirement already satisfied: constantly>=15.1 in /usr/local/lib/python3.7/site-packages (from Twisted>=17.9.0; python_version >= \"3.5\"->Scrapy) (15.1.0)\n",
      "Requirement already satisfied: incremental>=16.10.1 in /usr/local/lib/python3.7/site-packages (from Twisted>=17.9.0; python_version >= \"3.5\"->Scrapy) (17.5.0)\n",
      "Requirement already satisfied: Automat>=0.3.0 in /usr/local/lib/python3.7/site-packages (from Twisted>=17.9.0; python_version >= \"3.5\"->Scrapy) (0.8.0)\n",
      "Requirement already satisfied: hyperlink>=17.1.1 in /usr/local/lib/python3.7/site-packages (from Twisted>=17.9.0; python_version >= \"3.5\"->Scrapy) (19.0.0)\n",
      "Requirement already satisfied: pycparser in /usr/local/lib/python3.7/site-packages (from cffi!=1.11.3,>=1.8->cryptography>=2.0->Scrapy) (2.19)\n",
      "Requirement already satisfied: idna>=2.5 in /usr/local/lib/python3.7/site-packages (from hyperlink>=17.1.1->Twisted>=17.9.0; python_version >= \"3.5\"->Scrapy) (2.8)\n"
     ]
    }
   ],
   "source": [
    "!pip3 install Scrapy\n"
   ]
  },
  {
   "cell_type": "code",
   "execution_count": 79,
   "metadata": {},
   "outputs": [],
   "source": [
    "import requests\n",
    "from bs4 import BeautifulSoup\n",
    "import pandas as pd\n",
    "from pprint import pprint\n",
    "#from lxml import html\n",
    "#from lxml.html import fromstring\n",
    "import urllib.request\n",
    "from urllib.request import urlopen\n",
    "import random\n",
    "import re\n",
    "import scrapy"
   ]
  },
  {
   "cell_type": "markdown",
   "metadata": {},
   "source": [
    "#### Download, parse (using BeautifulSoup), and print the content from the Trending Developers page from GitHub:"
   ]
  },
  {
   "cell_type": "code",
   "execution_count": 90,
   "metadata": {},
   "outputs": [],
   "source": [
    "# This is the url you will scrape in this exercise\n",
    "url = 'https://github.com/trending/developers?since=weekly'"
   ]
  },
  {
   "cell_type": "code",
   "execution_count": 93,
   "metadata": {},
   "outputs": [],
   "source": [
    "#your code\n",
    "res = requests.get(url)\n",
    "html = res.text\n",
    "html[:20]\n",
    "developers = BeautifulSoup(html, 'html.parser')\n",
    "#print(developers)"
   ]
  },
  {
   "cell_type": "code",
   "execution_count": 94,
   "metadata": {},
   "outputs": [],
   "source": [
    "import re"
   ]
  },
  {
   "cell_type": "code",
   "execution_count": 96,
   "metadata": {},
   "outputs": [
    {
     "name": "stdout",
     "output_type": "stream",
     "text": [
      "[<a href=\"/rmosolgo\">\n",
      "            Robert Mosolgo\n",
      "</a>, <a href=\"/vinayak-mehta\">\n",
      "            Vinayak Mehta\n",
      "</a>, <a href=\"/piotrwitek\">\n",
      "            Piotrek Witek\n",
      "</a>, <a href=\"/liyasthomas\">\n",
      "            Liyas Thomas\n",
      "</a>, <a href=\"/kan-bayashi\">\n",
      "            Tomoki Hayashi\n",
      "</a>, <a href=\"/kblok\">\n",
      "            Darío Kondratiuk\n",
      "</a>, <a href=\"/asim\">\n",
      "            Asim Aslam\n",
      "</a>, <a href=\"/jaredpalmer\">\n",
      "            Jared Palmer\n",
      "</a>, <a href=\"/satya164\">\n",
      "            Satyajit Sahoo\n",
      "</a>, <a href=\"/markerikson\">\n",
      "            Mark Erikson\n",
      "</a>, <a href=\"/jd\">\n",
      "            Julien Danjou\n",
      "</a>, <a href=\"/klauspost\">\n",
      "            Klaus Post\n",
      "</a>, <a href=\"/felangel\">\n",
      "            Felix Angelov\n",
      "</a>, <a href=\"/jonahwilliams\">\n",
      "            Jonah Williams\n",
      "</a>, <a href=\"/TejasQ\">\n",
      "            Tejas Kumar\n",
      "</a>, <a href=\"/EvanBacon\">\n",
      "            Evan Bacon\n",
      "</a>, <a href=\"/rossabaker\">\n",
      "            Ross A. Baker\n",
      "</a>, <a href=\"/mholt\">\n",
      "            Matt Holt\n",
      "</a>, <a href=\"/sorrycc\">\n",
      "            chencheng (云谦)\n",
      "</a>, <a href=\"/yajra\">\n",
      "            Arjay Angeles\n",
      "</a>, <a href=\"/tkf\">\n",
      "            Takafumi Arakaki\n",
      "</a>, <a href=\"/kishikawakatsumi\">\n",
      "            Kishikawa Katsumi\n",
      "</a>, <a href=\"/CompuIves\">\n",
      "            Ives van Hoorne\n",
      "</a>, <a href=\"/pauldemarco\">\n",
      "            Paul DeMarco\n",
      "</a>, <a href=\"/mitchellh\">\n",
      "            Mitchell Hashimoto\n",
      "</a>]\n"
     ]
    }
   ],
   "source": [
    "'''\n",
    "<a href=\"/blasten\">\n",
    "            Emmanuel Garcia\n",
    "</a>\n",
    "'''\n",
    "nombres = developers.select('.h3 a')\n",
    "print(nombres)"
   ]
  },
  {
   "cell_type": "markdown",
   "metadata": {},
   "source": [
    "#### Display the names of the trending developers retrieved in the previous step.\n",
    "\n",
    "Your output should be a Python list of developer names. Each name should not contain any html tag.\n",
    "\n",
    "**Instructions:**\n",
    "\n",
    "1. Find out the html tag and class names used for the developer names. You can achieve this using Chrome DevTools.\n",
    "\n",
    "1. Use BeautifulSoup to extract all the html elements that contain the developer names.\n",
    "\n",
    "1. Use string manipulation techniques to replace whitespaces and linebreaks (i.e. `\\n`) in the *text* of each html element. Use a list to store the clean names.\n",
    "\n",
    "1. Print the list of names.\n",
    "\n",
    "Your output should look like below:\n",
    "\n",
    "```\n",
    "['trimstray (@trimstray)',\n",
    " 'joewalnes (JoeWalnes)',\n",
    " 'charlax (Charles-AxelDein)',\n",
    " 'ForrestKnight (ForrestKnight)',\n",
    " 'revery-ui (revery-ui)',\n",
    " 'alibaba (Alibaba)',\n",
    " 'Microsoft (Microsoft)',\n",
    " 'github (GitHub)',\n",
    " 'facebook (Facebook)',\n",
    " 'boazsegev (Bo)',\n",
    " 'google (Google)',\n",
    " 'cloudfetch',\n",
    " 'sindresorhus (SindreSorhus)',\n",
    " 'tensorflow',\n",
    " 'apache (TheApacheSoftwareFoundation)',\n",
    " 'DevonCrawford (DevonCrawford)',\n",
    " 'ARMmbed (ArmMbed)',\n",
    " 'vuejs (vuejs)',\n",
    " 'fastai (fast.ai)',\n",
    " 'QiShaoXuan (Qi)',\n",
    " 'joelparkerhenderson (JoelParkerHenderson)',\n",
    " 'torvalds (LinusTorvalds)',\n",
    " 'CyC2018',\n",
    " 'komeiji-satori (神楽坂覚々)',\n",
    " 'script-8']\n",
    " ```"
   ]
  },
  {
   "cell_type": "code",
   "execution_count": 97,
   "metadata": {},
   "outputs": [
    {
     "name": "stdout",
     "output_type": "stream",
     "text": [
      "['Robert Mosolgo', 'Vinayak Mehta', 'Piotrek Witek', 'Liyas Thomas', 'Tomoki Hayashi', 'Darío Kondratiuk', 'Asim Aslam', 'Jared Palmer', 'Satyajit Sahoo', 'Mark Erikson', 'Julien Danjou', 'Klaus Post', 'Felix Angelov', 'Jonah Williams', 'Tejas Kumar', 'Evan Bacon', 'Ross A. Baker', 'Matt Holt', 'chencheng (云谦)', 'Arjay Angeles', 'Takafumi Arakaki', 'Kishikawa Katsumi', 'Ives van Hoorne', 'Paul DeMarco', 'Mitchell Hashimoto']\n"
     ]
    }
   ],
   "source": [
    "#your code\n",
    "nombres = developers.select('.h3 a')\n",
    "\n",
    "lista = []\n",
    "for n in nombres:\n",
    "    lista.append(n.text)\n",
    "#print(lista)\n",
    "\n",
    "solonombres = []\n",
    "for l in lista:\n",
    "    solonombres.append(l.replace(\"\\n\",\"\"))\n",
    "#solonombres = lista.replace(\"\\\\n\",\"\")\n",
    "\n",
    "final = []\n",
    "for s in solonombres:\n",
    "    final.append(s.strip())\n",
    "print(final)"
   ]
  },
  {
   "cell_type": "code",
   "execution_count": 98,
   "metadata": {},
   "outputs": [
    {
     "name": "stdout",
     "output_type": "stream",
     "text": [
      "['(rmosolgo)', '(vinayak-mehta)', '(piotrwitek)', '(liyasthomas)', '(kan-bayashi)', '(kblok)', '(asim)', '(jaredpalmer)', '(satya164)', '(markerikson)', '(jd)', '(klauspost)', '(felangel)', '(jonahwilliams)', '(TejasQ)', '(EvanBacon)', '(rossabaker)', '(mholt)', '(sorrycc)', '(yajra)', '(tkf)', '(kishikawakatsumi)', '(CompuIves)', '(pauldemarco)', '(mitchellh)']\n"
     ]
    }
   ],
   "source": [
    "#Nicks\n",
    "lst=[]\n",
    "for n in nombres:\n",
    "    lst.append(n.get('href'))\n",
    "\n",
    "lst2=[]\n",
    "for ls in lst:\n",
    "    lst2.append(ls.replace('/', '(')) \n",
    "    \n",
    "nicks = list(map((lambda x: x + \")\"), lst2))\n",
    "print(nicks)"
   ]
  },
  {
   "cell_type": "code",
   "execution_count": 99,
   "metadata": {},
   "outputs": [
    {
     "name": "stdout",
     "output_type": "stream",
     "text": [
      "['Robert Mosolgo (rmosolgo)', 'Vinayak Mehta (vinayak-mehta)', 'Piotrek Witek (piotrwitek)', 'Liyas Thomas (liyasthomas)', 'Tomoki Hayashi (kan-bayashi)', 'Darío Kondratiuk (kblok)', 'Asim Aslam (asim)', 'Jared Palmer (jaredpalmer)', 'Satyajit Sahoo (satya164)', 'Mark Erikson (markerikson)', 'Julien Danjou (jd)', 'Klaus Post (klauspost)', 'Felix Angelov (felangel)', 'Jonah Williams (jonahwilliams)', 'Tejas Kumar (TejasQ)', 'Evan Bacon (EvanBacon)', 'Ross A. Baker (rossabaker)', 'Matt Holt (mholt)', 'chencheng (云谦) (sorrycc)', 'Arjay Angeles (yajra)', 'Takafumi Arakaki (tkf)', 'Kishikawa Katsumi (kishikawakatsumi)', 'Ives van Hoorne (CompuIves)', 'Paul DeMarco (pauldemarco)', 'Mitchell Hashimoto (mitchellh)']\n"
     ]
    }
   ],
   "source": [
    "#CONSEGUIDO!!\n",
    "nombreynick = list(zip(final, nicks))\n",
    "#print(nombreynick)\n",
    "print([\"{} {}\".format(nn[0],nn[1]) for nn in nombreynick])"
   ]
  },
  {
   "cell_type": "markdown",
   "metadata": {},
   "source": [
    "#### Display the trending Python repositories in GitHub\n",
    "\n",
    "The steps to solve this problem is similar to the previous one except that you need to find out the repository names instead of developer names."
   ]
  },
  {
   "cell_type": "code",
   "execution_count": 100,
   "metadata": {},
   "outputs": [],
   "source": [
    "# This is the url you will scrape in this exercise\n",
    "url1 = 'https://github.com/trending/python?since=daily'"
   ]
  },
  {
   "cell_type": "code",
   "execution_count": 101,
   "metadata": {},
   "outputs": [],
   "source": [
    "#your code\n",
    "res1 = requests.get(url1)\n",
    "html1 = res.text\n",
    "html1[:20]\n",
    "repository = BeautifulSoup(html1, 'html.parser')\n",
    "repos = developers.select('.h3 a')\n",
    "#print(repos)"
   ]
  },
  {
   "cell_type": "code",
   "execution_count": 102,
   "metadata": {},
   "outputs": [
    {
     "name": "stdout",
     "output_type": "stream",
     "text": [
      "['rmosolgo', 'vinayak-mehta', 'piotrwitek', 'liyasthomas', 'kan-bayashi', 'kblok', 'asim', 'jaredpalmer', 'satya164', 'markerikson', 'jd', 'klauspost', 'felangel', 'jonahwilliams', 'TejasQ', 'EvanBacon', 'rossabaker', 'mholt', 'sorrycc', 'yajra', 'tkf', 'kishikawakatsumi', 'CompuIves', 'pauldemarco', 'mitchellh']\n"
     ]
    }
   ],
   "source": [
    "liston = []\n",
    "for r in repos:\n",
    "    liston.append(r.get('href'))\n",
    "\n",
    "nombresrep=[]\n",
    "for ls in liston:\n",
    "    nombresrep.append(ls.replace(\"/\", \"\", 1))\n",
    "print(nombresrep)\n"
   ]
  },
  {
   "cell_type": "markdown",
   "metadata": {},
   "source": [
    "#### Display all the image links from Walt Disney wikipedia page"
   ]
  },
  {
   "cell_type": "code",
   "execution_count": 103,
   "metadata": {},
   "outputs": [],
   "source": [
    "# This is the url you will scrape in this exercise\n",
    "url = 'https://en.wikipedia.org/wiki/Walt_Disney'"
   ]
  },
  {
   "cell_type": "code",
   "execution_count": 106,
   "metadata": {},
   "outputs": [],
   "source": [
    "from IPython.display import Image\n",
    "from IPython.core.display import HTML\n",
    "\n",
    "\n"
   ]
  },
  {
   "cell_type": "code",
   "execution_count": 112,
   "metadata": {},
   "outputs": [
    {
     "data": {
      "text/html": [
       "<img src=\"//upload.wikimedia.org/wikipedia/commons/thumb/6/6c/Disney1968.jpg/170px-Disney1968.jpg\"/>"
      ],
      "text/plain": [
       "<IPython.core.display.Image object>"
      ]
     },
     "metadata": {},
     "output_type": "display_data"
    }
   ],
   "source": [
    "#your code\n",
    "res = requests.get(url)\n",
    "html = res.text\n",
    "html[:20]\n",
    "walt = BeautifulSoup(html, 'html.parser')\n",
    "imagenes = walt.select('.image img')\n",
    "#print(imagenes)\n",
    "\n",
    "\n",
    "fotos = []\n",
    "for im in imagenes:\n",
    "    fotos.append(im.get('src'))\n",
    "\n",
    "#print(fotos)\n",
    "display(Image(url=fotos[15]))\n",
    "\n"
   ]
  },
  {
   "cell_type": "markdown",
   "metadata": {},
   "source": [
    "#### Retrieve an arbitary Wikipedia page of \"Python\" and create a list of links on that page"
   ]
  },
  {
   "cell_type": "code",
   "execution_count": 116,
   "metadata": {},
   "outputs": [],
   "source": [
    "# This is the url you will scrape in this exercise\n",
    "url ='https://en.wikipedia.org/wiki/Python' "
   ]
  },
  {
   "cell_type": "code",
   "execution_count": 121,
   "metadata": {},
   "outputs": [
    {
     "name": "stdout",
     "output_type": "stream",
     "text": [
      "['https://en.wiktionary.org/wiki/Python', 'https://en.wiktionary.org/wiki/python', 'https://en.wikipedia.org/w/index.php?title=Special:WhatLinksHere/Python&namespace=0', 'https://en.wikipedia.org/w/index.php?title=Python&oldid=924004650', 'https://donate.wikimedia.org/wiki/Special:FundraiserRedirector?utm_source=donate&utm_medium=sidebar&utm_campaign=C13_en.wikipedia.org&uselang=en', 'https://www.wikidata.org/wiki/Special:EntityPage/Q747452', 'https://commons.wikimedia.org/wiki/Category:Python', 'https://af.wikipedia.org/wiki/Python', 'https://als.wikipedia.org/wiki/Python', 'https://az.wikipedia.org/wiki/Python', 'https://bn.wikipedia.org/wiki/%E0%A6%AA%E0%A6%BE%E0%A6%87%E0%A6%A5%E0%A6%A8_(%E0%A6%A6%E0%A7%8D%E0%A6%AC%E0%A7%8D%E0%A6%AF%E0%A6%B0%E0%A7%8D%E0%A6%A5%E0%A6%A4%E0%A6%BE_%E0%A6%A8%E0%A6%BF%E0%A6%B0%E0%A6%B8%E0%A6%A8)', 'https://be.wikipedia.org/wiki/Python', 'https://bg.wikipedia.org/wiki/%D0%9F%D0%B8%D1%82%D0%BE%D0%BD_(%D0%BF%D0%BE%D1%8F%D1%81%D0%BD%D0%B5%D0%BD%D0%B8%D0%B5)', 'https://cs.wikipedia.org/wiki/Python_(rozcestn%C3%ADk)', 'https://da.wikipedia.org/wiki/Python', 'https://de.wikipedia.org/wiki/Python', 'https://eo.wikipedia.org/wiki/Pitono_(apartigilo)', 'https://eu.wikipedia.org/wiki/Python_(argipena)', 'https://fa.wikipedia.org/wiki/%D9%BE%D8%A7%DB%8C%D8%AA%D9%88%D9%86', 'https://fr.wikipedia.org/wiki/Python', 'https://ko.wikipedia.org/wiki/%ED%8C%8C%EC%9D%B4%EC%84%A0', 'https://hr.wikipedia.org/wiki/Python_(razdvojba)', 'https://io.wikipedia.org/wiki/Pitono', 'https://id.wikipedia.org/wiki/Python', 'https://ia.wikipedia.org/wiki/Python_(disambiguation)', 'https://is.wikipedia.org/wiki/Python_(a%C3%B0greining)', 'https://it.wikipedia.org/wiki/Python_(disambigua)', 'https://he.wikipedia.org/wiki/%D7%A4%D7%99%D7%AA%D7%95%D7%9F', 'https://ka.wikipedia.org/wiki/%E1%83%9E%E1%83%98%E1%83%97%E1%83%9D%E1%83%9C%E1%83%98_(%E1%83%9B%E1%83%A0%E1%83%90%E1%83%95%E1%83%90%E1%83%9A%E1%83%9B%E1%83%9C%E1%83%98%E1%83%A8%E1%83%95%E1%83%9C%E1%83%94%E1%83%9A%E1%83%9D%E1%83%95%E1%83%90%E1%83%9C%E1%83%98)', 'https://kg.wikipedia.org/wiki/Mboma_(nyoka)', 'https://la.wikipedia.org/wiki/Python_(discretiva)', 'https://lb.wikipedia.org/wiki/Python', 'https://hu.wikipedia.org/wiki/Python_(egy%C3%A9rtelm%C5%B1s%C3%ADt%C5%91_lap)', 'https://mr.wikipedia.org/wiki/%E0%A4%AA%E0%A4%BE%E0%A4%AF%E0%A4%A5%E0%A5%89%E0%A4%A8_(%E0%A4%86%E0%A4%9C%E0%A5%8D%E0%A4%9E%E0%A4%BE%E0%A4%B5%E0%A4%B2%E0%A5%80_%E0%A4%AD%E0%A4%BE%E0%A4%B7%E0%A4%BE)', 'https://nl.wikipedia.org/wiki/Python', 'https://ja.wikipedia.org/wiki/%E3%83%91%E3%82%A4%E3%82%BD%E3%83%B3', 'https://no.wikipedia.org/wiki/Pyton', 'https://pl.wikipedia.org/wiki/Pyton', 'https://pt.wikipedia.org/wiki/Python_(desambigua%C3%A7%C3%A3o)', 'https://ru.wikipedia.org/wiki/Python_(%D0%B7%D0%BD%D0%B0%D1%87%D0%B5%D0%BD%D0%B8%D1%8F)', 'https://sd.wikipedia.org/wiki/%D8%A7%D8%B1%DA%99', 'https://sk.wikipedia.org/wiki/Python', 'https://sr.wikipedia.org/wiki/%D0%9F%D0%B8%D1%82%D0%BE%D0%BD_(%D0%B2%D0%B8%D1%88%D0%B5%D0%B7%D0%BD%D0%B0%D1%87%D0%BD%D0%B0_%D0%BE%D0%B4%D1%80%D0%B5%D0%B4%D0%BD%D0%B8%D1%86%D0%B0)', 'https://sh.wikipedia.org/wiki/Python', 'https://fi.wikipedia.org/wiki/Python', 'https://sv.wikipedia.org/wiki/Pyton', 'https://th.wikipedia.org/wiki/%E0%B9%84%E0%B8%9E%E0%B8%97%E0%B8%AD%E0%B8%99', 'https://tr.wikipedia.org/wiki/Python', 'https://uk.wikipedia.org/wiki/%D0%9F%D1%96%D1%84%D0%BE%D0%BD', 'https://ur.wikipedia.org/wiki/%D9%BE%D8%A7%D8%A6%DB%8C%D8%AA%DA%BE%D9%88%D9%86', 'https://vi.wikipedia.org/wiki/Python', 'https://zh.wikipedia.org/wiki/Python_(%E6%B6%88%E6%AD%A7%E4%B9%89)', 'https://www.wikidata.org/wiki/Special:EntityPage/Q747452#sitelinks-wikipedia', 'https://foundation.wikimedia.org/wiki/Privacy_policy', 'https://www.mediawiki.org/wiki/Special:MyLanguage/How_to_contribute', 'https://foundation.wikimedia.org/wiki/Cookie_statement', 'https://wikimediafoundation.org/', 'https://www.mediawiki.org/']\n"
     ]
    }
   ],
   "source": [
    "#your code\n",
    "res = requests.get(url)\n",
    "html = res.text\n",
    "html[:20]\n",
    "pyth = BeautifulSoup(html, 'html.parser')\n",
    "links = pyth.select('a')\n",
    "\n",
    "web = []\n",
    "for link in links:\n",
    "    href = link.get('href')\n",
    "    if href and href[:4] == \"http\":\n",
    "        web.append(link.get('href'))\n",
    "    \n",
    "print(web)"
   ]
  },
  {
   "cell_type": "markdown",
   "metadata": {},
   "source": [
    "#### Number of Titles that have changed in the United States Code since its last release point "
   ]
  },
  {
   "cell_type": "code",
   "execution_count": 122,
   "metadata": {},
   "outputs": [],
   "source": [
    "# This is the url you will scrape in this exercise\n",
    "url = 'http://uscode.house.gov/download/download.shtml'"
   ]
  },
  {
   "cell_type": "code",
   "execution_count": 128,
   "metadata": {},
   "outputs": [
    {
     "name": "stdout",
     "output_type": "stream",
     "text": [
      "2\n"
     ]
    }
   ],
   "source": [
    "#your code\n",
    "res = requests.get(url)\n",
    "html = res.text\n",
    "html[:20]\n",
    "usa = BeautifulSoup(html, 'html.parser')\n",
    "titles = usa.select('.usctitlechanged')\n",
    "\n",
    "print(len(titles))"
   ]
  },
  {
   "cell_type": "markdown",
   "metadata": {},
   "source": [
    "#### A Python list with the top ten FBI's Most Wanted names "
   ]
  },
  {
   "cell_type": "code",
   "execution_count": 132,
   "metadata": {},
   "outputs": [],
   "source": [
    "# This is the url you will scrape in this exercise\n",
    "url = 'https://www.fbi.gov/wanted/topten'"
   ]
  },
  {
   "cell_type": "code",
   "execution_count": 156,
   "metadata": {},
   "outputs": [
    {
     "name": "stdout",
     "output_type": "stream",
     "text": [
      "['JASON DEREK BROWN', 'ALEXIS FLORES', 'EUGENE PALMER', 'SANTIAGO VILLALBA MEDEROS', 'RAFAEL CARO-QUINTERO', 'ROBERT WILLIAM FISHER', 'BHADRESHKUMAR CHETANBHAI PATEL', 'ARNOLDO JIMENEZ', 'ALEJANDRO ROSALES CASTILLO', 'YASER ABDEL SAID']\n"
     ]
    }
   ],
   "source": [
    "\n",
    "#your code \n",
    "res = requests.get(url)\n",
    "html = res.text\n",
    "html[:20]\n",
    "fbi = BeautifulSoup(html, 'html.parser')\n",
    "wnames = fbi.select('img')\n",
    "\n",
    "web = []\n",
    "for wn in wnames:\n",
    "    web.append(wn.get('alt'))\n",
    "\n",
    "print(web[1:])\n"
   ]
  },
  {
   "cell_type": "markdown",
   "metadata": {},
   "source": [
    "####  20 latest earthquakes info (date, time, latitude, longitude and region name) by the EMSC as a pandas dataframe"
   ]
  },
  {
   "cell_type": "code",
   "execution_count": 159,
   "metadata": {},
   "outputs": [],
   "source": [
    "# This is the url you will scrape in this exercise\n",
    "url = 'https://www.emsc-csem.org/Earthquake/'"
   ]
  },
  {
   "cell_type": "code",
   "execution_count": 207,
   "metadata": {},
   "outputs": [
    {
     "name": "stdout",
     "output_type": "stream",
     "text": [
      "[20.49, 69.05, 35.72, 121.06, 37.89, 112.48, 46.29, 7.37, 46.32, 7.35, 16.36, 72.82, 19.14, 155.64, 11.30, 86.32, 27.03, 55.05, 8.64, 82.81, 11.49, 85.98, 34.27, 119.29, 27.29, 55.02, 41.77, 13.61, 41.78, 13.61, 12.85, 45.45, 12.41, 77.18, 37.77, 21.99, 31.78, 71.30, 39.14, 20.61, 43.93, 11.59, 31.37, 68.55, 21.65, 68.63, 42.72, 13.23, 42.73, 13.25, 34.27, 119.29, 34.27, 119.29, 19.12, 67.24, 27.15, 55.04, 34.28, 119.29, 19.80, 69.83, 3.98, 104.01, 59.02, 152.18, 34.27, 119.30, 36.69, 98.44, 46.26, 7.01, 34.27, 119.29, 12.97, 89.06, 29.17, 12.87, 34.28, 119.29, 38.13, 38.77, 34.27, 119.29, 9.86, 126.28, 35.75, 117.59, 19.16, 155.46, 46.76, 10.17, 18.17, 69.69, 35.22, 72.41, 45.77, 26.82, 19.16, 155.47]\n"
     ]
    },
    {
     "data": {
      "text/plain": [
       "'\\nfor i in range(len(z)): \\n    if i % 2==0: \\n        longitud.append(z) \\n    else : \\n        latitud.append(z) \\n#print(latitud[0][20:])\\n'"
      ]
     },
     "execution_count": 207,
     "metadata": {},
     "output_type": "execute_result"
    }
   ],
   "source": [
    "#your code\n",
    "res = requests.get(url)\n",
    "html = res.text\n",
    "html[:20]\n",
    "emsc = BeautifulSoup(html, 'html.parser')\n",
    "lola = emsc.select('.tabev1')\n",
    "x = re.sub(\"[a-z]+\", \"\", str(lola))\n",
    "y = re.sub(\"\\<\\s\\=\\\"1\\\"\\>\", \"\", x)\n",
    "z = re.sub(\"\\s\\<\\/\\>\", \"\", y)\n",
    "print(z)\n",
    "latitud=[]\n",
    "longitud=[]\n",
    "'''\n",
    "Quiero que los pares vayan a una lista y los impares vayan a otra pero es tarde y no se pensar más,\n",
    "luego repetiría el proceso con las otras y sacaría el dataframe.\n",
    "for i in range(len(z)): \n",
    "    if i % 2==0: \n",
    "        longitud.append(z) \n",
    "    else : \n",
    "        latitud.append(z) \n",
    "#print(latitud[0][20:])\n",
    "'''"
   ]
  },
  {
   "cell_type": "markdown",
   "metadata": {},
   "source": [
    "#### Display the date, days, title, city, country of next 25 hackathon events as a Pandas dataframe table"
   ]
  },
  {
   "cell_type": "code",
   "execution_count": null,
   "metadata": {},
   "outputs": [],
   "source": [
    "# This is the url you will scrape in this exercise\n",
    "url ='https://hackevents.co/hackathons'"
   ]
  },
  {
   "cell_type": "code",
   "execution_count": null,
   "metadata": {},
   "outputs": [],
   "source": [
    "#your code"
   ]
  },
  {
   "cell_type": "markdown",
   "metadata": {},
   "source": [
    "#### Count number of tweets by a given Twitter account."
   ]
  },
  {
   "cell_type": "markdown",
   "metadata": {},
   "source": [
    "You will need to include a ***try/except block*** for account names not found. \n",
    "<br>***Hint:*** the program should count the number of tweets for any provided account"
   ]
  },
  {
   "cell_type": "code",
   "execution_count": null,
   "metadata": {},
   "outputs": [],
   "source": [
    "# This is the url you will scrape in this exercise \n",
    "# You will need to add the account credentials to this url\n",
    "url = 'https://twitter.com/'"
   ]
  },
  {
   "cell_type": "code",
   "execution_count": null,
   "metadata": {},
   "outputs": [],
   "source": [
    "#your code"
   ]
  },
  {
   "cell_type": "markdown",
   "metadata": {},
   "source": [
    "#### Number of followers of a given twitter account"
   ]
  },
  {
   "cell_type": "markdown",
   "metadata": {},
   "source": [
    "You will need to include a ***try/except block*** in case account/s name not found. \n",
    "<br>***Hint:*** the program should count the followers for any provided account"
   ]
  },
  {
   "cell_type": "code",
   "execution_count": null,
   "metadata": {},
   "outputs": [],
   "source": [
    "# This is the url you will scrape in this exercise \n",
    "# You will need to add the account credentials to this url\n",
    "url = 'https://twitter.com/'"
   ]
  },
  {
   "cell_type": "code",
   "execution_count": null,
   "metadata": {},
   "outputs": [],
   "source": [
    "#your code"
   ]
  },
  {
   "cell_type": "markdown",
   "metadata": {},
   "source": [
    "#### List all language names and number of related articles in the order they appear in wikipedia.org"
   ]
  },
  {
   "cell_type": "code",
   "execution_count": null,
   "metadata": {},
   "outputs": [],
   "source": [
    "# This is the url you will scrape in this exercise\n",
    "url = 'https://www.wikipedia.org/'"
   ]
  },
  {
   "cell_type": "code",
   "execution_count": null,
   "metadata": {},
   "outputs": [],
   "source": [
    "#your code"
   ]
  },
  {
   "cell_type": "markdown",
   "metadata": {},
   "source": [
    "#### A list with the different kind of datasets available in data.gov.uk "
   ]
  },
  {
   "cell_type": "code",
   "execution_count": null,
   "metadata": {},
   "outputs": [],
   "source": [
    "# This is the url you will scrape in this exercise\n",
    "url = 'https://data.gov.uk/'"
   ]
  },
  {
   "cell_type": "code",
   "execution_count": null,
   "metadata": {},
   "outputs": [],
   "source": [
    "#your code "
   ]
  },
  {
   "cell_type": "markdown",
   "metadata": {},
   "source": [
    "#### Top 10 languages by number of native speakers stored in a Pandas Dataframe"
   ]
  },
  {
   "cell_type": "code",
   "execution_count": null,
   "metadata": {},
   "outputs": [],
   "source": [
    "# This is the url you will scrape in this exercise\n",
    "url = 'https://en.wikipedia.org/wiki/List_of_languages_by_number_of_native_speakers'"
   ]
  },
  {
   "cell_type": "code",
   "execution_count": null,
   "metadata": {},
   "outputs": [],
   "source": [
    "#your code"
   ]
  },
  {
   "cell_type": "markdown",
   "metadata": {},
   "source": [
    "### BONUS QUESTIONS"
   ]
  },
  {
   "cell_type": "markdown",
   "metadata": {},
   "source": [
    "#### Scrape a certain number of tweets of a given Twitter account."
   ]
  },
  {
   "cell_type": "code",
   "execution_count": null,
   "metadata": {},
   "outputs": [],
   "source": [
    "# This is the url you will scrape in this exercise \n",
    "# You will need to add the account credentials to this url\n",
    "url = 'https://twitter.com/'"
   ]
  },
  {
   "cell_type": "code",
   "execution_count": null,
   "metadata": {},
   "outputs": [],
   "source": [
    "# your code"
   ]
  },
  {
   "cell_type": "markdown",
   "metadata": {},
   "source": [
    "#### IMDB's Top 250 data (movie name, Initial release, director name and stars) as a pandas dataframe"
   ]
  },
  {
   "cell_type": "code",
   "execution_count": null,
   "metadata": {},
   "outputs": [],
   "source": [
    "# This is the url you will scrape in this exercise \n",
    "url = 'https://www.imdb.com/chart/top'"
   ]
  },
  {
   "cell_type": "code",
   "execution_count": null,
   "metadata": {},
   "outputs": [],
   "source": [
    "# your code"
   ]
  },
  {
   "cell_type": "markdown",
   "metadata": {},
   "source": [
    "#### Movie name, year and a brief summary of the top 10 random movies (IMDB) as a pandas dataframe."
   ]
  },
  {
   "cell_type": "code",
   "execution_count": null,
   "metadata": {},
   "outputs": [],
   "source": [
    "#This is the url you will scrape in this exercise\n",
    "url = 'http://www.imdb.com/chart/top'"
   ]
  },
  {
   "cell_type": "code",
   "execution_count": null,
   "metadata": {},
   "outputs": [],
   "source": [
    "#your code"
   ]
  },
  {
   "cell_type": "markdown",
   "metadata": {},
   "source": [
    "#### Find the live weather report (temperature, wind speed, description and weather) of a given city."
   ]
  },
  {
   "cell_type": "code",
   "execution_count": null,
   "metadata": {},
   "outputs": [],
   "source": [
    "#https://openweathermap.org/current\n",
    "city = city=input('Enter the city:')\n",
    "url = 'http://api.openweathermap.org/data/2.5/weather?'+'q='+city+'&APPID=b35975e18dc93725acb092f7272cc6b8&units=metric'"
   ]
  },
  {
   "cell_type": "code",
   "execution_count": null,
   "metadata": {},
   "outputs": [],
   "source": [
    "# your code"
   ]
  },
  {
   "cell_type": "markdown",
   "metadata": {},
   "source": [
    "#### Book name,price and stock availability as a pandas dataframe."
   ]
  },
  {
   "cell_type": "code",
   "execution_count": null,
   "metadata": {},
   "outputs": [],
   "source": [
    "# This is the url you will scrape in this exercise. \n",
    "# It is a fictional bookstore created to be scraped. \n",
    "url = 'http://books.toscrape.com/'"
   ]
  },
  {
   "cell_type": "code",
   "execution_count": null,
   "metadata": {},
   "outputs": [],
   "source": [
    "#your code"
   ]
  }
 ],
 "metadata": {
  "kernelspec": {
   "display_name": "Python 3",
   "language": "python",
   "name": "python3"
  },
  "language_info": {
   "codemirror_mode": {
    "name": "ipython",
    "version": 3
   },
   "file_extension": ".py",
   "mimetype": "text/x-python",
   "name": "python",
   "nbconvert_exporter": "python",
   "pygments_lexer": "ipython3",
   "version": "3.7.4"
  }
 },
 "nbformat": 4,
 "nbformat_minor": 2
}
