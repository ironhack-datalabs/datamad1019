{
 "cells": [
  {
   "cell_type": "markdown",
   "metadata": {},
   "source": [
    "# Web Scraping Lab\n",
    "\n",
    "You will find in this notebook some scrapy exercises to practise your scraping skills.\n",
    "\n",
    "**Tips:**\n",
    "\n",
    "- Check the response status code for each request to ensure you have obtained the intended contennt.\n",
    "- Print the response text in each request to understand the kind of info you are getting and its format.\n",
    "- Check for patterns in the response text to extract the data/info requested in each question.\n",
    "- Visit each url and take a look at its source through Chrome DevTools. You'll need to identify the html tags, special class names etc. used for the html content you are expected to extract."
   ]
  },
  {
   "cell_type": "markdown",
   "metadata": {},
   "source": [
    "- [Requests library](http://docs.python-requests.org/en/master/#the-user-guide) documentation \n",
    "- [Beautiful Soup Doc](https://www.crummy.com/software/BeautifulSoup/bs4/doc/)\n",
    "- [Urllib](https://docs.python.org/3/library/urllib.html#module-urllib)\n",
    "- [re lib](https://docs.python.org/3/library/re.html)\n",
    "- [lxml lib](https://lxml.de/)\n",
    "- [Scrapy](https://scrapy.org/)\n",
    "- [List of HTTP status codes](https://en.wikipedia.org/wiki/List_of_HTTP_status_codes)\n",
    "- [HTML basics](http://www.simplehtmlguide.com/cheatsheet.php)\n",
    "- [CSS basics](https://www.cssbasics.com/#page_start)"
   ]
  },
  {
   "cell_type": "markdown",
   "metadata": {},
   "source": [
    "#### Below are the libraries and modules you may need. `requests`,  `BeautifulSoup` and `pandas` are imported for you. If you prefer to use additional libraries feel free to uncomment them."
   ]
  },
  {
   "cell_type": "code",
   "execution_count": 2,
   "metadata": {},
   "outputs": [],
   "source": [
    "import requests\n",
    "from bs4 import BeautifulSoup\n",
    "import pandas as pd\n",
    "# from pprint import pprint\n",
    "# from lxml import html\n",
    "# from lxml.html import fromstring\n",
    "# import urllib.request\n",
    "# from urllib.request import urlopen\n",
    "# import random\n",
    "# import re\n",
    "# import scrapy "
   ]
  },
  {
   "cell_type": "markdown",
   "metadata": {},
   "source": [
    "#### Download, parse (using BeautifulSoup), and print the content from the Trending Developers page from GitHub:"
   ]
  },
  {
   "cell_type": "code",
   "execution_count": 195,
   "metadata": {},
   "outputs": [],
   "source": [
    "# This is the url you will scrape in this exercise\n",
    "url = 'https://github.com/trending/developers?since=weekly'"
   ]
  },
  {
   "cell_type": "code",
   "execution_count": 196,
   "metadata": {},
   "outputs": [
    {
     "data": {
      "text/plain": [
       "'\\n\\n\\n\\n\\n\\n<!DOCTYPE html>\\n<html lang=\"en\">\\n  <head>\\n    <meta charset=\"utf-8\">\\n  <link rel=\"dns-prefetch\" href=\"https://github.githubassets.com\">\\n  <link rel=\"dns-prefetch\" href=\"https://avatars0.githubus'"
      ]
     },
     "execution_count": 196,
     "metadata": {},
     "output_type": "execute_result"
    }
   ],
   "source": [
    "#your code\n",
    "res = requests.get(url)\n",
    "html = res.text\n",
    "html[:200]"
   ]
  },
  {
   "cell_type": "code",
   "execution_count": 197,
   "metadata": {},
   "outputs": [],
   "source": [
    "soup = BeautifulSoup(html, 'html.parser')"
   ]
  },
  {
   "cell_type": "code",
   "execution_count": 198,
   "metadata": {},
   "outputs": [],
   "source": [
    "#soup"
   ]
  },
  {
   "cell_type": "markdown",
   "metadata": {},
   "source": [
    "#### Display the names of the trending developers retrieved in the previous step.\n",
    "\n",
    "Your output should be a Python list of developer names. Each name should not contain any html tag.\n",
    "\n",
    "**Instructions:**\n",
    "\n",
    "1. Find out the html tag and class names used for the developer names. You can achieve this using Chrome DevTools.\n",
    "\n",
    "1. Use BeautifulSoup to extract all the html elements that contain the developer names.\n",
    "\n",
    "1. Use string manipulation techniques to replace whitespaces and linebreaks (i.e. `\\n`) in the *text* of each html element. Use a list to store the clean names.\n",
    "\n",
    "1. Print the list of names.\n",
    "\n",
    "Your output should look like below:\n",
    "\n",
    "```\n",
    "['trimstray (@trimstray)',\n",
    " 'joewalnes (JoeWalnes)',\n",
    " 'charlax (Charles-AxelDein)',\n",
    " 'ForrestKnight (ForrestKnight)',\n",
    " 'revery-ui (revery-ui)',\n",
    " 'alibaba (Alibaba)',\n",
    " 'Microsoft (Microsoft)',\n",
    " 'github (GitHub)',\n",
    " 'facebook (Facebook)',\n",
    " 'boazsegev (Bo)',\n",
    " 'google (Google)',\n",
    " 'cloudfetch',\n",
    " 'sindresorhus (SindreSorhus)',\n",
    " 'tensorflow',\n",
    " 'apache (TheApacheSoftwareFoundation)',\n",
    " 'DevonCrawford (DevonCrawford)',\n",
    " 'ARMmbed (ArmMbed)',\n",
    " 'vuejs (vuejs)',\n",
    " 'fastai (fast.ai)',\n",
    " 'QiShaoXuan (Qi)',\n",
    " 'joelparkerhenderson (JoelParkerHenderson)',\n",
    " 'torvalds (LinusTorvalds)',\n",
    " 'CyC2018',\n",
    " 'komeiji-satori (神楽坂覚々)',\n",
    " 'script-8']\n",
    " ```"
   ]
  },
  {
   "cell_type": "code",
   "execution_count": 199,
   "metadata": {},
   "outputs": [],
   "source": [
    "#your codeç\n",
    "h = soup.find_all('h1', attrs={'class':'h3 lh-condensed'})"
   ]
  },
  {
   "cell_type": "code",
   "execution_count": null,
   "metadata": {},
   "outputs": [],
   "source": []
  },
  {
   "cell_type": "code",
   "execution_count": 200,
   "metadata": {},
   "outputs": [],
   "source": [
    "name = []\n",
    "\n",
    "for i in h:\n",
    "    na = i.find('a').text.strip('\\n').strip('            ')\n",
    "    ni = i.find('a').get('href').strip('/')\n",
    "    name.append(na+\" (\"+ni+\")\")\n",
    "    "
   ]
  },
  {
   "cell_type": "code",
   "execution_count": 201,
   "metadata": {},
   "outputs": [
    {
     "data": {
      "text/plain": [
       "['Robert Mosolgo (rmosolgo)',\n",
       " 'Vinayak Mehta (vinayak-mehta)',\n",
       " 'Piotrek Witek (piotrwitek)',\n",
       " 'Liyas Thomas (liyasthomas)',\n",
       " 'Tomoki Hayashi (kan-bayashi)',\n",
       " 'Darío Kondratiuk (kblok)',\n",
       " 'Asim Aslam (asim)',\n",
       " 'Jared Palmer (jaredpalmer)',\n",
       " 'Satyajit Sahoo (satya164)',\n",
       " 'Mark Erikson (markerikson)',\n",
       " 'Julien Danjou (jd)',\n",
       " 'Klaus Post (klauspost)',\n",
       " 'Felix Angelov (felangel)',\n",
       " 'Jonah Williams (jonahwilliams)',\n",
       " 'Tejas Kumar (TejasQ)',\n",
       " 'Evan Bacon (EvanBacon)',\n",
       " 'Ross A. Baker (rossabaker)',\n",
       " 'Matt Holt (mholt)',\n",
       " 'chencheng (云谦) (sorrycc)',\n",
       " 'Arjay Angeles (yajra)',\n",
       " 'Takafumi Arakaki (tkf)',\n",
       " 'Kishikawa Katsumi (kishikawakatsumi)',\n",
       " 'Ives van Hoorne (CompuIves)',\n",
       " 'Paul DeMarco (pauldemarco)',\n",
       " 'Mitchell Hashimoto (mitchellh)']"
      ]
     },
     "execution_count": 201,
     "metadata": {},
     "output_type": "execute_result"
    }
   ],
   "source": [
    "name"
   ]
  },
  {
   "cell_type": "markdown",
   "metadata": {},
   "source": [
    "#### Display the trending Python repositories in GitHub\n",
    "\n",
    "The steps to solve this problem is similar to the previous one except that you need to find out the repository names instead of developer names."
   ]
  },
  {
   "cell_type": "code",
   "execution_count": 61,
   "metadata": {},
   "outputs": [],
   "source": [
    "# This is the url you will scrape in this exercise\n",
    "url = 'https://github.com/trending/python?since=daily'"
   ]
  },
  {
   "cell_type": "code",
   "execution_count": 62,
   "metadata": {},
   "outputs": [
    {
     "data": {
      "text/plain": [
       "'\\n\\n\\n\\n\\n\\n<!DOCTYPE html>\\n<html lang=\"en\">\\n  <head>\\n    <meta charset=\"utf-8\">\\n  <link rel=\"dns-prefetch\" href=\"https://github.githubassets.com\">\\n  <link rel=\"dns-prefetch\" href=\"https://avatars0.githubus'"
      ]
     },
     "execution_count": 62,
     "metadata": {},
     "output_type": "execute_result"
    }
   ],
   "source": [
    "#your code\n",
    "res = requests.get(url)\n",
    "html = res.text\n",
    "html[:200]"
   ]
  },
  {
   "cell_type": "code",
   "execution_count": 63,
   "metadata": {},
   "outputs": [],
   "source": [
    "soup = BeautifulSoup(html, 'html.parser')"
   ]
  },
  {
   "cell_type": "code",
   "execution_count": 65,
   "metadata": {},
   "outputs": [],
   "source": [
    "### soup"
   ]
  },
  {
   "cell_type": "code",
   "execution_count": 66,
   "metadata": {},
   "outputs": [],
   "source": [
    "h = soup.find_all('h1', attrs={'class':'h3 lh-condensed'})"
   ]
  },
  {
   "cell_type": "code",
   "execution_count": 78,
   "metadata": {},
   "outputs": [],
   "source": [
    "name = []\n",
    "\n",
    "for i in h:\n",
    "    ni = i.find('a').get('href').strip('/')\n",
    "    name.append(ni)"
   ]
  },
  {
   "cell_type": "code",
   "execution_count": 79,
   "metadata": {},
   "outputs": [
    {
     "data": {
      "text/plain": [
       "['deezer/spleeter',\n",
       " 'openai/gpt-2',\n",
       " 'PaddlePaddle/models',\n",
       " '0voice/interview_internal_reference',\n",
       " 'kubernetes-client/python',\n",
       " 'svjan5/GNNs-for-NLP',\n",
       " 'Linzaer/Ultra-Light-Fast-Generic-Face-Detector-1MB',\n",
       " 'huggingface/transformers',\n",
       " 'MalongTech/research-charnet',\n",
       " 'thorn-oss/perception',\n",
       " 'eastlakeside/interpy-zh',\n",
       " 'Azure/azure-cli',\n",
       " 'encode/django-rest-framework',\n",
       " 'wangzheng0822/algo',\n",
       " 'marshmallow-code/marshmallow',\n",
       " 'tensorflow/models',\n",
       " 'momika233/ClamAV_0Day_exploit',\n",
       " 'zihangdai/xlnet',\n",
       " 'sinovation/ZEN',\n",
       " 'shenweichen/DeepCTR',\n",
       " 'google-research/bert',\n",
       " 'geekcomputers/Python',\n",
       " 'facebookresearch/hydra',\n",
       " 'encode/httpx',\n",
       " 'charlesq34/pointnet2']"
      ]
     },
     "execution_count": 79,
     "metadata": {},
     "output_type": "execute_result"
    }
   ],
   "source": [
    "name"
   ]
  },
  {
   "cell_type": "markdown",
   "metadata": {},
   "source": [
    "#### Display all the image links from Walt Disney wikipedia page"
   ]
  },
  {
   "cell_type": "code",
   "execution_count": 114,
   "metadata": {},
   "outputs": [],
   "source": [
    "# This is the url you will scrape in this exercise\n",
    "url = 'https://en.wikipedia.org/wiki/Walt_Disney'"
   ]
  },
  {
   "cell_type": "code",
   "execution_count": 115,
   "metadata": {},
   "outputs": [
    {
     "data": {
      "text/plain": [
       "'<!DOCTYPE html>\\n<html class=\"client-nojs\" lang=\"en\" dir=\"ltr\">\\n<head>\\n<meta charset=\"UTF-8\"/>\\n<title>Walt Disney - Wikipedia</title>\\n<script>document.documentElement.className=\"client-js\";RLCONF={\"wgC'"
      ]
     },
     "execution_count": 115,
     "metadata": {},
     "output_type": "execute_result"
    }
   ],
   "source": [
    "#your code\n",
    "res = requests.get(url)\n",
    "html = res.text\n",
    "html[:200]"
   ]
  },
  {
   "cell_type": "code",
   "execution_count": 116,
   "metadata": {},
   "outputs": [],
   "source": [
    "soup = BeautifulSoup(html, 'html.parser')"
   ]
  },
  {
   "cell_type": "code",
   "execution_count": 117,
   "metadata": {},
   "outputs": [],
   "source": [
    "img = soup.find_all('a', attrs={'class':'image'})"
   ]
  },
  {
   "cell_type": "code",
   "execution_count": 127,
   "metadata": {},
   "outputs": [
    {
     "data": {
      "text/plain": [
       "bs4.element.ResultSet"
      ]
     },
     "execution_count": 127,
     "metadata": {},
     "output_type": "execute_result"
    }
   ],
   "source": [
    "type(img)"
   ]
  },
  {
   "cell_type": "code",
   "execution_count": 130,
   "metadata": {},
   "outputs": [],
   "source": [
    "pic_list = []\n",
    "for i in img:\n",
    "    pic = i.find('img').get('src').strip('//')\n",
    "    pic_list.append(pic)"
   ]
  },
  {
   "cell_type": "code",
   "execution_count": 131,
   "metadata": {},
   "outputs": [],
   "source": [
    "pic_list = pic_list[0:16]"
   ]
  },
  {
   "cell_type": "code",
   "execution_count": 132,
   "metadata": {},
   "outputs": [
    {
     "data": {
      "image/jpeg": "[encoded data removed]",
      "text/plain": [
       "<IPython.core.display.Image object>"
      ]
     },
     "metadata": {},
     "output_type": "display_data"
    },
    {
     "data": {
      "image/png": "[encoded data removed]",
      "text/plain": [
       "<IPython.core.display.Image object>"
      ]
     },
     "metadata": {},
     "output_type": "display_data"
    },
    {
     "data": {
      "image/jpeg": "[encoded data removed]",
      "text/plain": [
       "<IPython.core.display.Image object>"
      ]
     },
     "metadata": {},
     "output_type": "display_data"
    },
    {
     "data": {
      "image/jpeg": "[encoded data removed]",
      "text/plain": [
       "<IPython.core.display.Image object>"
      ]
     },
     "metadata": {},
     "output_type": "display_data"
    },
    {
     "data": {
      "image/jpeg": "[encoded data removed]",
      "text/plain": [
       "<IPython.core.display.Image object>"
      ]
     },
     "metadata": {},
     "output_type": "display_data"
    },
    {
     "data": {
      "image/jpeg": "[encoded data removed]",
      "text/plain": [
       "<IPython.core.display.Image object>"
      ]
     },
     "metadata": {},
     "output_type": "display_data"
    },
    {
     "data": {
      "image/jpeg": "[encoded data removed]",
      "text/plain": [
       "<IPython.core.display.Image object>"
      ]
     },
     "metadata": {},
     "output_type": "display_data"
    },
    {
     "data": {
      "image/jpeg": "[encoded data removed]",
      "text/plain": [
       "<IPython.core.display.Image object>"
      ]
     },
     "metadata": {},
     "output_type": "display_data"
    },
    {
     "data": {
      "image/jpeg": "[encoded data removed]",
      "text/plain": [
       "<IPython.core.display.Image object>"
      ]
     },
     "metadata": {},
     "output_type": "display_data"
    },
    {
     "data": {
      "image/jpeg": "[encoded data removed]",
      "text/plain": [
       "<IPython.core.display.Image object>"
      ]
     },
     "metadata": {},
     "output_type": "display_data"
    },
    {
     "data": {
      "image/jpeg": "[encoded data removed]",
      "text/plain": [
       "<IPython.core.display.Image object>"
      ]
     },
     "metadata": {},
     "output_type": "display_data"
    },
    {
     "data": {
      "image/jpeg": "[encoded data removed]",
      "text/plain": [
       "<IPython.core.display.Image object>"
      ]
     },
     "metadata": {},
     "output_type": "display_data"
    },
    {
     "data": {
      "image/jpeg": "[encoded data removed]",
      "text/plain": [
       "<IPython.core.display.Image object>"
      ]
     },
     "metadata": {},
     "output_type": "display_data"
    },
    {
     "data": {
      "image/jpeg": "[encoded data removed]",
      "text/plain": [
       "<IPython.core.display.Image object>"
      ]
     },
     "metadata": {},
     "output_type": "display_data"
    },
    {
     "data": {
      "image/jpeg": "[encoded data removed]",
      "text/plain": [
       "<IPython.core.display.Image object>"
      ]
     },
     "metadata": {},
     "output_type": "display_data"
    },
    {
     "data": {
      "image/jpeg": "[encoded data removed]",
      "text/plain": [
       "<IPython.core.display.Image object>"
      ]
     },
     "metadata": {},
     "output_type": "display_data"
    }
   ],
   "source": [
    "from IPython.display import Image\n",
    "from IPython.core.display import HTML \n",
    "\n",
    "for i in pic_list:\n",
    "    display(Image('https://'+i))\n",
    "    "
   ]
  },
  {
   "cell_type": "markdown",
   "metadata": {},
   "source": [
    "#### Retrieve an arbitary Wikipedia page of \"Python\" and create a list of links on that page"
   ]
  },
  {
   "cell_type": "code",
   "execution_count": 125,
   "metadata": {},
   "outputs": [],
   "source": [
    "# This is the url you will scrape in this exercise\n",
    "url ='https://en.wikipedia.org/wiki/Python' "
   ]
  },
  {
   "cell_type": "code",
   "execution_count": 126,
   "metadata": {},
   "outputs": [
    {
     "data": {
      "text/plain": [
       "'<!DOCTYPE html>\\n<html class=\"client-nojs\" lang=\"en\" dir=\"ltr\">\\n<head>\\n<meta charset=\"UTF-8\"/>\\n<title>Python - Wikipedia</title>\\n<script>document.documentElement.className=\"client-js\";RLCONF={\"wgCanoni'"
      ]
     },
     "execution_count": 126,
     "metadata": {},
     "output_type": "execute_result"
    }
   ],
   "source": [
    "#your code\n",
    "res = requests.get(url)\n",
    "html = res.text\n",
    "html[:200]"
   ]
  },
  {
   "cell_type": "code",
   "execution_count": 133,
   "metadata": {},
   "outputs": [],
   "source": [
    "soup = BeautifulSoup(html, 'html.parser')"
   ]
  },
  {
   "cell_type": "code",
   "execution_count": 158,
   "metadata": {},
   "outputs": [],
   "source": [
    "links = soup.find_all('a', href=True)"
   ]
  },
  {
   "cell_type": "code",
   "execution_count": 163,
   "metadata": {},
   "outputs": [],
   "source": [
    "link_list = []\n",
    "\n",
    "for i in links:\n",
    "    link_list.append(i['href'])"
   ]
  },
  {
   "cell_type": "code",
   "execution_count": 165,
   "metadata": {},
   "outputs": [],
   "source": [
    "link_list = [i for i in link_list if i[0] != '#']"
   ]
  },
  {
   "cell_type": "code",
   "execution_count": 166,
   "metadata": {},
   "outputs": [
    {
     "data": {
      "text/plain": [
       "['https://en.wiktionary.org/wiki/Python',\n",
       " 'https://en.wiktionary.org/wiki/python',\n",
       " '/w/index.php?title=Python&action=edit&section=1',\n",
       " '/wiki/Pythonidae',\n",
       " '/wiki/Python_(genus)',\n",
       " '/w/index.php?title=Python&action=edit&section=2',\n",
       " '/wiki/Python_(mythology)',\n",
       " '/wiki/Python_of_Aenus',\n",
       " '/wiki/Python_(painter)',\n",
       " '/wiki/Python_of_Byzantium',\n",
       " '/wiki/Python_of_Catana',\n",
       " '/w/index.php?title=Python&action=edit&section=3',\n",
       " '/wiki/Python_(film)',\n",
       " '/wiki/Pythons_2',\n",
       " '/wiki/Monty_Python',\n",
       " '/wiki/Python_(Monty)_Pictures',\n",
       " '/w/index.php?title=Python&action=edit&section=4',\n",
       " '/wiki/Python_(programming_language)',\n",
       " '/wiki/CPython',\n",
       " '/wiki/CMU_Common_Lisp',\n",
       " '/wiki/PERQ#PERQ_3',\n",
       " '/w/index.php?title=Python&action=edit&section=5',\n",
       " '/w/index.php?title=Python&action=edit&section=6',\n",
       " '/wiki/Python_(Busch_Gardens_Tampa_Bay)',\n",
       " '/wiki/Python_(Coney_Island,_Cincinnati,_Ohio)',\n",
       " '/wiki/Python_(Efteling)',\n",
       " '/w/index.php?title=Python&action=edit&section=7',\n",
       " '/wiki/Python_(automobile_maker)',\n",
       " '/wiki/Python_(Ford_prototype)',\n",
       " '/w/index.php?title=Python&action=edit&section=8',\n",
       " '/wiki/Colt_Python',\n",
       " '/wiki/Python_(missile)',\n",
       " '/wiki/Python_(nuclear_primary)',\n",
       " '/w/index.php?title=Python&action=edit&section=9',\n",
       " '/wiki/Python_Anghelo',\n",
       " '/w/index.php?title=Python&action=edit&section=10',\n",
       " '/wiki/PYTHON',\n",
       " '/w/index.php?title=Python&action=edit&section=11',\n",
       " '/wiki/Cython',\n",
       " '/wiki/Pyton',\n",
       " '/wiki/File:Disambig_gray.svg',\n",
       " '/wiki/Help:Disambiguation',\n",
       " 'https://en.wikipedia.org/w/index.php?title=Special:WhatLinksHere/Python&namespace=0',\n",
       " 'https://en.wikipedia.org/w/index.php?title=Python&oldid=924004650',\n",
       " '/wiki/Help:Category',\n",
       " '/wiki/Category:Disambiguation_pages',\n",
       " '/wiki/Category:Disambiguation_pages_with_short_description',\n",
       " '/wiki/Category:All_article_disambiguation_pages',\n",
       " '/wiki/Category:All_disambiguation_pages',\n",
       " '/wiki/Category:Animal_common_name_disambiguation_pages',\n",
       " '/wiki/Special:MyTalk',\n",
       " '/wiki/Special:MyContributions',\n",
       " '/w/index.php?title=Special:CreateAccount&returnto=Python',\n",
       " '/w/index.php?title=Special:UserLogin&returnto=Python',\n",
       " '/wiki/Python',\n",
       " '/wiki/Talk:Python',\n",
       " '/wiki/Python',\n",
       " '/w/index.php?title=Python&action=edit',\n",
       " '/w/index.php?title=Python&action=history',\n",
       " '/wiki/Main_Page',\n",
       " '/wiki/Main_Page',\n",
       " '/wiki/Portal:Contents',\n",
       " '/wiki/Portal:Featured_content',\n",
       " '/wiki/Portal:Current_events',\n",
       " '/wiki/Special:Random',\n",
       " 'https://donate.wikimedia.org/wiki/Special:FundraiserRedirector?utm_source=donate&utm_medium=sidebar&utm_campaign=C13_en.wikipedia.org&uselang=en',\n",
       " '//shop.wikimedia.org',\n",
       " '/wiki/Help:Contents',\n",
       " '/wiki/Wikipedia:About',\n",
       " '/wiki/Wikipedia:Community_portal',\n",
       " '/wiki/Special:RecentChanges',\n",
       " '//en.wikipedia.org/wiki/Wikipedia:Contact_us',\n",
       " '/wiki/Special:WhatLinksHere/Python',\n",
       " '/wiki/Special:RecentChangesLinked/Python',\n",
       " '/wiki/Wikipedia:File_Upload_Wizard',\n",
       " '/wiki/Special:SpecialPages',\n",
       " '/w/index.php?title=Python&oldid=924004650',\n",
       " '/w/index.php?title=Python&action=info',\n",
       " 'https://www.wikidata.org/wiki/Special:EntityPage/Q747452',\n",
       " '/w/index.php?title=Special:CiteThisPage&page=Python&id=924004650',\n",
       " 'https://commons.wikimedia.org/wiki/Category:Python',\n",
       " '/w/index.php?title=Special:Book&bookcmd=book_creator&referer=Python',\n",
       " '/w/index.php?title=Special:ElectronPdf&page=Python&action=show-download-screen',\n",
       " '/w/index.php?title=Python&printable=yes',\n",
       " 'https://af.wikipedia.org/wiki/Python',\n",
       " 'https://als.wikipedia.org/wiki/Python',\n",
       " 'https://az.wikipedia.org/wiki/Python',\n",
       " 'https://bn.wikipedia.org/wiki/%E0%A6%AA%E0%A6%BE%E0%A6%87%E0%A6%A5%E0%A6%A8_(%E0%A6%A6%E0%A7%8D%E0%A6%AC%E0%A7%8D%E0%A6%AF%E0%A6%B0%E0%A7%8D%E0%A6%A5%E0%A6%A4%E0%A6%BE_%E0%A6%A8%E0%A6%BF%E0%A6%B0%E0%A6%B8%E0%A6%A8)',\n",
       " 'https://be.wikipedia.org/wiki/Python',\n",
       " 'https://bg.wikipedia.org/wiki/%D0%9F%D0%B8%D1%82%D0%BE%D0%BD_(%D0%BF%D0%BE%D1%8F%D1%81%D0%BD%D0%B5%D0%BD%D0%B8%D0%B5)',\n",
       " 'https://cs.wikipedia.org/wiki/Python_(rozcestn%C3%ADk)',\n",
       " 'https://da.wikipedia.org/wiki/Python',\n",
       " 'https://de.wikipedia.org/wiki/Python',\n",
       " 'https://eo.wikipedia.org/wiki/Pitono_(apartigilo)',\n",
       " 'https://eu.wikipedia.org/wiki/Python_(argipena)',\n",
       " 'https://fa.wikipedia.org/wiki/%D9%BE%D8%A7%DB%8C%D8%AA%D9%88%D9%86',\n",
       " 'https://fr.wikipedia.org/wiki/Python',\n",
       " 'https://ko.wikipedia.org/wiki/%ED%8C%8C%EC%9D%B4%EC%84%A0',\n",
       " 'https://hr.wikipedia.org/wiki/Python_(razdvojba)',\n",
       " 'https://io.wikipedia.org/wiki/Pitono',\n",
       " 'https://id.wikipedia.org/wiki/Python',\n",
       " 'https://ia.wikipedia.org/wiki/Python_(disambiguation)',\n",
       " 'https://is.wikipedia.org/wiki/Python_(a%C3%B0greining)',\n",
       " 'https://it.wikipedia.org/wiki/Python_(disambigua)',\n",
       " 'https://he.wikipedia.org/wiki/%D7%A4%D7%99%D7%AA%D7%95%D7%9F',\n",
       " 'https://ka.wikipedia.org/wiki/%E1%83%9E%E1%83%98%E1%83%97%E1%83%9D%E1%83%9C%E1%83%98_(%E1%83%9B%E1%83%A0%E1%83%90%E1%83%95%E1%83%90%E1%83%9A%E1%83%9B%E1%83%9C%E1%83%98%E1%83%A8%E1%83%95%E1%83%9C%E1%83%94%E1%83%9A%E1%83%9D%E1%83%95%E1%83%90%E1%83%9C%E1%83%98)',\n",
       " 'https://kg.wikipedia.org/wiki/Mboma_(nyoka)',\n",
       " 'https://la.wikipedia.org/wiki/Python_(discretiva)',\n",
       " 'https://lb.wikipedia.org/wiki/Python',\n",
       " 'https://hu.wikipedia.org/wiki/Python_(egy%C3%A9rtelm%C5%B1s%C3%ADt%C5%91_lap)',\n",
       " 'https://mr.wikipedia.org/wiki/%E0%A4%AA%E0%A4%BE%E0%A4%AF%E0%A4%A5%E0%A5%89%E0%A4%A8_(%E0%A4%86%E0%A4%9C%E0%A5%8D%E0%A4%9E%E0%A4%BE%E0%A4%B5%E0%A4%B2%E0%A5%80_%E0%A4%AD%E0%A4%BE%E0%A4%B7%E0%A4%BE)',\n",
       " 'https://nl.wikipedia.org/wiki/Python',\n",
       " 'https://ja.wikipedia.org/wiki/%E3%83%91%E3%82%A4%E3%82%BD%E3%83%B3',\n",
       " 'https://no.wikipedia.org/wiki/Pyton',\n",
       " 'https://pl.wikipedia.org/wiki/Pyton',\n",
       " 'https://pt.wikipedia.org/wiki/Python_(desambigua%C3%A7%C3%A3o)',\n",
       " 'https://ru.wikipedia.org/wiki/Python_(%D0%B7%D0%BD%D0%B0%D1%87%D0%B5%D0%BD%D0%B8%D1%8F)',\n",
       " 'https://sd.wikipedia.org/wiki/%D8%A7%D8%B1%DA%99',\n",
       " 'https://sk.wikipedia.org/wiki/Python',\n",
       " 'https://sr.wikipedia.org/wiki/%D0%9F%D0%B8%D1%82%D0%BE%D0%BD_(%D0%B2%D0%B8%D1%88%D0%B5%D0%B7%D0%BD%D0%B0%D1%87%D0%BD%D0%B0_%D0%BE%D0%B4%D1%80%D0%B5%D0%B4%D0%BD%D0%B8%D1%86%D0%B0)',\n",
       " 'https://sh.wikipedia.org/wiki/Python',\n",
       " 'https://fi.wikipedia.org/wiki/Python',\n",
       " 'https://sv.wikipedia.org/wiki/Pyton',\n",
       " 'https://th.wikipedia.org/wiki/%E0%B9%84%E0%B8%9E%E0%B8%97%E0%B8%AD%E0%B8%99',\n",
       " 'https://tr.wikipedia.org/wiki/Python',\n",
       " 'https://uk.wikipedia.org/wiki/%D0%9F%D1%96%D1%84%D0%BE%D0%BD',\n",
       " 'https://ur.wikipedia.org/wiki/%D9%BE%D8%A7%D8%A6%DB%8C%D8%AA%DA%BE%D9%88%D9%86',\n",
       " 'https://vi.wikipedia.org/wiki/Python',\n",
       " 'https://zh.wikipedia.org/wiki/Python_(%E6%B6%88%E6%AD%A7%E4%B9%89)',\n",
       " 'https://www.wikidata.org/wiki/Special:EntityPage/Q747452#sitelinks-wikipedia',\n",
       " '//en.wikipedia.org/wiki/Wikipedia:Text_of_Creative_Commons_Attribution-ShareAlike_3.0_Unported_License',\n",
       " '//creativecommons.org/licenses/by-sa/3.0/',\n",
       " '//foundation.wikimedia.org/wiki/Terms_of_Use',\n",
       " '//foundation.wikimedia.org/wiki/Privacy_policy',\n",
       " '//www.wikimediafoundation.org/',\n",
       " 'https://foundation.wikimedia.org/wiki/Privacy_policy',\n",
       " '/wiki/Wikipedia:About',\n",
       " '/wiki/Wikipedia:General_disclaimer',\n",
       " '//en.wikipedia.org/wiki/Wikipedia:Contact_us',\n",
       " 'https://www.mediawiki.org/wiki/Special:MyLanguage/How_to_contribute',\n",
       " 'https://foundation.wikimedia.org/wiki/Cookie_statement',\n",
       " '//en.m.wikipedia.org/w/index.php?title=Python&mobileaction=toggle_view_mobile',\n",
       " 'https://wikimediafoundation.org/',\n",
       " 'https://www.mediawiki.org/']"
      ]
     },
     "execution_count": 166,
     "metadata": {},
     "output_type": "execute_result"
    }
   ],
   "source": [
    "link_list"
   ]
  },
  {
   "cell_type": "markdown",
   "metadata": {},
   "source": [
    "#### Number of Titles that have changed in the United States Code since its last release point "
   ]
  },
  {
   "cell_type": "code",
   "execution_count": 167,
   "metadata": {},
   "outputs": [],
   "source": [
    "# This is the url you will scrape in this exercise\n",
    "url = 'http://uscode.house.gov/download/download.shtml'"
   ]
  },
  {
   "cell_type": "code",
   "execution_count": 168,
   "metadata": {},
   "outputs": [
    {
     "data": {
      "text/plain": [
       "'<?xml version=\\'1.0\\' encoding=\\'UTF-8\\' ?>\\n<!DOCTYPE html PUBLIC \"-//W3C//DTD XHTML 1.0 Transitional//EN\" \"http://www.w3.org/TR/xhtml1/DTD/xhtml1-transitional.dtd\">\\n<html xmlns=\"http://www.w3.org/1999/xh'"
      ]
     },
     "execution_count": 168,
     "metadata": {},
     "output_type": "execute_result"
    }
   ],
   "source": [
    "#your code\n",
    "res = requests.get(url)\n",
    "html = res.text\n",
    "html[:200]"
   ]
  },
  {
   "cell_type": "code",
   "execution_count": 169,
   "metadata": {},
   "outputs": [],
   "source": [
    "soup = BeautifulSoup(html, 'html.parser')"
   ]
  },
  {
   "cell_type": "code",
   "execution_count": 170,
   "metadata": {},
   "outputs": [],
   "source": [
    "changed = soup.find_all('div', attrs={'class':'usctitlechanged'})"
   ]
  },
  {
   "cell_type": "code",
   "execution_count": 171,
   "metadata": {},
   "outputs": [
    {
     "data": {
      "text/plain": [
       "[<div class=\"usctitlechanged\" id=\"us/usc/t6\">\n",
       " \n",
       "           Title 6 - Domestic Security\n",
       " \n",
       "         </div>, <div class=\"usctitlechanged\" id=\"us/usc/t31\">\n",
       " \n",
       "           Title 31 - Money and Finance <span class=\"footnote\"><a class=\"fn\" href=\"#fn\">٭</a></span>\n",
       " </div>]"
      ]
     },
     "execution_count": 171,
     "metadata": {},
     "output_type": "execute_result"
    }
   ],
   "source": [
    "changed"
   ]
  },
  {
   "cell_type": "code",
   "execution_count": 179,
   "metadata": {},
   "outputs": [],
   "source": [
    "changed_list = []\n",
    "for i in changed:\n",
    "    changed_list.append(i.text.strip('\\n\\n          '))"
   ]
  },
  {
   "cell_type": "code",
   "execution_count": 180,
   "metadata": {},
   "outputs": [
    {
     "data": {
      "text/plain": [
       "['Title 6 - Domestic Security', 'Title 31 - Money and Finance ٭']"
      ]
     },
     "execution_count": 180,
     "metadata": {},
     "output_type": "execute_result"
    }
   ],
   "source": [
    "changed_list"
   ]
  },
  {
   "cell_type": "markdown",
   "metadata": {},
   "source": [
    "#### A Python list with the top ten FBI's Most Wanted names "
   ]
  },
  {
   "cell_type": "code",
   "execution_count": 207,
   "metadata": {},
   "outputs": [],
   "source": [
    "# This is the url you will scrape in this exercise\n",
    "url = 'https://www.fbi.gov/wanted/topten'"
   ]
  },
  {
   "cell_type": "code",
   "execution_count": 208,
   "metadata": {},
   "outputs": [
    {
     "data": {
      "text/plain": [
       "'<!DOCTYPE html>\\n<html lang=\"en\" data-gridsystem=\"bs3\">\\n<head>\\n<meta charset=\"utf-8\">\\n<meta http-equiv=\"x-ua-compatible\" content=\"ie=edge\">\\n<meta name=\"viewport\" content=\"width=device-width, initial-sc'"
      ]
     },
     "execution_count": 208,
     "metadata": {},
     "output_type": "execute_result"
    }
   ],
   "source": [
    "#your code \n",
    "res = requests.get(url)\n",
    "html = res.text\n",
    "html[:200]"
   ]
  },
  {
   "cell_type": "code",
   "execution_count": 209,
   "metadata": {},
   "outputs": [
    {
     "data": {
      "text/plain": [
       "<!DOCTYPE html>\n",
       "\n",
       "<html data-gridsystem=\"bs3\" lang=\"en\">\n",
       "<head>\n",
       "<meta charset=\"utf-8\"/>\n",
       "<meta content=\"ie=edge\" http-equiv=\"x-ua-compatible\"/>\n",
       "<meta content=\"width=device-width, initial-scale=1.0\" name=\"viewport\"/>\n",
       "<link href=\"https://www.fbi.gov/wanted/topten\" rel=\"canonical\"/>\n",
       "<link href=\"https://www.fbi.gov/wanted/topten/RSS\" rel=\"alternate\" title=\"Ten Most Wanted - RSS 1.0\" type=\"application/rss+xml\"/>\n",
       "<link href=\"https://www.fbi.gov/wanted/topten/rss.xml\" rel=\"alternate\" title=\"Ten Most Wanted - RSS 2.0\" type=\"application/rss+xml\"/>\n",
       "<link href=\"https://www.fbi.gov/wanted/topten/atom.xml\" rel=\"alternate\" title=\"Ten Most Wanted - Atom\" type=\"application/rss+xml\"/>\n",
       "<title>Ten Most Wanted — FBI</title>\n",
       "<meta content=\"Wanted by the FBI, Top Ten Most Wanted, Ten Most Wanted Fugitives, Top Ten Fugitives, Top Ten, Historical Ten Most Wanted\" name=\"keywords\"/>\n",
       "<meta content=\"Wanted by the FBI, Top Ten Most Wanted, Ten Most Wanted Fugitives, Top Ten Fugitives, Top Ten, Historical Ten Most Wanted\" name=\"DC.subject\"/>\n",
       "<meta content=\"2019-11-07T11:25:20+00:00\" name=\"DC.date.modified\"/>\n",
       "<meta content=\"en-us\" name=\"DC.language\"/>\n",
       "<meta content=\"2010/07/16 - \" name=\"DC.date.valid_range\"/>\n",
       "<meta content=\"text/plain\" name=\"DC.format\"/>\n",
       "<meta content=\"2010-07-16T15:30:00+00:00\" name=\"DC.date.created\"/>\n",
       "<meta content=\"Folder\" name=\"DC.type\"/>\n",
       "<meta content=\"The FBI is offering rewards for information leading to the apprehension of the Ten Most Wanted Fugitives. Select the images of suspects to display more information.\" name=\"DC.description\"/>\n",
       "<meta content=\"The FBI is offering rewards for information leading to the apprehension of the Ten Most Wanted Fugitives. Select the images of suspects to display more information.\" name=\"description\"/><meta content=\"summary_large_image\" name=\"twitter:card\"/>\n",
       "<meta content=\"Ten Most Wanted | Federal Bureau of Investigation\" name=\"twitter:title\"/>\n",
       "<meta content=\"Federal Bureau of Investigation\" property=\"og:site_name\"/>\n",
       "<meta content=\"Ten Most Wanted | Federal Bureau of Investigation\" property=\"og:title\"/>\n",
       "<meta content=\"website\" property=\"og:type\"/>\n",
       "<meta content=\"@FBI\" name=\"twitter:site\"/>\n",
       "<meta content=\"https://www.facebook.com/FBI\" property=\"og:article:publisher\"/>\n",
       "<meta content=\"The FBI is offering rewards for information leading to the apprehension of the Ten Most Wanted Fugitives. Select the images of suspects to display more information.\" name=\"twitter:description\"/>\n",
       "<meta content=\"https://www.fbi.gov/wanted/topten\" name=\"twitter:url\"/>\n",
       "<meta content=\"The FBI is offering rewards for information leading to the apprehension of the Ten Most Wanted Fugitives. Select the images of suspects to display more information.\" property=\"og:description\"/>\n",
       "<meta content=\"https://www.fbi.gov/wanted/topten\" property=\"og:url\"/>\n",
       "<meta content=\"https://www.fbi.gov/wanted/topten/@@images/image\" property=\"og:image\"/>\n",
       "<meta content=\"image/jpeg\" property=\"og:image:type\"/>\n",
       "<meta content=\"https://www.fbi.gov/wanted/topten/@@images/image\" name=\"twitter:image\"/><meta content=\"2019-11-07T11:25:20+00:00\" name=\"modificationDate\"/><meta content=\"Global\" name=\"distribution\"/><meta content=\"2010-07-16T11:30:00+00:00\" name=\"publicationDate\"/><meta content=\"2499-12-31T00:00:00+00:00\" name=\"expirationDate\"/><meta content=\"index,follow\" name=\"robots\"/><meta content=\"CastleCMS 2.0\" name=\"generator\"/>\n",
       "<link href=\"https://www.fbi.gov\" rel=\"home\" title=\"Front page\"/>\n",
       "<link href=\"https://www.fbi.gov/sitemap\" rel=\"contents\"/><script type=\"application/ld+json\">{\"@context\": \"http://schema.org\", \"headline\": \"Ten Most Wanted\", \"thumbnailUrl\": \"https://www.fbi.gov/wanted/topten/@@images/image/mini\", \"image\": {\"url\": \"https://www.fbi.gov/wanted/topten/@@images/image\", \"@type\": \"ImageObject\"}, \"@type\": \"WebPage\", \"datePublished\": \"2010-07-16T11:30:00+00:00\", \"url\": \"https://www.fbi.gov/wanted/topten\", \"description\": \"The FBI is offering rewards for information leading to the apprehension of the Ten Most Wanted Fugitives. Select the images of suspects to display more information.\", \"name\": \"Ten Most Wanted\", \"dateModified\": \"2019-11-07T11:25:20+00:00\"}</script>\n",
       "<link href=\"https://www.fbi.gov/site-icon.png\" rel=\"apple-touch-icon\" sizes=\"180x180\"/>\n",
       "<link href=\"https://www.fbi.gov/site-icon.png?scale=32\" rel=\"icon\" sizes=\"32x32\" type=\"image/png\"/>\n",
       "<link href=\"https://www.fbi.gov/site-icon.png?scale=16\" rel=\"icon\" sizes=\"16x16\" type=\"image/png\"/>\n",
       "<link href=\"https://www.fbi.gov/manifest.json\" rel=\"manifest\"/>\n",
       "<meta content=\"#ffffff\" name=\"theme-color\"/>\n",
       "<link href=\"https://www.fbi.gov/@@search\" rel=\"search\" title=\"Search this site\"/> <link href=\"https://www.fbi.gov/++plone++castle/less/public/print.css\" media=\"print\" rel=\"stylesheet\" type=\"text/css\"/>\n",
       "<link data-bundle=\"production\" href=\"https://www.fbi.gov/++plone++production/++unique++2019-03-28T18:39:14.826576/default.css\" rel=\"stylesheet\" type=\"text/css\"/>\n",
       "<link href=\"https://www.fbi.gov/++theme++fbigov.theme/css/index.css?v=6\" rel=\"stylesheet\"/>\n",
       "</head>\n",
       "<body class=\"portaltype-folder site-Plone section-wanted subsection-topten icons-on thumbs-on frontend viewpermission-none userrole-anonymous pat-markspeciallinks template-layout layout-custom selected-layout-layout_view\" data-base-url=\"https://www.fbi.gov/wanted/topten\" data-i18ncatalogurl=\"https://www.fbi.gov/plonejsi18n\" data-pat-backdrop='{\"closeOnEsc\": false,\n",
       "      \"closeOnClick\": false}' data-pat-markspeciallinks='{\"external_links_open_new_window\": \"True\",\"mark_special_links\": \"False\"}' data-pat-pickadate='{\"date\": {\"selectYears\": 200}, \"time\": {\"interval\": 30 } }' data-pat-plone-modal='{\n",
       "        \"actionOptions\": {\"displayInModal\": false},\n",
       "        \"backdropOptions\": {\"closeOnClick\": false, \"closeOnEsc\": false},\n",
       "        \"prependContent\": \"#main-content .portalMessage\",\n",
       "        \"zIndexSelector\": \".plone-modal-wrapper,.plone-modal-backdrop,.modal-open .castle-modal-wrapper .modal,.mce-floatpanel:visible\",\n",
       "         \"actionOptions\": { \"timeout\": 10000}\n",
       "      }' data-pat-plone-relateditems='{\n",
       "        \"width\": \"\"\n",
       "      }' data-pat-queryfilter='{\"yearFilter\": true}' data-pat-structure='{\"activeColumns\": [\n",
       "          \"ModificationDate\",\n",
       "          \"EffectiveDate\",\n",
       "          \"review_state\",\n",
       "          \"Subject\"\n",
       "        ],\n",
       "\"searchParam\": \"Title\",\n",
       " \"momentFormat\": \"MMMM D, YYYY\",\n",
       "  \"typeToViewAction\": {\n",
       "                    \"File\": \"/view\",\n",
       "                    \"Image\": \"/view\",\n",
       "                    \"Video\": \"/view\",\n",
       "                    \"Audio\": \"/view\"\n",
       "                }\n",
       "      }' data-pat-tinymce=\"{}\" data-portal-url=\"https://www.fbi.gov\" data-view-url=\"https://www.fbi.gov/wanted/topten\" id=\"visual-portal-wrapper\">\n",
       "<div id=\"visual-wrapper\">\n",
       "<header class=\"main-header\">\n",
       "<nav class=\"navbar navbar-default navbar-fixed-top top-navigation-container\">\n",
       "<div class=\"container-fluid\">\n",
       "<div class=\"search-link\">\n",
       "<a href=\"https://www.fbi.gov/@@search\"><svg aria-labelledby=\"title\" height=\"18\" role=\"img\" viewbox=\"0 0 16 16\" width=\"18\" xmlns=\"http://www.w3.org/2000/svg\"><title>Submit Search</title><style type=\"text/css\">.search-icon-link{fill:#FFFFFF;} </style> <path alt=\"Submit Search\" class=\"search-icon-link\" d=\"M 15.632,13.874259 12.336,10.581757 C 13.12,9.4309801 13.52,8.1523387 13.52,6.7458332 13.552,5.8507843 13.376,4.9877014 13.008,4.1246185 12.64,3.2615355 12.16,2.5422998 11.568,1.9509282 10.96,1.3755395 10.24,0.89604904 9.392,0.51245664 8.528,0.16083027 7.664,-0.01498292 6.784,0.0010001 5.888,0.03296613 5.024,0.22476233 4.16,0.54442267 3.296,0.86408301 2.56,1.3435735 1.984,1.9828942 1.408,2.6222149 0.928,3.3414506 0.56,4.1565845 0.192,4.9557353 0,5.8348013 0,6.7618162 c 0,0.927015 0.192,1.8060809 0.528,2.6371978 0.336,0.831117 0.816,1.550353 1.424,2.157707 0.608,0.607355 1.344,1.086845 2.176,1.438472 0.848,0.351626 1.728,0.527439 2.64,0.527439 1.408,0 2.672,-0.383592 3.824,-1.182743 l 3.312,3.292502 C 14.144,15.872136 14.416,16 14.768,16 15.104,16 15.392,15.872136 15.632,15.632391 15.872,15.392645 16,15.104951 16,14.769308 15.984,14.401698 15.872,14.114004 15.632,13.874259 Z M 9.808,9.7985894 C 8.992,10.59774 7.984,11.013299 6.784,11.061248 5.552,11.093214 4.544,10.677655 3.728,9.7985894 2.912,8.9195235 2.496,7.9125935 2.448,6.7458332 2.432,5.595056 2.848,4.5881259 3.712,3.725043 4.576,2.8619601 5.6,2.4304187 6.768,2.4464017 c 1.168,0.015983 2.176,0.4475245 3.024,1.2786413 0.848,0.8311169 1.28,1.838047 1.28,3.0207902 -0.048,1.2466753 -0.448,2.2536054 -1.264,3.0527562 z\"></path></svg> <span class=\"search-link-text\">Search</span></a>\n",
       "</div>\n",
       "<div class=\"fbi-nav-logo\">\n",
       "<a href=\"https://www.fbi.gov/\">FBI</a>\n",
       "</div>\n",
       "<button class=\"navbar-toggle\" type=\"button\"><span aria-label=\"Main Navigation\" class=\"more-text\">More</span> <div class=\"hamburger\"><span class=\"icon-bar\"></span> <span class=\"icon-bar\"></span> <span class=\"icon-bar\"></span></div></button>\n",
       "<div class=\"collapse navbar-collapse\" id=\"navbar-collapse-1\">\n",
       "<ul aria-hidden=\"true\" class=\"nav navbar-nav navbar-left main-links\">\n",
       "<li class=\"active\">\n",
       "<a href=\"https://www.fbi.gov/wanted\">Most Wanted</a>\n",
       "</li>\n",
       "<li class=\"\">\n",
       "<a href=\"https://www.fbi.gov/news\">News</a>\n",
       "</li>\n",
       "<li class=\"\">\n",
       "<a href=\"https://www.fbi.gov/investigate\">What We Investigate</a>\n",
       "</li>\n",
       "<li class=\"\">\n",
       "<a href=\"https://www.fbi.gov/services\">Services</a>\n",
       "</li>\n",
       "<li class=\"\">\n",
       "<a href=\"https://www.fbi.gov/resources\">Resources</a>\n",
       "</li>\n",
       "<li class=\"\">\n",
       "<a href=\"https://www.fbi.gov/tips\">Submit a Tip</a>\n",
       "</li>\n",
       "<li class=\"\">\n",
       "<a href=\"https://www.fbi.gov/about\">About</a>\n",
       "</li>\n",
       "<li class=\"\">\n",
       "<a href=\"https://www.fbi.gov/contact-us\">Contact Us</a>\n",
       "</li>\n",
       "<li class=\"\">\n",
       "<a href=\"https://www.fbijobs.gov/\">FBI Jobs</a>\n",
       "</li>\n",
       "</ul>\n",
       "<ol class=\"nav navbar-nav navbar-left fbigov-menu-breadcrumbs\">\n",
       "<li class=\"home-link\">\n",
       "<a href=\"https://www.fbi.gov\">\n",
       "<svg aria-labelledby=\"title\" role=\"img\" viewbox=\"0 0 100 99.9\" xmlns=\"http://www.w3.org/2000/svg\"><title>Home</title>\n",
       "<style type=\"text/css\">\n",
       "        .st10{fill:#FFFFFF;}\n",
       "        </style>\n",
       "<path class=\"st10\" d=\"M99.5 49.8L50.9 0.6C50.5 0.2 50 0 49.5 0s-1 0.2-1.4 0.6L0.5 49.8c-0.4 0.4-0.6 0.8-0.4 1.1 0.1 0.3 0.5 0.4 1 0.4h13.7v46.6c0 0.5 0.2 1 0.6 1.4s0.8 0.6 1.4 0.6h19.6c0.5 0 1-0.2 1.4-0.6s0.6-0.9 0.6-1.4V67.5h23.5v30.4c0 0.5 0.2 1 0.6 1.4s0.8 0.6 1.4 0.6h19.6c0.5 0 1-0.2 1.4-0.6s0.6-0.9 0.6-1.4V51.3H99c0.5 0 0.8-0.1 1-0.4C100.1 50.6 99.9 50.3 99.5 49.8z\"></path>\n",
       "</svg>\n",
       "</a>\n",
       "</li>\n",
       "<li>\n",
       "<a href=\"https://www.fbi.gov/wanted\">Most Wanted</a>\n",
       "</li>\n",
       "</ol>\n",
       "<ul class=\"navbar-right nav navbar-nav social\">\n",
       "<li><a href=\"https://www.facebook.com/FBI\"><svg aria-labelledby=\"title\" height=\"20\" role=\"img\" version=\"1.1\" viewbox=\"0 0 16 16\" width=\"20\" xmlns=\"http://www.w3.org/2000/svg\"><title>Facebook Icon</title><style type=\"text/css\">.facebook-icon{fill:#FFFFFF;}</style>\n",
       "<path class=\"facebook-icon\" d=\"m15.115 0q0.36458 0 0.62499 0.26042 0.26048 0.26042 0.26048 0.62501v14.229q0 0.36458-0.26042 0.62499-0.26032 0.26048-0.62496 0.26048h-4.073v-6.1979h2.073l0.3125-2.4166h-2.3854v-1.5417q0-0.58333 0.24478-0.87501 0.24478-0.29166 0.95312-0.29166l1.2708-0.010416v-2.1563q-0.65626-0.09375-1.8542-0.09375-1.4167 0-2.2656 0.83333-0.8493 0.8341-0.8493 2.355v1.7813h-2.0834v2.4166h2.0834v6.1979h-7.6563q-0.36447 0-0.62488-0.26-0.26042-0.261-0.26042-0.625v-14.229q0-0.36513 0.26042-0.62554 0.26041-0.26042 0.625-0.26042h14.229z\"></path></svg></a></li>\n",
       "<li><a href=\"https://delivery.fbi.gov/subscribe?utm_source=Email%20Icon%20-%20fbi.gov&amp;utm_medium=Email%20Icon%20-%20fbi.gov&amp;utm_campaign=Email%20Alerts%20Campaign&amp;utm_term=email-alerts&amp;utm_content=Email%20icon%20that's%20in%20the%20header%20toolbar%20on%20the%20fbi.gov%20website\"><svg aria-labelledby=\"title\" height=\"20\" role=\"img\" version=\"1.1\" viewbox=\"0 0 24 16\" width=\"30\" xmlns=\"http://www.w3.org/2000/svg\"><title>Email Icon</title><style type=\"text/css\">.email-icon{fill:#FFFFFF;}</style>\n",
       "<path class=\"email-icon\" d=\"m24 5.1591v9.0227q0 0.75-0.62947 1.2841-0.63 0.534-1.514 0.534h-19.714q-0.8841 0-1.5135-0.534-0.6295-0.534-0.6295-1.284v-9.0229q0.58929 0.55682 1.3527 0.98864 4.8482 2.7955 6.6562 3.9205 0.76339 0.47727 1.2388 0.74432 0.47545 0.26704 1.2656 0.54545 0.79018 0.27841 1.4732 0.27841h0.01339 0.01339q0.68304 0 1.4732-0.27841 0.79018-0.27841 1.2656-0.54545 0.47545-0.26704 1.2388-0.74432 2.2768-1.3977 6.6696-3.9205 0.76339-0.44318 1.3393-0.98864zm0-3.3409q0 0.8977-0.656 1.7159t-1.634 1.3977q-5.036 2.9659-6.268 3.6932-0.13393 0.079545-0.5692 0.34659-0.43527 0.26705-0.72321 0.43182-0.28795 0.16477-0.69643 0.36932t-0.77009 0.30682-0.66964 0.10227h-0.01339-0.01339q-0.30804 0-0.66964-0.10227-0.362-0.1027-0.77-0.3073-0.409-0.2045-0.6966-0.3693-0.2879-0.1648-0.7232-0.4318-0.4352-0.2671-0.5692-0.3466-1.2187-0.7273-3.5089-2.0739t-2.7455-1.6193q-0.8304-0.4773-1.567-1.3125t-0.7366-1.5511q0-0.8864 0.5558-1.4773t1.5871-0.5909h19.714q0.871 0 1.507 0.53409 0.636 0.53411 0.636 1.2841z\"></path></svg></a></li>\n",
       "<li><a href=\"https://twitter.com/FBI\"><svg aria-labelledby=\"title\" height=\"20\" role=\"img\" version=\"1.1\" viewbox=\"0 0 16 16\" width=\"20\" xmlns=\"http://www.w3.org/2000/svg\"><title>Twitter Icon</title><style type=\"text/css\">.twitter-icon{fill:#FFFFFF;}</style>\n",
       "<path class=\"twitter-icon\" d=\"m16 1.9001q-0.6802 1.225-1.6446 2.0875 0.01015 0.17501 0.01015 0.52499 0 1.6249-0.38579 3.2437-0.38576 1.6189-1.1726 3.1064-0.78671 1.4875-1.8729 2.6312-1.0862 1.143-2.6191 1.825-1.533 0.681-3.2792 0.681-2.7512 0-5.0354-1.812 0.35532 0.05 0.79186 0.05 2.2843 0 4.071-1.7249-1.066-0.025-1.9086-0.80625-0.84263-0.78124-1.1573-1.9937 0.33502 0.062499 0.61929 0.062499 0.43654 0 0.86294-0.1375-1.1371-0.2882-1.8832-1.3946-0.7462-1.1062-0.7462-2.5686v-0.05q0.6903 0.475 1.4822 0.5125-0.67-0.5499-1.066-1.4375-0.3959-0.8875-0.3959-1.9249 0-1.1 0.4467-2.0374 1.2284 1.8624 2.9897 2.9811 1.7614 1.1187 3.7715 1.2437-0.081218-0.475-0.081218-0.92499 0-1.675 0.95938-2.8563 0.9595-1.1811 2.3195-1.1811 1.422 0 2.396 1.275 1.107-0.2625 2.082-0.975-0.376 1.4374-1.442 2.2249 0.944-0.1249 1.888-0.6249z\"></path></svg></a></li>\n",
       "<li><a href=\"https://www.youtube.com/user/fbi\"><svg aria-labelledby=\"title\" height=\"20\" role=\"img\" version=\"1.1\" viewbox=\"0 0 16 16\" width=\"20\" xmlns=\"http://www.w3.org/2000/svg\"><title>Youtube Icon</title><style type=\"text/css\">.youtube-icon{fill:#FFFFFF;}</style>\n",
       "<path class=\"youtube-icon\" d=\"m10.192 11.107v1.884q0 0.59821-0.42106 0.59821-0.24832 0-0.48582-0.19643v-2.6875q0.23752-0.19643 0.48582-0.19643 0.42106 0 0.42106 0.59821zm3.6491 0.0089v0.41072h-0.97166v-0.41072q0-0.60714 0.48582-0.60714t0.48582 0.60714zm-10.429-1.9462h1.1552v-0.83928h-3.3685v0.83928h1.1336v5.0803h1.0796v-5.0803zm3.1093 5.0803h0.96086v-4.4107h-0.96086v3.3751q-0.32389 0.37501-0.61539 0.37501-0.19434 0-0.22672-0.1875-0.010797-0.02679-0.010797-0.3125v-3.2499h-0.96086v3.4911q0 0.4375 0.086369 0.65179 0.12956 0.33035 0.62617 0.33035 0.51822 0 1.1012-0.54464v0.48215zm4.6315-1.3214v-1.7589q0-0.6518-0.09717-0.88394-0.18354-0.5-0.76653-0.5-0.53981 0-1.004 0.48215v-1.9374h-0.96086v5.9197h0.96086v-0.42858q0.48582 0.49107 1.004 0.49107 0.58299 0 0.76653-0.49107 0.09717-0.24107 0.09717-0.89287zm3.6491-0.08929v-0.11607h-0.98246q0 0.45536-0.02159 0.54464-0.07557 0.32142-0.43186 0.32142-0.49662 0-0.49662-0.61607v-0.77679h1.9325v-0.91965q0-0.70536-0.2915-1.0357-0.42106-0.45536-1.1444-0.45536-0.73414 0-1.1552 0.45536-0.30229 0.33035-0.30229 1.0357v1.5446q0 0.70536 0.31309 1.0357 0.42106 0.45536 1.166 0.45536 0.77733 0 1.166-0.47322 0.19434-0.24107 0.22672-0.48215 0.02159-0.08036 0.02159-0.51786zm-6.5641-8.1519v-1.875q0-0.61607-0.46424-0.61607t-0.46424 0.61607v1.875q0 0.62499 0.46424 0.62499t0.46424-0.62499zm7.7625 6.7053q0 2.0893-0.2807 3.125-0.15115 0.52679-0.62618 0.88394-0.47504 0.35714-1.1012 0.41072-1.986 0.187-5.9916 0.187-4.0054 0-5.9918-0.188-0.6263-0.053-1.1067-0.41-0.48044-0.357-0.6208-0.884-0.2807-1-0.2807-3.125 0-2.0895 0.2807-3.1252 0.15116-0.5267 0.62618-0.8838 0.47502-0.3573 1.112-0.4197 1.9757-0.1786 5.9811-0.1786t5.9918 0.17858q0.62618 0.062499 1.1066 0.41965 0.48043 0.35714 0.62078 0.88394 0.2808 1 0.2808 3.125zm-10.774-11.393h1.1012l-1.3064 3.5626v2.4197h-1.0796v-2.4197q-0.1512-0.6608-0.6585-1.893-0.3995-0.9196-0.7018-1.6696h1.1444l0.7665 2.3482zm3.9946 2.9733v1.5625q0 0.72322-0.30229 1.0536-0.39946 0.45536-1.1444 0.45536-0.72334 0-1.1336-0.45536-0.3024-0.3393-0.3024-1.0536v-1.5625q0-0.71429 0.30229-1.0446 0.41026-0.45536 1.1336-0.45536 0.74494 0 1.1444 0.45536 0.30229 0.33035 0.30229 1.0446zm3.6168-1.4464v4.4554h-0.98246v-0.49107q-0.57219 0.55357-1.112 0.55357-0.49662 0-0.63698-0.33035-0.087-0.2144-0.087-0.6698v-3.5179h0.98246v3.2768q0 0.29464 0.0108 0.3125 0.03239 0.19643 0.22672 0.19643 0.2915 0 0.61539-0.38394v-3.4018h0.98246z\"></path></svg></a></li>\n",
       "<li><a href=\"https://www.fbi.gov/flickr\"><svg aria-labelledby=\"title\" height=\"20\" role=\"img\" version=\"1.1\" viewbox=\"0 0 16 16\" width=\"20\" xmlns=\"http://www.w3.org/2000/svg\"><title>Flickr Icon</title><style type=\"text/css\">.flickr-icon{fill:#FFFFFF;}</style>\n",
       "<path class=\"flickr-icon\" d=\"m13 0q1.239 0 2.12 0.88021 0.88 0.88029 0.88 2.1198v10q0 1.2396-0.8802 2.1198-0.881 0.88-2.12 0.88h-10q-1.2398 0-2.1201-0.88-0.8802-0.88-0.8802-2.12v-10q0-1.2395 0.88021-2.1198 0.88029-0.88015 2.1198-0.88015h10zm-5.7294 8q0-0.91667-0.64584-1.5625-0.64584-0.64584-1.5625-0.64584-0.91667 0-1.5625 0.64584-0.64576 0.64592-0.64576 1.5626 0 0.91667 0.64584 1.5625 0.64584 0.64584 1.5625 0.64584 0.91667 0 1.5625-0.64584 0.64576-0.64592 0.64576-1.5626zm5.875 0q0-0.91667-0.64584-1.5625-0.64584-0.64584-1.5625-0.64584-0.91667 0-1.5625 0.64584-0.64592 0.64592-0.64592 1.5626 0 0.91667 0.64584 1.5625 0.64584 0.64584 1.5625 0.64584 0.91667 0 1.5625-0.64584 0.64576-0.64592 0.64576-1.5626z\"></path></svg></a></li>\n",
       "<li><a href=\"https://www.linkedin.com/company/fbi\"><svg aria-labelledby=\"title\" height=\"20\" role=\"img\" version=\"1.1\" viewbox=\"0 0 16 16\" width=\"20\" xmlns=\"http://www.w3.org/2000/svg\"><title>LinkedIn Icon</title><style type=\"text/css\">.linkedin-icon{fill:#FFFFFF;}</style>\n",
       "<path class=\"linkedin-icon\" d=\"M 14.5,0 1.5,0 C 0.67500002,0 0,0.67499999 0,1.5 l 0,13 C 0,15.325 0.67500002,16 1.5,16 l 13,0 c 0.825,0 1.5,-0.675 1.5,-1.5 l 0,-13 C 16,0.67499999 15.325,0 14.5,0 Z m -8.4999998,13 -2,0 0,-7 2,0 0,7 z m -1,-8.0000001 c -0.553,0 -1,-0.447 -1,-1 0,-0.553 0.447,-1 1,-1 0.553,0 1,0.447 1,1 0,0.553 -0.447,1 -1,1 z M 13,13 11,13 11,9 C 11,8.447 10.553,8 10,8 9.4470002,8 9.0000002,8.447 9.0000002,9 l 0,4 -2,0 0,-7 2,0 0,1.241 C 9.4120002,6.675 10.044,6 10.75,6 11.994,6 13,7.119 13,8.5 l 0,4.5 z\"></path></svg></a></li>\n",
       "<li><a href=\"https://www.instagram.com/fbi/\"><svg aria-labelledby=\"title\" height=\"20\" role=\"img\" version=\"1.1\" viewbox=\"0 0 512 512\" width=\"20\" xmlns=\"http://www.w3.org/2000/svg\"><title>Instagram Icon</title><style type=\"text/css\">.instagram-icon{fill:#FFFFFF;}</style><path class=\"instagram-icon\" d=\"M256,49.471c67.266,0,75.233.257,101.8,1.469,24.562,1.121,37.9,5.224,46.778,8.674a78.052,78.052,0,0,1,28.966,18.845,78.052,78.052,0,0,1,18.845,28.966c3.45,8.877,7.554,22.216,8.674,46.778,1.212,26.565,1.469,34.532,1.469,101.8s-0.257,75.233-1.469,101.8c-1.121,24.562-5.225,37.9-8.674,46.778a83.427,83.427,0,0,1-47.811,47.811c-8.877,3.45-22.216,7.554-46.778,8.674-26.56,1.212-34.527,1.469-101.8,1.469s-75.237-.257-101.8-1.469c-24.562-1.121-37.9-5.225-46.778-8.674a78.051,78.051,0,0,1-28.966-18.845,78.053,78.053,0,0,1-18.845-28.966c-3.45-8.877-7.554-22.216-8.674-46.778-1.212-26.564-1.469-34.532-1.469-101.8s0.257-75.233,1.469-101.8c1.121-24.562,5.224-37.9,8.674-46.778A78.052,78.052,0,0,1,78.458,78.458a78.053,78.053,0,0,1,28.966-18.845c8.877-3.45,22.216-7.554,46.778-8.674,26.565-1.212,34.532-1.469,101.8-1.469m0-45.391c-68.418,0-77,.29-103.866,1.516-26.815,1.224-45.127,5.482-61.151,11.71a123.488,123.488,0,0,0-44.62,29.057A123.488,123.488,0,0,0,17.3,90.982C11.077,107.007,6.819,125.319,5.6,152.134,4.369,179,4.079,187.582,4.079,256S4.369,333,5.6,359.866c1.224,26.815,5.482,45.127,11.71,61.151a123.489,123.489,0,0,0,29.057,44.62,123.486,123.486,0,0,0,44.62,29.057c16.025,6.228,34.337,10.486,61.151,11.71,26.87,1.226,35.449,1.516,103.866,1.516s77-.29,103.866-1.516c26.815-1.224,45.127-5.482,61.151-11.71a128.817,128.817,0,0,0,73.677-73.677c6.228-16.025,10.486-34.337,11.71-61.151,1.226-26.87,1.516-35.449,1.516-103.866s-0.29-77-1.516-103.866c-1.224-26.815-5.482-45.127-11.71-61.151a123.486,123.486,0,0,0-29.057-44.62A123.487,123.487,0,0,0,421.018,17.3C404.993,11.077,386.681,6.819,359.866,5.6,333,4.369,324.418,4.079,256,4.079h0Z\"></path><path class=\"instagram-icon\" d=\"M256,126.635A129.365,129.365,0,1,0,385.365,256,129.365,129.365,0,0,0,256,126.635Zm0,213.338A83.973,83.973,0,1,1,339.974,256,83.974,83.974,0,0,1,256,339.973Z\"></path><circle class=\"instagram-icon\" cx=\"390.476\" cy=\"121.524\" r=\"30.23\"></circle></svg></a></li>\n",
       "<li>\n",
       "<form action=\"https://www.fbi.gov/@@search\" class=\"navbar-form navbar-left\" role=\"search\">\n",
       "<label class=\"visually-hidden\" for=\"fbi-search\">Search FBI</label>\n",
       "<input id=\"fbi-search\" name=\"SearchableText\" placeholder=\"Search FBI\" type=\"search\"/>\n",
       "<button type=\"submit\">\n",
       "<svg aria-labelledby=\"title\" height=\"18\" role=\"img\" viewbox=\"0 0 16 16\" width=\"18\" xmlns=\"http://www.w3.org/2000/svg\"><title>Submit Search</title><style type=\"text/css\">.search-icon{fill:#333333;} </style> <path alt=\"Submit Search\" class=\"search-icon\" d=\"M 15.632,13.874259 12.336,10.581757 C 13.12,9.4309801 13.52,8.1523387 13.52,6.7458332 13.552,5.8507843 13.376,4.9877014 13.008,4.1246185 12.64,3.2615355 12.16,2.5422998 11.568,1.9509282 10.96,1.3755395 10.24,0.89604904 9.392,0.51245664 8.528,0.16083027 7.664,-0.01498292 6.784,0.0010001 5.888,0.03296613 5.024,0.22476233 4.16,0.54442267 3.296,0.86408301 2.56,1.3435735 1.984,1.9828942 1.408,2.6222149 0.928,3.3414506 0.56,4.1565845 0.192,4.9557353 0,5.8348013 0,6.7618162 c 0,0.927015 0.192,1.8060809 0.528,2.6371978 0.336,0.831117 0.816,1.550353 1.424,2.157707 0.608,0.607355 1.344,1.086845 2.176,1.438472 0.848,0.351626 1.728,0.527439 2.64,0.527439 1.408,0 2.672,-0.383592 3.824,-1.182743 l 3.312,3.292502 C 14.144,15.872136 14.416,16 14.768,16 15.104,16 15.392,15.872136 15.632,15.632391 15.872,15.392645 16,15.104951 16,14.769308 15.984,14.401698 15.872,14.114004 15.632,13.874259 Z M 9.808,9.7985894 C 8.992,10.59774 7.984,11.013299 6.784,11.061248 5.552,11.093214 4.544,10.677655 3.728,9.7985894 2.912,8.9195235 2.496,7.9125935 2.448,6.7458332 2.432,5.595056 2.848,4.5881259 3.712,3.725043 4.576,2.8619601 5.6,2.4304187 6.768,2.4464017 c 1.168,0.015983 2.176,0.4475245 3.024,1.2786413 0.848,0.8311169 1.28,1.838047 1.28,3.0207902 -0.048,1.2466753 -0.448,2.2536054 -1.264,3.0527562 z\"></path></svg></button>\n",
       "</form>\n",
       "</li>\n",
       "</ul>\n",
       "</div>\n",
       "</div>\n",
       "</nav>\n",
       "<div class=\"wrap header-wrap\">\n",
       "<div class=\"container\">\n",
       "<div class=\"brand\"> <a href=\"https://www.fbi.gov/\"> <img alt=\"Federal Bureau of Investigation Logo\" src=\"https://www.fbi.gov/++theme++fbigov.theme/images/fbibannerseal.png\" title=\"Federal Bureau of Investigation\"/> <span aria-hidden=\"true\" class=\"initials\">FBI</span><span class=\"fullname\">Federal Bureau of Investigation</span> </a> </div>\n",
       "</div>\n",
       "</div>\n",
       "</header>\n",
       "<div class=\"main-wrapper\">\n",
       "<h1 class=\"sr-only\">Ten Most Wanted</h1>\n",
       "<div class=\"above-content-wrapper\">\n",
       "<section aria-label=\"meta-top\" class=\"meta-tile-container\" id=\"meta-tile-meta-top\"><div class=\"tile-container tile-container-castle-cms-fragment tile-container-index-0\" id=\"tile-44c613c3ebde40deb8aa954addbb53a5\"><div class=\"mosaic-grid-row row section-title\">\n",
       "<div class=\"col-md-12\">\n",
       "<p class=\"left title\"><a href=\"https://www.fbi.gov/wanted\">Most Wanted</a></p>\n",
       "</div>\n",
       "</div></div><div class=\"tile-container tile-container-castle-cms-navigation tile-container-index-1\" id=\"tile-31d812e4f4a34343afef76ba832e29c8\"><div class=\"row show-for-large-up section-links mosaic-grid-row horizontal\">\n",
       "<div class=\"col-md-12\">\n",
       "<ul class=\"inline-list section-menu\">\n",
       "<li class=\"active\">\n",
       "<a class=\"active\" href=\"https://www.fbi.gov/wanted/topten\" title=\"Ten Most Wanted\">Ten Most Wanted</a>\n",
       "</li><li class=\"\">\n",
       "<a class=\"\" href=\"https://www.fbi.gov/wanted/fugitives\" title=\"Fugitives\">Fugitives</a>\n",
       "</li><li class=\"\">\n",
       "<a class=\"\" href=\"https://www.fbi.gov/wanted/terrorism\" title=\"Terrorism\">Terrorism</a>\n",
       "</li><li class=\"\">\n",
       "<a class=\"\" href=\"https://www.fbi.gov/wanted/kidnap\" title=\"Kidnappings &amp; Missing Persons\">Kidnappings/Missing Persons</a>\n",
       "</li><li class=\"\">\n",
       "<a class=\"\" href=\"https://www.fbi.gov/wanted/seeking-information\" title=\"Seeking Information\">Seeking Info</a>\n",
       "</li><li class=\"\">\n",
       "<a class=\"\" href=\"https://www.fbi.gov/wanted/parental-kidnappings\" title=\"Parental Kidnappings\">Parental Kidnappings</a>\n",
       "</li><li class=\"\">\n",
       "<a class=\"\" href=\"https://www.fbi.gov/wanted/bank-robbers\" title=\"Bank Robbers\">Bank Robbers</a>\n",
       "</li><li class=\"\">\n",
       "<a class=\"\" href=\"https://www.fbi.gov/wanted/ecap\" title=\"ECAP\">ECAP</a>\n",
       "</li><li class=\"\">\n",
       "<a class=\"\" href=\"https://www.fbi.gov/wanted/vicap\" title=\"ViCAP\">ViCAP</a>\n",
       "</li></ul>\n",
       "</div>\n",
       "</div></div><div class=\"tile-container tile-container-castle-cms-navigation tile-container-index-0\" id=\"tile-04d589778aae4f6da63953e276ba893f\"><div class=\"row show-for-large-up section-links mosaic-grid-row horizontal\">\n",
       "<div class=\"col-md-12\">\n",
       "<ul class=\"inline-list section-menu\">\n",
       "<li class=\"\">\n",
       "<a class=\"\" href=\"https://www.fbi.gov/wanted/topten/ten-most-wanted-fugitives-faq\" title=\"Ten Most Wanted Fugitives FAQ\">Ten Most Wanted Fugitives FAQ</a>\n",
       "</li><li class=\"\">\n",
       "<a class=\"\" href=\"https://www.fbi.gov/wanted/topten/topten-history\" title=\"Ten Most Wanted History Pictures\">Ten Most Wanted History Pictures</a>\n",
       "</li></ul>\n",
       "</div>\n",
       "</div></div></section>\n",
       "</div>\n",
       "<div class=\"row main-content main-content col-count-1\" dynamic-grid=\"\" id=\"main-content-container\">\n",
       "<section class=\"col-md-12\" col-count-1=\"12\" col-count-2=\"9\" col-count-3=\"6\" id=\"main-content\">\n",
       "<div data-max-columns=\"4\" data-panel=\"content\">\n",
       "<div class=\"mosaic-grid-row row\">\n",
       "<div class=\"mosaic-grid-cell mosaic-width-full mosaic-position-leftmost col-md-12\">\n",
       "<div class=\"movable removable mosaic-tile mosaic-IDublinCore-title-tile\">\n",
       "<div class=\"mosaic-tile-content\">\n",
       "<h1 class=\"documentFirstHeading\">Ten Most Wanted</h1>\n",
       "</div>\n",
       "</div>\n",
       "</div>\n",
       "</div>\n",
       "<div class=\"mosaic-grid-row row\">\n",
       "<div class=\"mosaic-grid-cell mosaic-width-full mosaic-position-leftmost col-md-12\">\n",
       "<div class=\"movable removable mosaic-tile mosaic-plone.app.standardtiles.rawhtml-tile\">\n",
       "<div class=\"mosaic-tile-content\">\n",
       "<p>Notice: The official FBI Ten Most Wanted Fugitives list is maintained on the FBI website. This information may be copied and distributed, however, any unauthorized alteration of any portion of the FBI's Ten Most Wanted Fugitives posters is a violation of federal law (18 U.S.C., Section 709). Persons who make or reproduce these alterations are subject to prosecution and, if convicted, shall be fined or imprisoned for not more than one year, or both.</p>\n",
       "</div>\n",
       "</div>\n",
       "<div class=\"movable removable mosaic-tile mosaic-castle.cms.querylisting-tile\">\n",
       "<div class=\"mosaic-tile-content\">\n",
       "<div class=\"castle-tile-wrapper\"><div class=\"col-lg-12\">\n",
       "<div class=\"pat-queryfilter\" data-pat-queryfilter='{\"query\": {}, \"ajaxResults\": {\"url\": \"https://www.fbi.gov/wanted/topten/@@castle.cms.querylisting/0f737222c5054a81a120bce207b0446a\", \"selector\": \"#query-results-0f737222c5054a81a120bce207b0446a\"}, \"display_type\": \"wanted-grid-natural\", \"tags\": []}'></div>\n",
       "<h2 class=\"queryfilter-title sr-only\">Listing</h2>\n",
       "<div class=\"query-results pat-pager\" id=\"query-results-0f737222c5054a81a120bce207b0446a\">\n",
       "<div class=\"row top-total\">\n",
       "<div class=\"col-lg-12 large-12 hide-for-small\">\n",
       "<p class=\"right\">Results: 10 Items</p>\n",
       "</div>\n",
       "</div>\n",
       "<ul class=\"full-grid wanted-grid-natural infinity castle-grid-block-xs-2 castle-grid-block-sm-2castle-grid-block-md-3 castle-grid-block-lg-5 dt-grid\">\n",
       "<li class=\"portal-type-person castle-grid-block-item\">\n",
       "<a href=\"https://www.fbi.gov/wanted/topten/jason-derek-brown\">\n",
       "<div class=\"focuspoint\" data-base-url=\"https://www.fbi.gov/wanted/topten/jason-derek-brown/@@images/image/\" data-focus-x=\"-0.267716535433\" data-focus-y=\"0.276229825492\" data-h=\"692\" data-scale=\"preview\" data-scales-info='{\"tile\": {\"h\": 69, \"w\": 64}, \"preview\": {\"h\": 435, \"w\": 400}, \"icon\": {\"h\": 34, \"w\": 32}, \"large\": {\"h\": 836, \"w\": 768}, \"listing\": {\"h\": 17, \"w\": 16}, \"high\": {\"h\": 1525, \"w\": 1400}, \"mini\": {\"h\": 217, \"w\": 200}, \"thumb\": {\"h\": 139, \"w\": 128}}' data-w=\"635\"><img alt=\"JASON DEREK BROWN\" class=\"\" src=\"https://www.fbi.gov/wanted/topten/jason-derek-brown/@@images/image/preview\"/></div>\n",
       "</a>\n",
       "<h3 class=\"title\">\n",
       "<a href=\"https://www.fbi.gov/wanted/topten/jason-derek-brown\">JASON DEREK BROWN</a>\n",
       "</h3>\n",
       "</li>\n",
       "<li class=\"portal-type-person castle-grid-block-item\">\n",
       "<a href=\"https://www.fbi.gov/wanted/topten/alexis-flores\">\n",
       "<div class=\"focuspoint\" data-base-url=\"https://www.fbi.gov/wanted/topten/alexis-flores/@@images/image/\" data-focus-x=\"-0.0563106796117\" data-focus-y=\"0.0262599349711\" data-h=\"692\" data-scale=\"preview\" data-scales-info='{\"tile\": {\"h\": 85, \"w\": 64}, \"preview\": {\"h\": 537, \"w\": 400}, \"icon\": {\"h\": 42, \"w\": 32}, \"large\": {\"h\": 1031, \"w\": 768}, \"listing\": {\"h\": 21, \"w\": 16}, \"high\": {\"h\": 1881, \"w\": 1400}, \"mini\": {\"h\": 268, \"w\": 200}, \"thumb\": {\"h\": 171, \"w\": 128}}' data-w=\"515\"><img alt=\"ALEXIS FLORES\" class=\"\" src=\"https://www.fbi.gov/wanted/topten/alexis-flores/@@images/image/preview\"/></div>\n",
       "</a>\n",
       "<h3 class=\"title\">\n",
       "<a href=\"https://www.fbi.gov/wanted/topten/alexis-flores\">ALEXIS FLORES</a>\n",
       "</h3>\n",
       "</li>\n",
       "<li class=\"portal-type-person castle-grid-block-item\">\n",
       "<a href=\"https://www.fbi.gov/wanted/topten/eugene-palmer\">\n",
       "<div class=\"focuspoint\" data-base-url=\"https://www.fbi.gov/wanted/topten/eugene-palmer/@@images/image/\" data-focus-x=\"-0.08\" data-focus-y=\"0.0505365883432\" data-h=\"733\" data-scale=\"preview\" data-scales-info='{\"tile\": {\"h\": 87, \"w\": 64}, \"preview\": {\"h\": 547, \"w\": 400}, \"icon\": {\"h\": 43, \"w\": 32}, \"large\": {\"h\": 1050, \"w\": 768}, \"listing\": {\"h\": 21, \"w\": 16}, \"high\": {\"h\": 1914, \"w\": 1400}, \"mini\": {\"h\": 273, \"w\": 200}, \"thumb\": {\"h\": 175, \"w\": 128}}' data-w=\"536\"><img alt=\"EUGENE PALMER\" class=\"\" src=\"https://www.fbi.gov/wanted/topten/eugene-palmer/@@images/image/preview\"/></div>\n",
       "</a>\n",
       "<h3 class=\"title\">\n",
       "<a href=\"https://www.fbi.gov/wanted/topten/eugene-palmer\">EUGENE PALMER</a>\n",
       "</h3>\n",
       "</li>\n",
       "<li class=\"portal-type-person castle-grid-block-item\">\n",
       "<a href=\"https://www.fbi.gov/wanted/topten/santiago-mederos\">\n",
       "<div class=\"focuspoint\" data-base-url=\"https://www.fbi.gov/wanted/topten/santiago-mederos/@@images/image/\" data-focus-x=\"0.0503332519531\" data-focus-y=\"-0.0242665608724\" data-h=\"600\" data-scale=\"preview\" data-scales-info='{\"tile\": {\"h\": 80, \"w\": 64}, \"preview\": {\"h\": 500, \"w\": 400}, \"icon\": {\"h\": 40, \"w\": 32}, \"large\": {\"h\": 960, \"w\": 768}, \"listing\": {\"h\": 20, \"w\": 16}, \"high\": {\"h\": 1750, \"w\": 1400}, \"mini\": {\"h\": 250, \"w\": 200}, \"thumb\": {\"h\": 160, \"w\": 128}}' data-w=\"480\"><img alt=\"SANTIAGO VILLALBA MEDEROS\" class=\"\" src=\"https://www.fbi.gov/wanted/topten/santiago-mederos/@@images/image/preview\"/></div>\n",
       "</a>\n",
       "<h3 class=\"title\">\n",
       "<a href=\"https://www.fbi.gov/wanted/topten/santiago-mederos\">SANTIAGO VILLALBA MEDEROS</a>\n",
       "</h3>\n",
       "</li>\n",
       "<li class=\"portal-type-person castle-grid-block-item\">\n",
       "<a href=\"https://www.fbi.gov/wanted/topten/rafael-caro-quintero\">\n",
       "<div class=\"focuspoint\" data-base-url=\"https://www.fbi.gov/wanted/topten/rafael-caro-quintero/@@images/image/\" data-focus-x=\"0.0171331787109\" data-focus-y=\"-0.132669143405\" data-h=\"692\" data-scale=\"preview\" data-scales-info='{\"tile\": {\"h\": 60, \"w\": 64}, \"preview\": {\"h\": 375, \"w\": 399}, \"icon\": {\"h\": 30, \"w\": 32}, \"large\": {\"h\": 720, \"w\": 768}, \"listing\": {\"h\": 15, \"w\": 16}, \"high\": {\"h\": 1312, \"w\": 1400}, \"mini\": {\"h\": 187, \"w\": 199}, \"thumb\": {\"h\": 120, \"w\": 128}}' data-w=\"738\"><img alt=\"RAFAEL CARO-QUINTERO\" class=\"\" src=\"https://www.fbi.gov/wanted/topten/rafael-caro-quintero/@@images/image/preview\"/></div>\n",
       "</a>\n",
       "<h3 class=\"title\">\n",
       "<a href=\"https://www.fbi.gov/wanted/topten/rafael-caro-quintero\">RAFAEL CARO-QUINTERO</a>\n",
       "</h3>\n",
       "</li>\n",
       "<li class=\"portal-type-person castle-grid-block-item\">\n",
       "<a href=\"https://www.fbi.gov/wanted/topten/robert-william-fisher\">\n",
       "<div class=\"focuspoint\" data-base-url=\"https://www.fbi.gov/wanted/topten/robert-william-fisher/@@images/image/\" data-focus-x=\"0.213333333333\" data-focus-y=\"-0.018046875\" data-h=\"692\" data-scale=\"preview\" data-scales-info='{\"tile\": {\"h\": 85, \"w\": 64}, \"preview\": {\"h\": 533, \"w\": 400}, \"icon\": {\"h\": 42, \"w\": 32}, \"large\": {\"h\": 1024, \"w\": 768}, \"listing\": {\"h\": 21, \"w\": 16}, \"high\": {\"h\": 1866, \"w\": 1400}, \"mini\": {\"h\": 266, \"w\": 200}, \"thumb\": {\"h\": 170, \"w\": 128}}' data-w=\"519\"><img alt=\"ROBERT WILLIAM FISHER\" class=\"\" src=\"https://www.fbi.gov/wanted/topten/robert-william-fisher/@@images/image/preview\"/></div>\n",
       "</a>\n",
       "<h3 class=\"title\">\n",
       "<a href=\"https://www.fbi.gov/wanted/topten/robert-william-fisher\">ROBERT WILLIAM FISHER</a>\n",
       "</h3>\n",
       "</li>\n",
       "<li class=\"portal-type-person castle-grid-block-item\">\n",
       "<a href=\"https://www.fbi.gov/wanted/topten/bhadreshkumar-chetanbhai-patel\">\n",
       "<div class=\"focuspoint\" data-base-url=\"https://www.fbi.gov/wanted/topten/bhadreshkumar-chetanbhai-patel/@@images/image/\" data-focus-x=\"0.0\" data-focus-y=\"-0.0\" data-h=\"600\" data-scale=\"preview\" data-scales-info='{\"tile\": {\"h\": 85, \"w\": 64}, \"preview\": {\"h\": 533, \"w\": 400}, \"icon\": {\"h\": 42, \"w\": 32}, \"large\": {\"h\": 1024, \"w\": 768}, \"listing\": {\"h\": 21, \"w\": 16}, \"high\": {\"h\": 1866, \"w\": 1400}, \"mini\": {\"h\": 266, \"w\": 200}, \"thumb\": {\"h\": 170, \"w\": 128}}' data-w=\"450\"><img alt=\"BHADRESHKUMAR CHETANBHAI PATEL\" class=\"\" src=\"https://www.fbi.gov/wanted/topten/bhadreshkumar-chetanbhai-patel/@@images/image/preview\"/></div>\n",
       "</a>\n",
       "<h3 class=\"title\">\n",
       "<a href=\"https://www.fbi.gov/wanted/topten/bhadreshkumar-chetanbhai-patel\">BHADRESHKUMAR CHETANBHAI PATEL</a>\n",
       "</h3>\n",
       "</li>\n",
       "<li class=\"portal-type-person castle-grid-block-item\">\n",
       "<a href=\"https://www.fbi.gov/wanted/topten/arnoldo-jimenez\">\n",
       "<div class=\"focuspoint\" data-base-url=\"https://www.fbi.gov/wanted/topten/arnoldo-jimenez/@@images/image/\" data-focus-x=\"-0.123333333333\" data-focus-y=\"0.03466668023\" data-h=\"711\" data-scale=\"preview\" data-scales-info='{\"tile\": {\"h\": 95, \"w\": 63}, \"preview\": {\"h\": 600, \"w\": 400}, \"icon\": {\"h\": 47, \"w\": 31}, \"large\": {\"h\": 1152, \"w\": 768}, \"listing\": {\"h\": 23, \"w\": 15}, \"high\": {\"h\": 2100, \"w\": 1400}, \"mini\": {\"h\": 300, \"w\": 200}, \"thumb\": {\"h\": 191, \"w\": 127}}' data-w=\"474\"><img alt=\"ARNOLDO JIMENEZ\" class=\"\" src=\"https://www.fbi.gov/wanted/topten/arnoldo-jimenez/@@images/image/preview\"/></div>\n",
       "</a>\n",
       "<h3 class=\"title\">\n",
       "<a href=\"https://www.fbi.gov/wanted/topten/arnoldo-jimenez\">ARNOLDO JIMENEZ</a>\n",
       "</h3>\n",
       "</li>\n",
       "<li class=\"portal-type-person castle-grid-block-item\">\n",
       "<a href=\"https://www.fbi.gov/wanted/topten/alejandro-castillo\">\n",
       "<div class=\"focuspoint\" data-base-url=\"https://www.fbi.gov/wanted/topten/alejandro-castillo/@@images/image/\" data-focus-x=\"-0.0322580645161\" data-focus-y=\"-0.144328217008\" data-h=\"692\" data-scale=\"preview\" data-scales-info='{\"tile\": {\"h\": 79, \"w\": 64}, \"preview\": {\"h\": 494, \"w\": 400}, \"icon\": {\"h\": 39, \"w\": 32}, \"large\": {\"h\": 949, \"w\": 768}, \"listing\": {\"h\": 19, \"w\": 16}, \"high\": {\"h\": 1730, \"w\": 1400}, \"mini\": {\"h\": 247, \"w\": 200}, \"thumb\": {\"h\": 158, \"w\": 128}}' data-w=\"560\"><img alt=\"ALEJANDRO ROSALES CASTILLO\" class=\"\" src=\"https://www.fbi.gov/wanted/topten/alejandro-castillo/@@images/image/preview\"/></div>\n",
       "</a>\n",
       "<h3 class=\"title\">\n",
       "<a href=\"https://www.fbi.gov/wanted/topten/alejandro-castillo\">ALEJANDRO ROSALES CASTILLO</a>\n",
       "</h3>\n",
       "</li>\n",
       "<li class=\"portal-type-person castle-grid-block-item\">\n",
       "<a href=\"https://www.fbi.gov/wanted/topten/yaser-abdel-said\">\n",
       "<div class=\"focuspoint\" data-base-url=\"https://www.fbi.gov/wanted/topten/yaser-abdel-said/@@images/image/\" data-focus-x=\"-0.0966666666667\" data-focus-y=\"0.189176038062\" data-h=\"578\" data-scale=\"preview\" data-scales-info='{\"tile\": {\"h\": 82, \"w\": 64}, \"preview\": {\"h\": 513, \"w\": 400}, \"icon\": {\"h\": 41, \"w\": 32}, \"large\": {\"h\": 986, \"w\": 768}, \"listing\": {\"h\": 20, \"w\": 16}, \"high\": {\"h\": 1798, \"w\": 1400}, \"mini\": {\"h\": 256, \"w\": 200}, \"thumb\": {\"h\": 164, \"w\": 128}}' data-w=\"450\"><img alt=\"YASER ABDEL SAID\" class=\"\" src=\"https://www.fbi.gov/wanted/topten/yaser-abdel-said/@@images/image/preview\"/></div>\n",
       "</a>\n",
       "<h3 class=\"title\">\n",
       "<a href=\"https://www.fbi.gov/wanted/topten/yaser-abdel-said\">YASER ABDEL SAID</a>\n",
       "</h3>\n",
       "</li>\n",
       "</ul>\n",
       "<p class=\"read-more text-center bottom-total visualClear\">\n",
       "1 - 10 of 10 Results\n",
       "</p>\n",
       "</div>\n",
       "</div>\n",
       "<div class=\"clearfix\"></div>\n",
       "</div>\n",
       "</div>\n",
       "</div>\n",
       "</div>\n",
       "</div>\n",
       "<div class=\"mosaic-grid-row row\">\n",
       "<div class=\"mosaic-grid-cell mosaic-width-full mosaic-position-leftmost col-md-12\">\n",
       "<div class=\"movable removable mosaic-tile mosaic-hr-tile\">\n",
       "<div class=\"mosaic-tile-content\">\n",
       "<hr/>\n",
       "</div>\n",
       "</div>\n",
       "<div class=\"movable removable mosaic-tile mosaic-fbigov.theme.listing-tile\">\n",
       "<div class=\"mosaic-tile-content\">\n",
       "<div class=\"castle-tile-wrapper\"><div class=\"list-tile grid\">\n",
       "</div>\n",
       "</div>\n",
       "</div>\n",
       "</div>\n",
       "</div>\n",
       "</div>\n",
       "<div class=\"mosaic-grid-row row\">\n",
       "<div class=\"mosaic-grid-cell mosaic-position-leftmost mosaic-width-two-thirds col-md-8\">\n",
       "<div class=\"movable removable mosaic-tile mosaic-plone.app.standardtiles.rawhtml-tile\">\n",
       "<div class=\"mosaic-tile-content\">\n",
       "<p><strong>Notice:</strong> The official FBI Ten Most Wanted Fugitives list is maintained on the FBI website. This information may be copied and distributed, however, any unauthorized alteration of any portion of the FBI's Ten Most Wanted Fugitives posters is a violation of federal law (18 U.S.C., Section 709). Persons who make or reproduce these alterations are subject to prosecution and, if convicted, shall be fined or imprisoned for not more than one year, or both.<br/></p>\n",
       "</div>\n",
       "</div>\n",
       "</div>\n",
       "<div class=\"mosaic-grid-cell mosaic-position-two-thirds mosaic-width-third col-md-4\">\n",
       "<div class=\"movable removable mosaic-tile mosaic-plone.app.standardtiles.rawhtml-tile\">\n",
       "<div class=\"mosaic-tile-content\">\n",
       "<ul><li><a data-linktype=\"internal\" data-mce-href=\"resolveuid/e138b8700193f735a224b579a2b2ce5b\" data-urltype=\"_direct_\" data-val=\"e138b8700193f735a224b579a2b2ce5b\" href=\"https://www.fbi.gov/wanted/topten/ten-most-wanted-fugitives-faq\">Ten Most Wanted Fugitives FAQ</a></li><li><a data-linktype=\"internal\" data-mce-href=\"resolveuid/d5dd4a3c9666961e1bf2a1243480a5b6\" data-urltype=\"_direct_\" data-val=\"d5dd4a3c9666961e1bf2a1243480a5b6\" href=\"https://www.fbi.gov/wanted/topten/topten-history\">Historical Photos of Each Top Tenner</a></li><li><a data-linktype=\"internal\" data-mce-href=\"resolveuid/4d5392b0f3384b2ab3ea191d3dd32bc7/view\" data-urltype=\"/view\" data-val=\"4d5392b0f3384b2ab3ea191d3dd32bc7\" href=\"https://www.fbi.gov/file-repository/ten_most_wanted_60th_anniversary.pdf/view\">60th Anniversary Booklet</a></li></ul>\n",
       "</div>\n",
       "</div>\n",
       "</div>\n",
       "</div>\n",
       "</div>\n",
       "</section>\n",
       "</div>\n",
       "</div>\n",
       "<footer class=\"main-footer\">\n",
       "<div class=\"container wrapper\">\n",
       "<div class=\"line-fbi-seal\"></div>\n",
       "<div class=\"combo-footer\">\n",
       "<nav>\n",
       "<h1 class=\"sr-only\">Section Links</h1>\n",
       "<div class=\"\" id=\"main-footer\">\n",
       "<div class=\"footer-nav-group\">\n",
       "<h2 class=\"\">\n",
       "<a href=\"https://www.fbi.gov/wanted\">Most Wanted</a>\n",
       "</h2>\n",
       "<ul>\n",
       "<li>\n",
       "<a href=\"https://www.fbi.gov/wanted/topten\">Ten Most Wanted</a>\n",
       "</li>\n",
       "<li>\n",
       "<a href=\"https://www.fbi.gov/wanted/fugitives\">Fugitives</a>\n",
       "</li>\n",
       "<li>\n",
       "<a href=\"https://www.fbi.gov/wanted/terrorism\">Terrorism</a>\n",
       "</li>\n",
       "<li>\n",
       "<a href=\"https://www.fbi.gov/wanted/kidnappings-missing-persons\">Kidnappings/Missing Persons</a>\n",
       "</li>\n",
       "<li>\n",
       "<a href=\"https://www.fbi.gov/wanted/seeking-information\">Seeking Information</a>\n",
       "</li>\n",
       "<li>\n",
       "<a href=\"https://www.fbi.gov/wanted/bank-robbers\">Bank Robbers</a>\n",
       "</li>\n",
       "<li>\n",
       "<a href=\"https://www.fbi.gov/wanted/ecap\">ECAP</a>\n",
       "</li>\n",
       "<li>\n",
       "<a href=\"https://www.fbi.gov/wanted/vicap\">ViCAP</a>\n",
       "</li>\n",
       "</ul>\n",
       "</div>\n",
       "<div class=\"footer-nav-group\">\n",
       "<h2 class=\"\">\n",
       "<a href=\"https://www.fbi.gov/news\">News</a>\n",
       "</h2>\n",
       "<ul>\n",
       "<li>\n",
       "<a href=\"https://www.fbi.gov/news/stories\">Stories</a>\n",
       "</li>\n",
       "<li>\n",
       "<a href=\"https://www.fbi.gov/news/videos\">Videos</a>\n",
       "</li>\n",
       "<li>\n",
       "<a href=\"https://www.fbi.gov/news/pressrel\">Press Releases</a>\n",
       "</li>\n",
       "<li>\n",
       "<a href=\"https://www.fbi.gov/news/speeches\">Speeches</a>\n",
       "</li>\n",
       "<li>\n",
       "<a href=\"https://www.fbi.gov/news/testimony\">Testimony</a>\n",
       "</li>\n",
       "<li>\n",
       "<a href=\"https://www.fbi.gov/news/podcasts\">Podcasts and Radio</a>\n",
       "</li>\n",
       "<li>\n",
       "<a href=\"https://www.fbi.gov/news/photos\">Photos</a>\n",
       "</li>\n",
       "<li>\n",
       "<a href=\"https://www.fbi.gov/news/espanol\">Español</a>\n",
       "</li>\n",
       "<li>\n",
       "<a href=\"https://www.fbi.gov/news/apps\">Apps</a>\n",
       "</li>\n",
       "</ul>\n",
       "</div>\n",
       "<div class=\"footer-nav-group\">\n",
       "<h2 class=\"\">\n",
       "<a href=\"https://www.fbi.gov/investigate\">What We Investigate</a>\n",
       "</h2>\n",
       "<ul>\n",
       "<li>\n",
       "<a href=\"https://www.fbi.gov/investigate/terrorism\">Terrorism</a>\n",
       "</li>\n",
       "<li>\n",
       "<a href=\"https://www.fbi.gov/investigate/counterintelligence\">Counterintelligence</a>\n",
       "</li>\n",
       "<li>\n",
       "<a href=\"https://www.fbi.gov/investigate/cyber\">Cyber Crime</a>\n",
       "</li>\n",
       "<li>\n",
       "<a href=\"https://www.fbi.gov/investigate/public-corruption\">Public Corruption</a>\n",
       "</li>\n",
       "<li>\n",
       "<a href=\"https://www.fbi.gov/investigate/civil-rights\">Civil Rights</a>\n",
       "</li>\n",
       "<li>\n",
       "<a href=\"https://www.fbi.gov/investigate/organized-crime\">Organized Crime</a>\n",
       "</li>\n",
       "<li>\n",
       "<a href=\"https://www.fbi.gov/investigate/white-collar-crime\">White-Collar Crime</a>\n",
       "</li>\n",
       "<li>\n",
       "<a href=\"https://www.fbi.gov/investigate/violent-crime\">Violent Crime</a>\n",
       "</li>\n",
       "<li>\n",
       "<a href=\"https://www.fbi.gov/investigate/wmd\">WMD</a>\n",
       "</li>\n",
       "</ul>\n",
       "</div>\n",
       "<div class=\"footer-nav-group\">\n",
       "<h2 class=\"\">\n",
       "<a href=\"https://www.fbi.gov/services\">Services</a>\n",
       "</h2>\n",
       "<ul>\n",
       "<li>\n",
       "<a href=\"https://www.fbi.gov/services/cjis\">CJIS</a>\n",
       "</li>\n",
       "<li>\n",
       "<a href=\"https://www.fbi.gov/services/cirg\">CIRG</a>\n",
       "</li>\n",
       "<li>\n",
       "<a href=\"https://www.fbi.gov/services/laboratory\">Laboratory Services</a>\n",
       "</li>\n",
       "<li>\n",
       "<a href=\"https://www.fbi.gov/services/training-academy\">Training Academy</a>\n",
       "</li>\n",
       "<li>\n",
       "<a href=\"https://www.fbi.gov/services/operational-technology\">Operational Technology</a>\n",
       "</li>\n",
       "<li>\n",
       "<a href=\"https://www.fbi.gov/services/information-management\">Information Management</a>\n",
       "</li>\n",
       "</ul>\n",
       "</div>\n",
       "<div class=\"footer-nav-group\">\n",
       "<h2 class=\"\">\n",
       "<a href=\"https://www.fbi.gov/about\">About</a>\n",
       "</h2>\n",
       "<ul>\n",
       "<li>\n",
       "<a href=\"https://www.fbi.gov/about/mission\">Mission &amp; Priorities</a>\n",
       "</li>\n",
       "<li>\n",
       "<a href=\"https://www.fbi.gov/about/leadership-and-structure\">Leadership &amp; Structure</a>\n",
       "</li>\n",
       "<li>\n",
       "<a href=\"https://www.fbi.gov/about/partnerships\">Partnerships</a>\n",
       "</li>\n",
       "<li>\n",
       "<a href=\"https://www.fbi.gov/about/community-outreach\">Community Outreach</a>\n",
       "</li>\n",
       "<li>\n",
       "<a href=\"https://www.fbi.gov/about/faqs\">FAQs</a>\n",
       "</li>\n",
       "</ul>\n",
       "</div>\n",
       "<div class=\"footer-nav-group\">\n",
       "<h2 class=\"\">\n",
       "<a href=\"https://www.fbi.gov/resources\">Resources</a>\n",
       "</h2>\n",
       "<ul>\n",
       "<li>\n",
       "<a href=\"https://www.fbi.gov/resources/law-enforcement\">Law Enforcement</a>\n",
       "</li>\n",
       "<li>\n",
       "<a href=\"https://www.fbi.gov/resources/businesses\">Businesses</a>\n",
       "</li>\n",
       "<li>\n",
       "<a href=\"https://www.fbi.gov/resources/victim-assistance\">Victim Assistance</a>\n",
       "</li>\n",
       "<li>\n",
       "<a href=\"https://www.fbi.gov/resources/library\">Reports and Publications</a>\n",
       "</li>\n",
       "</ul>\n",
       "<h2 class=\"\">\n",
       "<a href=\"https://www.fbi.gov/contact-us\">Contact Us</a>\n",
       "</h2>\n",
       "<ul>\n",
       "<li>\n",
       "<a href=\"https://www.fbi.gov/contact-us/field-offices\">Field Offices</a>\n",
       "</li>\n",
       "<li>\n",
       "<a href=\"https://www.fbi.gov/contact-us/fbi-headquarters\">FBI Headquarters</a>\n",
       "</li>\n",
       "<li>\n",
       "<a href=\"https://www.fbi.gov/contact-us/legal-attache-offices\">Overseas Offices</a>\n",
       "</li>\n",
       "</ul>\n",
       "</div>\n",
       "<div class=\"footer-nav-group\">\n",
       "<h2 class=\"\">\n",
       "<a href=\"https://www.fbijobs.gov/\">FBI Jobs</a>\n",
       "</h2>\n",
       "<h2 class=\"no-link\">\n",
       "More\n",
       "</h2>\n",
       "<ul>\n",
       "<li>\n",
       "<a href=\"https://www.fbi.gov/tips\">Submit a Tip</a>\n",
       "</li>\n",
       "<li>\n",
       "<a href=\"https://ucr.fbi.gov\">Crime Statistics</a>\n",
       "</li>\n",
       "<li>\n",
       "<a href=\"https://www.fbi.gov/history\">History</a>\n",
       "</li>\n",
       "<li>\n",
       "<a href=\"/services/information-management/foipa\">FOIPA</a>\n",
       "</li>\n",
       "<li>\n",
       "<a href=\"https://www.fbi.gov/scams-and-safety\">Scams &amp; Safety</a>\n",
       "</li>\n",
       "<li>\n",
       "<a href=\"https://www.fbi.gov/fbi-kids\">FBI Kids</a>\n",
       "</li>\n",
       "<li>\n",
       "<a href=\"https://www.fbi.gov/contact-us/fbi-headquarters/the-fbi-experience\">FBI Tour</a>\n",
       "</li>\n",
       "</ul>\n",
       "</div>\n",
       "<div class=\"clearfix\"> </div>\n",
       "</div>\n",
       "</nav>\n",
       "<div class=\"row\" id=\"sub-footer\">\n",
       "<nav>\n",
       "<div class=\"col-lg-12\">\n",
       "<ul>\n",
       "<li> <a href=\"https://www.fbi.gov/accessibility\">Accessibility</a> </li>\n",
       "<li> <a href=\"https://www.regulations.gov/\">eRulemaking</a> </li>\n",
       "<li> <a href=\"https://www.fbi.gov/services/information-management/foipa\">Freedom of Information/Privacy Act</a> </li>\n",
       "<li> <a href=\"https://www.fbi.gov/legalnotices\">Legal Notices</a> </li>\n",
       "<li> <a href=\"https://www.justice.gov/legalpolicies\">Legal Policies and Disclaimers</a> </li>\n",
       "<li> <a href=\"https://www.fbi.gov/links\">Links</a> </li>\n",
       "<li> <a href=\"https://www.fbi.gov/privacy_policy\">Privacy Policy</a> </li>\n",
       "<li> <a href=\"https://www.usa.gov/\">USA.gov</a> </li>\n",
       "<li> <a href=\"https://www.whitehouse.gov/\">White House</a> </li>\n",
       "<li> <a href=\"https://www.justice.gov/jmd/eeo-program-status-report\">No FEAR Act</a></li>\n",
       "</ul>\n",
       "<p>FBI.gov is an official site of the U.S. government, <a href=\"https://www.justice.gov/\">U.S. Department of Justice</a></p>\n",
       "</div>\n",
       "</nav>\n",
       "</div>\n",
       "</div>\n",
       "</div>\n",
       "</footer>\n",
       "</div>\n",
       "<div id=\"mobile-navigation-wrapper\">\n",
       "<form action=\"https://www.fbi.gov/@@search\" class=\"navbar-form navbar-left\" role=\"search\">\n",
       "<label class=\"visually-hidden\" for=\"mobile-fbi-search\">Search FBI</label>\n",
       "<input id=\"mobile-fbi-search\" name=\"SearchableText\" placeholder=\"Search FBI\" type=\"search\"/>\n",
       "<button type=\"submit\">\n",
       "<svg aria-labelledby=\"title\" height=\"18\" role=\"img\" viewbox=\"0 0 16 16\" width=\"18\" xmlns=\"http://www.w3.org/2000/svg\"><title id=\"title\">Submit Search</title><style type=\"text/css\">.mobilesearch-icon{fill:#a9a9a9;} </style> <path alt=\"Submit Search\" class=\"mobilesearch-icon\" d=\"M 15.632,13.874259 12.336,10.581757 C 13.12,9.4309801 13.52,8.1523387 13.52,6.7458332 13.552,5.8507843 13.376,4.9877014 13.008,4.1246185 12.64,3.2615355 12.16,2.5422998 11.568,1.9509282 10.96,1.3755395 10.24,0.89604904 9.392,0.51245664 8.528,0.16083027 7.664,-0.01498292 6.784,0.0010001 5.888,0.03296613 5.024,0.22476233 4.16,0.54442267 3.296,0.86408301 2.56,1.3435735 1.984,1.9828942 1.408,2.6222149 0.928,3.3414506 0.56,4.1565845 0.192,4.9557353 0,5.8348013 0,6.7618162 c 0,0.927015 0.192,1.8060809 0.528,2.6371978 0.336,0.831117 0.816,1.550353 1.424,2.157707 0.608,0.607355 1.344,1.086845 2.176,1.438472 0.848,0.351626 1.728,0.527439 2.64,0.527439 1.408,0 2.672,-0.383592 3.824,-1.182743 l 3.312,3.292502 C 14.144,15.872136 14.416,16 14.768,16 15.104,16 15.392,15.872136 15.632,15.632391 15.872,15.392645 16,15.104951 16,14.769308 15.984,14.401698 15.872,14.114004 15.632,13.874259 Z M 9.808,9.7985894 C 8.992,10.59774 7.984,11.013299 6.784,11.061248 5.552,11.093214 4.544,10.677655 3.728,9.7985894 2.912,8.9195235 2.496,7.9125935 2.448,6.7458332 2.432,5.595056 2.848,4.5881259 3.712,3.725043 4.576,2.8619601 5.6,2.4304187 6.768,2.4464017 c 1.168,0.015983 2.176,0.4475245 3.024,1.2786413 0.848,0.8311169 1.28,1.838047 1.28,3.0207902 -0.048,1.2466753 -0.448,2.2536054 -1.264,3.0527562 z\"></path>\n",
       "</svg>\n",
       "</button>\n",
       "</form>\n",
       "<ul class=\"mobile-links main\">\n",
       "<li class=\"\">\n",
       "<a href=\"https://www.fbi.gov\">Home</a>\n",
       "</li>\n",
       "<li class=\"active\">\n",
       "<a href=\"https://www.fbi.gov/wanted\">Most Wanted</a>\n",
       "</li>\n",
       "<li class=\"\">\n",
       "<a href=\"https://www.fbi.gov/news\">News</a>\n",
       "</li>\n",
       "<li class=\"\">\n",
       "<a href=\"https://www.fbi.gov/investigate\">What We Investigate</a>\n",
       "</li>\n",
       "<li class=\"\">\n",
       "<a href=\"https://www.fbi.gov/services\">Services</a>\n",
       "</li>\n",
       "<li class=\"\">\n",
       "<a href=\"https://www.fbi.gov/resources\">Resources</a>\n",
       "</li>\n",
       "<li class=\"\">\n",
       "<a href=\"https://www.fbi.gov/tips\">Submit a Tip</a>\n",
       "</li>\n",
       "<li class=\"\">\n",
       "<a href=\"https://www.fbi.gov/about\">About</a>\n",
       "</li>\n",
       "<li class=\"\">\n",
       "<a href=\"https://www.fbi.gov/contact-us\">Contact Us</a>\n",
       "</li>\n",
       "<li class=\"\">\n",
       "<a href=\"https://www.fbijobs.gov/\">FBI Jobs</a>\n",
       "</li>\n",
       "<li class=\"\">\n",
       "<a href=\"https://ucr.fbi.gov\">Crime Statistics</a>\n",
       "</li>\n",
       "<li class=\"\">\n",
       "<a href=\"https://multimedia.fbi.gov\">Photos</a>\n",
       "</li>\n",
       "<li class=\"\">\n",
       "<a href=\"https://www.fbi.gov/news/videos\">Video</a>\n",
       "</li>\n",
       "<li class=\"\">\n",
       "<a href=\"https://www.fbi.gov/about/community-outreach\">Outreach</a>\n",
       "</li>\n",
       "<li class=\"\">\n",
       "<a href=\"https://www.fbi.gov/history\">History</a>\n",
       "</li>\n",
       "<li class=\"\">\n",
       "<a href=\"https://www.fbi.gov/services/information-management/foipa\">FOIPA</a>\n",
       "</li>\n",
       "<li class=\"\">\n",
       "<a href=\"https://www.fbi.gov/scams-and-safety\">Scams &amp; Safety</a>\n",
       "</li>\n",
       "<li class=\"\">\n",
       "<a href=\"https://www.fbi.gov/fbi-kids\">FBI Kids</a>\n",
       "</li>\n",
       "</ul>\n",
       "</div>\n",
       "<script type=\"text/javascript\">PORTAL_URL = 'https://www.fbi.gov';</script>\n",
       "<script data-bundle=\"production\" src=\"https://www.fbi.gov/++plone++production/++unique++2019-03-28T18:39:14.826576/default.js\" type=\"text/javascript\"></script>\n",
       "<script src=\"https://www.fbi.gov/++theme++fbigov.theme/js/compiled.min.js?v=173\"></script>\n",
       "<script>\n",
       "  (function(i,s,o,g,r,a,m){i['GoogleAnalyticsObject']=r;i[r]=i[r]||function(){\n",
       "  (i[r].q=i[r].q||[]).push(arguments)},i[r].l=1*new Date();a=s.createElement(o),\n",
       "  m=s.getElementsByTagName(o)[0];a.async=1;a.src=g;m.parentNode.insertBefore(a,m)\n",
       "  })(window,document,'script','https://www.google-analytics.com/analytics.js','ga');\n",
       "\n",
       "  ga('create', 'UA-1603990-1', 'auto');\n",
       "  ga('send', 'pageview');\n",
       "\n",
       "</script>\n",
       "<script type=\"text/javascript\">\n",
       "    // Instructions: please embed this snippet directly into every page in your website template.\n",
       "    // For optimal performance, this must be embedded directly into the template, not referenced\n",
       "    // as an external file.\n",
       "\n",
       "    // Answers Cloud Services Embed Script v1.02\n",
       "    // DO NOT MODIFY BELOW THIS LINE *****************************************\n",
       "    ;(function (g) {\n",
       "        var d = document, i, am = d.createElement('script'), h = d.head || d.getElementsByTagName(\"head\")[0],\n",
       "                aex = {\n",
       "                    \"src\": \"//gateway.answerscloud.com/fbi-gov/production/gateway.min.js\",\n",
       "                    \"type\": \"text/javascript\",\n",
       "                    \"async\": \"true\",\n",
       "                    \"data-vendor\": \"acs\",\n",
       "                    \"data-role\": \"gateway\"\n",
       "                };\n",
       "        for (var attr in aex) { am.setAttribute(attr,aex[attr]); }\n",
       "        h.appendChild(am);\n",
       "        g['acsReady'] = function () {var aT = '__acsReady__', args = Array.prototype.slice.call(arguments, 0),k = setInterval(function () {if (typeof g[aT] === 'function') {clearInterval(k);for (i = 0; i < args.length; i++) {g[aT].call(g, function(fn) { return function() { setTimeout(fn, 1) };}(args[i]));}}}, 50);};\n",
       "    })(window);\n",
       "    // DO NOT MODIFY ABOVE THIS LINE *****************************************\n",
       "</script>\n",
       "<div class=\"castle-tile-wrapper\"></div>\n",
       "</body>\n",
       "</html>"
      ]
     },
     "execution_count": 209,
     "metadata": {},
     "output_type": "execute_result"
    }
   ],
   "source": [
    "soup = BeautifulSoup(html, 'html.parser')\n",
    "soup"
   ]
  },
  {
   "cell_type": "code",
   "execution_count": 216,
   "metadata": {},
   "outputs": [],
   "source": [
    "names = soup.find_all('h3', attrs={'class':'title'})"
   ]
  },
  {
   "cell_type": "code",
   "execution_count": 219,
   "metadata": {},
   "outputs": [],
   "source": [
    "names_list = [i.find('a').text for i in names]  \n"
   ]
  },
  {
   "cell_type": "code",
   "execution_count": 220,
   "metadata": {},
   "outputs": [
    {
     "name": "stdout",
     "output_type": "stream",
     "text": [
      "['JASON DEREK BROWN', 'ALEXIS FLORES', 'EUGENE PALMER', 'SANTIAGO VILLALBA MEDEROS', 'RAFAEL CARO-QUINTERO', 'ROBERT WILLIAM FISHER', 'BHADRESHKUMAR CHETANBHAI PATEL', 'ARNOLDO JIMENEZ', 'ALEJANDRO ROSALES CASTILLO', 'YASER ABDEL SAID']\n"
     ]
    }
   ],
   "source": [
    "print(names_list)"
   ]
  },
  {
   "cell_type": "markdown",
   "metadata": {},
   "source": [
    "####  20 latest earthquakes info (date, time, latitude, longitude and region name) by the EMSC as a pandas dataframe"
   ]
  },
  {
   "cell_type": "code",
   "execution_count": null,
   "metadata": {},
   "outputs": [],
   "source": [
    "# This is the url you will scrape in this exercise\n",
    "url = 'https://www.emsc-csem.org/Earthquake/'"
   ]
  },
  {
   "cell_type": "code",
   "execution_count": null,
   "metadata": {},
   "outputs": [],
   "source": [
    "#your code"
   ]
  },
  {
   "cell_type": "markdown",
   "metadata": {},
   "source": [
    "#### Display the date, days, title, city, country of next 25 hackathon events as a Pandas dataframe table"
   ]
  },
  {
   "cell_type": "code",
   "execution_count": null,
   "metadata": {},
   "outputs": [],
   "source": [
    "# This is the url you will scrape in this exercise\n",
    "url ='https://hackevents.co/hackathons'"
   ]
  },
  {
   "cell_type": "code",
   "execution_count": null,
   "metadata": {},
   "outputs": [],
   "source": [
    "#your code"
   ]
  },
  {
   "cell_type": "markdown",
   "metadata": {},
   "source": [
    "#### Count number of tweets by a given Twitter account."
   ]
  },
  {
   "cell_type": "markdown",
   "metadata": {},
   "source": [
    "You will need to include a ***try/except block*** for account names not found. \n",
    "<br>***Hint:*** the program should count the number of tweets for any provided account"
   ]
  },
  {
   "cell_type": "code",
   "execution_count": null,
   "metadata": {},
   "outputs": [],
   "source": [
    "# This is the url you will scrape in this exercise \n",
    "# You will need to add the account credentials to this url\n",
    "url = 'https://twitter.com/'"
   ]
  },
  {
   "cell_type": "code",
   "execution_count": null,
   "metadata": {},
   "outputs": [],
   "source": [
    "#your code"
   ]
  },
  {
   "cell_type": "markdown",
   "metadata": {},
   "source": [
    "#### Number of followers of a given twitter account"
   ]
  },
  {
   "cell_type": "markdown",
   "metadata": {},
   "source": [
    "You will need to include a ***try/except block*** in case account/s name not found. \n",
    "<br>***Hint:*** the program should count the followers for any provided account"
   ]
  },
  {
   "cell_type": "code",
   "execution_count": null,
   "metadata": {},
   "outputs": [],
   "source": [
    "# This is the url you will scrape in this exercise \n",
    "# You will need to add the account credentials to this url\n",
    "url = 'https://twitter.com/'"
   ]
  },
  {
   "cell_type": "code",
   "execution_count": null,
   "metadata": {},
   "outputs": [],
   "source": [
    "#your code"
   ]
  },
  {
   "cell_type": "markdown",
   "metadata": {},
   "source": [
    "#### List all language names and number of related articles in the order they appear in wikipedia.org"
   ]
  },
  {
   "cell_type": "code",
   "execution_count": null,
   "metadata": {},
   "outputs": [],
   "source": [
    "# This is the url you will scrape in this exercise\n",
    "url = 'https://www.wikipedia.org/'"
   ]
  },
  {
   "cell_type": "code",
   "execution_count": null,
   "metadata": {},
   "outputs": [],
   "source": [
    "#your code"
   ]
  },
  {
   "cell_type": "markdown",
   "metadata": {},
   "source": [
    "#### A list with the different kind of datasets available in data.gov.uk "
   ]
  },
  {
   "cell_type": "code",
   "execution_count": null,
   "metadata": {},
   "outputs": [],
   "source": [
    "# This is the url you will scrape in this exercise\n",
    "url = 'https://data.gov.uk/'"
   ]
  },
  {
   "cell_type": "code",
   "execution_count": null,
   "metadata": {},
   "outputs": [],
   "source": [
    "#your code "
   ]
  },
  {
   "cell_type": "markdown",
   "metadata": {},
   "source": [
    "#### Top 10 languages by number of native speakers stored in a Pandas Dataframe"
   ]
  },
  {
   "cell_type": "code",
   "execution_count": null,
   "metadata": {},
   "outputs": [],
   "source": [
    "# This is the url you will scrape in this exercise\n",
    "url = 'https://en.wikipedia.org/wiki/List_of_languages_by_number_of_native_speakers'"
   ]
  },
  {
   "cell_type": "code",
   "execution_count": null,
   "metadata": {},
   "outputs": [],
   "source": [
    "#your code"
   ]
  },
  {
   "cell_type": "markdown",
   "metadata": {},
   "source": [
    "### BONUS QUESTIONS"
   ]
  },
  {
   "cell_type": "markdown",
   "metadata": {},
   "source": [
    "#### Scrape a certain number of tweets of a given Twitter account."
   ]
  },
  {
   "cell_type": "code",
   "execution_count": null,
   "metadata": {},
   "outputs": [],
   "source": [
    "# This is the url you will scrape in this exercise \n",
    "# You will need to add the account credentials to this url\n",
    "url = 'https://twitter.com/'"
   ]
  },
  {
   "cell_type": "code",
   "execution_count": null,
   "metadata": {},
   "outputs": [],
   "source": [
    "# your code"
   ]
  },
  {
   "cell_type": "markdown",
   "metadata": {},
   "source": [
    "#### IMDB's Top 250 data (movie name, Initial release, director name and stars) as a pandas dataframe"
   ]
  },
  {
   "cell_type": "code",
   "execution_count": null,
   "metadata": {},
   "outputs": [],
   "source": [
    "# This is the url you will scrape in this exercise \n",
    "url = 'https://www.imdb.com/chart/top'"
   ]
  },
  {
   "cell_type": "code",
   "execution_count": null,
   "metadata": {},
   "outputs": [],
   "source": [
    "# your code"
   ]
  },
  {
   "cell_type": "markdown",
   "metadata": {},
   "source": [
    "#### Movie name, year and a brief summary of the top 10 random movies (IMDB) as a pandas dataframe."
   ]
  },
  {
   "cell_type": "code",
   "execution_count": null,
   "metadata": {},
   "outputs": [],
   "source": [
    "#This is the url you will scrape in this exercise\n",
    "url = 'http://www.imdb.com/chart/top'"
   ]
  },
  {
   "cell_type": "code",
   "execution_count": null,
   "metadata": {},
   "outputs": [],
   "source": [
    "#your code"
   ]
  },
  {
   "cell_type": "markdown",
   "metadata": {},
   "source": [
    "#### Find the live weather report (temperature, wind speed, description and weather) of a given city."
   ]
  },
  {
   "cell_type": "code",
   "execution_count": null,
   "metadata": {},
   "outputs": [],
   "source": [
    "#https://openweathermap.org/current\n",
    "city = city=input('Enter the city:')\n",
    "url = 'http://api.openweathermap.org/data/2.5/weather?'+'q='+city+'&APPID=b35975e18dc93725acb092f7272cc6b8&units=metric'"
   ]
  },
  {
   "cell_type": "code",
   "execution_count": null,
   "metadata": {},
   "outputs": [],
   "source": [
    "# your code"
   ]
  },
  {
   "cell_type": "markdown",
   "metadata": {},
   "source": [
    "#### Book name,price and stock availability as a pandas dataframe."
   ]
  },
  {
   "cell_type": "code",
   "execution_count": null,
   "metadata": {},
   "outputs": [],
   "source": [
    "# This is the url you will scrape in this exercise. \n",
    "# It is a fictional bookstore created to be scraped. \n",
    "url = 'http://books.toscrape.com/'"
   ]
  },
  {
   "cell_type": "code",
   "execution_count": null,
   "metadata": {},
   "outputs": [],
   "source": [
    "#your code"
   ]
  }
 ],
 "metadata": {
  "kernelspec": {
   "display_name": "Python 3",
   "language": "python",
   "name": "python3"
  },
  "language_info": {
   "codemirror_mode": {
    "name": "ipython",
    "version": 3
   },
   "file_extension": ".py",
   "mimetype": "text/x-python",
   "name": "python",
   "nbconvert_exporter": "python",
   "pygments_lexer": "ipython3",
   "version": "3.6.8"
  }
 },
 "nbformat": 4,
 "nbformat_minor": 2
}
