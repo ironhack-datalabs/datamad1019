{
 "cells": [
  {
   "cell_type": "markdown",
   "metadata": {},
   "source": [
    "# Web Scraping Lab\n",
    "\n",
    "You will find in this notebook some scrapy exercises to practise your scraping skills.\n",
    "\n",
    "**Tips:**\n",
    "\n",
    "- Check the response status code for each request to ensure you have obtained the intended contennt.\n",
    "- Print the response text in each request to understand the kind of info you are getting and its format.\n",
    "- Check for patterns in the response text to extract the data/info requested in each question.\n",
    "- Visit each url and take a look at its source through Chrome DevTools. You'll need to identify the html tags, special class names etc. used for the html content you are expected to extract."
   ]
  },
  {
   "cell_type": "markdown",
   "metadata": {},
   "source": [
    "- [Requests library](http://docs.python-requests.org/en/master/#the-user-guide) documentation \n",
    "- [Beautiful Soup Doc](https://www.crummy.com/software/BeautifulSoup/bs4/doc/)\n",
    "- [Urllib](https://docs.python.org/3/library/urllib.html#module-urllib)\n",
    "- [re lib](https://docs.python.org/3/library/re.html)\n",
    "- [lxml lib](https://lxml.de/)\n",
    "- [Scrapy](https://scrapy.org/)\n",
    "- [List of HTTP status codes](https://en.wikipedia.org/wiki/List_of_HTTP_status_codes)\n",
    "- [HTML basics](http://www.simplehtmlguide.com/cheatsheet.php)\n",
    "- [CSS basics](https://www.cssbasics.com/#page_start)"
   ]
  },
  {
   "cell_type": "markdown",
   "metadata": {},
   "source": [
    "#### Below are the libraries and modules you may need. `requests`,  `BeautifulSoup` and `pandas` are imported for you. If you prefer to use additional libraries feel free to uncomment them."
   ]
  },
  {
   "cell_type": "code",
   "execution_count": 2,
   "metadata": {},
   "outputs": [],
   "source": [
    "import requests\n",
    "from bs4 import BeautifulSoup\n",
    "import pandas as pd\n",
    "# from pprint import pprint\n",
    "# from lxml import html\n",
    "# from lxml.html import fromstring\n",
    "# import urllib.request\n",
    "# from urllib.request import urlopen\n",
    "# import random\n",
    "# import re\n",
    "# import scrapy"
   ]
  },
  {
   "cell_type": "markdown",
   "metadata": {},
   "source": [
    "#### Download, parse (using BeautifulSoup), and print the content from the Trending Developers page from GitHub:"
   ]
  },
  {
   "cell_type": "code",
   "execution_count": 1039,
   "metadata": {},
   "outputs": [],
   "source": [
    "# This is the url you will scrape in this exercise\n",
    "url = 'https://github.com/trending/developers'"
   ]
  },
  {
   "cell_type": "code",
   "execution_count": 1040,
   "metadata": {},
   "outputs": [],
   "source": [
    "#your code\n",
    "html = requests.get(url).text\n",
    "soup = BeautifulSoup(html, 'html.parser')"
   ]
  },
  {
   "cell_type": "markdown",
   "metadata": {},
   "source": [
    "#### Display the names of the trending developers retrieved in the previous step.\n",
    "\n",
    "Your output should be a Python list of developer names. Each name should not contain any html tag.\n",
    "\n",
    "**Instructions:**\n",
    "\n",
    "1. Find out the html tag and class names used for the developer names. You can achieve this using Chrome DevTools.\n",
    "\n",
    "1. Use BeautifulSoup to extract all the html elements that contain the developer names.\n",
    "\n",
    "1. Use string manipulation techniques to replace whitespaces and linebreaks (i.e. `\\n`) in the *text* of each html element. Use a list to store the clean names.\n",
    "\n",
    "1. Print the list of names.\n",
    "\n",
    "Your output should look like below:\n",
    "\n",
    "```\n",
    "['trimstray (@trimstray)',\n",
    " 'joewalnes (JoeWalnes)',\n",
    " 'charlax (Charles-AxelDein)',\n",
    " 'ForrestKnight (ForrestKnight)',\n",
    " 'revery-ui (revery-ui)',\n",
    " 'alibaba (Alibaba)',\n",
    " 'Microsoft (Microsoft)',\n",
    " 'github (GitHub)',\n",
    " 'facebook (Facebook)',\n",
    " 'boazsegev (Bo)',\n",
    " 'google (Google)',\n",
    " 'cloudfetch',\n",
    " 'sindresorhus (SindreSorhus)',\n",
    " 'tensorflow',\n",
    " 'apache (TheApacheSoftwareFoundation)',\n",
    " 'DevonCrawford (DevonCrawford)',\n",
    " 'ARMmbed (ArmMbed)',\n",
    " 'vuejs (vuejs)',\n",
    " 'fastai (fast.ai)',\n",
    " 'QiShaoXuan (Qi)',\n",
    " 'joelparkerhenderson (JoelParkerHenderson)',\n",
    " 'torvalds (LinusTorvalds)',\n",
    " 'CyC2018',\n",
    " 'komeiji-satori (神楽坂覚々)',\n",
    " 'script-8']\n",
    " ```"
   ]
  },
  {
   "cell_type": "code",
   "execution_count": 1048,
   "metadata": {},
   "outputs": [
    {
     "name": "stdout",
     "output_type": "stream",
     "text": [
      "['jquense', 'hadley', 'Jocs', 'wojtekmaj', 'blasten', 'fzaninotto', 'felixfbecker', 'tannerlinsley', 'williamFalcon', 'bkimminich', 'gsantner', 'deivid-rodriguez', 'ntonbabenko', 'florimondmanc', 'fsouz', 'ColinFay', 'SwampDragons', 'kmagier', 'nWidart', 'ZacSweers', 'jd', 'mueller', 'lexanderbez', 'KyleAMathews', 'kevinushey']\n"
     ]
    }
   ],
   "source": [
    "#your code\n",
    "article = soup.find_all('article')\n",
    "nicks = []\n",
    "for i in range(len(article)):\n",
    "    if i%2 == 0:\n",
    "        nicks.append((article[i]['id']).strip('pa-'))\n",
    "len(nicks)\n",
    "print(nicks)"
   ]
  },
  {
   "cell_type": "code",
   "execution_count": 1050,
   "metadata": {},
   "outputs": [],
   "source": [
    "names = [(i.text).strip() for i in soup.find_all('h1', {\"class\": \"h3\"})]"
   ]
  },
  {
   "cell_type": "code",
   "execution_count": 1051,
   "metadata": {},
   "outputs": [
    {
     "name": "stdout",
     "output_type": "stream",
     "text": [
      "['Jason Quense (jquense)', 'Hadley Wickham (hadley)', 'Ran Luo (Jocs)', 'Wojciech Maj (wojtekmaj)', 'Emmanuel Garcia (blasten)', 'Francois Zaninotto (fzaninotto)', 'Felix Becker (felixfbecker)', 'Tanner Linsley (tannerlinsley)', 'William Falcon (williamFalcon)', 'Björn Kimminich (bkimminich)', 'Gregor Santner (gsantner)', 'David Rodríguez (deivid-rodriguez)', 'Anton Babenko (ntonbabenko)', 'Florimond Manca (florimondmanc)', 'francisco souza (fsouz)', 'Colin Fay (ColinFay)', 'Megan Marsh (SwampDragons)', 'Krzysztof Magiera (kmagier)', 'Nicolas Widart (nWidart)', 'Zac Sweers (ZacSweers)', 'Julien Danjou (jd)', 'Andreas Mueller (mueller)', 'Alexander Bezobchuk (lexanderbez)', 'Kyle Mathews (KyleAMathews)', 'Kevin Ushey (kevinushey)']\n"
     ]
    }
   ],
   "source": [
    "new_list = [a + ' ' + \"(\" + b + \")\" for a, b in zip(names, nicks)]\n",
    "print(new_list)"
   ]
  },
  {
   "cell_type": "markdown",
   "metadata": {},
   "source": [
    "#### Display the trending Python repositories in GitHub\n",
    "\n",
    "The steps to solve this problem is similar to the previous one except that you need to find out the repository names instead of developer names."
   ]
  },
  {
   "cell_type": "code",
   "execution_count": 1052,
   "metadata": {},
   "outputs": [],
   "source": [
    "# This is the url you will scrape in this exercise\n",
    "url = 'https://github.com/trending/python?since=daily'"
   ]
  },
  {
   "cell_type": "code",
   "execution_count": 1053,
   "metadata": {},
   "outputs": [],
   "source": [
    "#your code\n",
    "html = requests.get(url).text\n",
    "soup = BeautifulSoup(html, 'html.parser')"
   ]
  },
  {
   "cell_type": "code",
   "execution_count": 1057,
   "metadata": {
    "scrolled": true
   },
   "outputs": [
    {
     "name": "stdout",
     "output_type": "stream",
     "text": [
      "['gpt-2', 'gpt-2-output-dataset', 'pandas', 'DeepCTR', 'spleeter', 'models', 'interview_internal_reference', 'locust', 'algo', 'sentry', 'detectron2', 'models', 'GPT2-Chinese', 'airflow', 'helm-charts', 'ntlm_challenger', 'transformers', 'hydra', 'ERNIE', 'learn_python3_spider', 'open_stt', 'pytorch_geometric', 'compose', 'sigma']\n"
     ]
    }
   ],
   "source": [
    "repos = [(i.find('a').get('href').strip('/').split('/'))[1] for i in soup.find_all('h1', {'class' : 'h3'})]\n",
    "print(repos)"
   ]
  },
  {
   "cell_type": "markdown",
   "metadata": {},
   "source": [
    "#### Display all the image links from Walt Disney wikipedia page"
   ]
  },
  {
   "cell_type": "code",
   "execution_count": 1058,
   "metadata": {},
   "outputs": [],
   "source": [
    "# This is the url you will scrape in this exercise\n",
    "url = 'https://en.wikipedia.org/wiki/Walt_Disney'"
   ]
  },
  {
   "cell_type": "code",
   "execution_count": 1059,
   "metadata": {},
   "outputs": [],
   "source": [
    "#your code\n",
    "html = requests.get(url).text\n",
    "soup = BeautifulSoup(html, 'html.parser')"
   ]
  },
  {
   "cell_type": "code",
   "execution_count": 1060,
   "metadata": {},
   "outputs": [],
   "source": [
    "images = ['https:'+i.find('img').get('src') for i in soup.find_all('a', {'class' : 'image'})]"
   ]
  },
  {
   "cell_type": "code",
   "execution_count": 1061,
   "metadata": {},
   "outputs": [
    {
     "data": {
      "text/html": [
       "<img src=\"https://upload.wikimedia.org/wikipedia/commons/thumb/d/df/Walt_Disney_1946.JPG/220px-Walt_Disney_1946.JPG\"/>"
      ],
      "text/plain": [
       "<IPython.core.display.Image object>"
      ]
     },
     "metadata": {},
     "output_type": "display_data"
    },
    {
     "data": {
      "text/html": [
       "<img src=\"https://upload.wikimedia.org/wikipedia/commons/thumb/8/87/Walt_Disney_1942_signature.svg/150px-Walt_Disney_1942_signature.svg.png\"/>"
      ],
      "text/plain": [
       "<IPython.core.display.Image object>"
      ]
     },
     "metadata": {},
     "output_type": "display_data"
    },
    {
     "data": {
      "text/html": [
       "<img src=\"https://upload.wikimedia.org/wikipedia/commons/thumb/c/c4/Walt_Disney_envelope_ca._1921.jpg/220px-Walt_Disney_envelope_ca._1921.jpg\"/>"
      ],
      "text/plain": [
       "<IPython.core.display.Image object>"
      ]
     },
     "metadata": {},
     "output_type": "display_data"
    },
    {
     "data": {
      "text/html": [
       "<img src=\"https://upload.wikimedia.org/wikipedia/commons/thumb/0/0d/Trolley_Troubles_poster.jpg/170px-Trolley_Troubles_poster.jpg\"/>"
      ],
      "text/plain": [
       "<IPython.core.display.Image object>"
      ]
     },
     "metadata": {},
     "output_type": "display_data"
    },
    {
     "data": {
      "text/html": [
       "<img src=\"https://upload.wikimedia.org/wikipedia/commons/thumb/7/71/Walt_Disney_and_his_cartoon_creation_%22Mickey_Mouse%22_-_National_Board_of_Review_Magazine.jpg/170px-Walt_Disney_and_his_cartoon_creation_%22Mickey_Mouse%22_-_National_Board_of_Review_Magazine.jpg\"/>"
      ],
      "text/plain": [
       "<IPython.core.display.Image object>"
      ]
     },
     "metadata": {},
     "output_type": "display_data"
    },
    {
     "data": {
      "text/html": [
       "<img src=\"https://upload.wikimedia.org/wikipedia/en/thumb/4/4e/Steamboat-willie.jpg/170px-Steamboat-willie.jpg\"/>"
      ],
      "text/plain": [
       "<IPython.core.display.Image object>"
      ]
     },
     "metadata": {},
     "output_type": "display_data"
    },
    {
     "data": {
      "text/html": [
       "<img src=\"https://upload.wikimedia.org/wikipedia/commons/thumb/5/57/Walt_Disney_1935.jpg/170px-Walt_Disney_1935.jpg\"/>"
      ],
      "text/plain": [
       "<IPython.core.display.Image object>"
      ]
     },
     "metadata": {},
     "output_type": "display_data"
    },
    {
     "data": {
      "text/html": [
       "<img src=\"https://upload.wikimedia.org/wikipedia/commons/thumb/c/cd/Walt_Disney_Snow_white_1937_trailer_screenshot_%2813%29.jpg/220px-Walt_Disney_Snow_white_1937_trailer_screenshot_%2813%29.jpg\"/>"
      ],
      "text/plain": [
       "<IPython.core.display.Image object>"
      ]
     },
     "metadata": {},
     "output_type": "display_data"
    },
    {
     "data": {
      "text/html": [
       "<img src=\"https://upload.wikimedia.org/wikipedia/commons/thumb/1/15/Disney_drawing_goofy.jpg/170px-Disney_drawing_goofy.jpg\"/>"
      ],
      "text/plain": [
       "<IPython.core.display.Image object>"
      ]
     },
     "metadata": {},
     "output_type": "display_data"
    },
    {
     "data": {
      "text/html": [
       "<img src=\"https://upload.wikimedia.org/wikipedia/commons/thumb/1/13/DisneySchiphol1951.jpg/220px-DisneySchiphol1951.jpg\"/>"
      ],
      "text/plain": [
       "<IPython.core.display.Image object>"
      ]
     },
     "metadata": {},
     "output_type": "display_data"
    },
    {
     "data": {
      "text/html": [
       "<img src=\"https://upload.wikimedia.org/wikipedia/commons/thumb/8/8c/WaltDisneyplansDisneylandDec1954.jpg/220px-WaltDisneyplansDisneylandDec1954.jpg\"/>"
      ],
      "text/plain": [
       "<IPython.core.display.Image object>"
      ]
     },
     "metadata": {},
     "output_type": "display_data"
    },
    {
     "data": {
      "text/html": [
       "<img src=\"https://upload.wikimedia.org/wikipedia/commons/thumb/f/ff/Walt_disney_portrait_right.jpg/170px-Walt_disney_portrait_right.jpg\"/>"
      ],
      "text/plain": [
       "<IPython.core.display.Image object>"
      ]
     },
     "metadata": {},
     "output_type": "display_data"
    },
    {
     "data": {
      "text/html": [
       "<img src=\"https://upload.wikimedia.org/wikipedia/commons/thumb/1/1a/Walt_Disney_Grave.JPG/170px-Walt_Disney_Grave.JPG\"/>"
      ],
      "text/plain": [
       "<IPython.core.display.Image object>"
      ]
     },
     "metadata": {},
     "output_type": "display_data"
    },
    {
     "data": {
      "text/html": [
       "<img src=\"https://upload.wikimedia.org/wikipedia/commons/thumb/2/2d/Roy_O._Disney_with_Company_at_Press_Conference.jpg/170px-Roy_O._Disney_with_Company_at_Press_Conference.jpg\"/>"
      ],
      "text/plain": [
       "<IPython.core.display.Image object>"
      ]
     },
     "metadata": {},
     "output_type": "display_data"
    },
    {
     "data": {
      "text/html": [
       "<img src=\"https://upload.wikimedia.org/wikipedia/commons/thumb/a/a9/Disney_Display_Case.JPG/170px-Disney_Display_Case.JPG\"/>"
      ],
      "text/plain": [
       "<IPython.core.display.Image object>"
      ]
     },
     "metadata": {},
     "output_type": "display_data"
    },
    {
     "data": {
      "text/html": [
       "<img src=\"https://upload.wikimedia.org/wikipedia/commons/thumb/6/6c/Disney1968.jpg/170px-Disney1968.jpg\"/>"
      ],
      "text/plain": [
       "<IPython.core.display.Image object>"
      ]
     },
     "metadata": {},
     "output_type": "display_data"
    }
   ],
   "source": [
    "from IPython.display import Image\n",
    "from IPython.core.display import HTML \n",
    "\n",
    "for i in images[0:(len(images)-7)]:\n",
    "    display(Image(url=i))"
   ]
  },
  {
   "cell_type": "markdown",
   "metadata": {},
   "source": [
    "#### Retrieve an arbitary Wikipedia page of \"Python\" and create a list of links on that page"
   ]
  },
  {
   "cell_type": "code",
   "execution_count": 1062,
   "metadata": {},
   "outputs": [],
   "source": [
    "# This is the url you will scrape in this exercise\n",
    "url ='https://en.wikipedia.org/wiki/Python' "
   ]
  },
  {
   "cell_type": "code",
   "execution_count": 1063,
   "metadata": {},
   "outputs": [],
   "source": [
    "#your code\n",
    "html = requests.get(url).text\n",
    "soup = BeautifulSoup(html, 'html.parser')"
   ]
  },
  {
   "cell_type": "code",
   "execution_count": 1064,
   "metadata": {
    "scrolled": false
   },
   "outputs": [
    {
     "data": {
      "text/plain": [
       "['https://en.wiktionary.org/wiki/Python',\n",
       " 'https://en.wiktionary.org/wiki/python',\n",
       " '/w/index.php?title=Python&action=edit&section=1',\n",
       " '/wiki/Pythonidae',\n",
       " '/w/index.php?title=Python&action=edit&section=2',\n",
       " '/wiki/Python_(mythology)',\n",
       " '/wiki/Python_of_Aenus',\n",
       " '/wiki/Python_(painter)',\n",
       " '/wiki/Python_of_Byzantium',\n",
       " '/wiki/Python_of_Catana',\n",
       " '/w/index.php?title=Python&action=edit&section=3',\n",
       " '/wiki/Pythons_2',\n",
       " '/wiki/Monty_Python',\n",
       " '/wiki/Python_(Monty)_Pictures',\n",
       " '/w/index.php?title=Python&action=edit&section=4',\n",
       " '/wiki/Python_(programming_language)',\n",
       " '/wiki/CPython',\n",
       " '/wiki/CMU_Common_Lisp',\n",
       " '/wiki/PERQ#PERQ_3',\n",
       " '/w/index.php?title=Python&action=edit&section=5',\n",
       " '/w/index.php?title=Python&action=edit&section=6',\n",
       " '/wiki/Python_(Busch_Gardens_Tampa_Bay)',\n",
       " '/wiki/Python_(Coney_Island,_Cincinnati,_Ohio)',\n",
       " '/wiki/Python_(Efteling)',\n",
       " '/w/index.php?title=Python&action=edit&section=7',\n",
       " '/wiki/Python_(automobile_maker)',\n",
       " '/wiki/Python_(Ford_prototype)',\n",
       " '/w/index.php?title=Python&action=edit&section=8',\n",
       " '/wiki/Colt_Python',\n",
       " '/wiki/Python_(missile)',\n",
       " '/wiki/Python_(nuclear_primary)',\n",
       " '/w/index.php?title=Python&action=edit&section=9',\n",
       " '/wiki/Python_Anghelo',\n",
       " '/w/index.php?title=Python&action=edit&section=10',\n",
       " '/wiki/PYTHON',\n",
       " '/w/index.php?title=Python&action=edit&section=11',\n",
       " '/wiki/Cython',\n",
       " '/wiki/Pyton',\n",
       " '/wiki/Help:Disambiguation',\n",
       " '/wiki/Help:Category',\n",
       " '/wiki/Category:Disambiguation_pages',\n",
       " '/wiki/Category:Disambiguation_pages_with_short_description',\n",
       " '/wiki/Category:All_article_disambiguation_pages',\n",
       " '/wiki/Category:All_disambiguation_pages',\n",
       " '/wiki/Category:Animal_common_name_disambiguation_pages',\n",
       " '/wiki/Special:MyTalk',\n",
       " '/wiki/Special:MyContributions',\n",
       " '/w/index.php?title=Special:CreateAccount&returnto=Python',\n",
       " '/w/index.php?title=Special:UserLogin&returnto=Python',\n",
       " '/wiki/Python',\n",
       " '/wiki/Talk:Python',\n",
       " '/w/index.php?title=Python&action=edit',\n",
       " '/w/index.php?title=Python&action=history',\n",
       " '/wiki/Main_Page',\n",
       " '/wiki/Portal:Contents',\n",
       " '/wiki/Portal:Featured_content',\n",
       " '/wiki/Portal:Current_events',\n",
       " '/wiki/Special:Random',\n",
       " 'https://donate.wikimedia.org/wiki/Special:FundraiserRedirector?utm_source=donate&utm_medium=sidebar&utm_campaign=C13_en.wikipedia.org&uselang=en',\n",
       " '//shop.wikimedia.org',\n",
       " '/wiki/Help:Contents',\n",
       " '/wiki/Wikipedia:About',\n",
       " '/wiki/Wikipedia:Community_portal',\n",
       " '/wiki/Special:RecentChanges',\n",
       " '//en.wikipedia.org/wiki/Wikipedia:Contact_us',\n",
       " '/wiki/Special:WhatLinksHere/Python',\n",
       " '/wiki/Special:RecentChangesLinked/Python',\n",
       " '/wiki/Wikipedia:File_Upload_Wizard',\n",
       " '/wiki/Special:SpecialPages',\n",
       " '/w/index.php?title=Python&oldid=924004650',\n",
       " '/w/index.php?title=Python&action=info',\n",
       " 'https://www.wikidata.org/wiki/Special:EntityPage/Q747452',\n",
       " '/w/index.php?title=Special:CiteThisPage&page=Python&id=924004650',\n",
       " '/w/index.php?title=Python&printable=yes',\n",
       " 'https://af.wikipedia.org/wiki/Python',\n",
       " 'https://als.wikipedia.org/wiki/Python',\n",
       " 'https://az.wikipedia.org/wiki/Python',\n",
       " 'https://bn.wikipedia.org/wiki/%E0%A6%AA%E0%A6%BE%E0%A6%87%E0%A6%A5%E0%A6%A8_(%E0%A6%A6%E0%A7%8D%E0%A6%AC%E0%A7%8D%E0%A6%AF%E0%A6%B0%E0%A7%8D%E0%A6%A5%E0%A6%A4%E0%A6%BE_%E0%A6%A8%E0%A6%BF%E0%A6%B0%E0%A6%B8%E0%A6%A8)',\n",
       " 'https://be.wikipedia.org/wiki/Python',\n",
       " 'https://bg.wikipedia.org/wiki/%D0%9F%D0%B8%D1%82%D0%BE%D0%BD_(%D0%BF%D0%BE%D1%8F%D1%81%D0%BD%D0%B5%D0%BD%D0%B8%D0%B5)',\n",
       " 'https://cs.wikipedia.org/wiki/Python_(rozcestn%C3%ADk)',\n",
       " 'https://da.wikipedia.org/wiki/Python',\n",
       " 'https://de.wikipedia.org/wiki/Python',\n",
       " 'https://eo.wikipedia.org/wiki/Pitono_(apartigilo)',\n",
       " 'https://eu.wikipedia.org/wiki/Python_(argipena)',\n",
       " 'https://fa.wikipedia.org/wiki/%D9%BE%D8%A7%DB%8C%D8%AA%D9%88%D9%86',\n",
       " 'https://fr.wikipedia.org/wiki/Python',\n",
       " 'https://ko.wikipedia.org/wiki/%ED%8C%8C%EC%9D%B4%EC%84%A0',\n",
       " 'https://hr.wikipedia.org/wiki/Python_(razdvojba)',\n",
       " 'https://io.wikipedia.org/wiki/Pitono',\n",
       " 'https://id.wikipedia.org/wiki/Python',\n",
       " 'https://ia.wikipedia.org/wiki/Python_(disambiguation)',\n",
       " 'https://is.wikipedia.org/wiki/Python_(a%C3%B0greining)',\n",
       " 'https://it.wikipedia.org/wiki/Python_(disambigua)',\n",
       " 'https://he.wikipedia.org/wiki/%D7%A4%D7%99%D7%AA%D7%95%D7%9F',\n",
       " 'https://ka.wikipedia.org/wiki/%E1%83%9E%E1%83%98%E1%83%97%E1%83%9D%E1%83%9C%E1%83%98_(%E1%83%9B%E1%83%A0%E1%83%90%E1%83%95%E1%83%90%E1%83%9A%E1%83%9B%E1%83%9C%E1%83%98%E1%83%A8%E1%83%95%E1%83%9C%E1%83%94%E1%83%9A%E1%83%9D%E1%83%95%E1%83%90%E1%83%9C%E1%83%98)',\n",
       " 'https://kg.wikipedia.org/wiki/Mboma_(nyoka)',\n",
       " 'https://la.wikipedia.org/wiki/Python_(discretiva)',\n",
       " 'https://lb.wikipedia.org/wiki/Python',\n",
       " 'https://hu.wikipedia.org/wiki/Python_(egy%C3%A9rtelm%C5%B1s%C3%ADt%C5%91_lap)',\n",
       " 'https://mr.wikipedia.org/wiki/%E0%A4%AA%E0%A4%BE%E0%A4%AF%E0%A4%A5%E0%A5%89%E0%A4%A8_(%E0%A4%86%E0%A4%9C%E0%A5%8D%E0%A4%9E%E0%A4%BE%E0%A4%B5%E0%A4%B2%E0%A5%80_%E0%A4%AD%E0%A4%BE%E0%A4%B7%E0%A4%BE)',\n",
       " 'https://nl.wikipedia.org/wiki/Python',\n",
       " 'https://ja.wikipedia.org/wiki/%E3%83%91%E3%82%A4%E3%82%BD%E3%83%B3',\n",
       " 'https://no.wikipedia.org/wiki/Pyton',\n",
       " 'https://pl.wikipedia.org/wiki/Pyton',\n",
       " 'https://pt.wikipedia.org/wiki/Python_(desambigua%C3%A7%C3%A3o)',\n",
       " 'https://ru.wikipedia.org/wiki/Python_(%D0%B7%D0%BD%D0%B0%D1%87%D0%B5%D0%BD%D0%B8%D1%8F)',\n",
       " 'https://sd.wikipedia.org/wiki/%D8%A7%D8%B1%DA%99',\n",
       " 'https://sk.wikipedia.org/wiki/Python',\n",
       " 'https://sr.wikipedia.org/wiki/%D0%9F%D0%B8%D1%82%D0%BE%D0%BD_(%D0%B2%D0%B8%D1%88%D0%B5%D0%B7%D0%BD%D0%B0%D1%87%D0%BD%D0%B0_%D0%BE%D0%B4%D1%80%D0%B5%D0%B4%D0%BD%D0%B8%D1%86%D0%B0)',\n",
       " 'https://sh.wikipedia.org/wiki/Python',\n",
       " 'https://fi.wikipedia.org/wiki/Python',\n",
       " 'https://sv.wikipedia.org/wiki/Pyton',\n",
       " 'https://th.wikipedia.org/wiki/%E0%B9%84%E0%B8%9E%E0%B8%97%E0%B8%AD%E0%B8%99',\n",
       " 'https://tr.wikipedia.org/wiki/Python',\n",
       " 'https://uk.wikipedia.org/wiki/%D0%9F%D1%96%D1%84%D0%BE%D0%BD',\n",
       " 'https://ur.wikipedia.org/wiki/%D9%BE%D8%A7%D8%A6%DB%8C%D8%AA%DA%BE%D9%88%D9%86',\n",
       " 'https://vi.wikipedia.org/wiki/Python',\n",
       " 'https://zh.wikipedia.org/wiki/Python_(%E6%B6%88%E6%AD%A7%E4%B9%89)',\n",
       " 'https://www.wikidata.org/wiki/Special:EntityPage/Q747452#sitelinks-wikipedia',\n",
       " 'https://foundation.wikimedia.org/wiki/Privacy_policy',\n",
       " '/wiki/Wikipedia:About',\n",
       " '/wiki/Wikipedia:General_disclaimer']"
      ]
     },
     "execution_count": 1064,
     "metadata": {},
     "output_type": "execute_result"
    }
   ],
   "source": [
    "ul = soup.find_all('a', href = True, title=True, text = True)\n",
    "links = [i.get('href') for i in ul]\n",
    "links"
   ]
  },
  {
   "cell_type": "markdown",
   "metadata": {},
   "source": [
    "#### Number of Titles that have changed in the United States Code since its last release point "
   ]
  },
  {
   "cell_type": "code",
   "execution_count": 1065,
   "metadata": {},
   "outputs": [],
   "source": [
    "# This is the url you will scrape in this exercise\n",
    "url = 'http://uscode.house.gov/download/download.shtml'"
   ]
  },
  {
   "cell_type": "code",
   "execution_count": 1066,
   "metadata": {},
   "outputs": [],
   "source": [
    "#your code\n",
    "html = requests.get(url).text\n",
    "soup = BeautifulSoup(html, 'html.parser')"
   ]
  },
  {
   "cell_type": "code",
   "execution_count": 1067,
   "metadata": {},
   "outputs": [
    {
     "data": {
      "text/plain": [
       "['Title 6 - Domestic Security', 'Title 31 - Money and Finance ']"
      ]
     },
     "execution_count": 1067,
     "metadata": {},
     "output_type": "execute_result"
    }
   ],
   "source": [
    "t = soup.find_all('div', {'class':'usctitlechanged'})\n",
    "[i.getText().strip().strip('٭') for i in t]"
   ]
  },
  {
   "cell_type": "markdown",
   "metadata": {},
   "source": [
    "#### A Python list with the top ten FBI's Most Wanted names "
   ]
  },
  {
   "cell_type": "code",
   "execution_count": 1068,
   "metadata": {},
   "outputs": [],
   "source": [
    "# This is the url you will scrape in this exercise\n",
    "url = 'https://www.fbi.gov/wanted/topten'"
   ]
  },
  {
   "cell_type": "code",
   "execution_count": 1069,
   "metadata": {},
   "outputs": [],
   "source": [
    "#your code \n",
    "html = requests.get(url).text\n",
    "soup = BeautifulSoup(html, 'html.parser')"
   ]
  },
  {
   "cell_type": "code",
   "execution_count": 1070,
   "metadata": {},
   "outputs": [
    {
     "data": {
      "text/plain": [
       "['JASON DEREK BROWN',\n",
       " 'ALEXIS FLORES',\n",
       " 'EUGENE PALMER',\n",
       " 'SANTIAGO VILLALBA MEDEROS',\n",
       " 'RAFAEL CARO-QUINTERO',\n",
       " 'ROBERT WILLIAM FISHER',\n",
       " 'BHADRESHKUMAR CHETANBHAI PATEL',\n",
       " 'ARNOLDO JIMENEZ',\n",
       " 'ALEJANDRO ROSALES CASTILLO',\n",
       " 'YASER ABDEL SAID']"
      ]
     },
     "execution_count": 1070,
     "metadata": {},
     "output_type": "execute_result"
    }
   ],
   "source": [
    "fbi = soup.find_all('h3',{'class':'title'})\n",
    "[i.getText().strip() for i in fbi]"
   ]
  },
  {
   "cell_type": "markdown",
   "metadata": {},
   "source": [
    "####  20 latest earthquakes info (date, time, latitude, longitude and region name) by the EMSC as a pandas dataframe"
   ]
  },
  {
   "cell_type": "code",
   "execution_count": 1071,
   "metadata": {},
   "outputs": [],
   "source": [
    "# This is the url you will scrape in this exercise\n",
    "url = 'https://www.emsc-csem.org/Earthquake/'"
   ]
  },
  {
   "cell_type": "code",
   "execution_count": 1072,
   "metadata": {},
   "outputs": [],
   "source": [
    "#your code\n",
    "html = requests.get(url).text\n",
    "soup = BeautifulSoup(html, 'html.parser')"
   ]
  },
  {
   "cell_type": "code",
   "execution_count": 1073,
   "metadata": {},
   "outputs": [],
   "source": [
    "data = []\n",
    "table = soup.find('table')\n",
    "table_body = soup.find('tbody')"
   ]
  },
  {
   "cell_type": "code",
   "execution_count": 1074,
   "metadata": {},
   "outputs": [],
   "source": [
    "rows = table_body.find_all('tr')\n",
    "for row in rows:\n",
    "    cols = row.find_all('td')\n",
    "    cols = [ele.text.strip() for ele in cols]\n",
    "    data.append([ele for ele in cols if ele]) # Get rid of empty values"
   ]
  },
  {
   "cell_type": "code",
   "execution_count": 1076,
   "metadata": {},
   "outputs": [],
   "source": [
    "data_2 = []\n",
    "for i in data:\n",
    "    if len(i) == 10:\n",
    "        data_2.append(i[1:])\n",
    "    elif len(i) == 11:\n",
    "        data_2.append(i[2:])\n",
    "    elif len(i) == 12:\n",
    "        data_2.append(i[3:])\n",
    "e = {}\n",
    "e['Date_time'] = []\n",
    "e['latitude'] = []\n",
    "e['longitude'] = []\n",
    "e['Depth'] = []\n",
    "e['Mag'] = []\n",
    "e['Region'] = []\n",
    "Date_time = []\n",
    "for i in data_2:\n",
    "    e['Date_time'].append(i[8])\n",
    "    e['latitude'].append(i[0]+' '+i[1])\n",
    "    e['longitude'].append(i[2]+' '+i[3])\n",
    "    e['Depth'].append(i[4])\n",
    "    e['Mag'].append(i[6])\n",
    "    e['Region'].append(i[7])\n"
   ]
  },
  {
   "cell_type": "code",
   "execution_count": 1077,
   "metadata": {},
   "outputs": [
    {
     "data": {
      "text/html": [
       "<div>\n",
       "<style scoped>\n",
       "    .dataframe tbody tr th:only-of-type {\n",
       "        vertical-align: middle;\n",
       "    }\n",
       "\n",
       "    .dataframe tbody tr th {\n",
       "        vertical-align: top;\n",
       "    }\n",
       "\n",
       "    .dataframe thead th {\n",
       "        text-align: right;\n",
       "    }\n",
       "</style>\n",
       "<table border=\"1\" class=\"dataframe\">\n",
       "  <thead>\n",
       "    <tr style=\"text-align: right;\">\n",
       "      <th></th>\n",
       "      <th>Date_time</th>\n",
       "      <th>latitude</th>\n",
       "      <th>longitude</th>\n",
       "      <th>Depth</th>\n",
       "      <th>Mag</th>\n",
       "      <th>Region</th>\n",
       "    </tr>\n",
       "  </thead>\n",
       "  <tbody>\n",
       "    <tr>\n",
       "      <th>0</th>\n",
       "      <td>2019-11-08 00:25</td>\n",
       "      <td>37.71 N</td>\n",
       "      <td>47.48 E</td>\n",
       "      <td>10</td>\n",
       "      <td>3.7</td>\n",
       "      <td>NORTHWESTERN IRAN</td>\n",
       "    </tr>\n",
       "    <tr>\n",
       "      <th>1</th>\n",
       "      <td>2019-11-07 23:45</td>\n",
       "      <td>38.70 N</td>\n",
       "      <td>123.17 W</td>\n",
       "      <td>5</td>\n",
       "      <td>2.2</td>\n",
       "      <td>NORTHERN CALIFORNIA</td>\n",
       "    </tr>\n",
       "    <tr>\n",
       "      <th>2</th>\n",
       "      <td>2019-11-07 23:51</td>\n",
       "      <td>1.60 N</td>\n",
       "      <td>126.50 E</td>\n",
       "      <td>17</td>\n",
       "      <td>4.1</td>\n",
       "      <td>MOLUCCA SEA</td>\n",
       "    </tr>\n",
       "    <tr>\n",
       "      <th>3</th>\n",
       "      <td>2019-11-07 23:55</td>\n",
       "      <td>38.58 N</td>\n",
       "      <td>29.13 W</td>\n",
       "      <td>5</td>\n",
       "      <td>3.0</td>\n",
       "      <td>AZORES ISLANDS, PORTUGAL</td>\n",
       "    </tr>\n",
       "    <tr>\n",
       "      <th>4</th>\n",
       "      <td>2019-11-07 23:43</td>\n",
       "      <td>38.63 N</td>\n",
       "      <td>29.13 W</td>\n",
       "      <td>6</td>\n",
       "      <td>3.5</td>\n",
       "      <td>AZORES ISLANDS, PORTUGAL</td>\n",
       "    </tr>\n",
       "    <tr>\n",
       "      <th>5</th>\n",
       "      <td>2019-11-07 23:42</td>\n",
       "      <td>41.78 N</td>\n",
       "      <td>13.60 E</td>\n",
       "      <td>15</td>\n",
       "      <td>2.0</td>\n",
       "      <td>SOUTHERN ITALY</td>\n",
       "    </tr>\n",
       "    <tr>\n",
       "      <th>6</th>\n",
       "      <td>2019-11-07 23:57</td>\n",
       "      <td>37.73 N</td>\n",
       "      <td>47.51 E</td>\n",
       "      <td>18</td>\n",
       "      <td>4.3</td>\n",
       "      <td>NORTHWESTERN IRAN</td>\n",
       "    </tr>\n",
       "    <tr>\n",
       "      <th>7</th>\n",
       "      <td>2019-11-07 23:52</td>\n",
       "      <td>37.74 N</td>\n",
       "      <td>47.52 E</td>\n",
       "      <td>12</td>\n",
       "      <td>3.9</td>\n",
       "      <td>NORTHWESTERN IRAN</td>\n",
       "    </tr>\n",
       "    <tr>\n",
       "      <th>8</th>\n",
       "      <td>2019-11-07 23:38</td>\n",
       "      <td>41.77 N</td>\n",
       "      <td>13.59 E</td>\n",
       "      <td>2</td>\n",
       "      <td>3.4</td>\n",
       "      <td>SOUTHERN ITALY</td>\n",
       "    </tr>\n",
       "    <tr>\n",
       "      <th>9</th>\n",
       "      <td>2019-11-07 23:38</td>\n",
       "      <td>36.58 N</td>\n",
       "      <td>45.25 E</td>\n",
       "      <td>40</td>\n",
       "      <td>4.4</td>\n",
       "      <td>IRAN-IRAQ BORDER REGION</td>\n",
       "    </tr>\n",
       "    <tr>\n",
       "      <th>10</th>\n",
       "      <td>2019-11-07 23:51</td>\n",
       "      <td>37.69 N</td>\n",
       "      <td>47.45 E</td>\n",
       "      <td>10</td>\n",
       "      <td>3.8</td>\n",
       "      <td>NORTHWESTERN IRAN</td>\n",
       "    </tr>\n",
       "    <tr>\n",
       "      <th>11</th>\n",
       "      <td>2019-11-07 23:52</td>\n",
       "      <td>37.71 N</td>\n",
       "      <td>47.48 E</td>\n",
       "      <td>10</td>\n",
       "      <td>3.5</td>\n",
       "      <td>NORTHWESTERN IRAN</td>\n",
       "    </tr>\n",
       "    <tr>\n",
       "      <th>12</th>\n",
       "      <td>2019-11-07 23:45</td>\n",
       "      <td>37.71 N</td>\n",
       "      <td>47.49 E</td>\n",
       "      <td>10</td>\n",
       "      <td>4.1</td>\n",
       "      <td>NORTHWESTERN IRAN</td>\n",
       "    </tr>\n",
       "    <tr>\n",
       "      <th>13</th>\n",
       "      <td>2019-11-07 22:53</td>\n",
       "      <td>46.18 N</td>\n",
       "      <td>15.26 E</td>\n",
       "      <td>30</td>\n",
       "      <td>1.5</td>\n",
       "      <td>SLOVENIA</td>\n",
       "    </tr>\n",
       "    <tr>\n",
       "      <th>14</th>\n",
       "      <td>2019-11-07 23:29</td>\n",
       "      <td>52.99 N</td>\n",
       "      <td>160.91 W</td>\n",
       "      <td>25</td>\n",
       "      <td>3.8</td>\n",
       "      <td>SOUTH OF ALASKA</td>\n",
       "    </tr>\n",
       "    <tr>\n",
       "      <th>15</th>\n",
       "      <td>2019-11-07 23:05</td>\n",
       "      <td>3.21 N</td>\n",
       "      <td>127.06 E</td>\n",
       "      <td>10</td>\n",
       "      <td>4.1</td>\n",
       "      <td>KEPULAUAN TALAUD, INDONESIA</td>\n",
       "    </tr>\n",
       "    <tr>\n",
       "      <th>16</th>\n",
       "      <td>2019-11-07 23:33</td>\n",
       "      <td>37.73 N</td>\n",
       "      <td>47.39 E</td>\n",
       "      <td>10</td>\n",
       "      <td>4.1</td>\n",
       "      <td>NORTHWESTERN IRAN</td>\n",
       "    </tr>\n",
       "    <tr>\n",
       "      <th>17</th>\n",
       "      <td>2019-11-07 23:03</td>\n",
       "      <td>37.81 N</td>\n",
       "      <td>47.59 E</td>\n",
       "      <td>10</td>\n",
       "      <td>5.7</td>\n",
       "      <td>NORTHWESTERN IRAN</td>\n",
       "    </tr>\n",
       "    <tr>\n",
       "      <th>18</th>\n",
       "      <td>2019-11-07 22:59</td>\n",
       "      <td>39.42 N</td>\n",
       "      <td>15.79 E</td>\n",
       "      <td>231</td>\n",
       "      <td>3.2</td>\n",
       "      <td>SOUTHERN ITALY</td>\n",
       "    </tr>\n",
       "    <tr>\n",
       "      <th>19</th>\n",
       "      <td>2019-11-08 00:51</td>\n",
       "      <td>5.67 N</td>\n",
       "      <td>126.31 E</td>\n",
       "      <td>106</td>\n",
       "      <td>5.1</td>\n",
       "      <td>MINDANAO, PHILIPPINES</td>\n",
       "    </tr>\n",
       "    <tr>\n",
       "      <th>20</th>\n",
       "      <td>2019-11-07 23:08</td>\n",
       "      <td>37.66 N</td>\n",
       "      <td>38.56 E</td>\n",
       "      <td>11</td>\n",
       "      <td>2.4</td>\n",
       "      <td>EASTERN TURKEY</td>\n",
       "    </tr>\n",
       "    <tr>\n",
       "      <th>21</th>\n",
       "      <td>2019-11-07 23:02</td>\n",
       "      <td>37.28 N</td>\n",
       "      <td>115.17 W</td>\n",
       "      <td>12</td>\n",
       "      <td>2.2</td>\n",
       "      <td>NEVADA</td>\n",
       "    </tr>\n",
       "    <tr>\n",
       "      <th>22</th>\n",
       "      <td>2019-11-07 23:34</td>\n",
       "      <td>17.90 N</td>\n",
       "      <td>66.29 W</td>\n",
       "      <td>2</td>\n",
       "      <td>2.5</td>\n",
       "      <td>PUERTO RICO REGION</td>\n",
       "    </tr>\n",
       "    <tr>\n",
       "      <th>23</th>\n",
       "      <td>2019-11-08 00:22</td>\n",
       "      <td>37.59 S</td>\n",
       "      <td>51.43 E</td>\n",
       "      <td>10</td>\n",
       "      <td>5.4</td>\n",
       "      <td>SOUTH INDIAN OCEAN</td>\n",
       "    </tr>\n",
       "    <tr>\n",
       "      <th>24</th>\n",
       "      <td>2019-11-07 22:35</td>\n",
       "      <td>37.29 N</td>\n",
       "      <td>115.17 W</td>\n",
       "      <td>12</td>\n",
       "      <td>2.7</td>\n",
       "      <td>NEVADA</td>\n",
       "    </tr>\n",
       "    <tr>\n",
       "      <th>25</th>\n",
       "      <td>2019-11-07 23:56</td>\n",
       "      <td>47.33 N</td>\n",
       "      <td>6.36 E</td>\n",
       "      <td>10</td>\n",
       "      <td>2.5</td>\n",
       "      <td>FRANCE</td>\n",
       "    </tr>\n",
       "    <tr>\n",
       "      <th>26</th>\n",
       "      <td>2019-11-07 22:31</td>\n",
       "      <td>55.10 N</td>\n",
       "      <td>157.96 W</td>\n",
       "      <td>30</td>\n",
       "      <td>4.9</td>\n",
       "      <td>ALASKA PENINSULA</td>\n",
       "    </tr>\n",
       "    <tr>\n",
       "      <th>27</th>\n",
       "      <td>2019-11-07 21:48</td>\n",
       "      <td>41.78 N</td>\n",
       "      <td>13.60 E</td>\n",
       "      <td>13</td>\n",
       "      <td>2.3</td>\n",
       "      <td>SOUTHERN ITALY</td>\n",
       "    </tr>\n",
       "    <tr>\n",
       "      <th>28</th>\n",
       "      <td>2019-11-07 21:48</td>\n",
       "      <td>19.90 N</td>\n",
       "      <td>71.33 W</td>\n",
       "      <td>8</td>\n",
       "      <td>3.1</td>\n",
       "      <td>DOMINICAN REPUBLIC REGION</td>\n",
       "    </tr>\n",
       "    <tr>\n",
       "      <th>29</th>\n",
       "      <td>2019-11-07 21:41</td>\n",
       "      <td>37.67 N</td>\n",
       "      <td>38.53 E</td>\n",
       "      <td>2</td>\n",
       "      <td>3.7</td>\n",
       "      <td>EASTERN TURKEY</td>\n",
       "    </tr>\n",
       "    <tr>\n",
       "      <th>30</th>\n",
       "      <td>2019-11-07 21:35</td>\n",
       "      <td>34.26 N</td>\n",
       "      <td>119.30 W</td>\n",
       "      <td>7</td>\n",
       "      <td>2.0</td>\n",
       "      <td>SANTA BARBARA CHANNEL, CALIF.</td>\n",
       "    </tr>\n",
       "    <tr>\n",
       "      <th>31</th>\n",
       "      <td>2019-11-07 21:30</td>\n",
       "      <td>4.70 N</td>\n",
       "      <td>127.57 E</td>\n",
       "      <td>97</td>\n",
       "      <td>4.5</td>\n",
       "      <td>KEPULAUAN TALAUD, INDONESIA</td>\n",
       "    </tr>\n",
       "    <tr>\n",
       "      <th>32</th>\n",
       "      <td>2019-11-07 20:41</td>\n",
       "      <td>46.32 N</td>\n",
       "      <td>7.35 E</td>\n",
       "      <td>5</td>\n",
       "      <td>1.5</td>\n",
       "      <td>SWITZERLAND</td>\n",
       "    </tr>\n",
       "    <tr>\n",
       "      <th>33</th>\n",
       "      <td>2019-11-07 21:27</td>\n",
       "      <td>46.32 N</td>\n",
       "      <td>7.35 E</td>\n",
       "      <td>5</td>\n",
       "      <td>2.3</td>\n",
       "      <td>SWITZERLAND</td>\n",
       "    </tr>\n",
       "    <tr>\n",
       "      <th>34</th>\n",
       "      <td>2019-11-07 23:49</td>\n",
       "      <td>35.83 N</td>\n",
       "      <td>117.66 W</td>\n",
       "      <td>4</td>\n",
       "      <td>3.0</td>\n",
       "      <td>CENTRAL CALIFORNIA</td>\n",
       "    </tr>\n",
       "    <tr>\n",
       "      <th>35</th>\n",
       "      <td>2019-11-07 20:20</td>\n",
       "      <td>41.77 N</td>\n",
       "      <td>13.60 E</td>\n",
       "      <td>12</td>\n",
       "      <td>2.0</td>\n",
       "      <td>SOUTHERN ITALY</td>\n",
       "    </tr>\n",
       "    <tr>\n",
       "      <th>36</th>\n",
       "      <td>2019-11-07 20:13</td>\n",
       "      <td>23.22 S</td>\n",
       "      <td>68.90 W</td>\n",
       "      <td>89</td>\n",
       "      <td>3.1</td>\n",
       "      <td>ANTOFAGASTA, CHILE</td>\n",
       "    </tr>\n",
       "    <tr>\n",
       "      <th>37</th>\n",
       "      <td>2019-11-07 19:57</td>\n",
       "      <td>35.71 N</td>\n",
       "      <td>117.56 W</td>\n",
       "      <td>7</td>\n",
       "      <td>2.6</td>\n",
       "      <td>SOUTHERN CALIFORNIA</td>\n",
       "    </tr>\n",
       "    <tr>\n",
       "      <th>38</th>\n",
       "      <td>2019-11-08 00:11</td>\n",
       "      <td>20.49 S</td>\n",
       "      <td>69.03 W</td>\n",
       "      <td>111</td>\n",
       "      <td>4.5</td>\n",
       "      <td>TARAPACA, CHILE</td>\n",
       "    </tr>\n",
       "    <tr>\n",
       "      <th>39</th>\n",
       "      <td>2019-11-07 18:57</td>\n",
       "      <td>35.72 N</td>\n",
       "      <td>121.06 W</td>\n",
       "      <td>7</td>\n",
       "      <td>2.3</td>\n",
       "      <td>CENTRAL CALIFORNIA</td>\n",
       "    </tr>\n",
       "    <tr>\n",
       "      <th>40</th>\n",
       "      <td>2019-11-07 19:15</td>\n",
       "      <td>37.89 N</td>\n",
       "      <td>112.48 W</td>\n",
       "      <td>10</td>\n",
       "      <td>2.4</td>\n",
       "      <td>UTAH</td>\n",
       "    </tr>\n",
       "    <tr>\n",
       "      <th>41</th>\n",
       "      <td>2019-11-07 20:06</td>\n",
       "      <td>46.30 N</td>\n",
       "      <td>7.37 E</td>\n",
       "      <td>2</td>\n",
       "      <td>2.5</td>\n",
       "      <td>SWITZERLAND</td>\n",
       "    </tr>\n",
       "    <tr>\n",
       "      <th>42</th>\n",
       "      <td>2019-11-07 18:51</td>\n",
       "      <td>46.32 N</td>\n",
       "      <td>7.35 E</td>\n",
       "      <td>4</td>\n",
       "      <td>3.4</td>\n",
       "      <td>SWITZERLAND</td>\n",
       "    </tr>\n",
       "    <tr>\n",
       "      <th>43</th>\n",
       "      <td>2019-11-07 19:02</td>\n",
       "      <td>16.36 S</td>\n",
       "      <td>72.82 W</td>\n",
       "      <td>15</td>\n",
       "      <td>3.7</td>\n",
       "      <td>NEAR COAST OF SOUTHERN PERU</td>\n",
       "    </tr>\n",
       "    <tr>\n",
       "      <th>44</th>\n",
       "      <td>2019-11-07 18:24</td>\n",
       "      <td>19.14 N</td>\n",
       "      <td>155.64 W</td>\n",
       "      <td>1</td>\n",
       "      <td>2.0</td>\n",
       "      <td>ISLAND OF HAWAII, HAWAII</td>\n",
       "    </tr>\n",
       "    <tr>\n",
       "      <th>45</th>\n",
       "      <td>2019-11-07 18:45</td>\n",
       "      <td>11.30 N</td>\n",
       "      <td>86.32 W</td>\n",
       "      <td>31</td>\n",
       "      <td>3.6</td>\n",
       "      <td>NEAR COAST OF NICARAGUA</td>\n",
       "    </tr>\n",
       "    <tr>\n",
       "      <th>46</th>\n",
       "      <td>2019-11-07 19:10</td>\n",
       "      <td>27.03 N</td>\n",
       "      <td>55.05 E</td>\n",
       "      <td>2</td>\n",
       "      <td>4.5</td>\n",
       "      <td>SOUTHERN IRAN</td>\n",
       "    </tr>\n",
       "    <tr>\n",
       "      <th>47</th>\n",
       "      <td>2019-11-07 18:32</td>\n",
       "      <td>8.64 N</td>\n",
       "      <td>82.81 W</td>\n",
       "      <td>26</td>\n",
       "      <td>3.4</td>\n",
       "      <td>PANAMA-COSTA RICA BORDER REGION</td>\n",
       "    </tr>\n",
       "    <tr>\n",
       "      <th>48</th>\n",
       "      <td>2019-11-07 18:32</td>\n",
       "      <td>11.49 N</td>\n",
       "      <td>85.98 W</td>\n",
       "      <td>170</td>\n",
       "      <td>3.6</td>\n",
       "      <td>NICARAGUA</td>\n",
       "    </tr>\n",
       "    <tr>\n",
       "      <th>49</th>\n",
       "      <td>2019-11-07 17:56</td>\n",
       "      <td>34.27 N</td>\n",
       "      <td>119.29 W</td>\n",
       "      <td>7</td>\n",
       "      <td>2.4</td>\n",
       "      <td>SANTA BARBARA CHANNEL, CALIF.</td>\n",
       "    </tr>\n",
       "  </tbody>\n",
       "</table>\n",
       "</div>"
      ],
      "text/plain": [
       "           Date_time latitude longitude Depth  Mag  \\\n",
       "0   2019-11-08 00:25  37.71 N   47.48 E    10  3.7   \n",
       "1   2019-11-07 23:45  38.70 N  123.17 W     5  2.2   \n",
       "2   2019-11-07 23:51   1.60 N  126.50 E    17  4.1   \n",
       "3   2019-11-07 23:55  38.58 N   29.13 W     5  3.0   \n",
       "4   2019-11-07 23:43  38.63 N   29.13 W     6  3.5   \n",
       "5   2019-11-07 23:42  41.78 N   13.60 E    15  2.0   \n",
       "6   2019-11-07 23:57  37.73 N   47.51 E    18  4.3   \n",
       "7   2019-11-07 23:52  37.74 N   47.52 E    12  3.9   \n",
       "8   2019-11-07 23:38  41.77 N   13.59 E     2  3.4   \n",
       "9   2019-11-07 23:38  36.58 N   45.25 E    40  4.4   \n",
       "10  2019-11-07 23:51  37.69 N   47.45 E    10  3.8   \n",
       "11  2019-11-07 23:52  37.71 N   47.48 E    10  3.5   \n",
       "12  2019-11-07 23:45  37.71 N   47.49 E    10  4.1   \n",
       "13  2019-11-07 22:53  46.18 N   15.26 E    30  1.5   \n",
       "14  2019-11-07 23:29  52.99 N  160.91 W    25  3.8   \n",
       "15  2019-11-07 23:05   3.21 N  127.06 E    10  4.1   \n",
       "16  2019-11-07 23:33  37.73 N   47.39 E    10  4.1   \n",
       "17  2019-11-07 23:03  37.81 N   47.59 E    10  5.7   \n",
       "18  2019-11-07 22:59  39.42 N   15.79 E   231  3.2   \n",
       "19  2019-11-08 00:51   5.67 N  126.31 E   106  5.1   \n",
       "20  2019-11-07 23:08  37.66 N   38.56 E    11  2.4   \n",
       "21  2019-11-07 23:02  37.28 N  115.17 W    12  2.2   \n",
       "22  2019-11-07 23:34  17.90 N   66.29 W     2  2.5   \n",
       "23  2019-11-08 00:22  37.59 S   51.43 E    10  5.4   \n",
       "24  2019-11-07 22:35  37.29 N  115.17 W    12  2.7   \n",
       "25  2019-11-07 23:56  47.33 N    6.36 E    10  2.5   \n",
       "26  2019-11-07 22:31  55.10 N  157.96 W    30  4.9   \n",
       "27  2019-11-07 21:48  41.78 N   13.60 E    13  2.3   \n",
       "28  2019-11-07 21:48  19.90 N   71.33 W     8  3.1   \n",
       "29  2019-11-07 21:41  37.67 N   38.53 E     2  3.7   \n",
       "30  2019-11-07 21:35  34.26 N  119.30 W     7  2.0   \n",
       "31  2019-11-07 21:30   4.70 N  127.57 E    97  4.5   \n",
       "32  2019-11-07 20:41  46.32 N    7.35 E     5  1.5   \n",
       "33  2019-11-07 21:27  46.32 N    7.35 E     5  2.3   \n",
       "34  2019-11-07 23:49  35.83 N  117.66 W     4  3.0   \n",
       "35  2019-11-07 20:20  41.77 N   13.60 E    12  2.0   \n",
       "36  2019-11-07 20:13  23.22 S   68.90 W    89  3.1   \n",
       "37  2019-11-07 19:57  35.71 N  117.56 W     7  2.6   \n",
       "38  2019-11-08 00:11  20.49 S   69.03 W   111  4.5   \n",
       "39  2019-11-07 18:57  35.72 N  121.06 W     7  2.3   \n",
       "40  2019-11-07 19:15  37.89 N  112.48 W    10  2.4   \n",
       "41  2019-11-07 20:06  46.30 N    7.37 E     2  2.5   \n",
       "42  2019-11-07 18:51  46.32 N    7.35 E     4  3.4   \n",
       "43  2019-11-07 19:02  16.36 S   72.82 W    15  3.7   \n",
       "44  2019-11-07 18:24  19.14 N  155.64 W     1  2.0   \n",
       "45  2019-11-07 18:45  11.30 N   86.32 W    31  3.6   \n",
       "46  2019-11-07 19:10  27.03 N   55.05 E     2  4.5   \n",
       "47  2019-11-07 18:32   8.64 N   82.81 W    26  3.4   \n",
       "48  2019-11-07 18:32  11.49 N   85.98 W   170  3.6   \n",
       "49  2019-11-07 17:56  34.27 N  119.29 W     7  2.4   \n",
       "\n",
       "                             Region  \n",
       "0                 NORTHWESTERN IRAN  \n",
       "1               NORTHERN CALIFORNIA  \n",
       "2                       MOLUCCA SEA  \n",
       "3          AZORES ISLANDS, PORTUGAL  \n",
       "4          AZORES ISLANDS, PORTUGAL  \n",
       "5                    SOUTHERN ITALY  \n",
       "6                 NORTHWESTERN IRAN  \n",
       "7                 NORTHWESTERN IRAN  \n",
       "8                    SOUTHERN ITALY  \n",
       "9           IRAN-IRAQ BORDER REGION  \n",
       "10                NORTHWESTERN IRAN  \n",
       "11                NORTHWESTERN IRAN  \n",
       "12                NORTHWESTERN IRAN  \n",
       "13                         SLOVENIA  \n",
       "14                  SOUTH OF ALASKA  \n",
       "15      KEPULAUAN TALAUD, INDONESIA  \n",
       "16                NORTHWESTERN IRAN  \n",
       "17                NORTHWESTERN IRAN  \n",
       "18                   SOUTHERN ITALY  \n",
       "19            MINDANAO, PHILIPPINES  \n",
       "20                   EASTERN TURKEY  \n",
       "21                           NEVADA  \n",
       "22               PUERTO RICO REGION  \n",
       "23               SOUTH INDIAN OCEAN  \n",
       "24                           NEVADA  \n",
       "25                           FRANCE  \n",
       "26                 ALASKA PENINSULA  \n",
       "27                   SOUTHERN ITALY  \n",
       "28        DOMINICAN REPUBLIC REGION  \n",
       "29                   EASTERN TURKEY  \n",
       "30    SANTA BARBARA CHANNEL, CALIF.  \n",
       "31      KEPULAUAN TALAUD, INDONESIA  \n",
       "32                      SWITZERLAND  \n",
       "33                      SWITZERLAND  \n",
       "34               CENTRAL CALIFORNIA  \n",
       "35                   SOUTHERN ITALY  \n",
       "36               ANTOFAGASTA, CHILE  \n",
       "37              SOUTHERN CALIFORNIA  \n",
       "38                  TARAPACA, CHILE  \n",
       "39               CENTRAL CALIFORNIA  \n",
       "40                             UTAH  \n",
       "41                      SWITZERLAND  \n",
       "42                      SWITZERLAND  \n",
       "43      NEAR COAST OF SOUTHERN PERU  \n",
       "44         ISLAND OF HAWAII, HAWAII  \n",
       "45          NEAR COAST OF NICARAGUA  \n",
       "46                    SOUTHERN IRAN  \n",
       "47  PANAMA-COSTA RICA BORDER REGION  \n",
       "48                        NICARAGUA  \n",
       "49    SANTA BARBARA CHANNEL, CALIF.  "
      ]
     },
     "metadata": {},
     "output_type": "display_data"
    }
   ],
   "source": [
    "import pandas as pd\n",
    "df = pd.DataFrame(e)\n",
    "display(df)"
   ]
  },
  {
   "cell_type": "markdown",
   "metadata": {},
   "source": [
    "#### Display the date, days, title, city, country of next 25 hackathon events as a Pandas dataframe table"
   ]
  },
  {
   "cell_type": "code",
   "execution_count": 1078,
   "metadata": {},
   "outputs": [],
   "source": [
    "# This is the url you will scrape in this exercise\n",
    "url ='https://hackevents.co/hackathons'"
   ]
  },
  {
   "cell_type": "code",
   "execution_count": 1079,
   "metadata": {},
   "outputs": [],
   "source": [
    "#your code\n",
    "html = requests.get(url).text\n",
    "soup = BeautifulSoup(html, 'html.parser')"
   ]
  },
  {
   "cell_type": "code",
   "execution_count": 1080,
   "metadata": {},
   "outputs": [
    {
     "data": {
      "text/plain": [
       "[<div class=\"col-12\"><h1 class=\"text-center\" style=\"font-size:50px\">All hackathons in one place</h1><h2 class=\"text-center\" style=\"font-size:22px\">Find hackathons anywhere in the world</h2></div>,\n",
       " <div class=\"col-12\"><h3 class=\"text-center\" style=\"font-size:30px; margin-top: 24px; margin-bottom: 4px;\">Choose from <b>1</b> upcoming hackathons <b>around the world</b></h3><!--in #{numberOfDistinctCities} cities--></div>,\n",
       " <div class=\"col-12 col-sm-8 offset-sm-2\"><hr/></div>,\n",
       " <div class=\"col-12 col-sm-5\" style=\"margin-top:8px;\"><h4 style=\"font-size:18px;\">Looking for</h4><input class=\"form-control\" name=\"searchTitle\" placeholder=\"Anything\" style=\"width:100%\"/></div>,\n",
       " <div class=\"col-12 col-sm-5\" style=\"margin-top:8px;\"><h4 style=\"font-size:18px;\">Best place would be</h4><input class=\"form-control\" name=\"searchPlace\" placeholder=\"Anywhere\" style=\"width:100%\"/></div>,\n",
       " <div class=\"col-12 col-sm-2\" style=\"margin-top:8px;\"><button class=\"btn btn-outline-danger\" style=\"width:100%; height:70px;\" type=\"submit\">Search</button></div>,\n",
       " <div class=\"col-12 text-center\" style=\"margin-top:100px;margin-bottom:50px\"><h2>Upcoming hackathons</h2></div>,\n",
       " <div class=\"col-12 col-sm-4\"><a href=\"/event/lRFgffzuhdHfABp5r9sJ-oerlikon-digital-hub-hackathon\"><div class=\"card box-shadow\" style=\"width: 100%;margin-bottom: 16px;\"><!--img.card-img-top(id=imgId alt=hackathon.title height=\"200px\")--><img alt=\"Oerlikon Digital Hub Hackathon\" class=\"card-img-top\" height=\"200px\" src=\"https://storage.googleapis.com/hackevents-prod.appspot.com/hackathons%2Fimages%2FcheTopz6muhqvPH57ZnNWi7Uy8r2%2Fdigital-hub_hackathon_logo_red_rgb.png?GoogleAccessId=firebase-adminsdk-w04bv%40hackevents-prod.iam.gserviceaccount.com&amp;Expires=13569465600&amp;Signature=YrZbFy43h9VhMhJ%2FsGiR7Ym8esAHiO80yyWCIX2BzDLWTZcIQUTLd7CNWJSQbzjexoAR7WXbRLVwClZJ%2BXG1Y2BRM1uOKOpzoYX4IhE7dV7uXJWBcRQd8ESHOT9NUcN4pDV2ue3B9c7gF7v8qDZCI3iOsIJnXkeDfH%2FGxJBUnLRXwLHGA6I%2BgbBk%2B7xcXi73v81Deis7myM%2BoDLySZmIeMa13kK%2BLr3PsKZHWBv%2BVnzeoYX40XgQKv6OYIObYSetJUfpPwvoOpylHJTdNfnPD5C9el7NSOzf%2FCzFyy6XPd1QZ0RJXmDmdjt5GtzOdjCt%2F0ln7MAq1JfLBnbh1Y%2FLfA%3D%3D\"/><!--include __firebaseStorageImageLoader--><div class=\"card-body\" style=\"color:black\"><h5 class=\"card-title\">Oerlikon Digital Hub Hackathon</h5><p class=\"card-text\"><i class=\"fas fa-calendar-alt\"></i> 11/8/2019\n",
       " </p></div></div></a></div>,\n",
       " <div class=\"col-12 text-center\"><a href=\"/search/anything/anywhere/anytime\">See more &gt;</a></div>,\n",
       " <div class=\"col-12 col-sm-10 my-auto\"><h3 style=\"font-size:38px\">Want to add a hackathon?</h3></div>,\n",
       " <div class=\"col-12 col-sm-2 my-auto\"><a class=\"btn btn-outline-light\" href=\"/submit\" style=\"width:100%;\">Submit event</a></div>,\n",
       " <div class=\"col-12 text-center\" style=\"margin-top:100px;margin-bottom:50px\"><h2>More upcoming hackathons</h2></div>,\n",
       " <div class=\"col-12 text-center\"><a href=\"/search/anything/anywhere/anytime\">See more &gt;</a></div>,\n",
       " <div class=\"col-12 col-sm-7 my-auto\"><h3 style=\"font-size:38px\">Newsletter sign up</h3></div>,\n",
       " <div class=\"col-12 col-sm-3 my-auto\"><input class=\"form-control\" name=\"EMAIL\" placeholder=\"email address\" required=\"\" style=\"width:100%\" type=\"email\" value=\"\"/></div>,\n",
       " <div class=\"col-12 col-sm-2 my-auto\"><!-- real people should not fill this in and expect good things - do not remove this or risk form bot signups--><div aria-hidden=\"true\" style=\"position: absolute; left: -5000px;\"><input name=\"b_12d2135049d488583f81df765_f47626f04f\" tabindex=\"-1\" type=\"text\" value=\"\"/></div><button class=\"btn btn-outline-light\" name=\"subscribe\" style=\"width:100%\" type=\"submit\" value=\"Sign up\">Sign up</button></div>]"
      ]
     },
     "execution_count": 1080,
     "metadata": {},
     "output_type": "execute_result"
    }
   ],
   "source": [
    "soup.find_all('div', {'class':'col-12'})"
   ]
  },
  {
   "cell_type": "markdown",
   "metadata": {},
   "source": [
    "#### Count number of tweets by a given Twitter account."
   ]
  },
  {
   "cell_type": "markdown",
   "metadata": {},
   "source": [
    "You will need to include a ***try/except block*** for account names not found. \n",
    "<br>***Hint:*** the program should count the number of tweets for any provided account"
   ]
  },
  {
   "cell_type": "code",
   "execution_count": 1081,
   "metadata": {},
   "outputs": [],
   "source": [
    "# This is the url you will scrape in this exercise \n",
    "# You will need to add the account credentials to this url\n",
    "url = 'https://twitter.com/el_pais'"
   ]
  },
  {
   "cell_type": "code",
   "execution_count": 1082,
   "metadata": {},
   "outputs": [
    {
     "name": "stdout",
     "output_type": "stream",
     "text": [
      "518.887 Tweets\n"
     ]
    }
   ],
   "source": [
    "#your code\n",
    "username='el_pais'\n",
    "url = 'https://www.twitter.com/'+username\n",
    "html = requests.get(url).text\n",
    "soup = BeautifulSoup(html, 'html.parser')\n",
    "\n",
    "f = soup.find('li', class_=\"ProfileNav-item ProfileNav-item--tweets is-active\")\n",
    "title = f.find('a')['title']\n",
    "print(title)"
   ]
  },
  {
   "cell_type": "markdown",
   "metadata": {},
   "source": [
    "#### Number of followers of a given twitter account"
   ]
  },
  {
   "cell_type": "markdown",
   "metadata": {},
   "source": [
    "You will need to include a ***try/except block*** in case account/s name not found. \n",
    "<br>***Hint:*** the program should count the followers for any provided account"
   ]
  },
  {
   "cell_type": "code",
   "execution_count": 1083,
   "metadata": {},
   "outputs": [],
   "source": [
    "# This is the url you will scrape in this exercise \n",
    "# You will need to add the account credentials to this url\n",
    "url = 'https://twitter.com/'"
   ]
  },
  {
   "cell_type": "code",
   "execution_count": 1084,
   "metadata": {},
   "outputs": [
    {
     "name": "stdout",
     "output_type": "stream",
     "text": [
      "7.111.960 Seguidores\n"
     ]
    }
   ],
   "source": [
    "#your code\n",
    "username='el_pais'\n",
    "url = 'https://www.twitter.com/'+username\n",
    "html = requests.get(url).text\n",
    "soup = BeautifulSoup(html, 'html.parser')\n",
    "\n",
    "f = soup.find('li', class_=\"ProfileNav-item--followers\")\n",
    "title = f.find('a')['title']\n",
    "print(title)"
   ]
  },
  {
   "cell_type": "markdown",
   "metadata": {},
   "source": [
    "#### List all language names and number of related articles in the order they appear in wikipedia.org"
   ]
  },
  {
   "cell_type": "code",
   "execution_count": 1085,
   "metadata": {},
   "outputs": [],
   "source": [
    "# This is the url you will scrape in this exerci(`se\n",
    "url = 'https://www.wikipedia.org/'"
   ]
  },
  {
   "cell_type": "code",
   "execution_count": 1086,
   "metadata": {},
   "outputs": [],
   "source": [
    "#your code\n",
    "html = requests.get(url).text\n",
    "soup = BeautifulSoup(html, 'html.parser')"
   ]
  },
  {
   "cell_type": "code",
   "execution_count": 1087,
   "metadata": {},
   "outputs": [],
   "source": [
    "idiomas = soup.find_all('div', {'class':'central-featured'})"
   ]
  },
  {
   "cell_type": "code",
   "execution_count": 1093,
   "metadata": {},
   "outputs": [
    {
     "data": {
      "text/html": [
       "<div>\n",
       "<style scoped>\n",
       "    .dataframe tbody tr th:only-of-type {\n",
       "        vertical-align: middle;\n",
       "    }\n",
       "\n",
       "    .dataframe tbody tr th {\n",
       "        vertical-align: top;\n",
       "    }\n",
       "\n",
       "    .dataframe thead th {\n",
       "        text-align: right;\n",
       "    }\n",
       "</style>\n",
       "<table border=\"1\" class=\"dataframe\">\n",
       "  <thead>\n",
       "    <tr style=\"text-align: right;\">\n",
       "      <th></th>\n",
       "      <th>lang</th>\n",
       "      <th>art</th>\n",
       "    </tr>\n",
       "  </thead>\n",
       "  <tbody>\n",
       "    <tr>\n",
       "      <th>0</th>\n",
       "      <td>English</td>\n",
       "      <td>5 964 000+ articles</td>\n",
       "    </tr>\n",
       "    <tr>\n",
       "      <th>1</th>\n",
       "      <td>EspaÃ±ol</td>\n",
       "      <td>1 554 000+ artÃ­culos</td>\n",
       "    </tr>\n",
       "    <tr>\n",
       "      <th>2</th>\n",
       "      <td>æ¥æ¬èª</td>\n",
       "      <td>1 175 000+ è¨äº</td>\n",
       "    </tr>\n",
       "    <tr>\n",
       "      <th>3</th>\n",
       "      <td>Deutsch</td>\n",
       "      <td>2 361 000+ Artikel</td>\n",
       "    </tr>\n",
       "    <tr>\n",
       "      <th>4</th>\n",
       "      <td>Ð ÑÑÑÐºÐ¸Ð¹</td>\n",
       "      <td>1 576 000+ ÑÑÐ°ÑÐµÐ¹</td>\n",
       "    </tr>\n",
       "    <tr>\n",
       "      <th>5</th>\n",
       "      <td>FranÃ§ais</td>\n",
       "      <td>2 152 000+ articles</td>\n",
       "    </tr>\n",
       "    <tr>\n",
       "      <th>6</th>\n",
       "      <td>Italiano</td>\n",
       "      <td>1 562 000+ voci</td>\n",
       "    </tr>\n",
       "    <tr>\n",
       "      <th>7</th>\n",
       "      <td>ä¸­æ</td>\n",
       "      <td>1 080 000+ æ¢ç®</td>\n",
       "    </tr>\n",
       "    <tr>\n",
       "      <th>8</th>\n",
       "      <td>PortuguÃªs</td>\n",
       "      <td>1 014 000+ artigos</td>\n",
       "    </tr>\n",
       "    <tr>\n",
       "      <th>9</th>\n",
       "      <td>Polski</td>\n",
       "      <td>1 367 000+ haseÅ</td>\n",
       "    </tr>\n",
       "  </tbody>\n",
       "</table>\n",
       "</div>"
      ],
      "text/plain": [
       "             lang                      art\n",
       "0         English      5 964 000+ articles\n",
       "1        EspaÃ±ol    1 554 000+ artÃ­culos\n",
       "2       æ¥æ¬èª        1 175 000+ è¨äº\n",
       "3         Deutsch       2 361 000+ Artikel\n",
       "4  Ð ÑÑÑÐºÐ¸Ð¹  1 576 000+ ÑÑÐ°ÑÐµÐ¹\n",
       "5       FranÃ§ais      2 152 000+ articles\n",
       "6        Italiano          1 562 000+ voci\n",
       "7          ä¸­æ        1 080 000+ æ¢ç®\n",
       "8      PortuguÃªs       1 014 000+ artigos\n",
       "9          Polski        1 367 000+ haseÅ"
      ]
     },
     "metadata": {},
     "output_type": "display_data"
    }
   ],
   "source": [
    "d = {}\n",
    "d['lang'] = []\n",
    "d['art'] = []\n",
    "for i in idiomas:\n",
    "    for x in i.find_all('strong'):\n",
    "        d['lang'].append(x.getText())\n",
    "    for x in i.find_all('small'):\n",
    "        d['art'].append(x.getText())\n",
    "\n",
    "df = pd.DataFrame(d)\n",
    "display(df)"
   ]
  },
  {
   "cell_type": "markdown",
   "metadata": {},
   "source": [
    "#### A list with the different kind of datasets available in data.gov.uk "
   ]
  },
  {
   "cell_type": "code",
   "execution_count": 1094,
   "metadata": {},
   "outputs": [],
   "source": [
    "# This is the url you will scrape in this exercise\n",
    "url = 'https://data.gov.uk/'"
   ]
  },
  {
   "cell_type": "code",
   "execution_count": 1095,
   "metadata": {},
   "outputs": [
    {
     "data": {
      "text/plain": [
       "['Business and economy',\n",
       " 'Crime and justice',\n",
       " 'Defence',\n",
       " 'Education',\n",
       " 'Environment',\n",
       " 'Government',\n",
       " 'Government spending',\n",
       " 'Health',\n",
       " 'Mapping',\n",
       " 'Society',\n",
       " 'Towns and cities',\n",
       " 'Transport']"
      ]
     },
     "execution_count": 1095,
     "metadata": {},
     "output_type": "execute_result"
    }
   ],
   "source": [
    "#your code \n",
    "html = requests.get(url).text\n",
    "soup = BeautifulSoup(html, 'html.parser')\n",
    "[i.getText() for i in soup.find_all('h2')]"
   ]
  },
  {
   "cell_type": "markdown",
   "metadata": {},
   "source": [
    "#### Top 10 languages by number of native speakers stored in a Pandas Dataframe"
   ]
  },
  {
   "cell_type": "code",
   "execution_count": 1096,
   "metadata": {},
   "outputs": [],
   "source": [
    "# This is the url you will scrape in this exercise\n",
    "url = 'https://en.wikipedia.org/wiki/List_of_languages_by_number_of_native_speakers'"
   ]
  },
  {
   "cell_type": "code",
   "execution_count": 1097,
   "metadata": {},
   "outputs": [],
   "source": [
    "#your code\n",
    "html = requests.get(url).text\n",
    "soup = BeautifulSoup(html, 'html.parser')\n",
    "tabla = soup.find_all('table')[2]"
   ]
  },
  {
   "cell_type": "code",
   "execution_count": 1098,
   "metadata": {},
   "outputs": [
    {
     "data": {
      "text/html": [
       "<div>\n",
       "<style scoped>\n",
       "    .dataframe tbody tr th:only-of-type {\n",
       "        vertical-align: middle;\n",
       "    }\n",
       "\n",
       "    .dataframe tbody tr th {\n",
       "        vertical-align: top;\n",
       "    }\n",
       "\n",
       "    .dataframe thead th {\n",
       "        text-align: right;\n",
       "    }\n",
       "</style>\n",
       "<table border=\"1\" class=\"dataframe\">\n",
       "  <thead>\n",
       "    <tr style=\"text-align: right;\">\n",
       "      <th></th>\n",
       "      <th>ranking</th>\n",
       "      <th>language</th>\n",
       "      <th>Native_speakers</th>\n",
       "      <th>Percentage</th>\n",
       "    </tr>\n",
       "  </thead>\n",
       "  <tbody>\n",
       "    <tr>\n",
       "      <th>0</th>\n",
       "      <td>1</td>\n",
       "      <td>Mandarin (entire branch)</td>\n",
       "      <td>935 (955)</td>\n",
       "      <td>14.1%</td>\n",
       "    </tr>\n",
       "    <tr>\n",
       "      <th>1</th>\n",
       "      <td>2</td>\n",
       "      <td>Spanish</td>\n",
       "      <td>390 (405)</td>\n",
       "      <td>5.85%</td>\n",
       "    </tr>\n",
       "    <tr>\n",
       "      <th>2</th>\n",
       "      <td>3</td>\n",
       "      <td>English</td>\n",
       "      <td>365 (360)</td>\n",
       "      <td>5.52%</td>\n",
       "    </tr>\n",
       "    <tr>\n",
       "      <th>3</th>\n",
       "      <td>4</td>\n",
       "      <td>Hindi[b]</td>\n",
       "      <td>295 (310)</td>\n",
       "      <td>4.46%</td>\n",
       "    </tr>\n",
       "    <tr>\n",
       "      <th>4</th>\n",
       "      <td>5</td>\n",
       "      <td>Arabic</td>\n",
       "      <td>280 (295)</td>\n",
       "      <td>4.23%</td>\n",
       "    </tr>\n",
       "    <tr>\n",
       "      <th>5</th>\n",
       "      <td>6</td>\n",
       "      <td>Portuguese</td>\n",
       "      <td>205 (215)</td>\n",
       "      <td>3.08%</td>\n",
       "    </tr>\n",
       "    <tr>\n",
       "      <th>6</th>\n",
       "      <td>7</td>\n",
       "      <td>Bengali</td>\n",
       "      <td>200 (205)</td>\n",
       "      <td>3.05%</td>\n",
       "    </tr>\n",
       "    <tr>\n",
       "      <th>7</th>\n",
       "      <td>8</td>\n",
       "      <td>Russian</td>\n",
       "      <td>160 (155)</td>\n",
       "      <td>2.42%</td>\n",
       "    </tr>\n",
       "    <tr>\n",
       "      <th>8</th>\n",
       "      <td>9</td>\n",
       "      <td>Japanese</td>\n",
       "      <td>125 (125)</td>\n",
       "      <td>1.92%</td>\n",
       "    </tr>\n",
       "    <tr>\n",
       "      <th>9</th>\n",
       "      <td>10</td>\n",
       "      <td>Punjabi</td>\n",
       "      <td>95 (100)</td>\n",
       "      <td>1.44%</td>\n",
       "    </tr>\n",
       "  </tbody>\n",
       "</table>\n",
       "</div>"
      ],
      "text/plain": [
       "  ranking                  language Native_speakers Percentage\n",
       "0       1  Mandarin (entire branch)       935 (955)      14.1%\n",
       "1       2                   Spanish       390 (405)      5.85%\n",
       "2       3                   English       365 (360)      5.52%\n",
       "3       4                  Hindi[b]       295 (310)      4.46%\n",
       "4       5                    Arabic       280 (295)      4.23%\n",
       "5       6                Portuguese       205 (215)      3.08%\n",
       "6       7                   Bengali       200 (205)      3.05%\n",
       "7       8                   Russian       160 (155)      2.42%\n",
       "8       9                  Japanese       125 (125)      1.92%\n",
       "9      10                   Punjabi        95 (100)      1.44%"
      ]
     },
     "execution_count": 1098,
     "metadata": {},
     "output_type": "execute_result"
    }
   ],
   "source": [
    "filas = tabla.find_all('tr')[1:-1]\n",
    "idiomas = []\n",
    "for fila in filas:\n",
    "    celdas = fila.find_all('td')\n",
    "    dict = {\n",
    "        \"ranking\": celdas[0].text,\n",
    "        \"language\": celdas[1].text,\n",
    "        \"Native_speakers\": celdas[2].text,\n",
    "        \"Percentage\": celdas[3].text.strip()\n",
    "    }\n",
    "    idiomas.append(dict)\n",
    "\n",
    "df = pd.DataFrame(idiomas)\n",
    "df[:10]"
   ]
  },
  {
   "cell_type": "markdown",
   "metadata": {},
   "source": [
    "### BONUS QUESTIONS"
   ]
  },
  {
   "cell_type": "markdown",
   "metadata": {},
   "source": [
    "#### Scrape a certain number of tweets of a given Twitter account."
   ]
  },
  {
   "cell_type": "code",
   "execution_count": 1099,
   "metadata": {},
   "outputs": [],
   "source": [
    "# This is the url you will scrape in this exercise \n",
    "# You will need to add the account credentials to this url\n",
    "url = 'https://twitter.com/'"
   ]
  },
  {
   "cell_type": "code",
   "execution_count": 1100,
   "metadata": {},
   "outputs": [
    {
     "name": "stdout",
     "output_type": "stream",
     "text": [
      "Número de tweets: 4\n",
      "“Conocemos a los del cartel de aquí y si tú no les haces nada, ellos no te hacen nada. Pero ahora...”, reflexiona Andrew Langford, el primer vecino del rancho de la Mora en darse cuenta que algo andaba mal.https://elpais.com/internacional/2019/11/07/mexico/1573149463_033778.html … \n",
      "\n",
      "Rosario Piedra es la nueva presidenta de la Comisión de Derechos Humanos de México. La elegida  es la hija de la activista Rosario Ibarra de Piedra, un icono de la búsqueda de justicia para desaparecidos y presos políticoshttps://elpais.com/internacional/2019/11/07/mexico/1573160334_693919.html … \n",
      "\n",
      "Estados Unidos acusa a tres funcionarios de estar íntimamente relacionados con la brutal represión desatada contra las protestas que el año pasado surgieron en Nicaragua para exigir el fin del mandato del presidente Daniel Ortegahttp://ow.ly/5STt30pR0Rp \n",
      "\n",
      "La nueva bicicleta eléctrica plegablehttps://cincodias.elpais.com/cincodias/2019/11/06/gadgets/1573060516_359873.html?ssm=TW_CM … \n",
      "\n"
     ]
    }
   ],
   "source": [
    "# your code\n",
    "username='el_pais'\n",
    "url = 'https://www.twitter.com/'+username\n",
    "html = requests.get(url).text\n",
    "soup = BeautifulSoup(html, 'html.parser')\n",
    "tweets = soup.find_all('div',{'class':'tweet'})\n",
    "number = int(input('Número de tweets: '))\n",
    "for tweet in tweets[:number]:\n",
    "    content = tweet.find('div',{'class':'content'})\n",
    "    print(content.find('div',{'class':'js-tweet-text-container'}).text.replace(\"\\n\",\" \").strip(),'\\n')\n"
   ]
  },
  {
   "cell_type": "markdown",
   "metadata": {},
   "source": [
    "#### IMDB's Top 250 data (movie name, Initial release, director name and stars) as a pandas dataframe"
   ]
  },
  {
   "cell_type": "code",
   "execution_count": 1101,
   "metadata": {},
   "outputs": [],
   "source": [
    "# This is the url you will scrape in this exercise \n",
    "url = 'https://www.imdb.com/chart/top'"
   ]
  },
  {
   "cell_type": "code",
   "execution_count": 1102,
   "metadata": {},
   "outputs": [],
   "source": [
    "# your code\n",
    "html = requests.get(url).text\n",
    "soup = BeautifulSoup(html, 'html.parser')\n",
    "tabla = soup.find('table')"
   ]
  },
  {
   "cell_type": "code",
   "execution_count": 1104,
   "metadata": {},
   "outputs": [
    {
     "data": {
      "text/html": [
       "<div>\n",
       "<style scoped>\n",
       "    .dataframe tbody tr th:only-of-type {\n",
       "        vertical-align: middle;\n",
       "    }\n",
       "\n",
       "    .dataframe tbody tr th {\n",
       "        vertical-align: top;\n",
       "    }\n",
       "\n",
       "    .dataframe thead th {\n",
       "        text-align: right;\n",
       "    }\n",
       "</style>\n",
       "<table border=\"1\" class=\"dataframe\">\n",
       "  <thead>\n",
       "    <tr style=\"text-align: right;\">\n",
       "      <th></th>\n",
       "      <th>title</th>\n",
       "      <th>rating</th>\n",
       "      <th>Dir_Cast</th>\n",
       "    </tr>\n",
       "  </thead>\n",
       "  <tbody>\n",
       "    <tr>\n",
       "      <th>0</th>\n",
       "      <td>1.      Cadena perpetua(1994)</td>\n",
       "      <td>9.2</td>\n",
       "      <td>Frank Darabont (dir.), Tim Robbins, Morgan Fre...</td>\n",
       "    </tr>\n",
       "    <tr>\n",
       "      <th>1</th>\n",
       "      <td>2.      El padrino(1972)</td>\n",
       "      <td>9.1</td>\n",
       "      <td>Francis Ford Coppola (dir.), Marlon Brando, Al...</td>\n",
       "    </tr>\n",
       "    <tr>\n",
       "      <th>2</th>\n",
       "      <td>3.      El padrino: Parte II(1974)</td>\n",
       "      <td>9.0</td>\n",
       "      <td>Francis Ford Coppola (dir.), Al Pacino, Robert...</td>\n",
       "    </tr>\n",
       "    <tr>\n",
       "      <th>3</th>\n",
       "      <td>4.      El caballero oscuro(2008)</td>\n",
       "      <td>9.0</td>\n",
       "      <td>Christopher Nolan (dir.), Christian Bale, Heat...</td>\n",
       "    </tr>\n",
       "    <tr>\n",
       "      <th>4</th>\n",
       "      <td>5.      12 hombres sin piedad(1957)</td>\n",
       "      <td>8.9</td>\n",
       "      <td>Sidney Lumet (dir.), Henry Fonda, Lee J. Cobb</td>\n",
       "    </tr>\n",
       "    <tr>\n",
       "      <th>5</th>\n",
       "      <td>6.      La lista de Schindler(1993)</td>\n",
       "      <td>8.9</td>\n",
       "      <td>Steven Spielberg (dir.), Liam Neeson, Ralph Fi...</td>\n",
       "    </tr>\n",
       "    <tr>\n",
       "      <th>6</th>\n",
       "      <td>7.      El señor de los anillos: El reto...</td>\n",
       "      <td>8.9</td>\n",
       "      <td>Peter Jackson (dir.), Elijah Wood, Viggo Morte...</td>\n",
       "    </tr>\n",
       "    <tr>\n",
       "      <th>7</th>\n",
       "      <td>8.      Pulp Fiction(1994)</td>\n",
       "      <td>8.9</td>\n",
       "      <td>Quentin Tarantino (dir.), John Travolta, Uma T...</td>\n",
       "    </tr>\n",
       "    <tr>\n",
       "      <th>8</th>\n",
       "      <td>9.      El bueno, el feo y el malo(1966)</td>\n",
       "      <td>8.8</td>\n",
       "      <td>Sergio Leone (dir.), Clint Eastwood, Eli Wallach</td>\n",
       "    </tr>\n",
       "    <tr>\n",
       "      <th>9</th>\n",
       "      <td>10.      El club de la lucha(1999)</td>\n",
       "      <td>8.8</td>\n",
       "      <td>David Fincher (dir.), Brad Pitt, Edward Norton</td>\n",
       "    </tr>\n",
       "  </tbody>\n",
       "</table>\n",
       "</div>"
      ],
      "text/plain": [
       "                                               title rating  \\\n",
       "0                      1.      Cadena perpetua(1994)    9.2   \n",
       "1                           2.      El padrino(1972)    9.1   \n",
       "2                 3.      El padrino: Parte II(1974)    9.0   \n",
       "3                  4.      El caballero oscuro(2008)    9.0   \n",
       "4                5.      12 hombres sin piedad(1957)    8.9   \n",
       "5                6.      La lista de Schindler(1993)    8.9   \n",
       "6        7.      El señor de los anillos: El reto...    8.9   \n",
       "7                         8.      Pulp Fiction(1994)    8.9   \n",
       "8           9.      El bueno, el feo y el malo(1966)    8.8   \n",
       "9                 10.      El club de la lucha(1999)    8.8   \n",
       "\n",
       "                                            Dir_Cast  \n",
       "0  Frank Darabont (dir.), Tim Robbins, Morgan Fre...  \n",
       "1  Francis Ford Coppola (dir.), Marlon Brando, Al...  \n",
       "2  Francis Ford Coppola (dir.), Al Pacino, Robert...  \n",
       "3  Christopher Nolan (dir.), Christian Bale, Heat...  \n",
       "4      Sidney Lumet (dir.), Henry Fonda, Lee J. Cobb  \n",
       "5  Steven Spielberg (dir.), Liam Neeson, Ralph Fi...  \n",
       "6  Peter Jackson (dir.), Elijah Wood, Viggo Morte...  \n",
       "7  Quentin Tarantino (dir.), John Travolta, Uma T...  \n",
       "8   Sergio Leone (dir.), Clint Eastwood, Eli Wallach  \n",
       "9     David Fincher (dir.), Brad Pitt, Edward Norton  "
      ]
     },
     "execution_count": 1104,
     "metadata": {},
     "output_type": "execute_result"
    }
   ],
   "source": [
    "filas = tabla.find_all('tr')[1:]\n",
    "\n",
    "pelis = []\n",
    "for fila in filas:\n",
    "    celdas = fila.find_all('td')\n",
    "    dict = {\n",
    "        \"title\": celdas[1].text.strip('\\n').replace('\\n',''),\n",
    "        \"rating\": celdas[2].text.strip('\\n'),\n",
    "        'Dir_Cast': celdas[1].find('a')['title']\n",
    "    }\n",
    "    \n",
    "    pelis.append(dict)\n",
    "\n",
    "df = pd.DataFrame(pelis)\n",
    "df[:10]"
   ]
  },
  {
   "cell_type": "markdown",
   "metadata": {},
   "source": [
    "#### Movie name, year and a brief summary of the top 10 random movies (IMDB) as a pandas dataframe."
   ]
  },
  {
   "cell_type": "code",
   "execution_count": 1105,
   "metadata": {},
   "outputs": [],
   "source": [
    "#This is the url you will scrape in this exercise\n",
    "url = 'http://www.imdb.com/chart/top'"
   ]
  },
  {
   "cell_type": "code",
   "execution_count": 1106,
   "metadata": {},
   "outputs": [],
   "source": [
    "#your code\n",
    "html = requests.get(url).text\n",
    "soup = BeautifulSoup(html, 'html.parser')\n",
    "tabla = soup.find('table')"
   ]
  },
  {
   "cell_type": "code",
   "execution_count": 1107,
   "metadata": {
    "scrolled": true
   },
   "outputs": [
    {
     "data": {
      "text/html": [
       "<div>\n",
       "<style scoped>\n",
       "    .dataframe tbody tr th:only-of-type {\n",
       "        vertical-align: middle;\n",
       "    }\n",
       "\n",
       "    .dataframe tbody tr th {\n",
       "        vertical-align: top;\n",
       "    }\n",
       "\n",
       "    .dataframe thead th {\n",
       "        text-align: right;\n",
       "    }\n",
       "</style>\n",
       "<table border=\"1\" class=\"dataframe\">\n",
       "  <thead>\n",
       "    <tr style=\"text-align: right;\">\n",
       "      <th></th>\n",
       "      <th>title</th>\n",
       "      <th>summary</th>\n",
       "    </tr>\n",
       "  </thead>\n",
       "  <tbody>\n",
       "    <tr>\n",
       "      <th>0</th>\n",
       "      <td>1.      Cadena perpetua(1994)</td>\n",
       "      <td>Two imprisoned men bond over a number of years...</td>\n",
       "    </tr>\n",
       "    <tr>\n",
       "      <th>1</th>\n",
       "      <td>2.      El padrino(1972)</td>\n",
       "      <td>The aging patriarch of an organized crime dyna...</td>\n",
       "    </tr>\n",
       "    <tr>\n",
       "      <th>2</th>\n",
       "      <td>3.      El padrino: Parte II(1974)</td>\n",
       "      <td>The early life and career of Vito Corleone in ...</td>\n",
       "    </tr>\n",
       "    <tr>\n",
       "      <th>3</th>\n",
       "      <td>4.      El caballero oscuro(2008)</td>\n",
       "      <td>When the menace known as the Joker wreaks havo...</td>\n",
       "    </tr>\n",
       "    <tr>\n",
       "      <th>4</th>\n",
       "      <td>5.      12 hombres sin piedad(1957)</td>\n",
       "      <td>A jury holdout attempts to prevent a miscarria...</td>\n",
       "    </tr>\n",
       "    <tr>\n",
       "      <th>5</th>\n",
       "      <td>6.      La lista de Schindler(1993)</td>\n",
       "      <td>In German-occupied Poland during World War II,...</td>\n",
       "    </tr>\n",
       "    <tr>\n",
       "      <th>6</th>\n",
       "      <td>7.      El señor de los anillos: El reto...</td>\n",
       "      <td>Gandalf and Aragorn lead the World of Men agai...</td>\n",
       "    </tr>\n",
       "    <tr>\n",
       "      <th>7</th>\n",
       "      <td>8.      Pulp Fiction(1994)</td>\n",
       "      <td>The lives of two mob hitmen, a boxer, a gangst...</td>\n",
       "    </tr>\n",
       "    <tr>\n",
       "      <th>8</th>\n",
       "      <td>9.      El bueno, el feo y el malo(1966)</td>\n",
       "      <td>A bounty hunting scam joins two men in an unea...</td>\n",
       "    </tr>\n",
       "    <tr>\n",
       "      <th>9</th>\n",
       "      <td>10.      El club de la lucha(1999)</td>\n",
       "      <td>An insomniac office worker and a devil-may-car...</td>\n",
       "    </tr>\n",
       "  </tbody>\n",
       "</table>\n",
       "</div>"
      ],
      "text/plain": [
       "                                               title  \\\n",
       "0                      1.      Cadena perpetua(1994)   \n",
       "1                           2.      El padrino(1972)   \n",
       "2                 3.      El padrino: Parte II(1974)   \n",
       "3                  4.      El caballero oscuro(2008)   \n",
       "4                5.      12 hombres sin piedad(1957)   \n",
       "5                6.      La lista de Schindler(1993)   \n",
       "6        7.      El señor de los anillos: El reto...   \n",
       "7                         8.      Pulp Fiction(1994)   \n",
       "8           9.      El bueno, el feo y el malo(1966)   \n",
       "9                 10.      El club de la lucha(1999)   \n",
       "\n",
       "                                             summary  \n",
       "0  Two imprisoned men bond over a number of years...  \n",
       "1  The aging patriarch of an organized crime dyna...  \n",
       "2  The early life and career of Vito Corleone in ...  \n",
       "3  When the menace known as the Joker wreaks havo...  \n",
       "4  A jury holdout attempts to prevent a miscarria...  \n",
       "5  In German-occupied Poland during World War II,...  \n",
       "6  Gandalf and Aragorn lead the World of Men agai...  \n",
       "7  The lives of two mob hitmen, a boxer, a gangst...  \n",
       "8  A bounty hunting scam joins two men in an unea...  \n",
       "9  An insomniac office worker and a devil-may-car...  "
      ]
     },
     "metadata": {},
     "output_type": "display_data"
    }
   ],
   "source": [
    "filas = tabla.find_all('tr')[1:11]\n",
    "\n",
    "pelis = []\n",
    "for fila in filas:\n",
    "    celdas = fila.find_all('td')\n",
    "    celdas_2 = fila.find('td').find('a')['href']\n",
    "    url= 'https://www.imdb.com/'+fila.find('td').find('a')['href']\n",
    "    html = requests.get(url).text\n",
    "    soup = BeautifulSoup(html, 'html.parser')\n",
    "    dict = {\n",
    "        \"title\": celdas[1].text.strip('\\n').replace('\\n',''),\n",
    "        \"summary\": soup.find('div', {'class':'summary_text'}).text.strip()\n",
    "    }\n",
    "    \n",
    "    pelis.append(dict)\n",
    "\n",
    "df = pd.DataFrame(pelis)\n",
    "display(df)"
   ]
  },
  {
   "cell_type": "markdown",
   "metadata": {},
   "source": [
    "#### Find the live weather report (temperature, wind speed, description and weather) of a given city."
   ]
  },
  {
   "cell_type": "code",
   "execution_count": 1108,
   "metadata": {},
   "outputs": [
    {
     "name": "stdout",
     "output_type": "stream",
     "text": [
      "Enter the city:Valencia\n"
     ]
    }
   ],
   "source": [
    "#https://openweathermap.org/current\n",
    "city = city=input('Enter the city:')\n",
    "url = 'http://api.openweathermap.org/data/2.5/weather?'+'q='+city+'&APPID=b35975e18dc93725acb092f7272cc6b8&units=metric'"
   ]
  },
  {
   "cell_type": "code",
   "execution_count": 1109,
   "metadata": {},
   "outputs": [
    {
     "name": "stdout",
     "output_type": "stream",
     "text": [
      "Temperatura:  11.49\n",
      "Velocidad del viento: 6.7\n",
      "Tiempo:  Clear\n",
      "Descripción:  clear sky\n"
     ]
    }
   ],
   "source": [
    "# your code\n",
    "data = requests.get(url).json()\n",
    "\n",
    "print('Temperatura: ',data['main']['temp'])\n",
    "print('Velocidad del viento:',data['wind']['speed'])\n",
    "print('Tiempo: ',data['weather'][0]['main'])\n",
    "print('Descripción: ',data['weather'][0]['description'])"
   ]
  },
  {
   "cell_type": "markdown",
   "metadata": {},
   "source": [
    "#### Book name,price and stock availability as a pandas dataframe."
   ]
  },
  {
   "cell_type": "code",
   "execution_count": 1110,
   "metadata": {},
   "outputs": [],
   "source": [
    "# This is the url you will scrape in this exercise. \n",
    "# It is a fictional bookstore created to be scraped. \n",
    "url = 'http://books.toscrape.com/'"
   ]
  },
  {
   "cell_type": "code",
   "execution_count": 1111,
   "metadata": {},
   "outputs": [],
   "source": [
    "#your code\n",
    "html = requests.get(url).text\n",
    "soup = BeautifulSoup(html, 'html.parser')"
   ]
  },
  {
   "cell_type": "code",
   "execution_count": 1112,
   "metadata": {},
   "outputs": [],
   "source": [
    "books = soup.find_all('article')"
   ]
  },
  {
   "cell_type": "code",
   "execution_count": 1113,
   "metadata": {},
   "outputs": [
    {
     "data": {
      "text/html": [
       "<div>\n",
       "<style scoped>\n",
       "    .dataframe tbody tr th:only-of-type {\n",
       "        vertical-align: middle;\n",
       "    }\n",
       "\n",
       "    .dataframe tbody tr th {\n",
       "        vertical-align: top;\n",
       "    }\n",
       "\n",
       "    .dataframe thead th {\n",
       "        text-align: right;\n",
       "    }\n",
       "</style>\n",
       "<table border=\"1\" class=\"dataframe\">\n",
       "  <thead>\n",
       "    <tr style=\"text-align: right;\">\n",
       "      <th></th>\n",
       "      <th>title</th>\n",
       "      <th>price</th>\n",
       "      <th>stock</th>\n",
       "    </tr>\n",
       "  </thead>\n",
       "  <tbody>\n",
       "    <tr>\n",
       "      <th>0</th>\n",
       "      <td>A Light in the Attic</td>\n",
       "      <td>51.77</td>\n",
       "      <td>In stock</td>\n",
       "    </tr>\n",
       "    <tr>\n",
       "      <th>1</th>\n",
       "      <td>Tipping the Velvet</td>\n",
       "      <td>53.74</td>\n",
       "      <td>In stock</td>\n",
       "    </tr>\n",
       "    <tr>\n",
       "      <th>2</th>\n",
       "      <td>Soumission</td>\n",
       "      <td>50.10</td>\n",
       "      <td>In stock</td>\n",
       "    </tr>\n",
       "    <tr>\n",
       "      <th>3</th>\n",
       "      <td>Sharp Objects</td>\n",
       "      <td>47.82</td>\n",
       "      <td>In stock</td>\n",
       "    </tr>\n",
       "    <tr>\n",
       "      <th>4</th>\n",
       "      <td>Sapiens: A Brief History of Humankind</td>\n",
       "      <td>54.23</td>\n",
       "      <td>In stock</td>\n",
       "    </tr>\n",
       "    <tr>\n",
       "      <th>5</th>\n",
       "      <td>The Requiem Red</td>\n",
       "      <td>22.65</td>\n",
       "      <td>In stock</td>\n",
       "    </tr>\n",
       "    <tr>\n",
       "      <th>6</th>\n",
       "      <td>The Dirty Little Secrets of Getting Your Dream...</td>\n",
       "      <td>33.34</td>\n",
       "      <td>In stock</td>\n",
       "    </tr>\n",
       "    <tr>\n",
       "      <th>7</th>\n",
       "      <td>The Coming Woman: A Novel Based on the Life of...</td>\n",
       "      <td>17.93</td>\n",
       "      <td>In stock</td>\n",
       "    </tr>\n",
       "    <tr>\n",
       "      <th>8</th>\n",
       "      <td>The Boys in the Boat: Nine Americans and Their...</td>\n",
       "      <td>22.60</td>\n",
       "      <td>In stock</td>\n",
       "    </tr>\n",
       "    <tr>\n",
       "      <th>9</th>\n",
       "      <td>The Black Maria</td>\n",
       "      <td>52.15</td>\n",
       "      <td>In stock</td>\n",
       "    </tr>\n",
       "    <tr>\n",
       "      <th>10</th>\n",
       "      <td>Starving Hearts (Triangular Trade Trilogy, #1)</td>\n",
       "      <td>13.99</td>\n",
       "      <td>In stock</td>\n",
       "    </tr>\n",
       "    <tr>\n",
       "      <th>11</th>\n",
       "      <td>Shakespeare's Sonnets</td>\n",
       "      <td>20.66</td>\n",
       "      <td>In stock</td>\n",
       "    </tr>\n",
       "    <tr>\n",
       "      <th>12</th>\n",
       "      <td>Set Me Free</td>\n",
       "      <td>17.46</td>\n",
       "      <td>In stock</td>\n",
       "    </tr>\n",
       "    <tr>\n",
       "      <th>13</th>\n",
       "      <td>Scott Pilgrim's Precious Little Life (Scott Pi...</td>\n",
       "      <td>52.29</td>\n",
       "      <td>In stock</td>\n",
       "    </tr>\n",
       "    <tr>\n",
       "      <th>14</th>\n",
       "      <td>Rip it Up and Start Again</td>\n",
       "      <td>35.02</td>\n",
       "      <td>In stock</td>\n",
       "    </tr>\n",
       "    <tr>\n",
       "      <th>15</th>\n",
       "      <td>Our Band Could Be Your Life: Scenes from the A...</td>\n",
       "      <td>57.25</td>\n",
       "      <td>In stock</td>\n",
       "    </tr>\n",
       "    <tr>\n",
       "      <th>16</th>\n",
       "      <td>Olio</td>\n",
       "      <td>23.88</td>\n",
       "      <td>In stock</td>\n",
       "    </tr>\n",
       "    <tr>\n",
       "      <th>17</th>\n",
       "      <td>Mesaerion: The Best Science Fiction Stories 18...</td>\n",
       "      <td>37.59</td>\n",
       "      <td>In stock</td>\n",
       "    </tr>\n",
       "    <tr>\n",
       "      <th>18</th>\n",
       "      <td>Libertarianism for Beginners</td>\n",
       "      <td>51.33</td>\n",
       "      <td>In stock</td>\n",
       "    </tr>\n",
       "    <tr>\n",
       "      <th>19</th>\n",
       "      <td>It's Only the Himalayas</td>\n",
       "      <td>45.17</td>\n",
       "      <td>In stock</td>\n",
       "    </tr>\n",
       "  </tbody>\n",
       "</table>\n",
       "</div>"
      ],
      "text/plain": [
       "                                                title  price     stock\n",
       "0                                A Light in the Attic  51.77  In stock\n",
       "1                                  Tipping the Velvet  53.74  In stock\n",
       "2                                          Soumission  50.10  In stock\n",
       "3                                       Sharp Objects  47.82  In stock\n",
       "4               Sapiens: A Brief History of Humankind  54.23  In stock\n",
       "5                                     The Requiem Red  22.65  In stock\n",
       "6   The Dirty Little Secrets of Getting Your Dream...  33.34  In stock\n",
       "7   The Coming Woman: A Novel Based on the Life of...  17.93  In stock\n",
       "8   The Boys in the Boat: Nine Americans and Their...  22.60  In stock\n",
       "9                                     The Black Maria  52.15  In stock\n",
       "10     Starving Hearts (Triangular Trade Trilogy, #1)  13.99  In stock\n",
       "11                              Shakespeare's Sonnets  20.66  In stock\n",
       "12                                        Set Me Free  17.46  In stock\n",
       "13  Scott Pilgrim's Precious Little Life (Scott Pi...  52.29  In stock\n",
       "14                          Rip it Up and Start Again  35.02  In stock\n",
       "15  Our Band Could Be Your Life: Scenes from the A...  57.25  In stock\n",
       "16                                               Olio  23.88  In stock\n",
       "17  Mesaerion: The Best Science Fiction Stories 18...  37.59  In stock\n",
       "18                       Libertarianism for Beginners  51.33  In stock\n",
       "19                            It's Only the Himalayas  45.17  In stock"
      ]
     },
     "execution_count": 1113,
     "metadata": {},
     "output_type": "execute_result"
    }
   ],
   "source": [
    "d = {}\n",
    "d['title'] = []\n",
    "d['price'] = []\n",
    "d['stock'] = []\n",
    "for book in books:\n",
    "    for i in book.find_all('h3'):\n",
    "        d['title'].append(i.find('a')['title'])\n",
    "    for j in book.find_all('p', {'class': 'price_color'}):\n",
    "        d['price'].append(j.text[2:])\n",
    "    for q in book.find_all('p', {'class': 'instock availability'}):\n",
    "        d['stock'].append(q.text.strip())\n",
    "        \n",
    "df = pd.DataFrame(d)\n",
    "df"
   ]
  }
 ],
 "metadata": {
  "kernelspec": {
   "display_name": "Python 3",
   "language": "python",
   "name": "python3"
  },
  "language_info": {
   "codemirror_mode": {
    "name": "ipython",
    "version": 3
   },
   "file_extension": ".py",
   "mimetype": "text/x-python",
   "name": "python",
   "nbconvert_exporter": "python",
   "pygments_lexer": "ipython3",
   "version": "3.7.3"
  }
 },
 "nbformat": 4,
 "nbformat_minor": 2
}
